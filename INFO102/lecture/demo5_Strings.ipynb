{
  "cells": [
    {
      "cell_type": "markdown",
      "metadata": {
        "id": "4FCUiV4EsmOw"
      },
      "source": [
        "1. String Literals\n"
      ]
    },
    {
      "cell_type": "markdown",
      "metadata": {
        "id": "pjTx40NosuaO"
      },
      "source": [
        "Four kinds of quotes"
      ]
    },
    {
      "cell_type": "code",
      "execution_count": 1,
      "metadata": {
        "id": "0kAzZO2Vrjc7"
      },
      "outputs": [
        {
          "name": "stdout",
          "output_type": "stream",
          "text": [
            "single-quotes\n",
            "double-quotes\n",
            "triple single-quotes\n",
            "triple double-quotes\n",
            "The professor said \"No laptops in class!\" I miss my laptop.\n"
          ]
        }
      ],
      "source": [
        "# Quotes enclose characters to tell Python \"this is a string!\"\n",
        "# single-quoted or double-quoted strings are the most common\n",
        "print('single-quotes')\n",
        "print(\"double-quotes\")\n",
        "\n",
        "# triple-quoted strings are less common (though see next section for a typical use)\n",
        "print('''triple single-quotes''')\n",
        "print(\"\"\"triple double-quotes\"\"\")\n",
        "\n",
        "# The reason we have multiple kinds of quotes is partly so we can have strings like:\n",
        "print('The professor said \"No laptops in class!\" I miss my laptop.')"
      ]
    },
    {
      "cell_type": "code",
      "execution_count": null,
      "metadata": {
        "id": "eAsJ_O8DunHT"
      },
      "outputs": [],
      "source": [
        "# See what happens if we only use one kind of quote.\n",
        "# It causes a syntax error! We don't even know how to color this.\n",
        "print(\"The professor said \"No laptops in class!\" I miss my laptop.\")"
      ]
    },
    {
      "cell_type": "markdown",
      "metadata": {
        "id": "tfZp-j7wusfL"
      },
      "source": [
        "Newlines in strings"
      ]
    },
    {
      "cell_type": "code",
      "execution_count": 4,
      "metadata": {
        "id": "mOoHrOHquu0H"
      },
      "outputs": [
        {
          "name": "stdout",
          "output_type": "stream",
          "text": [
            "abc\n",
            "def\n",
            "abc\n",
            "def\n",
            "You can use a backslash at the end of a line in a string to exclude\n",
            "the newline after it. This should almost never be used, but one good\n",
            "use of it is in this example, at the start of a multi-line string, so\n",
            "the whole string can be entered with the same indentation (none, that is).\n",
            "\n"
          ]
        }
      ],
      "source": [
        "# A character preceded by a backslash, like \\n, is an 'escape sequence'.\n",
        "# Even though it looks like two characters, Python treats it as one special character.\n",
        "\n",
        "# Note that these two print statements do the same thing!\n",
        "print(\"abc\\ndef\")  # \\n is a single newline character.\n",
        "print(\"\"\"abc\n",
        "def\"\"\")\n",
        "\n",
        "print(\"\"\"\\\n",
        "You can use a backslash at the end of a line in a string to exclude\n",
        "the newline after it. This should almost never be used, but one good\n",
        "use of it is in this example, at the start of a multi-line string, so\n",
        "the whole string can be entered with the same indentation (none, that is).\n",
        "\"\"\")"
      ]
    },
    {
      "cell_type": "markdown",
      "metadata": {
        "id": "nf_M5mg8u0dZ"
      },
      "source": [
        "More Escape Sequences"
      ]
    },
    {
      "cell_type": "code",
      "execution_count": 5,
      "metadata": {
        "id": "Y2xhFvNGu2ve"
      },
      "outputs": [
        {
          "name": "stdout",
          "output_type": "stream",
          "text": [
            "Double-quote: \"\n",
            "Backslash: \\\n",
            "Newline (in brackets): [\n",
            "]\n",
            "Tab (in brackets): [\t]\n",
            "These items are tab-delimited, 3-per-line:\n",
            "abc\tdef\tg\n",
            "hi\tj\\\tk\n",
            "---\n"
          ]
        }
      ],
      "source": [
        "print(\"Double-quote: \\\"\")\n",
        "print(\"Backslash: \\\\\")\n",
        "print(\"Newline (in brackets): [\\n]\")\n",
        "print(\"Tab (in brackets): [\\t]\")\n",
        "\n",
        "print(\"These items are tab-delimited, 3-per-line:\")\n",
        "print(\"abc\\tdef\\tg\\nhi\\tj\\\\\\tk\\n---\")"
      ]
    },
    {
      "cell_type": "markdown",
      "metadata": {
        "id": "ditGycs0veD_"
      },
      "source": [
        "An escape sequence produces a single character:"
      ]
    },
    {
      "cell_type": "code",
      "execution_count": null,
      "metadata": {
        "id": "D8s56MmRvgBH"
      },
      "outputs": [],
      "source": [
        "s = \"a\\\\b\\\"c\\td\"\n",
        "print(\"s =\", s)\n",
        "print(\"len(s) =\", len(s))"
      ]
    },
    {
      "cell_type": "markdown",
      "metadata": {
        "id": "v--z-GCWvktE"
      },
      "source": [
        "repr() vs. print()\n",
        "\n",
        "Sometimes it can be difficult to debug strings! Two strings that look identical when printed may not actually be the same. Have you ever had trouble distinguishing a tab from several spaces in a word processor? The repr() function is sort of like a 'formal' version of print(). Where print() is meant to produce output intended for the user, repr() shows us a representation of the data contained in the string. This can be really useful for debugging! Looking at an example will help you understand the difference:"
      ]
    },
    {
      "cell_type": "code",
      "execution_count": 8,
      "metadata": {
        "id": "Fq5ZUTwHvxPG"
      },
      "outputs": [
        {
          "name": "stdout",
          "output_type": "stream",
          "text": [
            "These look the same when we print them!\n",
            "print s1:  abc\tdef\n",
            "print s2:  abc  def\n",
            "\n",
            "They aren't really though...\n",
            "s1==s2? False\n",
            "\n",
            "Let's try repr instead\n",
            "repr s1:  'abc\\tdef'\n",
            "repr s2:  'abc  def'\n",
            "\n",
            "Here's a sneaky one\n",
            "print s1:  abcdef\n",
            "print s2:  abcdef             \t\n",
            "s1==s2? False\n",
            "repr s1:  'abcdef'\n",
            "repr s2:  'abcdef             \\t'\n",
            "repr() lets you see the spaces^^^\n"
          ]
        }
      ],
      "source": [
        "print(\"These look the same when we print them!\")\n",
        "s1=\"abc\\tdef\"\n",
        "s2=\"abc  def\"\n",
        "\n",
        "print(\"print s1: \",s1)\n",
        "print(\"print s2: \",s2)\n",
        "\n",
        "print(\"\\nThey aren't really though...\")\n",
        "print(\"s1==s2?\", s1==s2)\n",
        "\n",
        "print(\"\\nLet's try repr instead\")\n",
        "print(\"repr s1: \",repr(s1))\n",
        "print(\"repr s2: \",repr(s2))\n",
        "\n",
        "print(\"\\nHere's a sneaky one\")\n",
        "s1=\"abcdef\"\n",
        "s2=\"abcdef             \\t\"\n",
        "\n",
        "print(\"print s1: \",s1)\n",
        "print(\"print s2: \",s2)\n",
        "\n",
        "print(\"s1==s2?\", s1==s2)\n",
        "\n",
        "print(\"repr s1: \",repr(s1))\n",
        "print(\"repr s2: \",repr(s2))\n",
        "print(\"repr() lets you see the spaces^^^\")"
      ]
    },
    {
      "cell_type": "markdown",
      "metadata": {
        "id": "tNeF3Q7hwFbz"
      },
      "source": [
        "String Literals as Multi-line Comments"
      ]
    },
    {
      "cell_type": "code",
      "execution_count": null,
      "metadata": {
        "id": "yp5quS4lwJe0"
      },
      "outputs": [],
      "source": [
        "\"\"\"\n",
        "Python does not have multiline comments, but you can do something similar\n",
        "by using a top-level multiline string, such as this. Technically, this is\n",
        "not a comment, and Python will evaluate this string, but then ignore it\n",
        "and garbage collect it!\n",
        "\"\"\"\n",
        "print(\"wow!\")"
      ]
    },
    {
      "cell_type": "markdown",
      "metadata": {
        "id": "WibeYbVBwqes"
      },
      "source": [
        "2. Some String Constants"
      ]
    },
    {
      "cell_type": "code",
      "execution_count": null,
      "metadata": {
        "id": "r5Wv0pTqw18T"
      },
      "outputs": [],
      "source": [
        "import string\n",
        "print(string.ascii_letters)   # abcdefghijklmnopqrstuvwxyzABCDEFGHIJKLMNOPQRSTUVWXYZ\n",
        "print(string.ascii_lowercase) # abcdefghijklmnopqrstuvwxyz\n",
        "print(\"-----------\")\n",
        "print(string.ascii_uppercase) # ABCDEFGHIJKLMNOPQRSTUVWXYZ\n",
        "print(string.digits)          # 0123456789\n",
        "print(\"-----------\")\n",
        "print(string.punctuation)     # '!\"#$%&\\'()*+,-./:;<=>?@[\\\\]^_`{|}~'\n",
        "print(string.printable)       # digits + letters + punctuation + whitespace\n",
        "print(\"-----------\")\n",
        "print(string.whitespace)      # space + tab + linefeed + return + ..."
      ]
    },
    {
      "cell_type": "markdown",
      "metadata": {
        "id": "HWJkcN7cw660"
      },
      "source": [
        "3. Some String Operators "
      ]
    },
    {
      "cell_type": "markdown",
      "metadata": {
        "id": "iWWsgWMhw-7J"
      },
      "source": [
        "(1) String + and *"
      ]
    },
    {
      "cell_type": "code",
      "execution_count": null,
      "metadata": {
        "id": "N9LeKw8pxAMq"
      },
      "outputs": [],
      "source": [
        "print(\"abc\" + \"def\")  # What do you think this should do?\n",
        "print(\"abc\" * 3)  # How many characters do you think this prints?\n",
        "print(\"abc\" + 3)  # ...will this give us an error? (Yes)"
      ]
    },
    {
      "cell_type": "markdown",
      "metadata": {
        "id": "5xdHB6KzxGOv"
      },
      "source": [
        "(2) The in operator"
      ]
    },
    {
      "cell_type": "code",
      "execution_count": 9,
      "metadata": {
        "id": "_KEeGzQVxIhM"
      },
      "outputs": [
        {
          "name": "stdout",
          "output_type": "stream",
          "text": [
            "True\n",
            "False\n",
            "False\n",
            "True\n"
          ]
        }
      ],
      "source": [
        "# The \"in\" operator is really really useful!\n",
        "print(\"ring\" in \"strings\")\n",
        "print(\"wow\" in \"amazing!\")\n",
        "print(\"Yes\" in \"yes!\")\n",
        "print(\"\" in \"No way!\")"
      ]
    },
    {
      "cell_type": "markdown",
      "metadata": {
        "id": "ra6yrDjhxS0R"
      },
      "source": [
        "(3) String indexing and slicing\n",
        "\n",
        "3.1 Indexing a single character"
      ]
    },
    {
      "cell_type": "code",
      "execution_count": null,
      "metadata": {
        "id": "mPzpM0h6xX6l"
      },
      "outputs": [],
      "source": [
        "# Indexing lets us find a character at a specific location (the index)\n",
        "s = \"abcdefgh\"\n",
        "print(s)\n",
        "print(s[0])\n",
        "print(s[1])\n",
        "print(s[2])\n",
        "\n",
        "print(\"-----------\")\n",
        "print(\"Length of \",s,\"is\",len(s))\n",
        "\n",
        "print(\"-----------\")\n",
        "print(s[len(s)-1])\n",
        "print(s[len(s)])  # crashes (string index out of range)"
      ]
    },
    {
      "cell_type": "markdown",
      "metadata": {
        "id": "fGt-DgLZxbS7"
      },
      "source": [
        "3.2 Negative indexes"
      ]
    },
    {
      "cell_type": "code",
      "execution_count": null,
      "metadata": {
        "id": "YHVKoU9oxdTd"
      },
      "outputs": [],
      "source": [
        "s = \"abcdefgh\"\n",
        "print(s)\n",
        "print(s[-1])\n",
        "print(s[-2])"
      ]
    },
    {
      "cell_type": "markdown",
      "metadata": {
        "id": "m6wyiWmdxrh3"
      },
      "source": [
        "3.3 Slicing a range of characters"
      ]
    },
    {
      "cell_type": "code",
      "execution_count": null,
      "metadata": {
        "id": "mnkEMU45xtsZ"
      },
      "outputs": [],
      "source": [
        "# Slicing is like indexing, but it lets us get more than 1 character.\n",
        "# ...how is this like range(a,b)?\n",
        "\n",
        "s = \"abcdefgh\"\n",
        "print(s)\n",
        "print(s[0:3])\n",
        "print(s[1:3])\n",
        "print(\"-----------\")\n",
        "print(s[2:3])\n",
        "print(s[3:3])  ## okay... but print nothing"
      ]
    },
    {
      "cell_type": "markdown",
      "metadata": {
        "id": "fMe_C9YNx-Hz"
      },
      "source": [
        "3.4 Slicing with default parameters"
      ]
    },
    {
      "cell_type": "code",
      "execution_count": null,
      "metadata": {
        "id": "IhFOE9cUyAE0"
      },
      "outputs": [],
      "source": [
        "s = \"abcdefgh\"\n",
        "print(s)\n",
        "print(s[3:])\n",
        "print(s[:3])\n",
        "print(s[:])"
      ]
    },
    {
      "cell_type": "markdown",
      "metadata": {
        "id": "NaDMg27KyOXL"
      },
      "source": [
        "3.5 Slicing with a step parameter"
      ]
    },
    {
      "cell_type": "code",
      "execution_count": null,
      "metadata": {
        "id": "OGQYyiOFyQgW"
      },
      "outputs": [],
      "source": [
        "print(\"This is not as common, but perfectly ok.\")\n",
        "s = \"abcdefgh\"\n",
        "print(s)\n",
        "print(s[1:7:2])\n",
        "print(s[1:7:3])"
      ]
    },
    {
      "cell_type": "markdown",
      "metadata": {
        "id": "asOz3UMcyWko"
      },
      "source": [
        "3.6 Reversing a string"
      ]
    },
    {
      "cell_type": "code",
      "execution_count": null,
      "metadata": {
        "id": "y5IuPJlqyY4Y"
      },
      "outputs": [],
      "source": [
        "s = \"abcdefgh\"\n",
        "\n",
        "print(\"This works, but is a bit confusing:\")\n",
        "print(s[::-1])\n",
        "\n",
        "print(\"This also works, but is still confusing:\")\n",
        "print(\"\".join(reversed(s)))\n",
        "\n",
        "print(\"Best way: write your own reverseString() function:\")\n",
        "\n",
        "def reverseString(s):\n",
        "    return s[::-1]\n",
        "\n",
        "print(reverseString(s)) # better!"
      ]
    },
    {
      "cell_type": "markdown",
      "metadata": {
        "id": "kQaF69VDydOC"
      },
      "source": [
        "(4) Looping over Strings "
      ]
    },
    {
      "cell_type": "markdown",
      "metadata": {
        "id": "i7ZjybR1ygVq"
      },
      "source": [
        "4.1 \"for\" loop with indexes"
      ]
    },
    {
      "cell_type": "code",
      "execution_count": null,
      "metadata": {
        "id": "-hjXLnHKyy42"
      },
      "outputs": [],
      "source": [
        "s = \"abcd\"\n",
        "for i in range(len(s)):\n",
        "    print(i, s[i])"
      ]
    },
    {
      "cell_type": "markdown",
      "metadata": {
        "id": "s0Rh2Ocay2k0"
      },
      "source": [
        "4.2 \"for\" loop without indexes"
      ]
    },
    {
      "cell_type": "code",
      "execution_count": null,
      "metadata": {
        "id": "wBKeBiNAy4i_"
      },
      "outputs": [],
      "source": [
        "s = \"abcd\"\n",
        "for c in s:\n",
        "    print(c)"
      ]
    },
    {
      "cell_type": "markdown",
      "metadata": {
        "id": "7304qatjzC6R"
      },
      "source": [
        "4.3 \"for\" loop with split"
      ]
    },
    {
      "cell_type": "code",
      "execution_count": null,
      "metadata": {
        "id": "a9Gq5UJNzE4U"
      },
      "outputs": [],
      "source": [
        "# By itself, names.split(\",\") produces something called a list.\n",
        "# Until we learn about lists (soon!), do not store the result of\n",
        "# split() and do not index into that result.  Just loop over the\n",
        "# result, as shown here:\n",
        "\n",
        "names = \"fred,wilma,betty,barney\"\n",
        "for name in names.split(\",\"):\n",
        "    print(name)"
      ]
    },
    {
      "cell_type": "markdown",
      "metadata": {
        "id": "A5g8tKDTzIYL"
      },
      "source": [
        "4.4 \"for\" loop with splitlines"
      ]
    },
    {
      "cell_type": "code",
      "execution_count": 10,
      "metadata": {
        "id": "XreUtwYZzKYt"
      },
      "outputs": [
        {
          "name": "stdout",
          "output_type": "stream",
          "text": [
            "Knuth: If you optimize everything, you will always be unhappy.\n",
            "Knuth: Beware of bugs in the above code; I have only proved it correct, not tried it.\n"
          ]
        }
      ],
      "source": [
        "# splitlines() also makes a list, so only loop over its results,\n",
        "# just like split():\n",
        "\n",
        "# quotes from brainyquote.com\n",
        "quotes = \"\"\"\\\n",
        "Dijkstra: Simplicity is prerequisite for reliability.\n",
        "Knuth: If you optimize everything, you will always be unhappy.\n",
        "Dijkstra: Perfecting oneself is as much unlearning as it is learning.\n",
        "Knuth: Beware of bugs in the above code; I have only proved it correct, not tried it.\n",
        "Dijkstra: Computer science is no more about computers than astronomy is about telescopes.\n",
        "\"\"\"\n",
        "for line in quotes.splitlines():\n",
        "    if (line.startswith(\"Knuth\")):\n",
        "        print(line)"
      ]
    },
    {
      "cell_type": "markdown",
      "metadata": {
        "id": "iJu3AHJ6zNZ_"
      },
      "source": [
        "(5) Example: isPalindrome\n",
        "\n",
        "A string is a palindrome if it is exactly the same forwards and backwards."
      ]
    },
    {
      "cell_type": "code",
      "execution_count": null,
      "metadata": {
        "id": "pW4n_McYzRx8"
      },
      "outputs": [],
      "source": [
        "# There are many ways to write isPalindrome(s)\n",
        "# Here are several.  Which way is best?\n",
        "\n",
        "def reverseString(s):\n",
        "    return s[::-1]\n",
        "\n",
        "def isPalindrome1(s):\n",
        "    return (s == reverseString(s))\n",
        "\n",
        "def isPalindrome2(s):\n",
        "    for i in range(len(s)):\n",
        "        if (s[i] != s[len(s)-1-i]):\n",
        "            return False\n",
        "    return True\n",
        "\n",
        "def isPalindrome3(s):\n",
        "    for i in range(len(s)):\n",
        "        if (s[i] != s[-1-i]):\n",
        "            return False\n",
        "    return True\n",
        "\n",
        "def isPalindrome4(s):\n",
        "    while (len(s) > 1):\n",
        "        if (s[0] != s[-1]):\n",
        "            return False\n",
        "        s = s[1:-1]\n",
        "    return True\n",
        "\n",
        "print(isPalindrome1(\"abcba\"), isPalindrome1(\"abca\"))\n",
        "print(isPalindrome2(\"abcba\"), isPalindrome2(\"abca\"))\n",
        "print(isPalindrome3(\"abcba\"), isPalindrome3(\"abca\"))\n",
        "print(isPalindrome4(\"abcba\"), isPalindrome4(\"abca\"))"
      ]
    },
    {
      "cell_type": "markdown",
      "metadata": {
        "id": "V_N3L8NMzjkQ"
      },
      "source": [
        "(6) Strings are Immutable"
      ]
    },
    {
      "cell_type": "markdown",
      "metadata": {
        "id": "2JQHaIy3znW9"
      },
      "source": [
        "6.1 You cannot change strings! They are immutable."
      ]
    },
    {
      "cell_type": "code",
      "execution_count": null,
      "metadata": {
        "id": "lVO31lhczp_C"
      },
      "outputs": [],
      "source": [
        "s = \"abcde\"\n",
        "s[2] = \"z\"  # Error! Cannot assign into s[i]"
      ]
    },
    {
      "cell_type": "markdown",
      "metadata": {
        "id": "4Deg0BbIzzSS"
      },
      "source": [
        "6.2 Instead, you must create a new string."
      ]
    },
    {
      "cell_type": "code",
      "execution_count": null,
      "metadata": {
        "id": "diVoGH2Jz1T-"
      },
      "outputs": [],
      "source": [
        "s = \"abcde\"\n",
        "s = s[:2] + \"z\" + s[3:]\n",
        "print(s)"
      ]
    },
    {
      "cell_type": "markdown",
      "metadata": {
        "id": "DmjfCdWO0DMf"
      },
      "source": [
        "(7) Strings and Aliases\n",
        "\n",
        "Strings are immutable, so aliases do not change!"
      ]
    },
    {
      "cell_type": "code",
      "execution_count": 11,
      "metadata": {
        "id": "N3E82ODk0IRl"
      },
      "outputs": [
        {
          "name": "stdout",
          "output_type": "stream",
          "text": [
            "abcdef\n",
            "abc\n"
          ]
        }
      ],
      "source": [
        "s = 'abc'  # s references the string 'abc'\n",
        "t = s      # t is an alias to the one-and-only string 'abc'\n",
        "s += 'def'\n",
        "print(s)\n",
        "print(t)"
      ]
    },
    {
      "cell_type": "markdown",
      "metadata": {
        "id": "JlQjS7FI0LLD"
      },
      "source": [
        "(8) Some String-related Built-In Functions"
      ]
    },
    {
      "cell_type": "markdown",
      "metadata": {
        "id": "QcQtcvQw0OQ5"
      },
      "source": [
        "8.1 str() and len()"
      ]
    },
    {
      "cell_type": "code",
      "execution_count": null,
      "metadata": {
        "id": "rGmNLxmb0Q3s"
      },
      "outputs": [],
      "source": [
        "name = input(\"Enter your name: \")\n",
        "print(\"Hi, \" + name + \". Your name has \" + str(len(name)) + \" letters!\")"
      ]
    },
    {
      "cell_type": "markdown",
      "metadata": {
        "id": "VTRy4N_b0g1P"
      },
      "source": [
        "8.2 chr() and ord()"
      ]
    },
    {
      "cell_type": "code",
      "execution_count": null,
      "metadata": {
        "id": "9Y76Q1Js0jHO"
      },
      "outputs": [],
      "source": [
        "print(ord(\"A\")) # 65\n",
        "print(chr(65))  # \"A\"\n",
        "print(chr(ord(\"A\")+1)) # ?"
      ]
    },
    {
      "cell_type": "markdown",
      "metadata": {
        "id": "lX67oV6d0mgN"
      },
      "source": [
        "8.3 eval()"
      ]
    },
    {
      "cell_type": "code",
      "execution_count": 12,
      "metadata": {
        "id": "BSwK4r100oxT"
      },
      "outputs": [
        {
          "name": "stdout",
          "output_type": "stream",
          "text": [
            "5.0\n"
          ]
        },
        {
          "ename": "NameError",
          "evalue": "name 'reformatMyHardDrive' is not defined",
          "output_type": "error",
          "traceback": [
            "\u001b[1;31m---------------------------------------------------------------------------\u001b[0m",
            "\u001b[1;31mNameError\u001b[0m                                 Traceback (most recent call last)",
            "Cell \u001b[1;32mIn[12], line 7\u001b[0m\n\u001b[0;32m      5\u001b[0m \u001b[38;5;66;03m# why not? Well...\u001b[39;00m\n\u001b[0;32m      6\u001b[0m s \u001b[38;5;241m=\u001b[39m \u001b[38;5;124m\"\u001b[39m\u001b[38;5;124mreformatMyHardDrive()\u001b[39m\u001b[38;5;124m\"\u001b[39m\n\u001b[1;32m----> 7\u001b[0m \u001b[38;5;28mprint\u001b[39m(\u001b[38;5;28;43meval\u001b[39;49m\u001b[43m(\u001b[49m\u001b[43ms\u001b[49m\u001b[43m)\u001b[49m) \u001b[38;5;66;03m# no such function!  But what if there was?\u001b[39;00m\n",
            "File \u001b[1;32m<string>:1\u001b[0m\n",
            "\u001b[1;31mNameError\u001b[0m: name 'reformatMyHardDrive' is not defined"
          ]
        }
      ],
      "source": [
        "# eval() works but you should not use it!\n",
        "s = \"(3**2 + 4**2)**0.5\"\n",
        "print(eval(s))\n",
        "\n",
        "# why not? Well...\n",
        "s = \"reformatMyHardDrive()\"\n",
        "print(eval(s)) # no such function!  But what if there was?"
      ]
    },
    {
      "cell_type": "markdown",
      "metadata": {
        "id": "n5TzJXTW0tAX"
      },
      "source": [
        "(9) Some String Methods\n",
        "\n",
        "Methods are a special type of function that we call \"on\" a value, like a string. You can tell it's a method because the syntax is in the form of value.function(), like s.islower() in the code below."
      ]
    },
    {
      "cell_type": "markdown",
      "metadata": {
        "id": "BYY4xbVf0xbO"
      },
      "source": [
        "9.1 Character types: isalnum(), isalpha(), isdigit(), islower(), isspace(), isupper()"
      ]
    },
    {
      "cell_type": "code",
      "execution_count": 13,
      "metadata": {
        "id": "R_PRGN3F08tE"
      },
      "outputs": [
        {
          "name": "stdout",
          "output_type": "stream",
          "text": [
            "  s   isalnum  isalpha  isdigit  islower  isspace  isupper\n",
            " ABCD  True     True     False    False    False    True     \n",
            " ABcd  True     True     False    False    False    False    \n",
            " abcd  True     True     False    True     False    False    \n",
            " ab12  True     False    False    True     False    False    \n",
            " 1234  True     False    True     False    False    False    \n",
            "       False    False    False    False    True     False    \n",
            " AB?!  False    False    False    False    False    True     \n"
          ]
        }
      ],
      "source": [
        "# Run this code to see a table of isX() behaviors\n",
        "def p(test):\n",
        "    print(\"True     \" if test else \"False    \", end=\"\")\n",
        "def printRow(s):\n",
        "    print(\" \" + s + \"  \", end=\"\")\n",
        "    p(s.isalnum())\n",
        "    p(s.isalpha())\n",
        "    p(s.isdigit())\n",
        "    p(s.islower())\n",
        "    p(s.isspace())\n",
        "    p(s.isupper())\n",
        "    print()\n",
        "def printTable():\n",
        "    print(\"  s   isalnum  isalpha  isdigit  islower  isspace  isupper\")\n",
        "    for s in \"ABCD,ABcd,abcd,ab12,1234,    ,AB?!\".split(\",\"):\n",
        "        printRow(s)\n",
        "printTable()"
      ]
    },
    {
      "cell_type": "markdown",
      "metadata": {
        "id": "Pv0VSzPR1CKm"
      },
      "source": [
        "9.2 String edits: lower(), upper(), replace(), strip()"
      ]
    },
    {
      "cell_type": "code",
      "execution_count": 14,
      "metadata": {
        "id": "mUCFSCap1EU7"
      },
      "outputs": [
        {
          "name": "stdout",
          "output_type": "stream",
          "text": [
            "this is nice. yes!\n",
            "SO IS THIS? SURE!!\n",
            "Strip removes leading and trailing whitespace only\n",
            "This is sweet.  Really sweet.\n",
            "This is sweet.  Really nice.\n",
            "----------------\n",
            "This is fun!\n",
            "This is so so fun!\n"
          ]
        }
      ],
      "source": [
        "print(\"This is nice. Yes!\".lower())\n",
        "print(\"So is this? Sure!!\".upper())\n",
        "print(\"   Strip removes leading and trailing whitespace only    \".strip())\n",
        "print(\"This is nice.  Really nice.\".replace(\"nice\", \"sweet\"))\n",
        "print(\"This is nice.  Really nice.\".replace(\"nice\", \"sweet\", 1)) # count = 1\n",
        "\n",
        "print(\"----------------\")\n",
        "s = \"This is so so fun!\"\n",
        "t = s.replace(\"so \", \"\")\n",
        "print(t)\n",
        "print(s) # note that s is unmodified (strings are immutable!)"
      ]
    },
    {
      "cell_type": "markdown",
      "metadata": {
        "id": "4XOtXoQj1IS8"
      },
      "source": [
        "9.3 Substring search: count(), startswith(), endswith(), find(), index()"
      ]
    },
    {
      "cell_type": "code",
      "execution_count": null,
      "metadata": {
        "id": "K_mSKmPe1KVw"
      },
      "outputs": [],
      "source": [
        "print(\"This is a history test\".count(\"is\")) # 3\n",
        "print(\"This IS a history test\".count(\"is\")) # 2\n",
        "print(\"-------\")\n",
        "print(\"Dogs and cats!\".startswith(\"Do\"))    # True\n",
        "print(\"Dogs and cats!\".startswith(\"Don't\")) # False\n",
        "print(\"-------\")\n",
        "print(\"Dogs and cats!\".endswith(\"!\"))       # True\n",
        "print(\"Dogs and cats!\".endswith(\"rats!\"))   # False\n",
        "print(\"-------\")\n",
        "print(\"Dogs and cats!\".find(\"and\"))         # 5\n",
        "print(\"Dogs and cats!\".find(\"or\"))          # -1\n",
        "print(\"-------\")\n",
        "print(\"Dogs and cats!\".index(\"and\"))        # 5\n",
        "print(\"Dogs and cats!\".index(\"or\"))         # crash!"
      ]
    },
    {
      "cell_type": "markdown",
      "metadata": {
        "id": "d149QPRyXfQy"
      },
      "source": [
        "10. Basic IO"
      ]
    },
    {
      "cell_type": "code",
      "execution_count": null,
      "metadata": {
        "id": "pVSxdD3MXg6Y"
      },
      "outputs": [],
      "source": [
        "# Note: As this requires read-write access to your hard drive,\n",
        "\n",
        "def readFile(path):\n",
        "    with open(path, \"rt\") as f:\n",
        "        return f.read()\n",
        "\n",
        "def writeFile(path, contents):\n",
        "    with open(path, \"wt\") as f:\n",
        "        f.write(contents)\n",
        "\n",
        "contentsToWrite = \"This is a test!\\nIt is only a test!\"\n",
        "writeFile(\"foo.txt\", contentsToWrite)\n",
        "\n",
        "contentsRead = readFile(\"foo.txt\")\n",
        "assert(contentsRead == contentsToWrite)\n",
        "\n",
        "print(\"Open the file foo.txt and verify its contents.\")"
      ]
    }
  ],
  "metadata": {
    "colab": {
      "collapsed_sections": [],
      "name": "demo5_Strings.ipynb",
      "provenance": []
    },
    "kernelspec": {
      "display_name": "Python 3 (ipykernel)",
      "language": "python",
      "name": "python3"
    },
    "language_info": {
      "codemirror_mode": {
        "name": "ipython",
        "version": 3
      },
      "file_extension": ".py",
      "mimetype": "text/x-python",
      "name": "python",
      "nbconvert_exporter": "python",
      "pygments_lexer": "ipython3",
      "version": "3.11.4"
    }
  },
  "nbformat": 4,
  "nbformat_minor": 0
}
