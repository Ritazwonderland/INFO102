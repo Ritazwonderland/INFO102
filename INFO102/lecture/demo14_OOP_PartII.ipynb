{
  "cells": [
    {
      "cell_type": "markdown",
      "source": [
        "# Class and Object"
      ],
      "metadata": {
        "id": "dFqXdNB_QXmp"
      }
    },
    {
      "cell_type": "markdown",
      "source": [
        "Previously, we introduced the two main components of OOP: Class, which is a blueprint used to define a logical grouping of data and functions, and Object, which is an instance of the defined class with actual values. In this section, we will get into greater detail of both of these components.\n",
        "\n"
      ],
      "metadata": {
        "id": "lepP9nLKQtO6"
      }
    },
    {
      "cell_type": "markdown",
      "source": [
        "## Class\n",
        "\n",
        "A class is a definition of the structure that we want. Similar to a function, it is defined as a block of code, starting with the class statement. The syntax of defining a class is:\n"
      ],
      "metadata": {
        "id": "n85deqUBQ4li"
      }
    },
    {
      "cell_type": "code",
      "source": [
        "class ClassName(superclass):\n",
        "    \n",
        "    def __init__(self, arguments):\n",
        "        # define or assign object attributes\n",
        "        \n",
        "    def other_methods(self, arguments):\n",
        "        # body of the method\n"
      ],
      "metadata": {
        "id": "_QXAXtxmRAMj"
      },
      "execution_count": null,
      "outputs": []
    },
    {
      "cell_type": "markdown",
      "source": [
        "Note: the definition of a class is very similar to a function. It needs to be instantiated first before you can use it. For the class name, it is standard convention to use “CapWords.” The superclass is used when you want create a new class to inherit the attributes and methods from another already defined class. We will talk more about inheritance in the next section. The __init__ is one of the special methods in Python classes that is run as soon as an object of a class is instantiated (created). It assigns initial values to the object before it is ready to be used. Note the two underscores at the beginning and end of the init, indicating this is a special method reserved for special use in the language. In this init method, you can assign attributes directly when you create the object. The other_methods functions are used to define the instance methods that will be applied on the attributes, just like functions we discussed before. You may notice that there is a parameter self for defining this method in the class. Why? A class instance method must have this extra argument as the first argument when you define it. This particular argument refers to the object itself; conventionally, we use self to name it. Through this self parameter, instance methods can freely access attributes and other methods in the same object. When we define or call an instance method within a class, we need to use this self parameter. Let us see an example below."
      ],
      "metadata": {
        "id": "hu5QOwFvRQCa"
      }
    },
    {
      "cell_type": "markdown",
      "source": [
        "EXAMPLE: Define a class named Student, with the attributes sid (student id), name, gender, type in the init method and a method called `say_name` to print out the student’s name. All the attributes will be passed in except `type`, which will have a value as ‘learning’."
      ],
      "metadata": {
        "id": "32h9J7phRR4h"
      }
    },
    {
      "cell_type": "code",
      "source": [
        "class Student():\n",
        "    \n",
        "    def __init__(self, sid, name, gender):\n",
        "        self.sid = sid\n",
        "        self.name = name\n",
        "        self.gender = gender\n",
        "        self.type = 'learning'\n",
        "        \n",
        "    def say_name(self):\n",
        "        print(\"My name is \" + self.name)"
      ],
      "metadata": {
        "id": "va3qAXLTRg9y"
      },
      "execution_count": null,
      "outputs": []
    },
    {
      "cell_type": "markdown",
      "source": [
        "### You DO! \n",
        "\n",
        "Add a method report that print not only the student name, but also the student id. The method will have another argument score, that will pass in a number between 0 - 100 as part of the report."
      ],
      "metadata": {
        "id": "DeYK9qFnR41_"
      }
    },
    {
      "cell_type": "code",
      "source": [],
      "metadata": {
        "id": "ATZh-WbtSCyO"
      },
      "execution_count": null,
      "outputs": []
    },
    {
      "cell_type": "markdown",
      "source": [
        "## Object\n",
        "\n",
        "As mentioned before, an object is an instance of the defined class with actual values. We can have many instances of different values associated with the class, and each of these instances will be independent with each other as we saw previously. Also, after we create an object, and call this instance method from the object, we do not need to give value to the self parameter since Python automatically provides it. See the following example:"
      ],
      "metadata": {
        "id": "liNcUD3xSNbX"
      }
    },
    {
      "cell_type": "markdown",
      "source": [
        "EXAMPLE: Create two objects (“001”, “Susan”, “F”) and (“002”, “Mike”, “M”), and call the method say_name."
      ],
      "metadata": {
        "id": "i3652gAOSS5P"
      }
    },
    {
      "cell_type": "code",
      "source": [
        "student1 = Student(\"001\", \"Susan\", \"F\")\n",
        "student2 = Student(\"002\", \"Mike\", \"M\")\n",
        "\n",
        "student1.say_name()\n",
        "student2.say_name()\n",
        "print(student1.type)\n",
        "print(student1.gender)"
      ],
      "metadata": {
        "id": "B3DvI_qfSUqd"
      },
      "execution_count": null,
      "outputs": []
    },
    {
      "cell_type": "markdown",
      "source": [
        "### You DO \n",
        "\n",
        "Call method report for student1 and student2 with score 95 and 90 individually. Note: we do not need the “self” as an argument here."
      ],
      "metadata": {
        "id": "DudiR7ZySZzT"
      }
    },
    {
      "cell_type": "markdown",
      "source": [
        "## Class vs instance attributes\n",
        "\n",
        "The attributes we presented above are actually called instance attributes, which means that they are only belong to a specific instance; when you use them, you need to use the self.attribute within the class. There are another type of attributes called class attributes, which will be shared with all the instances created from this class. Let us see an example how to define and use a class attribute."
      ],
      "metadata": {
        "id": "c5JgbWfqSoYJ"
      }
    },
    {
      "cell_type": "markdown",
      "source": [
        "EXAMPLE: Modify the Student class to add a class attribute n, which will record how many object we are creating. Also, add a method num_instances to print out the number."
      ],
      "metadata": {
        "id": "QKORFqAkSsRo"
      }
    },
    {
      "cell_type": "code",
      "source": [
        "class Student():\n",
        "    \n",
        "    n_instances = 0\n",
        "    \n",
        "    def __init__(self, sid, name, gender):\n",
        "        self.sid = sid\n",
        "        self.name = name\n",
        "        self.gender = gender\n",
        "        self.type = 'learning'\n",
        "        Student.n_instances += 1\n",
        "        \n",
        "    def say_name(self):\n",
        "        print(\"My name is \" + self.name)\n",
        "        \n",
        "    def report(self, score):\n",
        "        self.say_name()\n",
        "        print(\"My id is: \" + self.sid)\n",
        "        print(\"My score is: \" + str(score))\n",
        "        \n",
        "    def num_instances(self):\n",
        "        print(f'We have {Student.n_instances}-instance in total')"
      ],
      "metadata": {
        "id": "uMw88_beSx43"
      },
      "execution_count": null,
      "outputs": []
    },
    {
      "cell_type": "markdown",
      "source": [
        "In defining a class attribute, we must define it outside of all the other methods without using self. To use the class attributes, we use ClassName.attribute, which in this case is Student.n. This attribute will be shared with all the instances that are created from this class. Let us see the following code to show the idea."
      ],
      "metadata": {
        "id": "B4y_NlzTS6XQ"
      }
    },
    {
      "cell_type": "code",
      "source": [
        "student1 = Student(\"001\", \"Susan\", \"F\")\n",
        "student1.num_instances()\n",
        "student2 = Student(\"002\", \"Mike\", \"M\")\n",
        "student1.num_instances()\n",
        "student2.num_instances()"
      ],
      "metadata": {
        "id": "iAyOT9qfS91I"
      },
      "execution_count": null,
      "outputs": []
    },
    {
      "cell_type": "markdown",
      "metadata": {
        "id": "ZXet3ZOMP1qD"
      },
      "source": [
        "## Type Testing (type, isinstance)\n"
      ]
    },
    {
      "cell_type": "code",
      "execution_count": null,
      "metadata": {
        "id": "J7hskN01P1qH"
      },
      "outputs": [],
      "source": [
        "class A: pass\n",
        "a = A()\n",
        "print(type(a))           # A (technically, < class '__main__.A' >)\n",
        "print(type(a) == A)      # True\n",
        "print(isinstance(a, A))  # True"
      ]
    },
    {
      "cell_type": "markdown",
      "source": [
        "## Inheritance\n",
        "\n",
        "Inheritance allows us to define a class that inherits all the methods and attributes from another class. Convention denotes the new class as child class, and the one that it inherits from is called parent class or superclass. If we refer back to the definition of class structure, we can see the structure for basic inheritance is class ClassName(superclass), which means the new class can access all the attributes and methods from the superclass. Inheritance builds a relationship between the child class and parent class, usually in a way that the parent class is a general type while the child class is a specific type. Let us try to see an example."
      ],
      "metadata": {
        "id": "6I2roWQ6TN7h"
      }
    },
    {
      "cell_type": "markdown",
      "source": [
        "Example: Define a class named Sensor with attributes name, location, and record_date that pass from the creation of an object and an attribute data as an empty dictionary to store data. Create one method add_data with t and data as input parameters to take in timestamp and data arrays. Within this method, assign t and data to the data attribute with ‘time’ and ‘data’ as the keys. In addition, it should have one clear_data method to delete the data."
      ],
      "metadata": {
        "id": "0QjY-QYqTZDE"
      }
    },
    {
      "cell_type": "code",
      "source": [
        "class Sensor():\n",
        "    def __init__(self, name, location, record_date):\n",
        "        self.name = name\n",
        "        self.location = location\n",
        "        self.record_date = record_date\n",
        "        self.data = {}\n",
        "        \n",
        "    def add_data(self, t, data):\n",
        "        self.data['time'] = t\n",
        "        self.data['data'] = data\n",
        "        print(f'We have {len(data)} points saved')        \n",
        "        \n",
        "    def clear_data(self):\n",
        "        self.data = {}\n",
        "        print('Data cleared!')"
      ],
      "metadata": {
        "id": "II7oVobfTWis"
      },
      "execution_count": null,
      "outputs": []
    },
    {
      "cell_type": "markdown",
      "source": [
        "Now we have a class to store general sensor information, we can create a sensor object to store some data.\n",
        "\n",
        "EXAMPLE: Create a sensor object."
      ],
      "metadata": {
        "id": "9a_G5lqlTjFj"
      }
    },
    {
      "cell_type": "code",
      "source": [
        "import numpy as np\n",
        "\n",
        "sensor1 = Sensor('sensor1', 'Kunshan', '2023-01-01')\n",
        "data = np.random.randint(-10, 10, 10)\n",
        "sensor1.add_data(np.arange(10), data)\n",
        "sensor1.data"
      ],
      "metadata": {
        "id": "Hj3yi8r3Tjy3"
      },
      "execution_count": null,
      "outputs": []
    },
    {
      "cell_type": "markdown",
      "source": [
        "## Inherit and extend new method\n",
        "\n",
        "Say we have one different type of sensor: an accelerometer. It shares the same attributes and methods as Sensor class, but it also has different attributes or methods need to be appended or modified from the original class. What should we do? Do we create a different class from scratch? This is where inheritance can be used to make life easier. This new class will inherit from the Sensor class with all the attributes and methods. We can whether we want to extend the attributes or methods. Let us first create this new class, Accelerometer, and add a new method, show_type, to report what kind of sensor it is."
      ],
      "metadata": {
        "id": "QuwJJL-RTwQR"
      }
    },
    {
      "cell_type": "code",
      "source": [
        "class Accelerometer(Sensor):\n",
        "    \n",
        "    def show_type(self):\n",
        "        print('I am an accelerometer!')\n",
        "        \n",
        "acc = Accelerometer('acc1', 'Suzhou', '2023-02-01')\n",
        "acc.show_type()\n",
        "data = np.random.randint(-10, 10, 10)\n",
        "acc.add_data(np.arange(10), data)\n",
        "acc.data"
      ],
      "metadata": {
        "id": "RufAIbE9TzvD"
      },
      "execution_count": null,
      "outputs": []
    },
    {
      "cell_type": "markdown",
      "source": [
        "## Inherit and method overriding\n",
        "\n",
        "When we inherit from a parent class, we can change the implementation of a method provided by the parent class, this is called method overriding. Let us see the following example."
      ],
      "metadata": {
        "id": "tJ7jFhVjT_DD"
      }
    },
    {
      "cell_type": "markdown",
      "source": [
        "EXAMPLE: Create a class DKUAcc (a specific type of accelerometer that created at DKU) that inherits from Accelerometer but replace the show_type method that prints out the name of the sensor."
      ],
      "metadata": {
        "id": "cNnplRmaUDfZ"
      }
    },
    {
      "cell_type": "code",
      "source": [
        "class DKUAcc(Accelerometer):\n",
        "    \n",
        "    def show_type(self):\n",
        "        print(f'I am {self.name}, created at Duke Kunshan!')\n",
        "        \n",
        "acc_dku = DKUAcc('DKUAcc', 'Kunshan', '2023-03-01')\n",
        "acc_dku.show_type()"
      ],
      "metadata": {
        "id": "5wM5nnX1UK_u"
      },
      "execution_count": null,
      "outputs": []
    },
    {
      "cell_type": "markdown",
      "source": [
        "## Inherit and update attributes with super\n",
        "\n",
        "Let us create a class NewSensor that inherits from Sensor class, but with updated the attributes by adding a new attribute brand. Of course, we can re-define the whole __init__ method as shown below and overriding the parent function."
      ],
      "metadata": {
        "id": "xNRokQGJUdg1"
      }
    },
    {
      "cell_type": "code",
      "source": [
        "class NewSensor(Sensor):\n",
        "    def __init__(self, name, location, record_date, brand):\n",
        "        self.name = name\n",
        "        self.location = location\n",
        "        self.record_date = record_date\n",
        "        self.brand = brand\n",
        "        self.data = {}\n",
        "        \n",
        "new_sensor = NewSensor('Durham', 'NC', '2023-03-01', 'XYZ')\n",
        "new_sensor.brand"
      ],
      "metadata": {
        "id": "hVh-StlWUilJ"
      },
      "execution_count": null,
      "outputs": []
    },
    {
      "cell_type": "markdown",
      "source": [
        "However, there is a better way to achieve the same. We can use the `super` method to avoid referring to the parent class explicitly. Let us see how to perform this in the following example:"
      ],
      "metadata": {
        "id": "t9HW2YcZUyTI"
      }
    },
    {
      "cell_type": "code",
      "source": [
        "class NewSensor(Sensor):\n",
        "    def __init__(self, name, location, record_date, brand):\n",
        "        super().__init__(name, location, record_date)\n",
        "        self.brand = brand\n",
        "        \n",
        "new_sensor = NewSensor('Durham', 'NC', '2023-03-01', 'XYZ')\n",
        "new_sensor.brand"
      ],
      "metadata": {
        "id": "3-deTnl8U2DG"
      },
      "execution_count": null,
      "outputs": []
    },
    {
      "cell_type": "markdown",
      "source": [
        "## Encapsulation\n",
        "\n",
        "Encapsulation is one of the fundamental concepts in OOP. It describes the idea of restricting access to methods and attributes in a class. This will hide the complex details from the users, and prevent data being modified by accident. In Python, this is achieved by using private methods or attributes using underscore as prefix, i.e. single “_” or double “__”. Let us see the following example."
      ],
      "metadata": {
        "id": "9HvIzVb9U842"
      }
    },
    {
      "cell_type": "code",
      "source": [
        "class Sensor():\n",
        "    def __init__(self, name, location):\n",
        "        self.name = name\n",
        "        self._location = location\n",
        "        self.__version = '1.0'\n",
        "    \n",
        "    # a getter function\n",
        "    def get_version(self):\n",
        "        print(f'The sensor version is {self.__version}')\n",
        "    \n",
        "    # a setter function\n",
        "    def set_version(self, version):\n",
        "        self.__version = version"
      ],
      "metadata": {
        "id": "w4H4TN0QVCm-"
      },
      "execution_count": null,
      "outputs": []
    },
    {
      "cell_type": "code",
      "source": [
        "sensor1 = Sensor('Acc', 'Shanghai')\n",
        "print(sensor1.name)\n",
        "print(sensor1._location)\n",
        "print(sensor1.__version)"
      ],
      "metadata": {
        "id": "RB2VIzIoVE4Z"
      },
      "execution_count": null,
      "outputs": []
    },
    {
      "cell_type": "markdown",
      "source": [
        "The above example shows how the encapsulation works. With single underscore, we defined a private variable, and it should not be accessed directly. But this is just convention, nothing stops you from doing that. You can still get access to it if you want to. With double underscore, we can see that the attribute __version can not be accessed or modify it directly. Therefore, to get access to the double underscore attributes, we need to use getter and setter function to access it internally, as shown in the following example."
      ],
      "metadata": {
        "id": "x_ZPlUxuVVtO"
      }
    },
    {
      "cell_type": "code",
      "source": [
        "sensor1.get_version()"
      ],
      "metadata": {
        "id": "LYc3Mdq4VXvA"
      },
      "execution_count": null,
      "outputs": []
    },
    {
      "cell_type": "code",
      "source": [
        "sensor1.set_version('2.0')\n",
        "sensor1.get_version()"
      ],
      "metadata": {
        "id": "R3kQ-w5SVam3"
      },
      "execution_count": null,
      "outputs": []
    },
    {
      "cell_type": "markdown",
      "source": [
        "## Polymorphism\n",
        "\n",
        "Polymorphism is another fundamental concept in OOP, which means multiple forms. Polymorphism allows us to use a single interface with different underlying forms such as data types or classes. For example, we can have commonly named methods across classes or child classes. We have already seen one example above, when we override the method show_type in the DKUAcc. For parent class Accelerometer and child class DKUAcc, they both have a method named show_type, but they have different implementation. This ability of using single name with many forms acting differently in different situations greatly reduces our complexities. We will not expand to discuss more of Polymorphism, if you are interested, check more online to get a deeper understanding."
      ],
      "metadata": {
        "id": "SxCLqgQFVjk2"
      }
    },
    {
      "cell_type": "markdown",
      "source": [
        "### You DO:\n"
      ],
      "metadata": {
        "id": "Re8rZcEYWC4t"
      }
    },
    {
      "cell_type": "code",
      "source": [
        "class Car():\n",
        "    def __init__(self, brand, color):\n",
        "        self.brand = brand\n",
        "        self.color = color\n",
        "    \n",
        "    def start_my_car(self):\n",
        "        print('I am ready to drive!')\n",
        "        \n",
        "class Truck(Car):\n",
        "    # your code\n",
        "            \n",
        "truck1 = Truck('Toyota', 'Silver', 'Large')\n",
        "truck1.start_my_car('truck_key') # print \"I am ready to drive!\"\"\n",
        "truck1.stop_my_car(brake = False) # print \"I am still running!\""
      ],
      "metadata": {
        "id": "BGqkeliwWEXl"
      },
      "execution_count": null,
      "outputs": []
    },
    {
      "cell_type": "markdown",
      "metadata": {
        "id": "ukwsVGcYP1qJ"
      },
      "source": [
        "## Special Method\n",
        "### 1. Equality Testing (__eq__)\n",
        "\n",
        "The problem: Shouldn't a1 == a2?"
      ]
    },
    {
      "cell_type": "code",
      "execution_count": null,
      "metadata": {
        "id": "Ey8AZJG5P1qL"
      },
      "outputs": [],
      "source": [
        "class A:\n",
        "    def __init__(self, x):\n",
        "        self.x = x\n",
        "a1 = A(5)\n",
        "a2 = A(5)\n",
        "print(a1 == a2)  # False!"
      ]
    },
    {
      "cell_type": "markdown",
      "metadata": {
        "id": "wXiCkNFxP1qM"
      },
      "source": [
        "### The partial solution: __eq__\n",
        "\n",
        "The __eq__ method tells Python how to evalute the equality of two objects.\n"
      ]
    },
    {
      "cell_type": "code",
      "execution_count": null,
      "metadata": {
        "id": "GnP-UPzoP1qM"
      },
      "outputs": [],
      "source": [
        "class A:\n",
        "    def __init__(self, x):\n",
        "        self.x = x\n",
        "        \n",
        "    def __eq__(self, other):\n",
        "        return (self.x == other.x)\n",
        "a1 = A(5)\n",
        "a2 = A(5)\n",
        "print(a1 == a2)  # True\n",
        "print(a1 == 99)  # crash (darn!)"
      ]
    },
    {
      "cell_type": "markdown",
      "metadata": {
        "id": "GTaF1TA7P1qN"
      },
      "source": [
        "### A better solution:\n",
        "\n",
        "Here we don't crash on unexpected types of other:"
      ]
    },
    {
      "cell_type": "code",
      "execution_count": null,
      "metadata": {
        "id": "0X1ugv2rP1qN"
      },
      "outputs": [],
      "source": [
        "class A:\n",
        "    def __init__(self, x):\n",
        "        self.x = x\n",
        "    def __eq__(self, other):\n",
        "        return (isinstance(other, A) and (self.x == other.x))\n",
        "a1 = A(5)\n",
        "a2 = A(5)\n",
        "print(a1 == a2)  # True\n",
        "print(a1 == 99)  # False (huzzah!)"
      ]
    },
    {
      "cell_type": "markdown",
      "metadata": {
        "id": "T2X8OgrQP1qQ"
      },
      "source": [
        "### 2. Converting to Strings (__str__ and __repr__)\n",
        "\n",
        "The problem:\n",
        "Just like with ==, Python doesn't really know how to print our objects..."
      ]
    },
    {
      "cell_type": "code",
      "execution_count": null,
      "metadata": {
        "id": "MXKdBFqVP1qQ"
      },
      "outputs": [],
      "source": [
        "class A:\n",
        "    def __init__(self, x):\n",
        "        self.x = x\n",
        "a = A(5)\n",
        "print(a) # prints <__main__.A object at 0x102916128> (yuck!)"
      ]
    },
    {
      "cell_type": "markdown",
      "metadata": {
        "id": "3QNhMwRSP1qR"
      },
      "source": [
        "### The partial solution: __str__\n",
        "\n",
        "The __str__ method tells Python how to convert the object to a string, but it is not used in some cases (such as when the object is in a list):"
      ]
    },
    {
      "cell_type": "code",
      "execution_count": null,
      "metadata": {
        "id": "9MD7vSloP1qR"
      },
      "outputs": [],
      "source": [
        "class A:\n",
        "    def __init__(self, x):\n",
        "        self.x = x\n",
        "    def __str__(self):\n",
        "        return f'A(x={self.x})'\n",
        "a = A(5)\n",
        "print(a) # prints A(x=5) (better)\n",
        "print([a]) # prints [<__main__.A object at 0x102136278>] (yuck!)"
      ]
    },
    {
      "cell_type": "markdown",
      "metadata": {
        "id": "lc7_sFKSP1qS"
      },
      "source": [
        "### The better solution: __repr__\n",
        "\n",
        "The __repr__ method is used inside lists (and other places):"
      ]
    },
    {
      "cell_type": "code",
      "execution_count": null,
      "metadata": {
        "id": "YqXGuH94P1qS"
      },
      "outputs": [],
      "source": [
        "# Note: repr should be a computer-readable form so that\n",
        "# (eval(repr(obj)) == obj), but we are not using it that way.\n",
        "# So this is a simplified use of repr.\n",
        "\n",
        "class A:\n",
        "    def __init__(self, x):\n",
        "        self.x = x\n",
        "    def __repr__(self):\n",
        "        return f'A(x={self.x})'\n",
        "a = A(5)\n",
        "print(a) # prints A(x=5) (better)\n",
        "print([a]) # [A(x=5)]"
      ]
    },
    {
      "cell_type": "markdown",
      "metadata": {
        "id": "KPaYHXlIP1qT"
      },
      "source": [
        "### 3. Using in Sets and Dictionaries (__hash__ and __eq__)\n",
        "\n",
        "The problem:\n",
        "Objects do not seem to hash right by default:"
      ]
    },
    {
      "cell_type": "code",
      "execution_count": null,
      "metadata": {
        "id": "OHAzKk-eP1qT"
      },
      "outputs": [],
      "source": [
        "class A:\n",
        "    def __init__(self, x):\n",
        "        self.x = x\n",
        "\n",
        "a = A(5)\n",
        "b = A(5)\n",
        "\n",
        "print(hash(a) == hash(b))       # False (this is surprising)"
      ]
    },
    {
      "cell_type": "markdown",
      "metadata": {
        "id": "HgOFZdFHP1qU"
      },
      "source": [
        "And that produces this unfortunate situation:"
      ]
    },
    {
      "cell_type": "code",
      "execution_count": null,
      "metadata": {
        "id": "Fm6f6g9rP1qU"
      },
      "outputs": [],
      "source": [
        "class A:\n",
        "    def __init__(self, x):\n",
        "        self.x = x\n",
        "\n",
        "s = set()\n",
        "s.add(A(5))\n",
        "print(A(5) in s) # False\n",
        "\n",
        "d = dict()\n",
        "d[A(5)] = 42\n",
        "print(d[A(5)]) # crashes"
      ]
    },
    {
      "cell_type": "markdown",
      "metadata": {
        "id": "lw90hDC8P1qV"
      },
      "source": [
        "### The solution: __hash__ and __eq__\n",
        "\n",
        "The __hash__ method tells Python how to hash the object. The properties you choose to hash on should be immutable types and should never change (so hash(obj) is immutable)."
      ]
    },
    {
      "cell_type": "code",
      "execution_count": null,
      "metadata": {
        "id": "MsiB6laiP1qV"
      },
      "outputs": [],
      "source": [
        "class A:\n",
        "    def __init__(self, x):\n",
        "        self.x = x\n",
        "    def __hash__(self):\n",
        "        return hash(self.x)\n",
        "    def __eq__(self, other):\n",
        "        return (isinstance(other, A) and (self.x == other.x))\n",
        "\n",
        "s = set()\n",
        "s.add(A(5))\n",
        "print(A(5) in s) # True (whew!)\n",
        "\n",
        "d = dict()\n",
        "d[A(5)] = 42\n",
        "print(d[A(5)]) # works!"
      ]
    },
    {
      "cell_type": "markdown",
      "metadata": {
        "id": "xqurDk27P1qW"
      },
      "source": [
        "### A better (more generalizable) solution\n",
        "\n",
        "You can define the method getHashables that packages the things you want to hash into a tuple, and then you can use a more generic approach to __hash__:"
      ]
    },
    {
      "cell_type": "code",
      "execution_count": null,
      "metadata": {
        "id": "cJQjRAr1P1qW"
      },
      "outputs": [],
      "source": [
        "# Your getHashables method should return the values upon which\n",
        "# your hash method depends, that is, the values that your __eq__\n",
        "# method requires to test for equality.\n",
        "# CAVEAT: a proper hash function should only test values that will not change!\n",
        "\n",
        "class A:\n",
        "    def __init__(self, x):\n",
        "        self.x = x\n",
        "    def getHashables(self):\n",
        "        return (self.x, ) # return a tuple of hashables\n",
        "    def __hash__(self):\n",
        "        return hash(self.getHashables())\n",
        "    def __eq__(self, other):\n",
        "        return (isinstance(other, A) and (self.x == other.x))\n",
        "\n",
        "s = set()\n",
        "s.add(A(5))\n",
        "print(A(5) in s) # True (still works!)\n",
        "\n",
        "d = dict()\n",
        "d[A(5)] = 42\n",
        "print(d[A(5)]) # works!"
      ]
    },
    {
      "cell_type": "markdown",
      "metadata": {
        "id": "qJ4lrgEbP1qW"
      },
      "source": [
        "### 4. Fraction Example"
      ]
    },
    {
      "cell_type": "code",
      "execution_count": null,
      "metadata": {
        "id": "0N9KY1dAP1qX"
      },
      "outputs": [],
      "source": [
        "# Very simple, partly-implemented Fraction class\n",
        "# to demonstrate the OOP ideas from above.\n",
        "# Note that Python actually has a full Fraction class that\n",
        "# you would use instead (from fractions import Fraction),\n",
        "# so this is purely for demonstrational purposes.\n",
        "\n",
        "def gcd(x, y):\n",
        "    if (y == 0): return x\n",
        "    else: return gcd(y, x%y)\n",
        "\n",
        "class Fraction:\n",
        "    def __init__(self, num, den):\n",
        "        # Partial implementation -- does not deal with 0 or negatives, etc\n",
        "        g = gcd(num, den)\n",
        "        self.num = num // g\n",
        "        self.den = den // g\n",
        "\n",
        "    def __repr__(self):\n",
        "        return '%d/%d' % (self.num, self.den)\n",
        "\n",
        "    def __eq__(self, other):\n",
        "        return (isinstance(other, Fraction) and\n",
        "                ((self.num == other.num) and (self.den == other.den)))\n",
        "\n",
        "    def times(self, other):\n",
        "        if (isinstance(other, int)):\n",
        "            return Fraction(self.num * other, self.den)\n",
        "        else:\n",
        "            return Fraction(self.num * other.num, self.den * other.den)\n",
        "\n",
        "    def __hash__(self):\n",
        "        return hash((self.num, self.den))\n",
        "\n",
        "def testFractionClass():\n",
        "    print('Testing Fraction class...', end='')\n",
        "    assert(str(Fraction(2, 3)) == '2/3')\n",
        "    assert(str([Fraction(2, 3)]) == '[2/3]')\n",
        "    assert(Fraction(2,3) == Fraction(2,3))\n",
        "    assert(Fraction(2,3) != Fraction(2,5))\n",
        "    assert(Fraction(2,3) != \"Don't crash here!\")\n",
        "    assert(Fraction(2,3).times(Fraction(3,4)) == Fraction(1,2))\n",
        "    assert(Fraction(2,3).times(5) == Fraction(10,3))\n",
        "    s = set()\n",
        "    assert(Fraction(1, 2) not in s)\n",
        "    s.add(Fraction(1, 2))\n",
        "    assert(Fraction(1, 2) in s)\n",
        "    s.remove(Fraction(1, 2))\n",
        "    assert(Fraction(1, 2) not in s)\n",
        "    print('Passed.')\n",
        "\n",
        "if (__name__ == '__main__'):\n",
        "    testFractionClass()"
      ]
    },
    {
      "cell_type": "markdown",
      "metadata": {
        "id": "5fBPqCTAP1qX"
      },
      "source": [
        "## Class-Level Features\n",
        "\n",
        "### 1. Class Attributes\n",
        "\n",
        "Class Attributes are values specified in a class that are shared by all instances of that class! We can access class attributes from any instance of that class, but changing those values anywhere changes them for every instance."
      ]
    },
    {
      "cell_type": "code",
      "execution_count": null,
      "metadata": {
        "id": "VhUjA80UP1qX"
      },
      "outputs": [],
      "source": [
        "class A:\n",
        "    dirs = [\"up\", \"down\", \"left\", \"right\"]\n",
        "\n",
        "# typically access class attributes directly via the class (no instance!)\n",
        "print(A.dirs) # ['up', 'down', 'left', 'right']\n",
        "\n",
        "# can also access via an instance:\n",
        "a = A()\n",
        "print(a.dirs)\n",
        "\n",
        "# but there is only one shared value across all instances:\n",
        "a1 = A()\n",
        "a1.dirs.pop() # not a good idea\n",
        "a2 = A()\n",
        "print(a2.dirs) # ['up', 'down', 'left'] ('right' is gone from A.dirs)"
      ]
    },
    {
      "cell_type": "markdown",
      "metadata": {
        "id": "5oPAwCsMP1qY"
      },
      "source": [
        "### 2. Static Methods \n",
        "Static Methods in a class can be called directly without making or referencing a specific object."
      ]
    },
    {
      "cell_type": "code",
      "execution_count": null,
      "metadata": {
        "id": "4ScSmEDrP1qY"
      },
      "outputs": [],
      "source": [
        "class A:\n",
        "    @staticmethod\n",
        "    def f(x):\n",
        "        return 10*x\n",
        "\n",
        "print(A.f(42)) # 420 (called A.f without creating an instance of A)"
      ]
    },
    {
      "cell_type": "markdown",
      "metadata": {
        "id": "jDDauC85P1qY"
      },
      "source": [
        "### 3. Playing Card Demo"
      ]
    },
    {
      "cell_type": "code",
      "execution_count": null,
      "metadata": {
        "id": "-Rx6ymtJP1qZ"
      },
      "outputs": [],
      "source": [
        "# oopy-playing-cards-demo.py\n",
        "# Demos class attributes, static methods, repr, eq, hash\n",
        "\n",
        "import random\n",
        "\n",
        "class PlayingCard:\n",
        "    numberNames = [None, \"Ace\", \"2\", \"3\", \"4\", \"5\", \"6\", \"7\",\n",
        "                   \"8\", \"9\", \"10\", \"Jack\", \"Queen\", \"King\"]\n",
        "    suitNames = [\"Clubs\", \"Diamonds\", \"Hearts\", \"Spades\"]\n",
        "    CLUBS = 0\n",
        "    DIAMONDS = 1\n",
        "    HEARTS = 2\n",
        "    SPADES = 3\n",
        "\n",
        "    @staticmethod\n",
        "    def getDeck(shuffled=True):\n",
        "        deck = [ ]\n",
        "        for number in range(1, 14):\n",
        "            for suit in range(4):\n",
        "                deck.append(PlayingCard(number, suit))\n",
        "        if (shuffled):\n",
        "            random.shuffle(deck)\n",
        "        return deck\n",
        "\n",
        "    def __init__(self, number, suit):\n",
        "        # number is 1 for Ace, 2...10,\n",
        "        #           11 for Jack, 12 for Queen, 13 for King\n",
        "        # suit is 0 for Clubs, 1 for Diamonds,\n",
        "        #         2 for Hearts, 3 for Spades\n",
        "        self.number = number\n",
        "        self.suit = suit\n",
        "\n",
        "    def __repr__(self):\n",
        "        number = PlayingCard.numberNames[self.number]\n",
        "        suit = PlayingCard.suitNames[self.suit]\n",
        "        return f'<{number} of {suit}>'\n",
        "\n",
        "    def getHashables(self):\n",
        "        return (self.number, self.suit) # return a tuple of hashables\n",
        "\n",
        "    def __hash__(self):\n",
        "        # you are not responsible for this method\n",
        "        return hash(self.getHashables())\n",
        "\n",
        "    def __eq__(self, other):\n",
        "        return (isinstance(other, PlayingCard) and\n",
        "                (self.number == other.number) and\n",
        "                (self.suit == other.suit))\n",
        "\n",
        "# Show this code in action\n",
        "print(\"Demo of PlayingCard will keep creating new decks, and\")\n",
        "print(\"drawing the first card, until we see the same card twice.\")\n",
        "print()\n",
        "cardsSeen = set()\n",
        "diamondsCount = 0\n",
        "\n",
        "# Now keep drawing cards until we get a duplicate\n",
        "while True:\n",
        "    deck = PlayingCard.getDeck()\n",
        "    drawnCard = deck[0]\n",
        "    if (drawnCard.suit == PlayingCard.DIAMONDS):\n",
        "        diamondsCount += 1\n",
        "    print(\"  drawnCard:\", drawnCard)\n",
        "    if (drawnCard in cardsSeen): break\n",
        "    cardsSeen.add(drawnCard)\n",
        "\n",
        "# And then report how many cards we drew\n",
        "print(\"Total cards drawn:\", 1+len(cardsSeen))\n",
        "print(\"Total diamonds drawn:\", diamondsCount)"
      ]
    },
    {
      "cell_type": "markdown",
      "metadata": {
        "id": "dNtlaThCP1qZ"
      },
      "source": [
        "### 4. Inheritance\n",
        "\n",
        "A subclass inherits all the methods from its superclass, and then can add or modify methods."
      ]
    },
    {
      "cell_type": "markdown",
      "metadata": {
        "id": "lcwmUzgeP1qZ"
      },
      "source": [
        "#### 1. Specifying a Superclass "
      ]
    },
    {
      "cell_type": "code",
      "execution_count": null,
      "metadata": {
        "id": "CJJT9BTTP1qa"
      },
      "outputs": [],
      "source": [
        "class A:\n",
        "    def __init__(self, x):\n",
        "        self.x = x\n",
        "    def f(self):\n",
        "        return 10*self.x\n",
        "\n",
        "class B(A):\n",
        "    def g(self):\n",
        "        return 1000*self.x\n",
        "\n",
        "print(A(5).f()) # 50\n",
        "print(B(7).g()) # 7000\n",
        "print(B(7).f()) # 70 (class B inherits the method f from class A)\n",
        "print(A(5).g()) # crashes (class A does not have a method g)"
      ]
    },
    {
      "cell_type": "markdown",
      "metadata": {
        "id": "KJGOlAyOP1qa"
      },
      "source": [
        "#### 2. Overriding methods\n",
        "\n",
        "We can change a method's behavior in a subclass by overriding it."
      ]
    },
    {
      "cell_type": "code",
      "execution_count": null,
      "metadata": {
        "id": "GbFwNxfBP1qa"
      },
      "outputs": [],
      "source": [
        "class A:\n",
        "    def __init__(self, x):\n",
        "        self.x = x\n",
        "    def f(self):\n",
        "        return 10*self.x\n",
        "    def g(self):\n",
        "        return 100*self.x\n",
        "\n",
        "class B(A):\n",
        "    def __init__(self, x=42, y=99):\n",
        "        super().__init__(x) # call overridden init!\n",
        "        self.y = y\n",
        "    def f(self):\n",
        "        return 1000*self.x\n",
        "    def g(self):\n",
        "        return (super().g(), self.y)\n",
        "\n",
        "a = A(5)\n",
        "b = B(7)\n",
        "print(a.f()) # 50\n",
        "print(a.g()) # 500\n",
        "print(b.f()) # 7000\n",
        "print(b.g()) # (700, 99)"
      ]
    },
    {
      "cell_type": "markdown",
      "metadata": {
        "id": "DxoMPSEIP1qb"
      },
      "source": [
        "#### 3. isinstance vs type in inherited classes"
      ]
    },
    {
      "cell_type": "code",
      "execution_count": null,
      "metadata": {
        "id": "Q-Z3UJ6xP1qb"
      },
      "outputs": [],
      "source": [
        "class A: pass\n",
        "class B(A): pass\n",
        "a = A()\n",
        "b = B()\n",
        "print(type(a) == A) # True\n",
        "print(type(b) == A) # False\n",
        "print(type(a) == B) # False\n",
        "print(type(b) == B) # True\n",
        "print()\n",
        "print(isinstance(a, A)) # True\n",
        "print(isinstance(b, A)) # True (surprised?)\n",
        "print(isinstance(a, B)) # False\n",
        "print(isinstance(b, B)) # True"
      ]
    },
    {
      "cell_type": "markdown",
      "metadata": {
        "id": "-fA0EGUYP1qb"
      },
      "source": [
        "#### 4. Monster Demo"
      ]
    },
    {
      "cell_type": "code",
      "execution_count": null,
      "metadata": {
        "id": "ONppWpYmP1qb"
      },
      "outputs": [],
      "source": [
        "# This is our base class\n",
        "class Monster:\n",
        "    def __init__(self, strength, defense):\n",
        "        self.strength = strength\n",
        "        self.defense = defense\n",
        "        self.health = 10\n",
        "\n",
        "    def attack(self): # returns damage to be dealt\n",
        "        if self.health > 0:\n",
        "            return self.strength\n",
        "\n",
        "    def defend(self, damage): # does damage to self\n",
        "        self.health -= damage\n",
        "\n",
        "class MagicMonster(Monster):\n",
        "    def __init__(self, strength, defense):\n",
        "        super().__init__(strength, defense) # most properties are the same\n",
        "        self.health = 5 # but they start out weaker\n",
        "\n",
        "    def heal(self): # only magic monsters can heal themselves!\n",
        "        if 0 < self.health < 5:\n",
        "            self.health += 1\n",
        "\n",
        "class NecroMonster(Monster):\n",
        "    def attack(self): # NecroMonsters can attack even when 'killed'\n",
        "        return self.strength"
      ]
    },
    {
      "cell_type": "code",
      "execution_count": null,
      "metadata": {
        "id": "-XunYONjP1qc"
      },
      "outputs": [],
      "source": []
    }
  ],
  "metadata": {
    "kernelspec": {
      "display_name": "Python 3",
      "language": "python",
      "name": "python3"
    },
    "language_info": {
      "codemirror_mode": {
        "name": "ipython",
        "version": 3
      },
      "file_extension": ".py",
      "mimetype": "text/x-python",
      "name": "python",
      "nbconvert_exporter": "python",
      "pygments_lexer": "ipython3",
      "version": "3.7.4"
    },
    "colab": {
      "provenance": []
    }
  },
  "nbformat": 4,
  "nbformat_minor": 0
}