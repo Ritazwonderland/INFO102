{
  "cells": [
    {
      "cell_type": "markdown",
      "metadata": {
        "id": "ws6KKT2v43ZL"
      },
      "source": [
        "1. Quick Example"
      ]
    },
    {
      "cell_type": "code",
      "execution_count": null,
      "metadata": {
        "id": "688yxeO_NVaG"
      },
      "outputs": [],
      "source": [
        "s = set([2,3,5])\n",
        "print(3 in s)          # prints True\n",
        "print(4 in s)          # prints False\n",
        "for x in range(7):\n",
        "    if (x not in s):\n",
        "        print(x)       # prints 0 1 4 6"
      ]
    },
    {
      "cell_type": "markdown",
      "metadata": {
        "id": "QXsd62vT6LO8"
      },
      "source": [
        "## Creating Sets\n",
        "\n",
        "2.1 Creating an empty set"
      ]
    },
    {
      "cell_type": "code",
      "execution_count": null,
      "metadata": {
        "id": "Mng3oPP76Piu"
      },
      "outputs": [],
      "source": [
        "s = set()\n",
        "print(s)     # prints set()"
      ]
    },
    {
      "cell_type": "code",
      "execution_count": null,
      "metadata": {
        "id": "WO9MhKIM3k3y"
      },
      "outputs": [],
      "source": [
        "hash(\"hello\")"
      ]
    },
    {
      "cell_type": "markdown",
      "metadata": {
        "id": "InSW_4iO6x9A"
      },
      "source": [
        "2.2 Creating a set from a list"
      ]
    },
    {
      "cell_type": "code",
      "execution_count": null,
      "metadata": {
        "id": "_Tr70dW460Ip"
      },
      "outputs": [],
      "source": [
        "s = set([\"cat\", \"cow\", \"dog\"])\n",
        "print(s)     # prints {'dog', 'cow', 'cat'}"
      ]
    },
    {
      "cell_type": "markdown",
      "metadata": {
        "id": "j586P4Sj7BP4"
      },
      "source": [
        "2.3 Create a set from any iterable object"
      ]
    },
    {
      "cell_type": "code",
      "execution_count": null,
      "metadata": {
        "id": "aKYLO2yu7EBQ"
      },
      "outputs": [],
      "source": [
        "s = set(\"wahoo\")\n",
        "print(s)     # surprised?"
      ]
    },
    {
      "cell_type": "markdown",
      "metadata": {
        "id": "ShHoKzBY7WNn"
      },
      "source": [
        "2.4 Create a statically-allocated set"
      ]
    },
    {
      "cell_type": "code",
      "execution_count": null,
      "metadata": {
        "id": "HAZAKsbt7Yc3"
      },
      "outputs": [],
      "source": [
        "s = { 2, 3, 5 }\n",
        "print(s)    # prints { 2, 3, 5 }"
      ]
    },
    {
      "cell_type": "markdown",
      "metadata": {
        "id": "Ux3H7alg7d-J"
      },
      "source": [
        "Caution: { } is not an empty set!"
      ]
    },
    {
      "cell_type": "code",
      "execution_count": null,
      "metadata": {
        "id": "P1HktW7K7gGO"
      },
      "outputs": [],
      "source": [
        "s = { }\n",
        "print(type(s) == set)  # False!\n",
        "print(type(s))         # This is a dict (we'll learn about those soon)"
      ]
    },
    {
      "cell_type": "markdown",
      "metadata": {
        "id": "eV8h4NAF7kFW"
      },
      "source": [
        "## Properties of Sets\n",
        "\n",
        "3.1 Sets are Unordered"
      ]
    },
    {
      "cell_type": "code",
      "execution_count": null,
      "metadata": {
        "id": "l0UPMi8I7qOd"
      },
      "outputs": [],
      "source": [
        "s = set([2,4,8])\n",
        "print(s)          # prints {8, 2, 4} in standard Python \n",
        "for element in s: # prints 8, 2, 4\n",
        "    print(element)"
      ]
    },
    {
      "cell_type": "markdown",
      "metadata": {
        "id": "K6mrM-038AHY"
      },
      "source": [
        "3.2 Elements are Unique"
      ]
    },
    {
      "cell_type": "code",
      "execution_count": 1,
      "metadata": {
        "id": "Dtx2_KEG8CEj"
      },
      "outputs": [
        {
          "name": "stdout",
          "output_type": "stream",
          "text": [
            "{2}\n",
            "1\n"
          ]
        }
      ],
      "source": [
        "s = set([2,2,2])\n",
        "print(s)          # what will this print?\n",
        "print(len(s))     # what will this print?"
      ]
    },
    {
      "cell_type": "markdown",
      "metadata": {
        "id": "T5zUqat_8FO8"
      },
      "source": [
        "3.3 Elements Must Be Immutable"
      ]
    },
    {
      "cell_type": "code",
      "execution_count": null,
      "metadata": {
        "id": "BifdxW818HAN"
      },
      "outputs": [],
      "source": [
        "a = [\"lists\", \"are\", \"mutable\"]\n",
        "s = set([a])       # TypeError: unhashable type: 'list'\n",
        "print(s)"
      ]
    },
    {
      "cell_type": "markdown",
      "metadata": {
        "id": "xB8QoK5l8QWU"
      },
      "source": [
        "Another example:"
      ]
    },
    {
      "cell_type": "code",
      "execution_count": null,
      "metadata": {
        "id": "Bi9w80258R9M"
      },
      "outputs": [],
      "source": [
        "s1 = set([\"sets\", \"are\", \"mutable\", \"too\"])\n",
        "s2 = set([s1])     # TypeError: unhashable type: 'set'\n",
        "print(s)"
      ]
    },
    {
      "cell_type": "markdown",
      "metadata": {
        "id": "C3eY5yyj8YAU"
      },
      "source": [
        "## Sets are Very Efficient\n",
        "Sets are much more efficient than lists. It's possible to check whether an element appears in a set in constant time, while it takes more time to find an element in a list based on how large the list is. This is accomplished with an approach called hashing.\n",
        "\n",
        "A hash function takes a value as input and returns an integer. The function should return the same integer each time its called on a given value, and should generally return different integers for different values, though that does not always need to be the case. We actually don't need to build the hash function ourselves; python has one already, a built-in function called hash.\n",
        "\n",
        "The computer stores items in a set by creating a list of some length n, then choosing indexes in the list where each element in the set can be stored. These indexes are calculated as hash(element) % n. Then, when we need to check whether an item exists in a set, we don't need to check every possible index; we only need to check the one computed by our formula!\n",
        "\n",
        "A practical example of how sets are faster than lists is shown below:"
      ]
    },
    {
      "cell_type": "code",
      "execution_count": 2,
      "metadata": {
        "id": "_LIipMfg8afD"
      },
      "outputs": [
        {
          "name": "stdout",
          "output_type": "stream",
          "text": [
            "Using a list... count= 5000  and time = 0.1936 seconds\n",
            "Using a set.... count= 5000  and time = 0.0013 seconds\n",
            "With n=10000, sets ran about 143.5 times faster than lists!\n",
            "Try a larger n to see an even greater savings!\n"
          ]
        }
      ],
      "source": [
        "# 0. Preliminaries\n",
        "import time\n",
        "n = 10000\n",
        "\n",
        "# 1. Create a list [2,4,6,...,n] then check for membership\n",
        "# among [1,2,3,...,n] in that list.\n",
        "\n",
        "# don't count the list creation in the timing\n",
        "a = list(range(2,n+1,2))\n",
        "\n",
        "print(\"Using a list... \", end=\"\")\n",
        "start = time.time()\n",
        "count = 0\n",
        "for x in range(n+1):\n",
        "    if x in a:\n",
        "        count += 1\n",
        "end = time.time()\n",
        "elapsed1 = end - start\n",
        "print(\"count=\", count,\" and time = %0.4f seconds\" % elapsed1)\n",
        "\n",
        "# 2. Repeat, using a set\n",
        "print(\"Using a set.... \", end=\"\")\n",
        "start = time.time()\n",
        "s = set(a)\n",
        "count = 0\n",
        "for x in range(n+1):\n",
        "    if x in s:\n",
        "        count += 1\n",
        "end = time.time()\n",
        "elapsed2 = end - start\n",
        "print(\"count=\", count,\" and time = %0.4f seconds\" % elapsed2)\n",
        "print(\"With n=%d, sets ran about %0.1f times faster than lists!\" %\n",
        "      (n, elapsed1/elapsed2))\n",
        "print(\"Try a larger n to see an even greater savings!\")"
      ]
    },
    {
      "cell_type": "markdown",
      "metadata": {
        "id": "EZlRHGuo9HPQ"
      },
      "source": [
        "## Set Operations\n",
        "\n",
        "Set operations are provided via operators, functions, and methods in Python as follows:"
      ]
    },
    {
      "cell_type": "markdown",
      "metadata": {
        "id": "w9ni54hM9VMH"
      },
      "source": [
        "1. Operations on a set\n",
        "\n",
        "len(s): cardinality (size) of set s"
      ]
    },
    {
      "cell_type": "code",
      "execution_count": null,
      "metadata": {
        "id": "-QJnG3Xg9fY3"
      },
      "outputs": [],
      "source": [
        "s = { 2, 3, 2, 4, 3 }\n",
        "print(len(s)) # what will this print?"
      ]
    },
    {
      "cell_type": "markdown",
      "metadata": {
        "id": "AswDARZA9k7Q"
      },
      "source": [
        "s.copy(): new set with a shallow copy of s"
      ]
    },
    {
      "cell_type": "code",
      "execution_count": null,
      "metadata": {
        "id": "wcIUzsV89qGK"
      },
      "outputs": [],
      "source": [
        "s = { 1, 2, 3 }\n",
        "t = s.copy()\n",
        "s.add(4)\n",
        "print(s)\n",
        "print(t)"
      ]
    },
    {
      "cell_type": "markdown",
      "metadata": {
        "id": "MKWStzG19tpw"
      },
      "source": [
        "s.clear(): remove all elements from set s"
      ]
    },
    {
      "cell_type": "code",
      "execution_count": null,
      "metadata": {
        "id": "vUf1iLXQ9ypI"
      },
      "outputs": [],
      "source": [
        "s = { 1, 2, 3 }\n",
        "s.clear()\n",
        "print(s, len(s))"
      ]
    },
    {
      "cell_type": "markdown",
      "metadata": {
        "id": "XWoXRYPb-YK_"
      },
      "source": [
        "2. Operations on a set and an element\n"
      ]
    },
    {
      "cell_type": "markdown",
      "metadata": {
        "id": "sUXAFPgD-cGv"
      },
      "source": [
        "x in s: test x for membership in s"
      ]
    },
    {
      "cell_type": "code",
      "execution_count": null,
      "metadata": {
        "id": "5pQVokv--fgq"
      },
      "outputs": [],
      "source": [
        "s = { 1, 2, 3 }\n",
        "print(0 in s)\n",
        "print(1 in s)"
      ]
    },
    {
      "cell_type": "markdown",
      "metadata": {
        "id": "d9lJsFpm-smO"
      },
      "source": [
        "x not in s: test x for non-membership in s"
      ]
    },
    {
      "cell_type": "code",
      "execution_count": null,
      "metadata": {
        "id": "K2oc-v4b-wt-"
      },
      "outputs": [],
      "source": [
        "s = { 1, 2, 3 }\n",
        "print(0 not in s)\n",
        "print(1 not in s)"
      ]
    },
    {
      "cell_type": "markdown",
      "metadata": {
        "id": "4-ESA6tc-zU2"
      },
      "source": [
        "s.add(x): \tadd element x to set s"
      ]
    },
    {
      "cell_type": "code",
      "execution_count": null,
      "metadata": {
        "id": "NfIvORv8-2hX"
      },
      "outputs": [],
      "source": [
        "s = { 1, 2, 3 }\n",
        "print(s, 4 in s)\n",
        "s.add(4)\n",
        "print(s, 4 in s)"
      ]
    },
    {
      "cell_type": "markdown",
      "metadata": {
        "id": "GFIvAK4P-5l3"
      },
      "source": [
        "s.remove(x): remove x from set s; raises KeyError if not present"
      ]
    },
    {
      "cell_type": "code",
      "execution_count": null,
      "metadata": {
        "id": "u6byUb9Y-8xm"
      },
      "outputs": [],
      "source": [
        "s = { 1, 2, 3 }\n",
        "print(s, 3 in s)\n",
        "s.remove(3)\n",
        "print(s, 3 in s)\n",
        "s.remove(3) # crashes"
      ]
    },
    {
      "cell_type": "markdown",
      "metadata": {
        "id": "ABuT9J4X_AX1"
      },
      "source": [
        "s.discard(x): \tremoves x from set s if present"
      ]
    },
    {
      "cell_type": "code",
      "execution_count": null,
      "metadata": {
        "id": "rDfBSGHH_Dkn"
      },
      "outputs": [],
      "source": [
        "s = { 1, 2, 3 }\n",
        "print(s, 3 in s)\n",
        "s.discard(3)\n",
        "print(s, 3 in s)\n",
        "s.discard(3) # does not crash!\n",
        "print(s, 3 in s)"
      ]
    },
    {
      "cell_type": "markdown",
      "metadata": {
        "id": "OUtichhQ_JD_"
      },
      "source": [
        "3. Operations on two sets (or a set and an iterable)"
      ]
    },
    {
      "cell_type": "markdown",
      "metadata": {
        "id": "ljKnUGnw_L5l"
      },
      "source": [
        "s.issubset(t): s <= t\n",
        "\n",
        "test whether every element in s is in t"
      ]
    },
    {
      "cell_type": "code",
      "execution_count": null,
      "metadata": {
        "id": "Jaic45U1_VNM"
      },
      "outputs": [],
      "source": [
        "print({1,2} <= {1},     {1,2}.issubset({1}))\n",
        "print({1,2} <= {1,2},   {1,2}.issubset({1,2}))\n",
        "print({1,2} <= {1,2,3}, {1,2}.issubset({1,2,3}))"
      ]
    },
    {
      "cell_type": "markdown",
      "metadata": {
        "id": "NH-trgd3_au3"
      },
      "source": [
        "s.issuperset(t): s >= t\n",
        "\n",
        "test whether every element in t is in s"
      ]
    },
    {
      "cell_type": "code",
      "execution_count": null,
      "metadata": {
        "id": "v7pHH3LT_fq1"
      },
      "outputs": [],
      "source": [
        "print({1,2} >= {1},     {1,2}.issuperset({1}))\n",
        "print({1,2} >= {1,2},   {1,2}.issuperset({1,2}))\n",
        "print({1,2} >= {1,2,3}, {1,2}.issuperset({1,2,3}))"
      ]
    },
    {
      "cell_type": "markdown",
      "metadata": {
        "id": "D21Xm7Di_ia9"
      },
      "source": [
        "s.union(t): s | t\n",
        "\n",
        "new set with elements from both s and t"
      ]
    },
    {
      "cell_type": "code",
      "execution_count": null,
      "metadata": {
        "id": "naBRDrj-_nd2"
      },
      "outputs": [],
      "source": [
        "print({1,2} | {1},     {1,2}.union({1}))\n",
        "print({1,2} | {1,3},   {1,2}.union({1,3}))\n",
        "s = {1,2}\n",
        "t = s | {1,3}\n",
        "print(s, t)"
      ]
    },
    {
      "cell_type": "markdown",
      "metadata": {
        "id": "mkL4qp0R_qZW"
      },
      "source": [
        "s.intersection(t): s & t\n",
        "\n",
        "new set with elements common to s and t"
      ]
    },
    {
      "cell_type": "code",
      "execution_count": null,
      "metadata": {
        "id": "P5p29RLt_u_O"
      },
      "outputs": [],
      "source": [
        "print({1,2} & {1},     {1,2}.intersection({1}))\n",
        "print({1,2} & {1,3},   {1,2}.intersection({1,3}))\n",
        "s = {1,2}\n",
        "t = s & {1,3}\n",
        "print(s, t) # what will this print?"
      ]
    },
    {
      "cell_type": "markdown",
      "metadata": {
        "id": "2CS4Lo0U_x3t"
      },
      "source": [
        "s.difference(t): s - t\n",
        "\n",
        "new set with elements in s but not in t"
      ]
    },
    {
      "cell_type": "code",
      "execution_count": null,
      "metadata": {
        "id": "VXwwOfBe_32d"
      },
      "outputs": [],
      "source": [
        "print({1,2} - {1},     {1,2}.difference({1}))\n",
        "print({1,2} - {1,3},   {1,2}.difference({1,3}))\n",
        "s = {1,2}\n",
        "t = s - {1,3}\n",
        "print(s, t)"
      ]
    },
    {
      "cell_type": "markdown",
      "metadata": {
        "id": "5BDRcP-A_7gt"
      },
      "source": [
        "s.update(t): s |= t\n",
        "\n",
        "modify s adding all elements found in t"
      ]
    },
    {
      "cell_type": "code",
      "execution_count": null,
      "metadata": {
        "id": "WU4VceZiAAJm"
      },
      "outputs": [],
      "source": [
        "s = {1,2}\n",
        "t = {1,3}\n",
        "u = {2,3}\n",
        "s.update(u)\n",
        "t |= u\n",
        "print(s, t, u)"
      ]
    },
    {
      "cell_type": "markdown",
      "metadata": {
        "id": "U4XunJM2yf3K"
      },
      "source": [
        "## Some Worked Examples Using Sets"
      ]
    },
    {
      "cell_type": "code",
      "execution_count": null,
      "metadata": {
        "id": "DHwLeBLIyf3K"
      },
      "outputs": [],
      "source": [
        "## Example 1 Permutation\n",
        "\n",
        "def isPermutation(L):\n",
        "    # return True if L is a permutation of [0,...,n-1]\n",
        "    # and False otherwise\n",
        "    return (set(L) == set(range(len(L))))\n",
        "\n",
        "def testIsPermutation():\n",
        "    print(\"Testing isPermutation()...\", end=\"\")\n",
        "    assert(isPermutation([0,2,1,4,3]) == True)\n",
        "    assert(isPermutation([1,3,0,4,2]) == True)\n",
        "    assert(isPermutation([1,3,5,4,2]) == False)\n",
        "    assert(isPermutation([1,4,0,4,2]) == False)\n",
        "    print(\"Passed!\")\n",
        "\n",
        "testIsPermutation()"
      ]
    },
    {
      "cell_type": "code",
      "execution_count": null,
      "metadata": {
        "id": "h6HOvdkjyf3K"
      },
      "outputs": [],
      "source": [
        "## Example 2 repeats\n",
        "\n",
        "def repeats(L):\n",
        "    # return a sorted list of the repeat elements in the list L\n",
        "    seen = set()\n",
        "    seenAgain = set()\n",
        "    for element in L:\n",
        "        if (element in seen):\n",
        "            seenAgain.add(element)\n",
        "        seen.add(element)\n",
        "    # seenAgain = list(seenAgain)\n",
        "    return sorted(seenAgain)\n",
        "\n",
        "def testRepeats():\n",
        "    print(\"Testing repeats()...\", end=\"\")\n",
        "    assert(repeats([1,2,3,2,1]) == [1,2])\n",
        "    assert(repeats([1,2,3,2,2,4]) == [2])\n",
        "    assert(repeats(list(range(100))) == [ ])\n",
        "    assert(repeats(list(range(100))*5) == list(range(100)))\n",
        "    print(\"Passed!\")\n",
        "\n",
        "testRepeats()"
      ]
    }
  ],
  "metadata": {
    "colab": {
      "provenance": []
    },
    "kernelspec": {
      "display_name": "Python 3",
      "language": "python",
      "name": "python3"
    },
    "language_info": {
      "codemirror_mode": {
        "name": "ipython",
        "version": 3
      },
      "file_extension": ".py",
      "mimetype": "text/x-python",
      "name": "python",
      "nbconvert_exporter": "python",
      "pygments_lexer": "ipython3",
      "version": "3.11.4"
    }
  },
  "nbformat": 4,
  "nbformat_minor": 0
}
