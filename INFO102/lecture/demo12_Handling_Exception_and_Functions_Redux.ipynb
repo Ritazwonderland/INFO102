{
  "cells": [
    {
      "cell_type": "markdown",
      "metadata": {
        "id": "-tM3g45qaP31"
      },
      "source": [
        "# Handling Exceptions"
      ]
    },
    {
      "cell_type": "markdown",
      "metadata": {
        "id": "k1dNNtq8aVcr"
      },
      "source": [
        "## 1. Basic Exception Handling\n",
        "\n",
        "Sometimes we know that code might throw an error, and we want it to keep running anyway. We can do this by putting the possibly-breakable code into a try block. We follow this with an except block, which clarifies what should happen if an error does occur. This also keeps the code from crashing!"
      ]
    },
    {
      "cell_type": "code",
      "execution_count": null,
      "metadata": {
        "id": "SnfwqtBtakJb"
      },
      "outputs": [],
      "source": [
        "print(\"This is a demonstration of the basics of try/except.\")\n",
        "try:\n",
        "    print(\"Here we are just before the error!\")\n",
        "    print(\"1/0 equals:\", (1/0))\n",
        "    print(\"This line will never run!\")\n",
        "except:\n",
        "    print(\"*** We just caught an error. ***\")\n",
        "print(\"And that concludes our demonstration.\")"
      ]
    },
    {
      "cell_type": "markdown",
      "metadata": {
        "id": "OsobzRfSbjNU"
      },
      "source": [
        "## 2. Catching Specific Exceptions\n",
        "\n",
        "What if we only want to catch certain types of errors, or if we need to use the exception in some way? We can restrict the except statement to a specific Exception type, and we can store that exception value using as, then use it later."
      ]
    },
    {
      "cell_type": "code",
      "execution_count": null,
      "metadata": {
        "id": "-DPNJ0eKbpQK"
      },
      "outputs": [],
      "source": [
        "def divide():\n",
        "    try:\n",
        "        x = int(input(\"What's the numerator?\"))\n",
        "        y = int(input(\"What's the denominator?\"))\n",
        "        print(x / y)\n",
        "    except ValueError:\n",
        "        print(\"That's not a number!\")\n",
        "    except Exception as e:\n",
        "        print(\"Oh no, you broke something!\")\n",
        "        print(\"Error:\", type(e))\n",
        "\n",
        "# Input 4 and 2, and you get 2\n",
        "# Input 4 and foo, and you get a personalized error message\n",
        "# Input 8 and 0, and you get a general error message\n",
        "divide()"
      ]
    },
    {
      "cell_type": "markdown",
      "metadata": {
        "id": "K2qCLLVNb0me"
      },
      "source": [
        "## 3. Raising an Exception\n",
        "\n",
        "Sometimes, we want to throw a personalized Exception, usually if some kind of bad input is provided. We can do this using a raise statement."
      ]
    },
    {
      "cell_type": "code",
      "execution_count": null,
      "metadata": {
        "id": "cr5PnKOFb5iW"
      },
      "outputs": [],
      "source": [
        "def lastChar(s):\n",
        "    if (len(s) == 0):\n",
        "        # This is (a simple form of) how you raise your own custom exception:\n",
        "        raise Exception('String must be non-empty!')\n",
        "    else: return s[-1]\n",
        "\n",
        "print(lastChar('abc'))\n",
        "print(lastChar(''))\n",
        "print(\"This line will never run!\")"
      ]
    },
    {
      "cell_type": "markdown",
      "metadata": {
        "id": "79q5hf7db-wk"
      },
      "source": [
        "You DO:\n",
        "\n",
        "Write the function `safeFind(lst, index)` which takes a list and an index. If the index is a valid index return `lst[index]`; otherwise, return None. You must use try/except in your answer."
      ]
    },
    {
      "cell_type": "code",
      "execution_count": null,
      "metadata": {
        "id": "blaCyjM8cOKk"
      },
      "outputs": [],
      "source": [
        "def safeFind(lst, index):\n",
        "    pass\n",
        "\n",
        "def testSafeFind():\n",
        "    print(\"Testing safeFind()...\", end=\"\")\n",
        "    assert(safeFind([1, 2, 3], 2) == 3)\n",
        "    assert(safeFind([1, 2, 3], 5) == None)\n",
        "    assert(safeFind([ ], 0) == None)\n",
        "    print(\"Pass.\")\n",
        "\n",
        "testSafeFind()"
      ]
    },
    {
      "cell_type": "markdown",
      "metadata": {
        "id": "Wan2I46naa-9"
      },
      "source": [
        "# Variadic Functions "
      ]
    },
    {
      "cell_type": "markdown",
      "metadata": {
        "id": "ZtK6GVcsURuf"
      },
      "source": [
        "## 1. Variable length args (*args)"
      ]
    },
    {
      "cell_type": "code",
      "execution_count": null,
      "metadata": {
        "id": "7-BA21W8URui"
      },
      "outputs": [],
      "source": [
        "def longestWord(*args):\n",
        "#     print(args) # a tuple\n",
        "    if (len(args) == 0): \n",
        "        return None\n",
        "    result = args[0]\n",
        "    for word in args:\n",
        "        if (len(word) > len(result)):\n",
        "            result = word\n",
        "    return result\n",
        "\n",
        "print(longestWord(\"this\", \"is\", \"really\", \"nice\", \"aa\", \"abc\")) # really\n",
        "\n",
        "mywords = [\"this\", \"is\", \"really\", \"nice\"]\n",
        "\n",
        "# print(longestWord(mywords))  # ['this', 'is', 'really', 'nice']\n",
        "print(longestWord(*mywords)) # really"
      ]
    },
    {
      "cell_type": "markdown",
      "metadata": {
        "id": "fkEXOGiDURuk"
      },
      "source": [
        "## 2. Default args"
      ]
    },
    {
      "cell_type": "markdown",
      "metadata": {
        "id": "QgrvrzkpURuk"
      },
      "source": [
        "* 2.1 Default args example"
      ]
    },
    {
      "cell_type": "code",
      "execution_count": null,
      "metadata": {
        "id": "M0xkLJASURul"
      },
      "outputs": [],
      "source": [
        "def f(x, y=10): \n",
        "    return (x,y)\n",
        "\n",
        "print(f(5))   # (5, 10)\n",
        "print(f(5,6)) # (5, 6)"
      ]
    },
    {
      "cell_type": "markdown",
      "metadata": {
        "id": "fkRVC3cUURul"
      },
      "source": [
        "* 2.2 Do not use mutable default args"
      ]
    },
    {
      "cell_type": "code",
      "execution_count": 1,
      "metadata": {
        "id": "c05nfvAHURul"
      },
      "outputs": [
        {
          "name": "stdout",
          "output_type": "stream",
          "text": [
            "[1]\n",
            "[1, 2]\n"
          ]
        }
      ],
      "source": [
        "def f(x, L=[ ]):\n",
        "    L.append(x)\n",
        "    return L\n",
        "\n",
        "print(f(1))\n",
        "print(f(2)) # why is this [1, 2]?"
      ]
    },
    {
      "cell_type": "markdown",
      "metadata": {
        "id": "ZApmz3s0URum"
      },
      "source": [
        "* 2.3 One workaround for mutable default args"
      ]
    },
    {
      "cell_type": "code",
      "execution_count": null,
      "metadata": {
        "id": "Ng6h1xFiURum"
      },
      "outputs": [],
      "source": [
        "def f(x, L=None):\n",
        "    if (L == None):\n",
        "        L = [ ]\n",
        "    L.append(x)\n",
        "    return L\n",
        "\n",
        "print(f(1))\n",
        "print(f(2)) # [2] (that's better)"
      ]
    },
    {
      "cell_type": "markdown",
      "metadata": {
        "id": "COxqU6ueURum"
      },
      "source": [
        "## 3. Functions as parameters"
      ]
    },
    {
      "cell_type": "code",
      "execution_count": null,
      "metadata": {
        "id": "ejHgrCUGURun"
      },
      "outputs": [],
      "source": [
        "def derivative(f, x):\n",
        "    h = 10**-8\n",
        "    return (f(x+h) - f(x))/h\n",
        "\n",
        "def f(x): \n",
        "    return 4*x + 3\n",
        "\n",
        "print(derivative(f, 3)) # about 4\n",
        "\n",
        "def g(x): \n",
        "    return 4*x**2 + 3\n",
        "\n",
        "print(derivative(g, 2)) # about 16 (8*x at x==2)"
      ]
    },
    {
      "cell_type": "markdown",
      "metadata": {
        "id": "XtV-QFqHURun"
      },
      "source": [
        "## 4. Lambda functions"
      ]
    },
    {
      "cell_type": "code",
      "execution_count": null,
      "metadata": {
        "id": "-VT0ZJL7URun"
      },
      "outputs": [],
      "source": [
        "print(derivative(lambda x:3*x**5 + 2, 2)) # about 240, 15*x**4 at x==2\n",
        "\n",
        "myF = lambda x: 10*x + 42\n",
        "print(myF(5)) # 92\n",
        "print(derivative(myF, 5)) # about 10"
      ]
    },
    {
      "cell_type": "markdown",
      "metadata": {
        "id": "K7c5O2k1URuo"
      },
      "source": [
        "## 5. Keyword args (**kwargs)"
      ]
    },
    {
      "cell_type": "code",
      "execution_count": null,
      "metadata": {
        "id": "wThODwuaURuo"
      },
      "outputs": [],
      "source": [
        "def f(x=1, y=2): return (x,y)\n",
        "print(f()) # (1, 2)\n",
        "print(f(3)) # (3, 2)\n",
        "print(f(y=3)) # (1, 3) [here is where we use a keyword arg]\n",
        "\n",
        "def f(x, **kwargs): return (x, kwargs)\n",
        "print(f(1)) # (1, { })\n",
        "print(f(2, y=3, z=4)) # (2, {'z': 4, 'y': 3})"
      ]
    },
    {
      "cell_type": "markdown",
      "metadata": {
        "id": "_2rM9ifhURuo"
      },
      "source": [
        "## 6. Functions inside functions"
      ]
    },
    {
      "cell_type": "code",
      "execution_count": null,
      "metadata": {
        "id": "OSYBUdnWURuo"
      },
      "outputs": [],
      "source": [
        "def f(L):\n",
        "    def squared(x): return x**2\n",
        "    return [squared(x) for x in L]\n",
        "print(f(range(5)))\n",
        "# print(squared(5))? not defined in main function! only accessable in f().\n",
        "# try:\n",
        "#     print(squared(5))\n",
        "# except:\n",
        "#     print(\"squared is not defined outside f\")"
      ]
    },
    {
      "cell_type": "markdown",
      "metadata": {
        "id": "3aKXlxf_URup"
      },
      "source": [
        "## 7. Closures + Non-local variables"
      ]
    },
    {
      "cell_type": "code",
      "execution_count": 2,
      "metadata": {
        "id": "OYcOLj_aURup"
      },
      "outputs": [
        {
          "name": "stdout",
          "output_type": "stream",
          "text": [
            "{0: 0, 1: 1, 2: 4, 3: 9, 4: 16}\n"
          ]
        }
      ],
      "source": [
        "def f(L):\n",
        "    myMap = dict()\n",
        "    def squared(x):\n",
        "        result = x**2\n",
        "        myMap[x] = result\n",
        "        return result\n",
        "    squaredList = [squared(x) for x in L]\n",
        "    return myMap\n",
        "print(f(range(5)))"
      ]
    },
    {
      "cell_type": "markdown",
      "metadata": {
        "id": "L4XqAU17URup"
      },
      "source": [
        "## 8. Non-local variables fail on setting (use nonlocal) "
      ]
    },
    {
      "cell_type": "code",
      "execution_count": null,
      "metadata": {
        "id": "vphZxil1URup"
      },
      "outputs": [],
      "source": [
        "def brokenF(L):\n",
        "    lastX = 0\n",
        "    def squared(x):\n",
        "        result = x**2\n",
        "        lastX = x\n",
        "        return result\n",
        "    squaredList = [squared(x) for x in L]\n",
        "    return lastX\n",
        "print(brokenF(range(5)))\n",
        "\n",
        "# def fixedF(L):\n",
        "#     lastX = 0\n",
        "#     def squared(x):\n",
        "#         nonlocal lastX\n",
        "#         result = x**2\n",
        "#         lastX = x\n",
        "#         return result\n",
        "#     squaredList = [squared(x) for x in L]\n",
        "#     return lastX\n",
        "# print(fixedF(range(5)))"
      ]
    },
    {
      "cell_type": "markdown",
      "metadata": {
        "id": "CGNNvr_4URuq"
      },
      "source": [
        "## 9. Functions that return functions"
      ]
    },
    {
      "cell_type": "code",
      "execution_count": 3,
      "metadata": {
        "id": "rqUyCd7VURuq"
      },
      "outputs": [
        {
          "name": "stdout",
          "output_type": "stream",
          "text": [
            "145\n",
            "135.0004500011437\n",
            "90.00046929941162\n"
          ]
        }
      ],
      "source": [
        "def derivativeFn(f):\n",
        "    def g(x):\n",
        "        h = 10**-5\n",
        "        return (f(x+h) - f(x))/h\n",
        "    return g # returns a function\n",
        "\n",
        "def f(x): return 5*x**3 + 10\n",
        "fprime1 = derivativeFn(f) # thus fprime1 is a function returned by derivativeFn\n",
        "fprime2 = derivativeFn(fprime1) # same\n",
        "print(f(3))    # 145, 5*x**3 + 10 evaluated at x == 3\n",
        "print(fprime1(3)) # about 135, 15*x**2 evaluated at x == 3\n",
        "print(fprime2(3)) # about 90, 30*x evaluated at x == 3"
      ]
    },
    {
      "cell_type": "markdown",
      "metadata": {
        "id": "DdCWvS_KURuq"
      },
      "source": [
        "## 10. Function decorators"
      ]
    },
    {
      "cell_type": "code",
      "execution_count": null,
      "metadata": {
        "id": "Qddx0ixLURuq"
      },
      "outputs": [],
      "source": [
        "@derivativeFn\n",
        "def h(x): return 5*x**3 + 10 \n",
        "# function h(x) as a parameter given to derivativeFn, \n",
        "# and gets another function in return.\n",
        "# short way of saying that h(x) = derivativeFn(h)\n",
        "\n",
        "print(h(3)) # 135, matches fprime1 from above."
      ]
    },
    {
      "cell_type": "markdown",
      "metadata": {
        "id": "AqmwUvBwa8DY"
      },
      "source": [
        "You DO:\n",
        "\n",
        "Write the function `sumOddsAndEvens(*args)` which takes a variable number of integers and returns a two-element tuple containing the sum of all odd numbers and the sum of all even numbers."
      ]
    },
    {
      "cell_type": "code",
      "execution_count": null,
      "metadata": {
        "id": "UFZGJ7q5a9dl"
      },
      "outputs": [],
      "source": [
        "def sumOddsAndEvens(*args):\n",
        "    pass\n",
        "\n",
        "def testSumOddsAndEvens():\n",
        "    print(\"Testing sumOddsAndEvens()...\", end=\"\")\n",
        "    assert(sumOddsAndEvens(1, 2, 3, 4, 5, 6, 7) == (16, 12))\n",
        "    assert(sumOddsAndEvens(15, 1, 12) == (16, 12))\n",
        "    assert(sumOddsAndEvens() == (0, 0))\n",
        "    print(\"Pass.\")\n",
        "\n",
        "testSumOddsAndEvens()"
      ]
    },
    {
      "cell_type": "code",
      "execution_count": 1,
      "metadata": {},
      "outputs": [
        {
          "name": "stdout",
          "output_type": "stream",
          "text": [
            "172\n"
          ]
        }
      ],
      "source": [
        "def findStrCombination(l):\n",
        "    if '12' in l or '20' in l:\n",
        "        return False\n",
        "    return True\n",
        "\n",
        "def permutation(initial_str='0123'):\n",
        "    result=[]\n",
        "    for i in initial_str:\n",
        "        for j in initial_str:\n",
        "            for k in initial_str:\n",
        "                for m in initial_str:\n",
        "                    result.append(i+j+k+m)\n",
        "    return result\n",
        "\n",
        "count=0\n",
        "for i in permutation():\n",
        "    if findStrCombination(i):\n",
        "        count+=1\n",
        "\n",
        "print(count)"
      ]
    }
  ],
  "metadata": {
    "colab": {
      "provenance": []
    },
    "kernelspec": {
      "display_name": "Python 3 (ipykernel)",
      "language": "python",
      "name": "python3"
    },
    "language_info": {
      "codemirror_mode": {
        "name": "ipython",
        "version": 3
      },
      "file_extension": ".py",
      "mimetype": "text/x-python",
      "name": "python",
      "nbconvert_exporter": "python",
      "pygments_lexer": "ipython3",
      "version": "3.11.4"
    }
  },
  "nbformat": 4,
  "nbformat_minor": 0
}
