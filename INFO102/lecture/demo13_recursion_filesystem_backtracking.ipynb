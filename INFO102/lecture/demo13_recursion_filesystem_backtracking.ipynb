{
  "nbformat": 4,
  "nbformat_minor": 0,
  "metadata": {
    "colab": {
      "provenance": []
    },
    "kernelspec": {
      "name": "python3",
      "display_name": "Python 3"
    },
    "language_info": {
      "name": "python"
    }
  },
  "cells": [
    {
      "cell_type": "markdown",
      "source": [
        "## File System Navigation\n",
        "\n",
        "Folders can contain folders or files. Since folders can contain other folders, they are a recursive data structure. In fact, they are a kind of recursive structure called a tree (where each value has exactly one parent, and there is a topmost or \"root\" value). Traversing such a recursive data structure is a natural use of a recursive algorithm!\n"
      ],
      "metadata": {
        "id": "95QR8tpCptm6"
      }
    },
    {
      "cell_type": "code",
      "execution_count": null,
      "metadata": {
        "id": "6UhNrhpQph2c"
      },
      "outputs": [],
      "source": [
        "import os\n",
        "def printFiles(path):\n",
        "    # Base Case: a file. Just print the path name.\n",
        "    if os.path.isfile(path):\n",
        "        print(path)\n",
        "    else:\n",
        "        # Recursive Case: a folder. Iterate through its files and folders.\n",
        "        for filename in os.listdir(path):\n",
        "            printFiles(path + '/' + filename)\n",
        "\n",
        "printFiles('sample_data')\n",
        "\n",
        "# Note: if you see .DS_Store files in the sampleFiles folders, or in the\n",
        "# output of your function (as often happens with Macs, in particular),\n",
        "# don't worry: this is just a metadata file and can be safely ignored."
      ]
    },
    {
      "cell_type": "markdown",
      "source": [
        "listFiles"
      ],
      "metadata": {
        "id": "OMgzeXlhtY4e"
      }
    },
    {
      "cell_type": "code",
      "source": [
        "import os\n",
        "def listFiles(path):\n",
        "    if os.path.isfile(path):\n",
        "        # Base Case: return a list of just this file\n",
        "        return [path]\n",
        "    else:\n",
        "        # Recursive Case: create a list of all the recursive results from\n",
        "        # all the folders and files in this folder\n",
        "        files = [ ]\n",
        "        for filename in os.listdir(path):\n",
        "            files += listFiles(path + '/' + filename)\n",
        "        return files\n",
        "\n",
        "print(listFiles('sample_data'))"
      ],
      "metadata": {
        "id": "fBE6f4umtayO"
      },
      "execution_count": null,
      "outputs": []
    },
    {
      "cell_type": "markdown",
      "source": [
        "removeTempFiles  \n",
        "\n",
        "Note: Be careful when using os.remove(): it's permanent and cannot be undone!\n",
        "\n",
        "That said, this can be handy, say to remove .DS_Store files on Macs, and can be modified to remove other kinds of files, too. Just be careful."
      ],
      "metadata": {
        "id": "TNTQgV_dyCQY"
      }
    },
    {
      "cell_type": "code",
      "source": [
        "import os\n",
        "def removeTempFiles(path, suffix='.DS_Store'):\n",
        "    if path.endswith(suffix):\n",
        "        print(f'Removing file: {path}')\n",
        "        os.remove(path)\n",
        "    elif os.path.isdir(path):\n",
        "        for filename in os.listdir(path):\n",
        "            removeTempFiles(path + '/' + filename, suffix)\n",
        "\n",
        "removeTempFiles('sample_data') # be careful"
      ],
      "metadata": {
        "id": "wrU5nkGyx-6Y"
      },
      "execution_count": null,
      "outputs": []
    },
    {
      "cell_type": "markdown",
      "source": [
        "## Backtracking\n",
        "\n",
        "Backtracking in programming is a systematic method for iterating through all possible configurations of a search space. It is commonly used in situations where the goal is to find a solution to a computational problem that satisfies a certain set of constraints. The essence of backtracking lies in its approach: explore options, backtrack upon reaching a dead end, and then explore other options. This method is particularly effective for solving problems related to puzzles, games, and optimization, where a brute-force search is impractical due to the vast number of possibilities."
      ],
      "metadata": {
        "id": "6Aa4ArtCy015"
      }
    },
    {
      "cell_type": "markdown",
      "source": [
        "### Example 1 Maze Solving"
      ],
      "metadata": {
        "id": "xusXyuXbfdmt"
      }
    },
    {
      "cell_type": "code",
      "source": [
        "def is_valid_move(maze, x, y):\n",
        "    return 0 <= x < len(maze) and 0 <= y < len(maze[0]) and maze[x][y] == 1\n",
        "\n",
        "def solve(maze, x, y):\n",
        "    if not is_valid_move(maze, x, y):\n",
        "        return False\n",
        "\n",
        "    if (x, y) == (len(maze) - 1, len(maze[0]) - 1):\n",
        "        return True  # Exit is reached\n",
        "\n",
        "    maze[x][y] = 2  # Mark as part of the solution path\n",
        "\n",
        "    # Move in all directions: down, right, up, left (DFS)\n",
        "    if solve(maze, x + 1, y) or solve(maze, x, y + 1) or \\\n",
        "    solve(maze, x - 1, y) or solve(maze, x, y - 1):\n",
        "        return True\n",
        "\n",
        "    maze[x][y] = 3  # Dead end, mark as visited and wrong path\n",
        "    return False\n",
        "\n",
        "def solve_maze(maze):\n",
        "    if not maze or not maze[0]:\n",
        "        return False  # No maze or empty maze\n",
        "\n",
        "    return solve(maze, 0, 0)"
      ],
      "metadata": {
        "id": "29PzQlWTm0Al"
      },
      "execution_count": null,
      "outputs": []
    },
    {
      "cell_type": "markdown",
      "source": [
        "Or use nested functions"
      ],
      "metadata": {
        "id": "WDGtj84LxZmC"
      }
    },
    {
      "cell_type": "code",
      "source": [
        "def solve_maze(maze):\n",
        "    def is_valid_move(x, y):\n",
        "        return 0 <= x < len(maze) and 0 <= y < len(maze[0]) and maze[x][y] == 1\n",
        "\n",
        "    def solve(x, y):\n",
        "        if not is_valid_move(x, y):\n",
        "            return False\n",
        "\n",
        "        if (x, y) == (len(maze) - 1, len(maze[0]) - 1):\n",
        "            return True  # Exit is reached\n",
        "\n",
        "        maze[x][y] = 2  # Mark as part of the solution path\n",
        "\n",
        "        # Move in all directions: down, right, up, left (DFS)\n",
        "        if solve(x + 1, y) or solve(x, y + 1) or solve(x - 1, y) or solve(x, y - 1):\n",
        "            return True\n",
        "\n",
        "        maze[x][y] = 3  # Dead end, mark as visited and wrong path\n",
        "        return False\n",
        "\n",
        "    if not maze or not maze[0]:\n",
        "        return False  # No maze or empty maze\n",
        "\n",
        "    return solve(0, 0)\n",
        "\n"
      ],
      "metadata": {
        "id": "jyUSQ76OzANg"
      },
      "execution_count": null,
      "outputs": []
    },
    {
      "cell_type": "code",
      "source": [
        "# Example maze: 1's are paths, 0's are walls\n",
        "maze = [\n",
        "    [1, 0, 0, 0],\n",
        "    [1, 1, 0, 1],\n",
        "    [0, 1, 0, 0],\n",
        "    [1, 1, 1, 1]\n",
        "]\n",
        "\n",
        "\n",
        "maze = [\n",
        "    [1, 0, 0, 0, 0, 0, 0, 0, 0, 0, 0, 0, 0],\n",
        "    [1, 1, 1, 1, 1, 1, 1, 1, 1, 1, 1, 0, 0],\n",
        "    [0, 1, 0, 0, 0, 1, 0, 0, 0, 0, 1, 1, 1],\n",
        "    [0, 1, 1, 1, 0, 1, 1, 1, 1, 0, 1, 0, 0],\n",
        "    [0, 0, 0, 1, 0, 0, 0, 1, 1, 1, 1, 1, 0],\n",
        "    [1, 1, 1, 1, 1, 1, 1, 1, 0, 0, 0, 1, 0],\n",
        "    [0, 0, 0, 0, 0, 1, 0, 1, 0, 1, 1, 1, 0],\n",
        "    [0, 1, 1, 1, 1, 1, 1, 1, 0, 1, 0, 0, 0],\n",
        "    [0, 1, 0, 0, 0, 1, 0, 0, 0, 1, 1, 1, 1],\n",
        "    [0, 1, 1, 1, 1, 1, 1, 1, 1, 1, 0, 0, 1],\n",
        "    [0, 0, 0, 1, 0, 0, 0, 0, 0, 1, 1, 1, 1],\n",
        "    [0, 1, 1, 1, 1, 1, 1, 1, 1, 1, 0, 0, 1],\n",
        "    [0, 0, 0, 0, 0, 0, 0, 0, 0, 0, 0, 0, 1]\n",
        "]\n",
        "\n",
        "\n",
        "if solve_maze(maze):\n",
        "    print(\"The maze was successfully solved!\")\n",
        "    for row in maze:\n",
        "        print(row)\n",
        "else:\n",
        "    print(\"There is no solution to the maze.\")"
      ],
      "metadata": {
        "id": "nmvkaIPym7Sr"
      },
      "execution_count": null,
      "outputs": []
    },
    {
      "cell_type": "markdown",
      "source": [
        "Another example:\n",
        "\n",
        "nQueens"
      ],
      "metadata": {
        "id": "N-iHrbgaxh4L"
      }
    },
    {
      "cell_type": "code",
      "source": [
        "def nQueens(n):\n",
        "    queenRow = [-1] * n\n",
        "    return nQueensSolver(0, queenRow)\n",
        "\n",
        "def nQueensIsLegal(row, col, queenRow):\n",
        "    # a position is legal if it's on the board (which we can assume\n",
        "    # by way of our algorithm) and no prior queen (in a column < col)\n",
        "    # attacks this position\n",
        "    for qcol in range(col):\n",
        "        qrow = queenRow[qcol]\n",
        "        if ((qrow == row) or\n",
        "            (qcol == col) or\n",
        "            (qrow+qcol == row+col) or\n",
        "            (qrow-qcol == row-col)):\n",
        "            return False\n",
        "    return True\n",
        "\n",
        "def nQueensFormatSolution(queenRow):\n",
        "    # If we have found a solution, format it as a 2D list\n",
        "    solution = [([\"- \"] * n) for row in range(n)]\n",
        "    for col in range(n):\n",
        "        row = queenRow[col]\n",
        "        solution[row][col] = \"Q \"\n",
        "    return \"\\n\".join([\"\".join(row) for row in solution])\n",
        "\n",
        "def nQueensSolver(col, queenRow):\n",
        "    # Recursive backtracker for nQueens that tries to insert a queen into column\n",
        "    # col, where queenRow keeps track of the row # of the queen in each column\n",
        "    if (col == n):\n",
        "        return nQueensFormatSolution(queenRow)\n",
        "    else:\n",
        "        # try to place the queen in each row in turn in this col,\n",
        "        # and then recursively solve the rest of the columns\n",
        "        for row in range(n):\n",
        "            if nQueensIsLegal(row, col, queenRow):\n",
        "                queenRow[col] = row # place the queen and hope it works\n",
        "                solution = nQueensSolver(col+1, queenRow)\n",
        "                if (solution != None):\n",
        "                    # ta da! it did work\n",
        "                    return solution\n",
        "                queenRow[col] = -1 # pick up the wrongly-placed queen\n",
        "        # shoot, can't place the queen anywhere\n",
        "        return None\n",
        "\n",
        "for n in range(1,10):\n",
        "    print(\"n =\", n)\n",
        "    print(nQueens(n))\n",
        "    print(\"******************************\")"
      ],
      "metadata": {
        "id": "TSTeO9mUzYsn"
      },
      "execution_count": null,
      "outputs": []
    },
    {
      "cell_type": "markdown",
      "source": [
        "## Memoization (Optional)\n",
        "\n",
        "Memoization is a general technique to make certain recursive applications more efficient. The Big idea: when a program does a lot of repetitive computation, store results as they are computed, then look up and reuse results when available."
      ],
      "metadata": {
        "id": "1speUEvAzgqm"
      }
    },
    {
      "cell_type": "markdown",
      "source": [
        "1. The problem"
      ],
      "metadata": {
        "id": "rqsOuWLozoUe"
      }
    },
    {
      "cell_type": "code",
      "source": [
        "def fib(n):\n",
        "    if (n < 2):\n",
        "        return 1\n",
        "    else:\n",
        "        return fib(n-1) + fib(n-2)\n",
        "\n",
        "import time\n",
        "def testFib(maxN=40):\n",
        "    for n in range(maxN+1):\n",
        "        start = time.time()\n",
        "        fibOfN = fib(n)\n",
        "        ms = 1000*(time.time() - start)\n",
        "        print(f'fib({n:2}) = {fibOfN:8}, time = {ms:5.2f}ms')\n",
        "\n",
        "testFib() # gets really slow!"
      ],
      "metadata": {
        "id": "bnfXL3G5zphn"
      },
      "execution_count": null,
      "outputs": []
    },
    {
      "cell_type": "markdown",
      "source": [
        "2. A solution:"
      ],
      "metadata": {
        "id": "qTqxKCqVz0Bl"
      }
    },
    {
      "cell_type": "code",
      "source": [
        "fibResults = dict()\n",
        "\n",
        "def fib(n):\n",
        "    if (n in fibResults):\n",
        "        return fibResults[n]\n",
        "    if (n < 2):\n",
        "        result = 1\n",
        "    else:\n",
        "        result = fib(n-1) + fib(n-2)\n",
        "    fibResults[n] = result\n",
        "    return result\n",
        "\n",
        "import time\n",
        "def testFib(maxN=40):\n",
        "    for n in range(maxN+1):\n",
        "        start = time.time()\n",
        "        fibOfN = fib(n)\n",
        "        ms = 1000*(time.time() - start)\n",
        "        print(f'fib({n:2}) = {fibOfN:8}, time = {ms:5.2f}ms')\n",
        "\n",
        "testFib() # ahhh, much better!"
      ],
      "metadata": {
        "id": "EjxKO5kfz3E3"
      },
      "execution_count": null,
      "outputs": []
    },
    {
      "cell_type": "markdown",
      "source": [
        "3. A more elegant solution:"
      ],
      "metadata": {
        "id": "ywSOfmTD1unm"
      }
    },
    {
      "cell_type": "code",
      "source": [
        "def memoized(f):\n",
        "    # You are not responsible for how this decorator works. You can just use it!\n",
        "    import functools\n",
        "    cachedResults = dict()\n",
        "    @functools.wraps(f)\n",
        "    def wrapper(*args):\n",
        "        if args not in cachedResults:\n",
        "            cachedResults[args] = f(*args)\n",
        "        return cachedResults[args]\n",
        "    return wrapper\n",
        "\n",
        "@memoized\n",
        "def fib(n):\n",
        "    if (n < 2):\n",
        "        return 1\n",
        "    else:\n",
        "        return fib(n-1) + fib(n-2)\n",
        "\n",
        "import time\n",
        "def testFib(maxN=40):\n",
        "    for n in range(maxN+1):\n",
        "        start = time.time()\n",
        "        fibOfN = fib(n)\n",
        "        ms = 1000*(time.time() - start)\n",
        "        print(f'fib({n:2}) = {fibOfN:8}, time = {ms:5.2f}ms')\n",
        "\n",
        "testFib() # ahhh, much better!"
      ],
      "metadata": {
        "id": "qFZC8QDQ1xyu"
      },
      "execution_count": null,
      "outputs": []
    }
  ]
}