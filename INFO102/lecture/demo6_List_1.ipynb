{
  "cells": [
    {
      "cell_type": "markdown",
      "metadata": {
        "id": "zrVBPmB-6hwp"
      },
      "source": [
        "## 1. Creating Lists"
      ]
    },
    {
      "cell_type": "markdown",
      "metadata": {
        "id": "zqx-ZaX86lMO"
      },
      "source": [
        "Empty List"
      ]
    },
    {
      "cell_type": "code",
      "execution_count": 9,
      "metadata": {
        "colab": {
          "base_uri": "https://localhost:8080/"
        },
        "id": "VT5QDDro6dXZ",
        "outputId": "a10bb72f-7af3-4340-b854-c6d0f997f9d8"
      },
      "outputs": [
        {
          "name": "stdout",
          "output_type": "stream",
          "text": [
            "Two standard ways to create an empty list:\n",
            "<class 'list'> 0 []\n",
            "<class 'list'> 0 []\n",
            "True\n",
            "<class 'str'>\n"
          ]
        }
      ],
      "source": [
        "print(\"Two standard ways to create an empty list:\")\n",
        "a = [ ]\n",
        "b = list()\n",
        "\n",
        "print(type(a), len(a), a)\n",
        "print(type(b), len(b), b)\n",
        "print(a == b)\n",
        "\n",
        "#print(type('2345'[2]))\n",
        "\n",
        "\n",
        "\n",
        "# here i am changing alfj;aefil [jqewifq[oyrphrlgh;ahrg]]"
      ]
    },
    {
      "cell_type": "markdown",
      "metadata": {
        "id": "9ab6W5fg6yd0"
      },
      "source": [
        "List with One Element (Singleton)"
      ]
    },
    {
      "cell_type": "code",
      "execution_count": null,
      "metadata": {
        "colab": {
          "base_uri": "https://localhost:8080/"
        },
        "id": "QKi4sOQZ60Pg",
        "outputId": "019a65d6-03a4-4b39-dab3-436b73c65ae4"
      },
      "outputs": [
        {
          "name": "stdout",
          "output_type": "stream",
          "text": [
            "<class 'list'> 1 ['hello']\n",
            "<class 'list'> 1 [42]\n",
            "False\n"
          ]
        }
      ],
      "source": [
        "a = [ \"hello\" ]\n",
        "b = [ 42 ]\n",
        "\n",
        "print(type(a), len(a), a)\n",
        "print(type(b), len(b), b)\n",
        "print(a == b)"
      ]
    },
    {
      "cell_type": "markdown",
      "metadata": {
        "id": "rqZjD8fv633W"
      },
      "source": [
        "List with Multiple Elements"
      ]
    },
    {
      "cell_type": "code",
      "execution_count": null,
      "metadata": {
        "colab": {
          "base_uri": "https://localhost:8080/"
        },
        "id": "hOxCpJtp6514",
        "outputId": "4c79e692-b568-4b97-9ad2-cbaa5ed253f0"
      },
      "outputs": [
        {
          "name": "stdout",
          "output_type": "stream",
          "text": [
            "<class 'list'> 4 [2, 3, 5, 7]\n",
            "<class 'list'> 5 [0, 1, 2, 3, 4]\n",
            "<class 'list'> 3 ['mixed types', True, 42]\n"
          ]
        }
      ],
      "source": [
        "a = [2, 3, 5, 7]\n",
        "b = list(range(5))\n",
        "c = [\"mixed types\", True, 42]\n",
        "\n",
        "print(type(a), len(a), a)\n",
        "print(type(b), len(b), b)\n",
        "print(type(c), len(c), c)"
      ]
    },
    {
      "cell_type": "markdown",
      "metadata": {
        "id": "woXei82V7BJI"
      },
      "source": [
        "Variable-Length List"
      ]
    },
    {
      "cell_type": "code",
      "execution_count": null,
      "metadata": {
        "colab": {
          "base_uri": "https://localhost:8080/"
        },
        "id": "vYLJ0ps97DDO",
        "outputId": "00139a6a-8e4b-4a44-f1f9-9068d1d58382"
      },
      "outputs": [
        {
          "name": "stdout",
          "output_type": "stream",
          "text": [
            "<class 'list'> 10 [0, 0, 0, 0, 0, 0, 0, 0, 0, 0]\n",
            "<class 'list'> 10 [0, 1, 2, 3, 4, 5, 6, 7, 8, 9]\n"
          ]
        }
      ],
      "source": [
        "n = 10\n",
        "a = [0] * n # creates a list with n 0s\n",
        "b = list(range(n))\n",
        "\n",
        "print(type(a), len(a), a)\n",
        "print(type(b), len(b), b)"
      ]
    },
    {
      "cell_type": "markdown",
      "metadata": {
        "id": "7d1WHmtT_Mia"
      },
      "source": [
        "## 2. List Functions and Operations"
      ]
    },
    {
      "cell_type": "code",
      "execution_count": null,
      "metadata": {
        "colab": {
          "base_uri": "https://localhost:8080/"
        },
        "id": "SGFfmmWs_PHB",
        "outputId": "dd01f104-1ce5-4931-f011-a15912543f34"
      },
      "outputs": [
        {
          "name": "stdout",
          "output_type": "stream",
          "text": [
            "a =  [2, 3, 5, 2]\n",
            "len = 4\n",
            "min = 2\n",
            "max = 5\n",
            "sum = 12\n",
            "a = [2, 3, 5, 3, 7]\n",
            "b = [2, 3, 5, 3, 7]\n",
            "c = [2, 3, -5, 3, 8]\n",
            "d = [2, 3, 5]\n",
            "------------------\n",
            "a == b True\n",
            "a == c False\n",
            "a != b False\n",
            "a != c True\n",
            "------------------\n",
            "a < c False\n"
          ]
        }
      ],
      "source": [
        "a = [ 2, 3, 5, 2 ]\n",
        "print(\"a = \", a)\n",
        "print(\"len =\", len(a))\n",
        "print(\"min =\", min(a))\n",
        "print(\"max =\", max(a))\n",
        "print(\"sum =\", sum(a))\n",
        "\n",
        "# Create some lists\n",
        "a = [ 2, 3, 5, 3, 7 ]\n",
        "b = [ 2, 3, 5, 3, 7 ]   # same as a\n",
        "c = [ 2, 3, -5, 3, 8 ]   # differs in last element\n",
        "d = [ 2, 3, 5 ]         # prefix of a\n",
        "\n",
        "print(\"a =\", a)\n",
        "print(\"b =\", b)\n",
        "print(\"c =\", c)\n",
        "print(\"d =\", d)\n",
        "\n",
        "print(\"------------------\")\n",
        "print(\"a == b\", (a == b))\n",
        "print(\"a == c\", (a == c))\n",
        "print(\"a != b\", (a != b))\n",
        "print(\"a != c\", (a != c))\n",
        "\n",
        "print(\"------------------\")\n",
        "print(\"a < c\", (a < c))\n",
        "# print(\"a < d\", (a < d))"
      ]
    },
    {
      "cell_type": "markdown",
      "metadata": {
        "id": "7BLr1eHh_TTs"
      },
      "source": [
        "## 3. Accessing Elements (Indexing and Slicing)"
      ]
    },
    {
      "cell_type": "code",
      "execution_count": null,
      "metadata": {
        "colab": {
          "base_uri": "https://localhost:8080/"
        },
        "id": "obUbzD2L_VXD",
        "outputId": "bfe69823-e05d-4d95-b724-d964708d72fe"
      },
      "outputs": [
        {
          "name": "stdout",
          "output_type": "stream",
          "text": [
            "a        = [2, 3, 5, 7, 11, 13]\n",
            "a[0]     = 2\n",
            "a[2]     = 5\n",
            "a[-1]    = 13\n",
            "a[-3]    = 7\n",
            "a[0:2]   = [2, 3]\n",
            "a[1:4]   = [3, 5, 7]\n",
            "a[1:6:2] = [3, 7, 13]\n"
          ]
        }
      ],
      "source": [
        "# Indexing and slicing for lists works the same way as it did for strings!\n",
        "\n",
        "a = [2, 3, 5, 7, 11, 13]\n",
        "print(\"a        =\", a)\n",
        "\n",
        "# Access non-negative indexes\n",
        "print(\"a[0]     =\", a[0])\n",
        "print(\"a[2]     =\", a[2])\n",
        "\n",
        "# Access negative indexes\n",
        "print(\"a[-1]    =\", a[-1])\n",
        "print(\"a[-3]    =\", a[-3])\n",
        "\n",
        "# Access slices a[start:end:step]\n",
        "print(\"a[0:2]   =\", a[0:2])\n",
        "print(\"a[1:4]   =\", a[1:4])\n",
        "print(\"a[1:6:2] =\", a[1:6:2])"
      ]
    },
    {
      "cell_type": "markdown",
      "metadata": {
        "id": "5SreA0dH_9eF"
      },
      "source": [
        "## 4. List Mutability and Aliasing\n",
        "\n",
        "Unlike strings, lists are mutable. This means that they can be changed, without creating a new list.\n",
        "\n",
        "This also forces us to better understand aliases, when two variables reference the same value. Aliases are only interesting (and challenging) for mutable values like lists.\n"
      ]
    },
    {
      "cell_type": "markdown",
      "metadata": {
        "id": "YXmUHYMQANp4"
      },
      "source": [
        "Example:"
      ]
    },
    {
      "cell_type": "code",
      "execution_count": null,
      "metadata": {
        "colab": {
          "base_uri": "https://localhost:8080/"
        },
        "id": "aC5PjtkHAPgj",
        "outputId": "189a562d-8052-464f-8249-2d34d7430191"
      },
      "outputs": [
        {
          "name": "stdout",
          "output_type": "stream",
          "text": [
            "[42, 99, 5, 7]\n",
            "[42, 99, 5, 7]\n"
          ]
        }
      ],
      "source": [
        "# Create a list\n",
        "a = [ 2, 3, 5, 7 ]\n",
        "\n",
        "# Create an alias to the list\n",
        "b = a\n",
        "\n",
        "# We now have two references (aliases) to the SAME list\n",
        "a[0] = 42\n",
        "b[1] = 99\n",
        "print(a)\n",
        "print(b)"
      ]
    },
    {
      "cell_type": "markdown",
      "metadata": {
        "id": "SNouOnbiAUJ1"
      },
      "source": [
        "Function Parameters are Aliases:"
      ]
    },
    {
      "cell_type": "code",
      "execution_count": null,
      "metadata": {
        "colab": {
          "base_uri": "https://localhost:8080/"
        },
        "id": "iC94kaluAWWD",
        "outputId": "6926140e-81f9-4d91-ca67-8461d43935c5"
      },
      "outputs": [
        {
          "name": "stdout",
          "output_type": "stream",
          "text": [
            "[42, 3, 5, 7]\n",
            "[4, 2, 0]\n"
          ]
        }
      ],
      "source": [
        "def f(a):\n",
        "    a[0] = 42\n",
        "a = [2, 3, 5, 7]\n",
        "f(a)\n",
        "# a = f(a)\n",
        "print(a)\n",
        "\n",
        "# Note that the parameter alias can still be broken by re-assigning the variable\n",
        "\n",
        "a = [3, 2, 1]\n",
        "\n",
        "def foo(a):\n",
        "     a[0] = 1\n",
        "     a = [5, 2, 0] # we break the alias here!\n",
        "     a[0] = 4\n",
        "     return a\n",
        "\n",
        "a = foo(a)\n",
        "print(a)"
      ]
    },
    {
      "cell_type": "markdown",
      "metadata": {
        "id": "b1i3f1JvA5tN"
      },
      "source": [
        "Another Example:"
      ]
    },
    {
      "cell_type": "code",
      "execution_count": null,
      "metadata": {
        "colab": {
          "base_uri": "https://localhost:8080/"
        },
        "id": "nkWBvP69A73U",
        "outputId": "e09142ce-5319-425b-e38a-2ded120c9b75"
      },
      "outputs": [
        {
          "name": "stdout",
          "output_type": "stream",
          "text": [
            "initially:\n",
            "  a==b  : True\n",
            "  a==c  : True\n",
            "  a is b: True\n",
            "  a is c: False\n",
            "After changing a[0] to 42\n",
            "  a= [42, 3, 5, 7]\n",
            "  b= [42, 3, 5, 7]\n",
            "  c= [2, 3, 5, 7]\n"
          ]
        }
      ],
      "source": [
        "# Create a list\n",
        "a = [ 2, 3, 5, 7 ]\n",
        "\n",
        "# Create an alias to the list\n",
        "b = a\n",
        "\n",
        "# Create a different list with the same elements\n",
        "c = [ 2, 3, 5, 7 ]\n",
        "\n",
        "# a and b are references (aliases) to the SAME list\n",
        "# c is a reference to a different but EQUAL list\n",
        "\n",
        "print(\"initially:\")\n",
        "print(\"  a==b  :\", a==b)\n",
        "print(\"  a==c  :\", a==c)\n",
        "print(\"  a is b:\", a is b) # the is operation tells if two values are aliases, or basic datatypes\n",
        "print(\"  a is c:\", a is c)\n",
        "\n",
        "# Now changes to a also change b (the SAME list) but not c (a different list)\n",
        "a[0] = 42\n",
        "print(\"After changing a[0] to 42\")\n",
        "print(\"  a=\", a)\n",
        "print(\"  b=\", b)\n",
        "print(\"  c=\", c)\n"
      ]
    },
    {
      "cell_type": "markdown",
      "metadata": {
        "id": "k7XXh-hce2Bn"
      },
      "source": [
        "You Do: What will you see in the result?"
      ]
    },
    {
      "cell_type": "code",
      "execution_count": null,
      "metadata": {
        "colab": {
          "base_uri": "https://localhost:8080/"
        },
        "id": "UJ2tuYche4BH",
        "outputId": "23742926-b751-4e5b-83bd-982bb919ee20"
      },
      "outputs": [
        {
          "name": "stdout",
          "output_type": "stream",
          "text": [
            "  a==b  : True\n",
            "  a==c  : False\n",
            "  a is b: True\n",
            "  a is c: False\n"
          ]
        }
      ],
      "source": [
        "print(\"  a==b  :\", a==b)\n",
        "print(\"  a==c  :\", a==c)\n",
        "print(\"  a is b:\", a is b)\n",
        "print(\"  a is c:\", a is c)"
      ]
    },
    {
      "cell_type": "markdown",
      "metadata": {
        "id": "qsbGT8xRBln9"
      },
      "source": [
        "## 5. Copying Lists"
      ]
    },
    {
      "cell_type": "markdown",
      "metadata": {
        "id": "oPY7N0jKBoJe"
      },
      "source": [
        "Copy vs Alias"
      ]
    },
    {
      "cell_type": "code",
      "execution_count": null,
      "metadata": {
        "colab": {
          "base_uri": "https://localhost:8080/"
        },
        "id": "vgCPRgBUBp-9",
        "outputId": "d3e75329-2d9f-4224-ec9f-918822e45695"
      },
      "outputs": [
        {
          "name": "stdout",
          "output_type": "stream",
          "text": [
            "At first...\n",
            "   a = [2, 3]\n",
            "   b = [2, 3]\n",
            "   c = [2, 3]\n",
            "But after a[0] = 42\n",
            "   a = [42, 3]\n",
            "   b = [42, 3]\n",
            "   c = [2, 3]\n"
          ]
        }
      ],
      "source": [
        "# Because of aliasing, we have to be careful if we share a reference\n",
        "# to a list in the same way we might for number or a string,\n",
        "# by simply setting b = a, like so:\n",
        "\n",
        "import copy\n",
        "\n",
        "# Create a list\n",
        "a = [ 2, 3 ]\n",
        "\n",
        "# Try to copy it\n",
        "b = a             # Error!  Not a copy, but an alias\n",
        "c = copy.copy(a)  # Ok\n",
        "\n",
        "# At first, things seem ok\n",
        "print(\"At first...\")\n",
        "print(\"   a =\", a)\n",
        "print(\"   b =\", b)\n",
        "print(\"   c =\", c)\n",
        "\n",
        "\n",
        "\n",
        "# Now modify a[0]\n",
        "a[0] = 42\n",
        "print(\"But after a[0] = 42\")\n",
        "print(\"   a =\", a)\n",
        "print(\"   b =\", b)\n",
        "print(\"   c =\", c)\n"
      ]
    },
    {
      "cell_type": "markdown",
      "metadata": {
        "id": "fdjfnOirBtH9"
      },
      "source": [
        "Other ways to copy"
      ]
    },
    {
      "cell_type": "code",
      "execution_count": null,
      "metadata": {
        "colab": {
          "base_uri": "https://localhost:8080/"
        },
        "id": "aS6sZUwIBvA2",
        "outputId": "7377ac9d-a0d1-4938-996b-7e466840ec80"
      },
      "outputs": [
        {
          "name": "stdout",
          "output_type": "stream",
          "text": [
            "[42, 3] [2, 3] [2, 3] [2, 3] [2, 3]\n"
          ]
        }
      ],
      "source": [
        "import copy\n",
        "\n",
        "a = [2, 3]\n",
        "\n",
        "b = copy.copy(a)\n",
        "c = a[:]\n",
        "d = a + [ ]\n",
        "e = list(a)\n",
        "\n",
        "a[0] = 42\n",
        "print(a, b, c, d, e)"
      ]
    },
    {
      "cell_type": "markdown",
      "metadata": {
        "id": "-ao93FCjB3AL"
      },
      "source": [
        "## 6. Destructive and Non-destructive Functions\n",
        "\n",
        "Because lists are mutable, we can change them in two ways:\n",
        "\n",
        "**destructively** (which modifies the original value directly), and\n",
        "\n",
        "**non-destructively** (which creates a new list and does not modify the original value).\n",
        "\n",
        "This also affects how we write functions that use lists."
      ]
    },
    {
      "cell_type": "markdown",
      "metadata": {
        "id": "IUIWFf6jCACc"
      },
      "source": [
        "Destructive functions"
      ]
    },
    {
      "cell_type": "code",
      "execution_count": null,
      "metadata": {
        "colab": {
          "base_uri": "https://localhost:8080/"
        },
        "id": "6HWNULWHCCZW",
        "outputId": "e1e32d4b-25c8-48ed-bea8-dbaf3f2edba3"
      },
      "outputs": [
        {
          "name": "stdout",
          "output_type": "stream",
          "text": [
            "At first, a = [1, 2, 3, 4, 5]\n",
            "After fill(a, 42), a = [42, 42, 42, 42, 42]\n"
          ]
        }
      ],
      "source": [
        "# A destructive function is written to directly change the provided list\n",
        "# It does not need to return anything, as the caller can access the original list\n",
        "def fill(a, value):\n",
        "    for i in range(len(a)):\n",
        "        a[i] = value\n",
        "\n",
        "a = [1, 2, 3, 4, 5]\n",
        "print(\"At first, a =\", a)\n",
        "fill(a, 42)\n",
        "print(\"After fill(a, 42), a =\", a)"
      ]
    },
    {
      "cell_type": "markdown",
      "metadata": {
        "id": "gY-1TKNXCGBY"
      },
      "source": [
        "Non-destructive function"
      ]
    },
    {
      "cell_type": "code",
      "execution_count": null,
      "metadata": {
        "colab": {
          "base_uri": "https://localhost:8080/"
        },
        "id": "9WE5iVRzCJIz",
        "outputId": "896970a7-91c6-43cd-e985-5622d2569d37"
      },
      "outputs": [
        {
          "name": "stdout",
          "output_type": "stream",
          "text": [
            "[1, 3, 4]\n",
            "[1, 3, 4, 70]\n",
            "At first\n",
            "   a = [1, 2, 3, 4, 3, 2, 1]\n",
            "After destructiveRemoveAll(a, 2)\n",
            "   a = [1, 3, 4, 3, 1]\n",
            "After b = nonDestructiveRemoveAll(a, 3)\n",
            "   a = [1, 3, 4, 3, 1]\n",
            "   b = [1, 4, 1]\n",
            "After c = alternateNonDestructiveRemoveAll(a, 1)\n",
            "   a = [1, 3, 4, 3, 1]\n",
            "   c = [3, 4, 3]\n"
          ]
        }
      ],
      "source": [
        "import copy\n",
        "\n",
        "## First, a quick primer on modifying lists ##\n",
        "## We'll talk about these more in a bit ##\n",
        "\n",
        "a = [1, 2, 3, 4]\n",
        "\n",
        "# .remove() DESTRUCTIVELY removes the given value from the list\n",
        "a.remove(2)\n",
        "print(a) # [1, 3, 4]\n",
        "\n",
        "# .append() DESTRUCTIVELY adds the given value to the end of the list\n",
        "a.append(70)\n",
        "print(a) # [1, 3, 4, 70]\n",
        "\n",
        "## Now, on to NON-DESTRUCTIVE functions! ##\n",
        "\n",
        "def destructiveRemoveAll(a, value):\n",
        "    while (value in a):\n",
        "        a.remove(value)\n",
        "\n",
        "def nonDestructiveRemoveAll(a, value):\n",
        "    # Typically, we write non-destructive functions by building a new list\n",
        "    # instead of changing the original\n",
        "    result = []\n",
        "    for element in a:\n",
        "        if (element != value):\n",
        "            result.append(element)\n",
        "    return result # non-destructive functions still need to return!\n",
        "\n",
        "def alternateNonDestructiveRemoveAll(a, value):\n",
        "    # We can write the same function by breaking the alias,\n",
        "    # then using the destructive approach\n",
        "    a = copy.copy(a)\n",
        "    destructiveRemoveAll(a, value)\n",
        "    return a\n",
        "\n",
        "a = [ 1, 2, 3, 4, 3, 2, 1 ]\n",
        "print(\"At first\")\n",
        "print(\"   a =\", a)\n",
        "\n",
        "destructiveRemoveAll(a, 2)\n",
        "print(\"After destructiveRemoveAll(a, 2)\")\n",
        "print(\"   a =\", a)\n",
        "\n",
        "b = nonDestructiveRemoveAll(a, 3)\n",
        "print(\"After b = nonDestructiveRemoveAll(a, 3)\")\n",
        "print(\"   a =\", a)\n",
        "print(\"   b =\", b)\n",
        "\n",
        "c = alternateNonDestructiveRemoveAll(a, 1)\n",
        "print(\"After c = alternateNonDestructiveRemoveAll(a, 1)\")\n",
        "print(\"   a =\", a)\n",
        "print(\"   c =\", c)"
      ]
    },
    {
      "cell_type": "markdown",
      "metadata": {
        "id": "RIkH5jtJCMOG"
      },
      "source": [
        "## 7. Finding Elements"
      ]
    },
    {
      "cell_type": "markdown",
      "metadata": {
        "id": "-XcsL2EbCPAc"
      },
      "source": [
        "Check for list membership: in"
      ]
    },
    {
      "cell_type": "code",
      "execution_count": null,
      "metadata": {
        "colab": {
          "base_uri": "https://localhost:8080/"
        },
        "id": "21yrAoxmCQm8",
        "outputId": "b98462e8-3f9a-4004-9cd6-33356b855850"
      },
      "outputs": [
        {
          "name": "stdout",
          "output_type": "stream",
          "text": [
            "a      = [2, 3, 5, 2, 6, 2, 2, 7]\n",
            "2 in a = True\n",
            "4 in a = False\n"
          ]
        }
      ],
      "source": [
        "a = [ 2, 3, 5, 2, 6, 2, 2, 7 ]\n",
        "print(\"a      =\", a)\n",
        "print(\"2 in a =\", (2 in a))\n",
        "print(\"4 in a =\", (4 in a))"
      ]
    },
    {
      "cell_type": "markdown",
      "metadata": {
        "id": "hYZSQPVfCdXc"
      },
      "source": [
        "Check for list non-membership: not in"
      ]
    },
    {
      "cell_type": "code",
      "execution_count": null,
      "metadata": {
        "colab": {
          "base_uri": "https://localhost:8080/"
        },
        "id": "Qss-qQ-DCe8H",
        "outputId": "be8abb16-eb85-4aa4-cbd6-37a59bc6ce47"
      },
      "outputs": [
        {
          "name": "stdout",
          "output_type": "stream",
          "text": [
            "a          = [2, 3, 5, 2, 6, 2, 2, 7]\n",
            "2 not in a = False\n",
            "4 not in a = True\n"
          ]
        }
      ],
      "source": [
        "a = [ 2, 3, 5, 2, 6, 2, 2, 7 ]\n",
        "print(\"a          =\", a)\n",
        "print(\"2 not in a =\", (2 not in a))\n",
        "print(\"4 not in a =\", (4 not in a))"
      ]
    },
    {
      "cell_type": "markdown",
      "metadata": {
        "id": "npa6qnuaCiuj"
      },
      "source": [
        "Count occurrences in list: list.count(item)"
      ]
    },
    {
      "cell_type": "code",
      "execution_count": null,
      "metadata": {
        "colab": {
          "base_uri": "https://localhost:8080/"
        },
        "id": "ZSH3sDhgCkYJ",
        "outputId": "cca4533e-930f-4a2e-a3a0-4bcbcbbb3906"
      },
      "outputs": [
        {
          "name": "stdout",
          "output_type": "stream",
          "text": [
            "a          = [2, 3, 5, 2, 6, 2, 2, 7]\n",
            "a.count(1) = 0\n",
            "a.count(2) = 4\n",
            "a.count(3) = 1\n"
          ]
        }
      ],
      "source": [
        "a = [ 2, 3, 5, 2, 6, 2, 2, 7 ]\n",
        "print(\"a          =\", a)\n",
        "print(\"a.count(1) =\", a.count(1))\n",
        "print(\"a.count(2) =\", a.count(2))\n",
        "print(\"a.count(3) =\", a.count(3))"
      ]
    },
    {
      "cell_type": "markdown",
      "metadata": {
        "id": "jYGwKLDCCof1"
      },
      "source": [
        "Find index of item: list.index(item) and list.index(item, start)"
      ]
    },
    {
      "cell_type": "markdown",
      "metadata": {
        "id": "sByi6T8RCrOx"
      },
      "source": [
        "Example:"
      ]
    },
    {
      "cell_type": "code",
      "execution_count": null,
      "metadata": {
        "colab": {
          "base_uri": "https://localhost:8080/"
        },
        "id": "E0ajdF0jCthJ",
        "outputId": "92f77ab3-94d7-405b-f58c-cd67ecaa3d09"
      },
      "outputs": [
        {
          "name": "stdout",
          "output_type": "stream",
          "text": [
            "a            = [2, 3, 5, 2, 6, 2, 2, 7]\n",
            "a.index(6)   = 4\n",
            "a.index(2)   = 0\n",
            "a.index(2,1) = 3\n",
            "a.index(2,4) = 5\n"
          ]
        }
      ],
      "source": [
        "a = [ 2, 3, 5, 2, 6, 2, 2, 7 ]\n",
        "print(\"a            =\", a)\n",
        "print(\"a.index(6)   =\", a.index(6))\n",
        "print(\"a.index(2)   =\", a.index(2))\n",
        "print(\"a.index(2,1) =\", a.index(2,1))\n",
        "print(\"a.index(2,4) =\", a.index(2,4))"
      ]
    },
    {
      "cell_type": "markdown",
      "metadata": {
        "id": "lvvgOgrUHgsj"
      },
      "source": [
        "Problem: crashes when item is not in list"
      ]
    },
    {
      "cell_type": "code",
      "execution_count": null,
      "metadata": {
        "colab": {
          "base_uri": "https://localhost:8080/",
          "height": 245
        },
        "id": "TWe14QnpHiUO",
        "outputId": "446eb2a7-dbb6-46dc-d279-034d65db160c"
      },
      "outputs": [
        {
          "name": "stdout",
          "output_type": "stream",
          "text": [
            "a          = [2, 3, 5, 2]\n"
          ]
        },
        {
          "ename": "ValueError",
          "evalue": "ignored",
          "output_type": "error",
          "traceback": [
            "\u001b[0;31m---------------------------------------------------------------------------\u001b[0m",
            "\u001b[0;31mValueError\u001b[0m                                Traceback (most recent call last)",
            "\u001b[0;32m<ipython-input-35-a259a23baacf>\u001b[0m in \u001b[0;36m<module>\u001b[0;34m\u001b[0m\n\u001b[1;32m      1\u001b[0m \u001b[0ma\u001b[0m \u001b[0;34m=\u001b[0m \u001b[0;34m[\u001b[0m \u001b[0;36m2\u001b[0m\u001b[0;34m,\u001b[0m \u001b[0;36m3\u001b[0m\u001b[0;34m,\u001b[0m \u001b[0;36m5\u001b[0m\u001b[0;34m,\u001b[0m \u001b[0;36m2\u001b[0m \u001b[0;34m]\u001b[0m\u001b[0;34m\u001b[0m\u001b[0;34m\u001b[0m\u001b[0m\n\u001b[1;32m      2\u001b[0m \u001b[0mprint\u001b[0m\u001b[0;34m(\u001b[0m\u001b[0;34m\"a          =\"\u001b[0m\u001b[0;34m,\u001b[0m \u001b[0ma\u001b[0m\u001b[0;34m)\u001b[0m\u001b[0;34m\u001b[0m\u001b[0;34m\u001b[0m\u001b[0m\n\u001b[0;32m----> 3\u001b[0;31m \u001b[0mprint\u001b[0m\u001b[0;34m(\u001b[0m\u001b[0;34m\"a.index(9) =\"\u001b[0m\u001b[0;34m,\u001b[0m \u001b[0ma\u001b[0m\u001b[0;34m.\u001b[0m\u001b[0mindex\u001b[0m\u001b[0;34m(\u001b[0m\u001b[0;36m9\u001b[0m\u001b[0;34m)\u001b[0m\u001b[0;34m)\u001b[0m \u001b[0;31m# crashes!\u001b[0m\u001b[0;34m\u001b[0m\u001b[0;34m\u001b[0m\u001b[0m\n\u001b[0m\u001b[1;32m      4\u001b[0m \u001b[0mprint\u001b[0m\u001b[0;34m(\u001b[0m\u001b[0;34m\"This line will not run!\"\u001b[0m\u001b[0;34m)\u001b[0m\u001b[0;34m\u001b[0m\u001b[0;34m\u001b[0m\u001b[0m\n",
            "\u001b[0;31mValueError\u001b[0m: 9 is not in list"
          ]
        }
      ],
      "source": [
        "a = [ 2, 3, 5, 2 ]\n",
        "print(\"a          =\", a)\n",
        "print(\"a.index(9) =\", a.index(9)) # crashes!\n",
        "print(\"This line will not run!\")"
      ]
    },
    {
      "cell_type": "markdown",
      "metadata": {
        "id": "RjKt_PWPkRZy"
      },
      "source": [
        "## You Do: how can you fix this error by changing the code above?"
      ]
    },
    {
      "cell_type": "code",
      "execution_count": null,
      "metadata": {
        "id": "LRYx2rxSkalC"
      },
      "outputs": [],
      "source": [
        "## your code"
      ]
    },
    {
      "cell_type": "markdown",
      "metadata": {
        "id": "jst0hRAtHlRo"
      },
      "source": [
        "### Solution: use (item in list)"
      ]
    },
    {
      "cell_type": "code",
      "execution_count": null,
      "metadata": {
        "colab": {
          "base_uri": "https://localhost:8080/"
        },
        "id": "a7HX3KP-Hsja",
        "outputId": "c6a7c2f6-a42e-4ebd-e676-fcc365d1a603"
      },
      "outputs": [
        {
          "name": "stdout",
          "output_type": "stream",
          "text": [
            "a = [2, 3, 5, 2]\n",
            "9 not in [2, 3, 5, 2]\n",
            "This line will run now!\n"
          ]
        }
      ],
      "source": [
        "a = [ 2, 3, 5, 2 ]\n",
        "print(\"a =\", a)\n",
        "if (9 in a):\n",
        "    print(\"a.index(9) =\", a.index(9))\n",
        "else:\n",
        "    print(\"9 not in\", a)\n",
        "print(\"This line will run now!\")"
      ]
    },
    {
      "cell_type": "markdown",
      "metadata": {
        "id": "u4VDVh8zJqaM"
      },
      "source": [
        "## 8. Adding Elements"
      ]
    },
    {
      "cell_type": "markdown",
      "metadata": {
        "id": "Hkx_sOlYJt9R"
      },
      "source": [
        "Destructively (Modifying Lists):\n",
        "\n",
        "*   Add an item with list.append(item)\n",
        "\n"
      ]
    },
    {
      "cell_type": "code",
      "execution_count": null,
      "metadata": {
        "colab": {
          "base_uri": "https://localhost:8080/"
        },
        "id": "3Mu9l0NIJ5Zj",
        "outputId": "dd57b03a-f82e-4ea6-84ca-a7d2dca0ac08"
      },
      "outputs": [
        {
          "name": "stdout",
          "output_type": "stream",
          "text": [
            "[2, 3, 7]\n"
          ]
        }
      ],
      "source": [
        "a = [ 2, 3 ]\n",
        "a.append(7)\n",
        "print(a)"
      ]
    },
    {
      "cell_type": "markdown",
      "metadata": {
        "id": "4z6StqguJ6wi"
      },
      "source": [
        "\n",
        "\n",
        "*   Add a list of items with list += list2 or list.extend(list2)\n",
        "\n"
      ]
    },
    {
      "cell_type": "code",
      "execution_count": null,
      "metadata": {
        "colab": {
          "base_uri": "https://localhost:8080/"
        },
        "id": "kwKYqLMFKBi1",
        "outputId": "df7f3d6b-892b-4965-9ae3-4a1693e01a86"
      },
      "outputs": [
        {
          "name": "stdout",
          "output_type": "stream",
          "text": [
            "[2, 3, 11, 13]\n",
            "[2, 3, 11, 13, 17, 19]\n"
          ]
        }
      ],
      "source": [
        "a = [ 2, 3 ]\n",
        "a += [ 11, 13 ]\n",
        "print(a)\n",
        "a.extend([ 17, 19 ])\n",
        "print(a)"
      ]
    },
    {
      "cell_type": "markdown",
      "metadata": {
        "id": "8aHSUlU4Kijo"
      },
      "source": [
        "\n",
        "\n",
        "*   Insert an item at a given index\n",
        "\n"
      ]
    },
    {
      "cell_type": "code",
      "execution_count": null,
      "metadata": {
        "colab": {
          "base_uri": "https://localhost:8080/"
        },
        "id": "rydi5ENjKluR",
        "outputId": "9043528e-17da-44a6-8e36-a61c28af8599"
      },
      "outputs": [
        {
          "name": "stdout",
          "output_type": "stream",
          "text": [
            "[2, 3, 5, 10, 42, 5, 7, 11]\n"
          ]
        }
      ],
      "source": [
        "a = [ 2, 3, 5, 7, 11 ]\n",
        "a.insert(2, 42)  # at index 2, insert 42\n",
        "a[2:2] = [5, 10]\n",
        "print(a)"
      ]
    },
    {
      "cell_type": "markdown",
      "metadata": {
        "id": "G-kRCqhbKpws"
      },
      "source": [
        "Non-Destructively (Creating New Lists)\n",
        "\n",
        "\n",
        "*   Add an item with list1 + list2\n",
        "\n"
      ]
    },
    {
      "cell_type": "code",
      "execution_count": null,
      "metadata": {
        "colab": {
          "base_uri": "https://localhost:8080/"
        },
        "id": "Ti104ByBKwNc",
        "outputId": "ca30ab5c-e953-481f-bc3b-1f1dc3e8e369"
      },
      "outputs": [
        {
          "name": "stdout",
          "output_type": "stream",
          "text": [
            "[2, 3]\n",
            "[2, 3, 13, 17]\n"
          ]
        }
      ],
      "source": [
        "a = [ 2, 3 ]\n",
        "b = a + [ 13, 17 ]\n",
        "print(a)\n",
        "print(b)"
      ]
    },
    {
      "cell_type": "markdown",
      "metadata": {
        "id": "825AZgyCLIGr"
      },
      "source": [
        "\n",
        "\n",
        "*   Insert an item at a given index (with list slices)\n",
        "\n"
      ]
    },
    {
      "cell_type": "code",
      "execution_count": null,
      "metadata": {
        "id": "Cfk8laOlLLEB"
      },
      "outputs": [],
      "source": [
        "a = [ 2, 3 ]\n",
        "b = a[:2] + [5] + a[2:]\n",
        "print(a)\n",
        "print(b)"
      ]
    },
    {
      "cell_type": "markdown",
      "metadata": {
        "id": "QWxxd9FDLOcz"
      },
      "source": [
        "Destructive vs Non-Destructive Example"
      ]
    },
    {
      "cell_type": "code",
      "execution_count": null,
      "metadata": {
        "colab": {
          "base_uri": "https://localhost:8080/"
        },
        "id": "uayqJGFQLQLR",
        "outputId": "e52b4ea8-734b-412f-a2f1-b8325040a2ab"
      },
      "outputs": [
        {
          "name": "stdout",
          "output_type": "stream",
          "text": [
            "Destructive:\n",
            "[2, 3, 4]\n",
            "[2, 3, 4]\n",
            "Non-Destructive:\n",
            "[2, 3, 4]\n",
            "[2, 3]\n"
          ]
        }
      ],
      "source": [
        "print(\"Destructive:\")\n",
        "a = [ 2, 3 ]\n",
        "b = a\n",
        "a += [ 4 ]\n",
        "print(a)\n",
        "print(b)\n",
        "\n",
        "print(\"Non-Destructive:\")\n",
        "a = [ 2, 3 ]\n",
        "b = a\n",
        "a = a + [ 4] # this overwrites a, but not the alias of b\n",
        "print(a)\n",
        "print(b)"
      ]
    },
    {
      "cell_type": "markdown",
      "metadata": {
        "id": "xD2WfD_ILUVq"
      },
      "source": [
        "## 9. Removing Elements\n"
      ]
    },
    {
      "cell_type": "markdown",
      "metadata": {
        "id": "vDc8r-mGLX0e"
      },
      "source": [
        "Destructively (Modifying Lists)\n",
        "\n",
        "\n",
        "*   Remove an item with list.remove(item)\n",
        "\n"
      ]
    },
    {
      "cell_type": "code",
      "execution_count": null,
      "metadata": {
        "colab": {
          "base_uri": "https://localhost:8080/",
          "height": 264
        },
        "id": "m6WNzY-NLd1q",
        "outputId": "ccbc5644-ded6-47ae-af9f-ac3725c0cc54"
      },
      "outputs": [
        {
          "name": "stdout",
          "output_type": "stream",
          "text": [
            "a = [2, 3, 5, 3, 7, 6, 5, 11, 13]\n",
            "After a.remove(5), a= [2, 3, 3, 7, 6, 5, 11, 13]\n",
            "After another a.remove(5), a= [2, 3, 3, 7, 6, 11, 13]\n"
          ]
        },
        {
          "ename": "ValueError",
          "evalue": "ignored",
          "output_type": "error",
          "traceback": [
            "\u001b[0;31m---------------------------------------------------------------------------\u001b[0m",
            "\u001b[0;31mValueError\u001b[0m                                Traceback (most recent call last)",
            "\u001b[0;32m<ipython-input-43-9e38fcbfd5f3>\u001b[0m in \u001b[0;36m<module>\u001b[0;34m\u001b[0m\n\u001b[1;32m      8\u001b[0m \u001b[0mprint\u001b[0m\u001b[0;34m(\u001b[0m\u001b[0;34m\"After another a.remove(5), a=\"\u001b[0m\u001b[0;34m,\u001b[0m \u001b[0ma\u001b[0m\u001b[0;34m)\u001b[0m\u001b[0;34m\u001b[0m\u001b[0;34m\u001b[0m\u001b[0m\n\u001b[1;32m      9\u001b[0m \u001b[0;34m\u001b[0m\u001b[0m\n\u001b[0;32m---> 10\u001b[0;31m \u001b[0ma\u001b[0m\u001b[0;34m.\u001b[0m\u001b[0mremove\u001b[0m\u001b[0;34m(\u001b[0m\u001b[0;36m5\u001b[0m\u001b[0;34m)\u001b[0m \u001b[0;31m# crash\u001b[0m\u001b[0;34m\u001b[0m\u001b[0;34m\u001b[0m\u001b[0m\n\u001b[0m",
            "\u001b[0;31mValueError\u001b[0m: list.remove(x): x not in list"
          ]
        }
      ],
      "source": [
        "a = [ 2, 3, 5, 3, 7, 6, 5, 11, 13 ]\n",
        "print(\"a =\", a)\n",
        "\n",
        "a.remove(5)\n",
        "print(\"After a.remove(5), a=\", a)\n",
        "\n",
        "a.remove(5)\n",
        "print(\"After another a.remove(5), a=\", a)\n",
        "\n",
        "a.remove(5) # crash"
      ]
    },
    {
      "cell_type": "markdown",
      "metadata": {
        "id": "D1jMWCbNLhwf"
      },
      "source": [
        "\n",
        "\n",
        "*   Remove an item at a given index with list.pop(index)\n",
        "\n"
      ]
    },
    {
      "cell_type": "code",
      "execution_count": null,
      "metadata": {
        "colab": {
          "base_uri": "https://localhost:8080/"
        },
        "id": "64rOPM01Lk7E",
        "outputId": "511972f7-2135-40ad-c8db-7ece1e7c2028"
      },
      "outputs": [
        {
          "name": "stdout",
          "output_type": "stream",
          "text": [
            "a = [2, 3, 4, 5, 6, 7, 8]\n",
            "After item = a.pop(3)\n",
            "   item = 5\n",
            "   a = [2, 3, 4, 6, 7, 8]\n",
            "After another item = a.pop(3)\n",
            "   item = 6\n",
            "   a = [2, 3, 4, 7, 8]\n",
            "After item = a.pop()\n",
            "   item = 8\n",
            "   a = [2, 3, 4, 7]\n"
          ]
        }
      ],
      "source": [
        "a = [ 2, 3, 4, 5, 6, 7, 8 ]\n",
        "print(\"a =\", a)\n",
        "\n",
        "item = a.pop(3)\n",
        "print(\"After item = a.pop(3)\")\n",
        "print(\"   item =\", item)\n",
        "print(\"   a =\", a)\n",
        "\n",
        "item = a.pop(3)\n",
        "print(\"After another item = a.pop(3)\")\n",
        "print(\"   item =\", item)\n",
        "print(\"   a =\", a)\n",
        "\n",
        "# Remove last item with list.pop()\n",
        "item = a.pop()\n",
        "print(\"After item = a.pop()\")\n",
        "print(\"   item =\", item)\n",
        "print(\"   a =\", a)\n",
        "\n"
      ]
    },
    {
      "cell_type": "markdown",
      "metadata": {
        "id": "7K1e2Mwwrnym"
      },
      "source": [
        "Remove more than one items"
      ]
    },
    {
      "cell_type": "code",
      "execution_count": null,
      "metadata": {
        "colab": {
          "base_uri": "https://localhost:8080/"
        },
        "id": "-_O17qmvrp_e",
        "outputId": "d7dfa01a-1b9d-4185-e1f9-db50b6273f46"
      },
      "outputs": [
        {
          "name": "stdout",
          "output_type": "stream",
          "text": [
            "a =  [2, 3, 6, 7, 8]\n",
            "a =  [2, 3, 6, 7, 8]\n"
          ]
        }
      ],
      "source": [
        "a = [ 2, 3, 4, 5, 6, 7, 8 ]\n",
        "a[2:4] = []\n",
        "print(\"a = \", a)\n",
        "\n",
        "# another method\n",
        "a = [ 2, 3, 4, 5, 6, 7, 8 ]\n",
        "del a[2:4] \n",
        "print(\"a = \", a)"
      ]
    },
    {
      "cell_type": "markdown",
      "metadata": {
        "id": "7zJqklksLqTT"
      },
      "source": [
        "Non-Destructively (Creating New Lists)\n",
        "\n",
        "\n",
        "*   Remove an item at a given index (with list slices)\n",
        "\n"
      ]
    },
    {
      "cell_type": "code",
      "execution_count": null,
      "metadata": {
        "colab": {
          "base_uri": "https://localhost:8080/"
        },
        "id": "Mre5mChpLwZu",
        "outputId": "7934fba2-a1ec-4bde-b5d7-63843d018f9f"
      },
      "outputs": [
        {
          "name": "stdout",
          "output_type": "stream",
          "text": [
            "a = [2, 3, 5, 3, 7, 5, 11, 13]\n",
            "After b = a[:2] + a[3:]\n",
            "   a = [2, 3, 5, 3, 7, 5, 11, 13]\n",
            "   b = [2, 3, 3, 7, 5, 11, 13]\n"
          ]
        }
      ],
      "source": [
        "a = [ 2, 3, 5, 3, 7, 5, 11, 13 ]\n",
        "print(\"a =\", a)\n",
        "\n",
        "b = a[:2] + a[3:]\n",
        "print(\"After b = a[:2] + a[3:]\")\n",
        "print(\"   a =\", a)\n",
        "print(\"   b =\", b)"
      ]
    },
    {
      "cell_type": "markdown",
      "metadata": {
        "id": "YaoCugYtL1NA"
      },
      "source": [
        "## 10. Looping Over Lists"
      ]
    },
    {
      "cell_type": "markdown",
      "metadata": {
        "id": "2OMrOQc4L4bT"
      },
      "source": [
        "Looping with a normal for loop:"
      ]
    },
    {
      "cell_type": "code",
      "execution_count": null,
      "metadata": {
        "colab": {
          "base_uri": "https://localhost:8080/"
        },
        "id": "or_Lx43oL50q",
        "outputId": "3c9dc990-92fd-4cf1-b810-b0bc6a0b3ac8"
      },
      "outputs": [
        {
          "name": "stdout",
          "output_type": "stream",
          "text": [
            "Here are the items in a with their indexes:\n",
            "a[ 0 ] = 2\n",
            "a[ 1 ] = 3\n",
            "a[ 2 ] = 5\n",
            "a[ 3 ] = 7\n"
          ]
        }
      ],
      "source": [
        "a = [ 2, 3, 5, 7 ]\n",
        "print(\"Here are the items in a with their indexes:\")\n",
        "for index in range(len(a)):\n",
        "    # index = len(a) - 1 - index # reverse\n",
        "    print(\"a[\", index, \"] =\", a[index])"
      ]
    },
    {
      "cell_type": "markdown",
      "metadata": {
        "id": "Nwu0ECr5L8-t"
      },
      "source": [
        "Looping with a for each loop"
      ]
    },
    {
      "cell_type": "code",
      "execution_count": null,
      "metadata": {
        "colab": {
          "base_uri": "https://localhost:8080/"
        },
        "id": "2jHpiT_aL-gl",
        "outputId": "8051c731-488c-40ee-a298-bc7309ce43e5"
      },
      "outputs": [
        {
          "name": "stdout",
          "output_type": "stream",
          "text": [
            "Here are the items in a:\n",
            "2\n",
            "3\n",
            "5\n",
            "7\n"
          ]
        }
      ],
      "source": [
        "# Lists and strings are both iterable types.\n",
        "# This means that we can iterate (loop) over them directly!\n",
        "a = [ 2, 3, 5, 7 ]\n",
        "print(\"Here are the items in a:\")\n",
        "for item in a:\n",
        "# for item in reversed(a):\n",
        "    print(item)"
      ]
    },
    {
      "cell_type": "markdown",
      "metadata": {
        "id": "N7zFb1ZxMF0O"
      },
      "source": [
        "Hazard: modifying inside a for loop"
      ]
    },
    {
      "cell_type": "code",
      "execution_count": null,
      "metadata": {
        "colab": {
          "base_uri": "https://localhost:8080/",
          "height": 301
        },
        "id": "UWLGjlGdMHrb",
        "outputId": "12b35c29-68ef-4b51-fc70-b8cfdff69e85"
      },
      "outputs": [
        {
          "name": "stdout",
          "output_type": "stream",
          "text": [
            "[2, 3, 5, 3, 7]\n",
            "[2, 5, 3, 7]\n",
            "[2, 5, 7]\n"
          ]
        },
        {
          "ename": "IndexError",
          "evalue": "ignored",
          "output_type": "error",
          "traceback": [
            "\u001b[0;31m---------------------------------------------------------------------------\u001b[0m",
            "\u001b[0;31mIndexError\u001b[0m                                Traceback (most recent call last)",
            "\u001b[0;32m<ipython-input-69-356dd040dd77>\u001b[0m in \u001b[0;36m<module>\u001b[0;34m\u001b[0m\n\u001b[1;32m      6\u001b[0m \u001b[0;31m# Failed attempt to remove all the 3's\u001b[0m\u001b[0;34m\u001b[0m\u001b[0;34m\u001b[0m\u001b[0;34m\u001b[0m\u001b[0m\n\u001b[1;32m      7\u001b[0m \u001b[0;32mfor\u001b[0m \u001b[0mindex\u001b[0m \u001b[0;32min\u001b[0m \u001b[0mrange\u001b[0m\u001b[0;34m(\u001b[0m\u001b[0mlen\u001b[0m\u001b[0;34m(\u001b[0m\u001b[0ma\u001b[0m\u001b[0;34m)\u001b[0m\u001b[0;34m)\u001b[0m\u001b[0;34m:\u001b[0m\u001b[0;34m\u001b[0m\u001b[0;34m\u001b[0m\u001b[0m\n\u001b[0;32m----> 8\u001b[0;31m     \u001b[0;32mif\u001b[0m \u001b[0;34m(\u001b[0m\u001b[0ma\u001b[0m\u001b[0;34m[\u001b[0m\u001b[0mindex\u001b[0m\u001b[0;34m]\u001b[0m \u001b[0;34m==\u001b[0m \u001b[0;36m3\u001b[0m\u001b[0;34m)\u001b[0m\u001b[0;34m:\u001b[0m  \u001b[0;31m# this eventually crashes!\u001b[0m\u001b[0;34m\u001b[0m\u001b[0;34m\u001b[0m\u001b[0m\n\u001b[0m\u001b[1;32m      9\u001b[0m         \u001b[0ma\u001b[0m\u001b[0;34m.\u001b[0m\u001b[0mpop\u001b[0m\u001b[0;34m(\u001b[0m\u001b[0mindex\u001b[0m\u001b[0;34m)\u001b[0m\u001b[0;34m\u001b[0m\u001b[0;34m\u001b[0m\u001b[0m\n\u001b[1;32m     10\u001b[0m         \u001b[0;31m# break\u001b[0m\u001b[0;34m\u001b[0m\u001b[0;34m\u001b[0m\u001b[0;34m\u001b[0m\u001b[0m\n",
            "\u001b[0;31mIndexError\u001b[0m: list index out of range"
          ]
        }
      ],
      "source": [
        "# IMPORTANT: don't change a list inside a for loop! The indexes will behave unpredictably.\n",
        "# This isn't a problem for strings because they aren't mutable.\n",
        "a = [ 2, 3, 5, 3, 7 ]\n",
        "# print(\"a =\", a)\n",
        "\n",
        "# Failed attempt to remove all the 3's\n",
        "for index in range(len(a)):\n",
        "    if (a[index] == 3):  # this eventually crashes!\n",
        "        a.pop(index)\n",
        "        # break\n",
        "    print(a)\n",
        "\n",
        "print(\"This line will not run!\")"
      ]
    },
    {
      "cell_type": "markdown",
      "metadata": {
        "id": "IjEfe6HXMQr1"
      },
      "source": [
        "Also Hazard: modifying inside a for-each loop"
      ]
    },
    {
      "cell_type": "code",
      "execution_count": null,
      "metadata": {
        "colab": {
          "base_uri": "https://localhost:8080/"
        },
        "id": "039nzeZWMSXW",
        "outputId": "246b077d-9c6d-48a9-abf7-208551b6ad1b"
      },
      "outputs": [
        {
          "name": "stdout",
          "output_type": "stream",
          "text": [
            "[2, 3, 4]\n"
          ]
        }
      ],
      "source": [
        "# If we remove items in a for-each loop, the loop won't crash,\n",
        "# but it won't behave as we would expect either!\n",
        "\n",
        "a = [3, 3, 2, 3, 4]\n",
        "for item in a:       # this won't reach every item in the list!\n",
        "    # print(a)\n",
        "    if (item == 3):\n",
        "      a.remove(item)\n",
        "      # break\n",
        "    \n",
        "\n",
        "print(a) # should be [2, 4], but there's still a 3 in there!"
      ]
    },
    {
      "cell_type": "markdown",
      "metadata": {
        "id": "xN6h8esYMWUa"
      },
      "source": [
        "Better: modifying inside a while loop"
      ]
    },
    {
      "cell_type": "code",
      "execution_count": null,
      "metadata": {
        "colab": {
          "base_uri": "https://localhost:8080/"
        },
        "id": "qOKIs3uHMXyx",
        "outputId": "1e427c51-ad0e-4c5f-886b-a0c72675aead"
      },
      "outputs": [
        {
          "name": "stdout",
          "output_type": "stream",
          "text": [
            "a = [3, 3, 2, 3, 4]\n",
            "This line will run!\n",
            "And now a = [2, 4]\n"
          ]
        }
      ],
      "source": [
        "# Modify the list in a while loop instead of a for loop,\n",
        "# to control how indexes \n",
        "\n",
        "a = [ 2, 3, 5, 3, 7 ]\n",
        "a = [3, 3, 2, 3, 4]\n",
        "print(\"a =\", a)\n",
        "\n",
        "# Successful attempt to remove all the 3's\n",
        "index = 0\n",
        "while (index < len(a)):\n",
        "    if (a[index] == 3):\n",
        "        a.pop(index)\n",
        "    else:\n",
        "        index += 1\n",
        "\n",
        "print(\"This line will run!\")\n",
        "print(\"And now a =\", a)"
      ]
    },
    {
      "cell_type": "markdown",
      "metadata": {
        "id": "0u_vc7QxMbtN"
      },
      "source": [
        "## 11. List Methods: Sorting and Reversing\n",
        "\n",
        "Lists have many built-in methods. It's common for these methods to be implemented both destructively and non-destructively."
      ]
    },
    {
      "cell_type": "markdown",
      "metadata": {
        "id": "amUiHH_oMiHw"
      },
      "source": [
        "Destructively with list.sort() or list.reverse()"
      ]
    },
    {
      "cell_type": "code",
      "execution_count": null,
      "metadata": {
        "colab": {
          "base_uri": "https://localhost:8080/"
        },
        "id": "QrNyRH2ZNHUi",
        "outputId": "f20651ba-ff64-4c19-8880-654cb16b077e"
      },
      "outputs": [
        {
          "name": "stdout",
          "output_type": "stream",
          "text": [
            "At first, a = [7, 2, 5, 3, 5, 11, 7]\n",
            "After a.sort(), a = [2, 3, 5, 5, 7, 7, 11]\n",
            "Here are the items in reverse:\n",
            "7\n",
            "5\n",
            "3\n",
            "2\n",
            "[7, 5, 3, 2]\n"
          ]
        }
      ],
      "source": [
        "a = [ 7, 2, 5, 3, 5, 11, 7 ]\n",
        "print(\"At first, a =\", a)\n",
        "a.sort()\n",
        "print(\"After a.sort(), a =\",a)\n",
        "\n",
        "a = [ 2, 3, 5, 7 ]\n",
        "print(\"Here are the items in reverse:\")\n",
        "a.reverse()\n",
        "for item in a:\n",
        "    print(item)\n",
        "print(a)\n"
      ]
    },
    {
      "cell_type": "markdown",
      "metadata": {
        "id": "S76kSYovNFcg"
      },
      "source": [
        "Non-Destructively with sorted(list) and reversed(list)"
      ]
    },
    {
      "cell_type": "code",
      "execution_count": null,
      "metadata": {
        "colab": {
          "base_uri": "https://localhost:8080/"
        },
        "id": "dhnvh4abNN35",
        "outputId": "691da02d-c2f2-4d22-abf7-2751e6958ef2"
      },
      "outputs": [
        {
          "name": "stdout",
          "output_type": "stream",
          "text": [
            "At first\n",
            "   a = [7, 2, 5, 3, 5, 11, 7]\n",
            "After b = sorted(a)\n",
            "   a = [7, 2, 5, 3, 5, 11, 7]\n",
            "   b = [2, 3, 5, 5, 7, 7, 11]\n",
            "   d = [2, -3, -5, 5, 7, 7, 11]\n",
            "   d = [7, 2, -5, -3, 5, 11, 7]\n",
            "Here are the items in reverse:\n",
            "7\n",
            "5\n",
            "3\n",
            "2\n",
            "[2, 3, 5, 7]\n"
          ]
        }
      ],
      "source": [
        "a = [ 7, 2, 5, 3, 5, 11, 7 ]\n",
        "print(\"At first\")\n",
        "print(\"   a =\", a)\n",
        "b = sorted(a)\n",
        "print(\"After b = sorted(a)\")\n",
        "print(\"   a =\", a)\n",
        "print(\"   b =\", b)\n",
        "\n",
        "d = [ 7, 2, -5, -3, 5, 11, 7 ]\n",
        "print(\"   d =\", sorted(d, key=abs))\n",
        "print(\"   d =\", d)\n",
        "\n",
        "a = [ 2, 3, 5, 7 ]\n",
        "print(\"Here are the items in reverse:\")\n",
        "for item in reversed(a):\n",
        "    print(item)\n",
        "print(a)"
      ]
    },
    {
      "cell_type": "markdown",
      "metadata": {
        "id": "brybW5kmNVqL"
      },
      "source": [
        "More list methods\n",
        "\n",
        "For most list methods, see [this table](https://docs.python.org/3/library/stdtypes.html#typesseq-mutable) and [this list](https://https://docs.python.org/3/tutorial/datastructures.html#more-on-lists) of list methods."
      ]
    },
    {
      "cell_type": "markdown",
      "metadata": {
        "id": "2xrrfXltNjCv"
      },
      "source": [
        "## 12. Tuples (Immutable Lists)\n",
        "\n",
        "Tuples are exactly like lists, except they are immutable. We cannot change the values of a tuple."
      ]
    },
    {
      "cell_type": "markdown",
      "metadata": {
        "id": "6t5ESg3aN3bb"
      },
      "source": [
        "Tuple syntax"
      ]
    },
    {
      "cell_type": "code",
      "execution_count": null,
      "metadata": {
        "colab": {
          "base_uri": "https://localhost:8080/"
        },
        "id": "k8G8W_oTN5QC",
        "outputId": "05214589-0f52-42a3-9eae-c3063fe1def9"
      },
      "outputs": [
        {
          "name": "stdout",
          "output_type": "stream",
          "text": [
            "<class 'tuple'> 3 (1, 2, 3)\n",
            "<class 'tuple'> 3 (1, 2, 3)\n"
          ]
        }
      ],
      "source": [
        "t = (1, 2, 3)\n",
        "print(type(t), len(t), t)\n",
        "\n",
        "a = [1, 2, 3]\n",
        "t = tuple(a)\n",
        "print(type(t), len(t), t)"
      ]
    },
    {
      "cell_type": "markdown",
      "metadata": {
        "id": "IS-CpX20N9w3"
      },
      "source": [
        "Tuples are immutable"
      ]
    },
    {
      "cell_type": "code",
      "execution_count": null,
      "metadata": {
        "colab": {
          "base_uri": "https://localhost:8080/",
          "height": 245
        },
        "id": "VrjTAYjNN_vq",
        "outputId": "ad99cf21-8be2-4d44-f11f-be798d30ff80"
      },
      "outputs": [
        {
          "name": "stdout",
          "output_type": "stream",
          "text": [
            "1\n"
          ]
        },
        {
          "ename": "TypeError",
          "evalue": "ignored",
          "output_type": "error",
          "traceback": [
            "\u001b[0;31m---------------------------------------------------------------------------\u001b[0m",
            "\u001b[0;31mTypeError\u001b[0m                                 Traceback (most recent call last)",
            "\u001b[0;32m<ipython-input-57-de9feda473c7>\u001b[0m in \u001b[0;36m<module>\u001b[0;34m\u001b[0m\n\u001b[1;32m      2\u001b[0m \u001b[0mprint\u001b[0m\u001b[0;34m(\u001b[0m\u001b[0mt\u001b[0m\u001b[0;34m[\u001b[0m\u001b[0;36m0\u001b[0m\u001b[0;34m]\u001b[0m\u001b[0;34m)\u001b[0m\u001b[0;34m\u001b[0m\u001b[0;34m\u001b[0m\u001b[0m\n\u001b[1;32m      3\u001b[0m \u001b[0;34m\u001b[0m\u001b[0m\n\u001b[0;32m----> 4\u001b[0;31m \u001b[0mt\u001b[0m\u001b[0;34m[\u001b[0m\u001b[0;36m0\u001b[0m\u001b[0;34m]\u001b[0m \u001b[0;34m=\u001b[0m \u001b[0;36m42\u001b[0m    \u001b[0;31m# crash!\u001b[0m\u001b[0;34m\u001b[0m\u001b[0;34m\u001b[0m\u001b[0m\n\u001b[0m\u001b[1;32m      5\u001b[0m \u001b[0mprint\u001b[0m\u001b[0;34m(\u001b[0m\u001b[0mt\u001b[0m\u001b[0;34m[\u001b[0m\u001b[0;36m0\u001b[0m\u001b[0;34m]\u001b[0m\u001b[0;34m)\u001b[0m\u001b[0;34m\u001b[0m\u001b[0;34m\u001b[0m\u001b[0m\n",
            "\u001b[0;31mTypeError\u001b[0m: 'tuple' object does not support item assignment"
          ]
        }
      ],
      "source": [
        "t = (1, 2, 3)\n",
        "print(t[0])\n",
        "\n",
        "t[0] = 42    # crash!\n",
        "print(t[0])"
      ]
    },
    {
      "cell_type": "markdown",
      "metadata": {
        "id": "p0KA13AoOG_o"
      },
      "source": [
        "Parallel (tuple) assignment"
      ]
    },
    {
      "cell_type": "code",
      "execution_count": null,
      "metadata": {
        "colab": {
          "base_uri": "https://localhost:8080/"
        },
        "id": "4sK890wqOI8g",
        "outputId": "87111edf-fb4d-48f8-d15f-5e168901346a"
      },
      "outputs": [
        {
          "name": "stdout",
          "output_type": "stream",
          "text": [
            "1\n",
            "2\n",
            "2\n",
            "1\n"
          ]
        }
      ],
      "source": [
        "(x, y) = (1, 2)\n",
        "print(x)\n",
        "print(y)\n",
        "\n",
        "# tuples are useful for swapping!\n",
        "(x, y) = (y, x)\n",
        "print(x)\n",
        "print(y)"
      ]
    },
    {
      "cell_type": "markdown",
      "metadata": {
        "id": "eT05W-X_OMbJ"
      },
      "source": [
        "Singleton tuple syntax"
      ]
    },
    {
      "cell_type": "code",
      "execution_count": null,
      "metadata": {
        "colab": {
          "base_uri": "https://localhost:8080/"
        },
        "id": "KgBVtHa5OOk9",
        "outputId": "af84c34b-7ee3-4fd8-d0f0-91ecdaa6b205"
      },
      "outputs": [
        {
          "name": "stdout",
          "output_type": "stream",
          "text": [
            "<class 'int'> 210\n",
            "<class 'tuple'> (42, 42, 42, 42, 42)\n"
          ]
        }
      ],
      "source": [
        "t = (42)\n",
        "print(type(t), t*5)\n",
        "\n",
        "t = (42,) # use a comma to force the type\n",
        "print(type(t), t*5)"
      ]
    },
    {
      "cell_type": "markdown",
      "metadata": {
        "id": "TRYw1Q1aORwg"
      },
      "source": [
        "## 13. List Comprehensions\n",
        "\n",
        "List comprehensions are a handy way to create lists using simple loops all in one line."
      ]
    },
    {
      "cell_type": "code",
      "execution_count": null,
      "metadata": {
        "colab": {
          "base_uri": "https://localhost:8080/"
        },
        "id": "EqLRKFdJOWCB",
        "outputId": "535a6e21-f0a5-475f-d92a-d32031503982"
      },
      "outputs": [
        {
          "name": "stdout",
          "output_type": "stream",
          "text": [
            "[0, 1, 2, 3, 4, 5, 6, 7, 8, 9]\n",
            "[0, 1, 2, 3, 4, 5, 6, 7, 8, 9]\n",
            "[0, 1500]\n"
          ]
        }
      ],
      "source": [
        "# Long way\n",
        "a = []\n",
        "for i in range(10):\n",
        "    a.append(i)\n",
        "print(a)\n",
        "\n",
        "# Short way\n",
        "a = [i for i in range(10)]\n",
        "print(a)\n",
        "\n",
        "# We can also add conditionals at the end (but keep it simple!)\n",
        "a = [(i*100) for i in range(20) if i%5 == 0]\n",
        "print(a)"
      ]
    },
    {
      "cell_type": "markdown",
      "metadata": {
        "id": "JJ75LNv1OpM8"
      },
      "source": [
        "## 14. Converting Between Lists and Strings"
      ]
    },
    {
      "cell_type": "code",
      "execution_count": null,
      "metadata": {
        "colab": {
          "base_uri": "https://localhost:8080/"
        },
        "id": "fjhDcErwOrff",
        "outputId": "19602c9a-f163-406f-b538-20f909f1302b"
      },
      "outputs": [
        {
          "name": "stdout",
          "output_type": "stream",
          "text": [
            "['w', 'a', 'h', 'o', 'o', '!']\n",
            "['How', 'are', 'you', 'doing', 'today?']\n",
            "Howareyoudoingtoday?\n",
            "parsleyisgharsley\n",
            "parsley is gharsley\n"
          ]
        }
      ],
      "source": [
        "# use list(s) to convert a string to a list of characters\n",
        "a = list(\"wahoo!\")\n",
        "print(a)  # prints: ['w', 'a', 'h', 'o', 'o', '!']\n",
        "\n",
        "# use s1.split(s2) to convert a string to a list of strings delimited by s2\n",
        "a = \"How are you doing today?\".split(\" \")\n",
        "print(a) # prints ['How', 'are', 'you', 'doing', 'today?']\n",
        "\n",
        "# use \"\".join(a) to convert a list of characters to a single string\n",
        "print(\"\".join(a))  # prints: Howareyoudoingtoday?\n",
        "\n",
        "# \"\".join(a) also works on a list of strings (not just single characters)\n",
        "a = [\"parsley\", \"is\", \"gharsley\"] # by Ogden Nash!\n",
        "print(\"\".join(a))  # prints: parsleyisgharsley\n",
        "print(\" \".join(a)) # prints: parsley is gharsley"
      ]
    },
    {
      "cell_type": "markdown",
      "metadata": {
        "id": "WQCtgz4PBS0Z"
      },
      "source": [
        "## 15. Creating 2d Lists\n",
        "\n",
        "15.1 Static Allocation"
      ]
    },
    {
      "cell_type": "code",
      "execution_count": 2,
      "metadata": {
        "colab": {
          "base_uri": "https://localhost:8080/"
        },
        "id": "09og6UhhCNu-",
        "outputId": "49eba5cc-9ba0-4390-e0da-a790e028b5ba"
      },
      "outputs": [
        {
          "name": "stdout",
          "output_type": "stream",
          "text": [
            "[[2, 3, 4], [5, 6, 7]]\n"
          ]
        }
      ],
      "source": [
        "# create a 2d list with fixed values (static allocation)\n",
        "a = [ [ 2, 3, 4 ] , [ 5, 6, 7 ] ]\n",
        "print(a)"
      ]
    },
    {
      "cell_type": "markdown",
      "metadata": {
        "id": "qmGuEbY8CdlC"
      },
      "source": [
        "15.2 Dynamic (Variable-Length) Allocation"
      ]
    },
    {
      "cell_type": "code",
      "execution_count": 7,
      "metadata": {
        "colab": {
          "base_uri": "https://localhost:8080/"
        },
        "id": "we8rRx9zCj-z",
        "outputId": "4b98c007-9afa-442b-99a0-6044ab4398be"
      },
      "outputs": [
        {
          "name": "stdout",
          "output_type": "stream",
          "text": [
            "This SEEMS ok.  At first:\n",
            "   a = [[0, 0], [0, 0], [0, 0]]\n",
            "[[0, 0], [0, 0], [0, 0]]\n"
          ]
        }
      ],
      "source": [
        "# Try, and FAIL, to create a variable-sized 2d list\n",
        "rows = 3\n",
        "cols = 2\n",
        "\n",
        "a = [ [0] * cols ] * rows # Any problem here?\n",
        "\n",
        "print(\"This SEEMS ok.  At first:\")\n",
        "print(\"   a =\", a)\n",
        "\n",
        "print([[0, 0]]*3)\n",
        "\n",
        "# a[0][0] = 42\n",
        "# print(\"But see what happens after a[0][0]=42\")\n",
        "# print(\"   a =\", a)"
      ]
    },
    {
      "cell_type": "markdown",
      "metadata": {
        "id": "vcJcUSx6CqAz"
      },
      "source": [
        "## What is wrong here? It creates shallow copy-- one unique row, the rest are aliases!\n",
        "\n",
        "\n",
        "Right: Append Each Row"
      ]
    },
    {
      "cell_type": "code",
      "execution_count": null,
      "metadata": {
        "colab": {
          "base_uri": "https://localhost:8080/"
        },
        "id": "RnbP2k4qC5f6",
        "outputId": "10228cc9-73c9-47fd-8e58-0e94d3625767"
      },
      "outputs": [
        {
          "name": "stdout",
          "output_type": "stream",
          "text": [
            "This IS ok.  At first:\n",
            "   a = [[0, 0], [0, 0], [0, 0]]\n",
            "And now see what happens after a[0][0]=42\n",
            "   a = [[42, 0], [0, 0], [0, 0]]\n"
          ]
        }
      ],
      "source": [
        "# Create a variable-sized 2d list\n",
        "rows = 3\n",
        "cols = 2\n",
        "\n",
        "a=[]\n",
        "for row in range(rows): a += [[0]*cols]\n",
        "\n",
        "print(\"This IS ok.  At first:\")\n",
        "print(\"   a =\", a)\n",
        "\n",
        "a[0][0] = 42\n",
        "print(\"And now see what happens after a[0][0]=42\")\n",
        "print(\"   a =\", a)"
      ]
    },
    {
      "cell_type": "markdown",
      "metadata": {
        "id": "1mPzlV4sDD4c"
      },
      "source": [
        "Even Better: make2dList()"
      ]
    },
    {
      "cell_type": "code",
      "execution_count": null,
      "metadata": {
        "id": "UR8bFAuVDF4o"
      },
      "outputs": [],
      "source": [
        "def make2dList(rows, cols):\n",
        "    a=[]\n",
        "    for row in range(rows): a += [[0]*cols]\n",
        "    return a\n",
        "\n",
        "rows = 3\n",
        "cols = 2\n",
        "\n",
        "a = make2dList(rows, cols)\n",
        "\n",
        "print(\"This IS ok.  At first:\")\n",
        "print(\"   a =\", a)\n",
        "\n",
        "a[0][0] = 42\n",
        "print(\"And now see what happens after a[0][0]=42\")\n",
        "print(\"   a =\", a)"
      ]
    },
    {
      "cell_type": "markdown",
      "metadata": {
        "id": "OK9rr4Y8FUNc"
      },
      "source": [
        "15.3 Nested looping over 2d list"
      ]
    },
    {
      "cell_type": "code",
      "execution_count": null,
      "metadata": {
        "colab": {
          "base_uri": "https://localhost:8080/"
        },
        "id": "KAvog1enGCSS",
        "outputId": "708d9467-54bc-451c-de38-41871422624f"
      },
      "outputs": [
        {
          "name": "stdout",
          "output_type": "stream",
          "text": [
            "Before: a = [[2, 3, 5], [1, 4, 7]]\n",
            "After:  a = [[3, 4, 6], [2, 5, 8]]\n"
          ]
        }
      ],
      "source": [
        "# Create an \"arbitrary\" 2d List\n",
        "a = [ [ 2, 3, 5] , [ 1, 4, 7 ] ]\n",
        "print(\"Before: a =\", a)\n",
        "\n",
        "# Now find its dimensions\n",
        "rows = len(a)\n",
        "cols = len(a[0])\n",
        "\n",
        "# And now loop over every element\n",
        "# Here, we'll add one to each element,\n",
        "# just to make a change we can easily see\n",
        "for row in range(rows):\n",
        "    for col in range(cols):\n",
        "        # This code will be run rows*cols times, once for each\n",
        "        # element in the 2d list\n",
        "        a[row][col] += 1\n",
        "\n",
        "# Finally, print the results\n",
        "print(\"After:  a =\", a)"
      ]
    },
    {
      "cell_type": "markdown",
      "metadata": {
        "id": "xHEZQI6oGHcy"
      },
      "source": [
        "15.4 Copy 2d lists"
      ]
    },
    {
      "cell_type": "code",
      "execution_count": null,
      "metadata": {
        "colab": {
          "base_uri": "https://localhost:8080/"
        },
        "id": "1KnfrBncGNXj",
        "outputId": "b8a933bc-6920-4083-db25-f12970e9cb4b"
      },
      "outputs": [
        {
          "name": "stdout",
          "output_type": "stream",
          "text": [
            "At first...\n",
            "   a = [[1, 2, 3], [4, 5, 6]]\n",
            "   b = [[1, 2, 3], [4, 5, 6]]\n",
            "But after a[0][0] = 9\n",
            "   a = [[9, 2, 3], [4, 5, 6]]\n",
            "   b = [[9, 2, 3], [4, 5, 6]]\n"
          ]
        }
      ],
      "source": [
        "import copy\n",
        "\n",
        "# Create a 2d list\n",
        "a = [ [ 1, 2, 3 ] , [ 4, 5, 6 ] ]\n",
        "\n",
        "# Try to copy it\n",
        "b = copy.copy(a) # Problem?\n",
        "\n",
        "# At first, things seem ok\n",
        "print(\"At first...\")\n",
        "print(\"   a =\", a)\n",
        "print(\"   b =\", b)\n",
        "\n",
        "# Now modify a[0][0]\n",
        "a[0][0] = 9\n",
        "print(\"But after a[0][0] = 9\")\n",
        "print(\"   a =\", a)\n",
        "print(\"   b =\", b)"
      ]
    },
    {
      "cell_type": "markdown",
      "metadata": {
        "id": "qCS5UvCIGRi7"
      },
      "source": [
        "Error:  creates shallow copy"
      ]
    },
    {
      "cell_type": "code",
      "execution_count": null,
      "metadata": {
        "colab": {
          "base_uri": "https://localhost:8080/"
        },
        "id": "U7EVsXsxGXX_",
        "outputId": "e8963e1c-28c8-4858-8359-12e28095f8aa"
      },
      "outputs": [
        {
          "name": "stdout",
          "output_type": "stream",
          "text": [
            "At first...\n",
            "   a = [[1, 2, 3], [4, 5, 6]]\n",
            "   b = [[1, 2, 3], [4, 5, 6]]\n",
            "And after a[0][0] = 9\n",
            "   a = [[9, 2, 3], [4, 5, 6]]\n",
            "   b = [[1, 2, 3], [4, 5, 6]]\n"
          ]
        }
      ],
      "source": [
        "import copy\n",
        "\n",
        "# Create a 2d list\n",
        "a = [ [ 1, 2, 3 ] , [ 4, 5, 6 ] ]\n",
        "\n",
        "# Try to copy it\n",
        "b = copy.deepcopy(a) # Correct!\n",
        "\n",
        "# At first, things seem ok\n",
        "print(\"At first...\")\n",
        "print(\"   a =\", a)\n",
        "print(\"   b =\", b)\n",
        "\n",
        "# Now modify a[0][0]\n",
        "a[0][0] = 9\n",
        "print(\"And after a[0][0] = 9\")\n",
        "print(\"   a =\", a)\n",
        "print(\"   b =\", b)"
      ]
    },
    {
      "cell_type": "markdown",
      "metadata": {
        "id": "qK0L4WRDGvOd"
      },
      "source": [
        "Limitations of copy.deepcopy"
      ]
    },
    {
      "cell_type": "code",
      "execution_count": null,
      "metadata": {
        "id": "_RNHVp_VGyhV"
      },
      "outputs": [],
      "source": [
        "a = [[0]*2]*3 # makes 3 shallow copies of (aliases of) the same row\n",
        "a[0][0] = 42  # appears to modify all 3 rows\n",
        "print(a)      # prints [[42, 0], [42, 0], [42, 0]]\n",
        "\n",
        "# now do it again with a deepcopy\n",
        "\n",
        "import copy\n",
        "a = [[0]*2]*3        # makes 3 shallow copies of the same row\n",
        "a = copy.deepcopy(a) # meant to make each row distinct\n",
        "a[0][0] = 42         # so we hope this only modifies first row\n",
        "print(a)             # STILL prints [[42, 0], [42, 0], [42, 0]]\n",
        "\n",
        "# now one more time with a simple deepcopy alternative that does\n",
        "# what we thought deepcopy did...\n",
        "\n",
        "def myDeepCopy(a):\n",
        "    if (isinstance(a, list) or isinstance(a, tuple)):\n",
        "        return [myDeepCopy(element) for element in a]\n",
        "    else:\n",
        "        return copy.copy(a)\n",
        "\n",
        "a = [[0]*2]*3     # makes 3 shallow copies of the same row\n",
        "a = myDeepCopy(a) # once again, meant to make each row distinct\n",
        "a[0][0] = 42      # so we hope this only modifies first row\n",
        "print(a)          # finally, prints [[42, 0], [0, 0], [0, 0]]\n",
        "\n",
        "# what's going on with deepcopy? Answer: if the original list has aliases,\n",
        "# the deepcopied list will have aliases (of a single copy, not the original).\n",
        "# So copy.deepcopy preserves alias structure!"
      ]
    },
    {
      "cell_type": "markdown",
      "metadata": {
        "id": "e0l9JrCCMEbJ"
      },
      "source": [
        "15.5 Non-rectangular 2d lists"
      ]
    },
    {
      "cell_type": "code",
      "execution_count": null,
      "metadata": {
        "id": "YfrZc3JQMLHL"
      },
      "outputs": [],
      "source": [
        "# 2d lists do not have to be rectangular\n",
        "a = [ [ 1, 2, 3 ] ,\n",
        "      [ 4, 5 ],\n",
        "      [ 6 ],\n",
        "      [ 7, 8, 9, 10 ] ]\n",
        "\n",
        "rows = len(a)\n",
        "for row in range(rows):\n",
        "    cols = len(a[row]) # now cols depends on each row\n",
        "    print(\"Row\", row, \"has\", cols, \"columns: \", end=\"\")\n",
        "    for col in range(cols):\n",
        "        print(a[row][col], \" \", end=\"\")\n",
        "    print()"
      ]
    }
  ],
  "metadata": {
    "colab": {
      "collapsed_sections": [],
      "provenance": [],
      "toc_visible": true
    },
    "kernelspec": {
      "display_name": "Python 3",
      "language": "python",
      "name": "python3"
    },
    "language_info": {
      "codemirror_mode": {
        "name": "ipython",
        "version": 3
      },
      "file_extension": ".py",
      "mimetype": "text/x-python",
      "name": "python",
      "nbconvert_exporter": "python",
      "pygments_lexer": "ipython3",
      "version": "3.11.4"
    }
  },
  "nbformat": 4,
  "nbformat_minor": 0
}
