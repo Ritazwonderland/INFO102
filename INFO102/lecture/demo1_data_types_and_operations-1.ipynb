{
  "cells": [
    {
      "cell_type": "markdown",
      "metadata": {
        "id": "Q4BTBNh3zUvM"
      },
      "source": [
        "## 0. Python, Jupyter Notebook, and Basic"
      ]
    },
    {
      "cell_type": "markdown",
      "metadata": {
        "id": "pidQmIo_zby5"
      },
      "source": [
        "### 0.1 Hello World\n",
        "\n",
        "Command typed into shell."
      ]
    },
    {
      "cell_type": "code",
      "execution_count": null,
      "metadata": {
        "id": "IMjl2-UGzjx9"
      },
      "outputs": [],
      "source": [
        "print(\"Hello World!\")"
      ]
    },
    {
      "cell_type": "markdown",
      "metadata": {
        "id": "FnlqIgpazv7W"
      },
      "source": [
        "### 0.2 Python Comments\n"
      ]
    },
    {
      "cell_type": "code",
      "execution_count": null,
      "metadata": {
        "id": "KoYOsA6Vz1TQ"
      },
      "outputs": [],
      "source": [
        "print(\"Hello World!\") # This is a comment\n",
        "# print \"What will this line do?\""
      ]
    },
    {
      "cell_type": "markdown",
      "metadata": {
        "id": "ZxU86Z3B0GIl"
      },
      "source": [
        "### 0.3 Basic Consule Output\n",
        "\n",
        "Basic print function"
      ]
    },
    {
      "cell_type": "code",
      "execution_count": null,
      "metadata": {
        "id": "AspQH9T_0Lf4"
      },
      "outputs": [],
      "source": [
        "print(\"Carpe\")\n",
        "print(\"diem\")"
      ]
    },
    {
      "cell_type": "markdown",
      "metadata": {
        "id": "KNZ0cLdY0XMG"
      },
      "source": [
        "Print on same line"
      ]
    },
    {
      "cell_type": "code",
      "execution_count": null,
      "metadata": {
        "id": "EbVlhG7z0Xru"
      },
      "outputs": [],
      "source": [
        "# You can separate multiple values with commas\n",
        "print(\"Carpe\", \"diem\")\n",
        "\n",
        "# You can also use end=\"\" to stay on the same line\n",
        "print(\"Carpe \", end=\"\")\n",
        "print(\"diem\")"
      ]
    },
    {
      "cell_type": "markdown",
      "metadata": {
        "id": "a6wVlLWa0f_Z"
      },
      "source": [
        "Print using f strings"
      ]
    },
    {
      "cell_type": "code",
      "execution_count": null,
      "metadata": {
        "id": "5_O-2K0E0_L3"
      },
      "outputs": [],
      "source": [
        "x = 42\n",
        "y = 99\n",
        "# Place variable names in {squiggly braces} to print their values, like so:\n",
        "print(f'Did you know that {x} + {y} is {x+y}?')"
      ]
    },
    {
      "cell_type": "markdown",
      "metadata": {
        "id": "hFKgv6yM1SgZ"
      },
      "source": [
        "### 0.4 Importing Modules\n",
        "\n",
        "Call without importing"
      ]
    },
    {
      "cell_type": "code",
      "execution_count": null,
      "metadata": {
        "id": "gA89AJY61We9"
      },
      "outputs": [],
      "source": [
        "print(math.factorial(20))  # we did not first import the math module\n",
        "\n",
        "# Python output:\n",
        "#   NameError: name 'math' is not defined"
      ]
    },
    {
      "cell_type": "markdown",
      "metadata": {
        "id": "zZcD535K1gJ6"
      },
      "source": [
        "Call with importing"
      ]
    },
    {
      "cell_type": "code",
      "execution_count": null,
      "metadata": {
        "id": "0pOrG4sR1gu6"
      },
      "outputs": [],
      "source": [
        "import math\n",
        "print(math.factorial(20))  # much better..."
      ]
    },
    {
      "cell_type": "markdown",
      "metadata": {
        "id": "vsOAehjq2wEi"
      },
      "source": [
        "Find out Python version"
      ]
    },
    {
      "cell_type": "code",
      "execution_count": null,
      "metadata": {
        "id": "8pC4a_RQ11lL"
      },
      "outputs": [],
      "source": [
        "import sys\n",
        "sys.version_info\n",
        "print(sys.version)"
      ]
    },
    {
      "cell_type": "markdown",
      "metadata": {
        "id": "DMQZvfQT27Au"
      },
      "source": [
        "### 0.5 Syntax, Runtime, and Logical Errors\n",
        "\n",
        "Syntax Errors (Compile-Time Errors)"
      ]
    },
    {
      "cell_type": "code",
      "execution_count": null,
      "metadata": {
        "id": "ON7BByxG28fA"
      },
      "outputs": [],
      "source": [
        "print(\"Uh oh!) # ERROR!  missing close-quote\n",
        "\n",
        "# Python output:\n",
        "#   SyntaxError"
      ]
    },
    {
      "cell_type": "markdown",
      "metadata": {
        "id": "IpHXIvPD3Fiz"
      },
      "source": [
        "Runtime Errors (\"Crash\")"
      ]
    },
    {
      "cell_type": "code",
      "execution_count": null,
      "metadata": {
        "id": "fmDT5rB73IWK"
      },
      "outputs": [],
      "source": [
        "print(1/0) # ERROR!  Division by zero!\n",
        "\n",
        "# Python output:\n",
        "#   ZeroDivisionError: integer division or modulo by zero"
      ]
    },
    {
      "cell_type": "markdown",
      "metadata": {
        "id": "Ext8kXvG3N6B"
      },
      "source": [
        "Logical Errors (Compiles and Runs, but is Wrong!)"
      ]
    },
    {
      "cell_type": "code",
      "execution_count": null,
      "metadata": {
        "id": "bPM-cFOY3Pc4"
      },
      "outputs": [],
      "source": [
        "print(\"2+2=5\") # ERROR!  Untrue!!!\n",
        "\n",
        "# Python output:\n",
        "#   2+2=5"
      ]
    },
    {
      "cell_type": "markdown",
      "metadata": {
        "id": "PSVGBfWeSjoG"
      },
      "source": [
        "## 1. Some Builtin Types\n",
        "\n",
        "Add some notations"
      ]
    },
    {
      "cell_type": "code",
      "execution_count": null,
      "metadata": {
        "id": "WGj6zYotSjoJ"
      },
      "outputs": [],
      "source": [
        "import math\n",
        "def f():\n",
        "    print(\"This is a user-defined function\")\n",
        "    return 42\n",
        "\n",
        "print(\"Some basic types in Python:\")\n",
        "print(type(2))           # int\n",
        "print(type(2.2))         # float\n",
        "print(type(2 < 2.2))     # bool (boolean)\n",
        "print(type(type(42)))    # type\n",
        "\n",
        "print(type(math))\n",
        "print(type(math.tan))\n",
        "print(type(f))\n",
        "print(type(type(42)))\n",
        "\n",
        "print(\"#####################################################\")\n",
        "\n",
        "print(\"And some other types we may see later in the course...\")\n",
        "print(type(\"2.2\"))       # str (string or text)\n",
        "print(type([1,2,3]))     # list\n",
        "print(type((1,2,3)))     # tuple\n",
        "print(type({1,2}))       # set\n",
        "print(type({1:42}))      # dict (dictionary or map)\n",
        "print(type(2+3j))        # complex  (complex number)"
      ]
    },
    {
      "cell_type": "markdown",
      "metadata": {
        "id": "15sKM-nWSjoL"
      },
      "source": [
        "2. Some Builtin Constants"
      ]
    },
    {
      "cell_type": "code",
      "execution_count": null,
      "metadata": {
        "id": "970-3qGSSjoM"
      },
      "outputs": [],
      "source": [
        "print(\"Some builtin constants:\")\n",
        "print(True)\n",
        "print(False)\n",
        "print(None) # equivalent to java null\n",
        "\n",
        "print(\"And some more constants in the math module:\")\n",
        "import math\n",
        "print(math.pi)\n",
        "print(math.e)"
      ]
    },
    {
      "cell_type": "markdown",
      "metadata": {
        "id": "oaBgoqgCSjoM"
      },
      "source": [
        "3. Some Builtin Operators\n",
        "![Screen Shot 2021-12-22 at 11.51.32 AM.png](data:image/png;base64,iVBORw0KGgoAAAANSUhEUgAABNwAAAE6CAYAAADN6U8oAAAMa2lDQ1BJQ0MgUHJvZmlsZQAASImVVwdYU8kWnluSkJDQAqFICb0jvUoJoUUQkCrYCEkgocSYEFTsqKjg2kUUK7oqouhaAFlUxF4Wxd4XCyor62JBUVTehAR03Ve+d75v7vz3zJn/lDtz7x0ANHu5EkkeqgVAvrhAmhAZyhyTls4kdQAKMAO6gAycuDyZhBUfHwOgDPZ/l/c3AaLorzkruP45/l9Fhy+Q8QBAxkGcyZfx8iFuBgDfwJNICwAgKvSWUwokCjwHYl0pDBDi1QqcrcS7FDhTiZsGbJIS2BBfAUCNyuVKswHQuA/1zEJeNuTR+Ayxq5gvEgOg6QRxEE/I5UOsiN0pP3+SAldAbAftJRDDeIBv5nec2X/jzxzi53Kzh7AyrwFRCxPJJHncaf9naf635OfJB33YwEYVSqMSFPnDGt7OnRStwFSIu8SZsXGKWkPcK+Ir6w4AShHKo5KV9qgxT8aG9QMMiF353LBoiI0hjhDnxcao9JlZoggOxHC1oFNFBZwkiA0gXiSQhSeqbLZIJyWofKF1WVI2S6U/x5UO+FX4eijPTWap+N8IBRwVP6ZRJExKhZgCsVWhKCUWYg2IXWS5idEqmxFFQnbsoI1UnqCI3wriBIE4MlTJjxVmSSMSVPal+bLBfLEtQhEnVoUPFAiTopT1wU7xuAPxw1ywKwIxK3mQRyAbEzOYC18QFq7MHXshECcnqnh6JQWhCcq5OEWSF6+yxy0EeZEKvQXEnrLCRNVcPKUALk4lP54lKYhPUsaJF+VwR8Yr48GXgxjABmGACeSwZYJJIAeIWrvqu+CdciQCcIEUZAMBcFZpBmekDoyI4TURFIE/IRIA2dC80IFRASiE+i9DWuXVGWQNjBYOzMgFzyDOB9EgD97LB2aJh7ylgKdQI/qHdy5sPBhvHmyK8X+vH9R+07CgJkalkQ96ZGoOWhLDiWHEKGIE0R43woPwADwGXkNgc8d9cb/BPL7ZE54R2giPCTcI7YQ7E0XF0h+iHAXaIX+EqhaZ39cCt4GcXngoHgjZITPOwI2AM+4J/bDwYOjZC2rZqrgVVWH+wP23DL57Gio7sisZJeuTQ8h2P87UcNDwGmJR1Pr7+ihjzRyqN3to5Ef/7O+qz4d99I+W2CLsIHYWO4Gdx5qwesDEjmMN2CXsqAIPra6nA6tr0FvCQDy5kEf0D39clU9FJWWuNa6drp+VYwWCqQWKjceeJJkmFWULC5gs+HUQMDlinosT093V3Q0AxbdG+fp6yxj4hiCMC990xe8ACOT39/c3fdPFwL1+aAHc/s++6WyPwdeEPgDnynhyaaFShysuBPiW0IQ7zRCYAktgB/NxB94gAISAcDASxIEkkAYmwCoL4TqXgilgBpgLSkAZWA7WgPVgM9gGdoG94ACoB03gBDgDLoIr4Aa4B1dPB3gJusF70IcgCAmhIXTEEDFDrBFHxB3xRYKQcCQGSUDSkAwkGxEjcmQGMg8pQ1Yi65GtSDXyC3IEOYGcR9qQO8gjpBN5g3xCMZSK6qImqA06HPVFWWg0moSOR7PRyWgROh9dilagVegetA49gV5Eb6Dt6Eu0BwOYOsbAzDFnzBdjY3FYOpaFSbFZWClWjlVhtVgjfM7XsHasC/uIE3E6zsSd4QqOwpNxHj4Zn4Uvwdfju/A6/BR+DX+Ed+NfCTSCMcGR4E/gEMYQsglTCCWEcsIOwmHCabiXOgjviUQig2hL9IF7MY2YQ5xOXELcSNxHbCa2EZ8Qe0gkkiHJkRRIiiNxSQWkEtI60h7ScdJVUgepV01dzUzNXS1CLV1NrFasVq62W+2Y2lW152p9ZC2yNdmfHEfmk6eRl5G3kxvJl8kd5D6KNsWWEkhJouRQ5lIqKLWU05T7lLfq6uoW6n7qo9VF6nPUK9T3q59Tf6T+kapDdaCyqeOocupS6k5qM/UO9S2NRrOhhdDSaQW0pbRq2knaQ1qvBl3DRYOjwdeYrVGpUadxVeOVJlnTWpOlOUGzSLNc86DmZc0uLbKWjRZbi6s1S6tS64jWLa0ebbq2m3acdr72Eu3d2ue1X+iQdGx0wnX4OvN1tumc1HlCx+iWdDadR59H304/Te/QJera6nJ0c3TLdPfqtup26+noeeql6E3Vq9Q7qtfOwBg2DA4jj7GMcYBxk/FJ30SfpS/QX6xfq39V/4PBMIMQA4FBqcE+gxsGnwyZhuGGuYYrDOsNHxjhRg5Go42mGG0yOm3UNUx3WMAw3rDSYQeG3TVGjR2ME4ynG28zvmTcY2JqEmkiMVlnctKky5RhGmKaY7ra9JhppxndLMhMZLba7LjZH0w9JouZx6xgnmJ2mxubR5nLzbeat5r3WdhaJFsUW+yzeGBJsfS1zLJcbdli2W1lZjXKaoZVjdVda7K1r7XQeq31WesPNrY2qTYLbeptXtga2HJsi2xrbO/b0eyC7SbbVdldtyfa+9rn2m+0v+KAOng5CB0qHS47oo7ejiLHjY5tTgQnPyexU5XTLWeqM8u50LnG+ZELwyXGpdil3uXVcKvh6cNXDD87/Kurl2ue63bXe246biPdit0a3d64O7jz3Cvdr3vQPCI8Zns0eLz2dPQUeG7yvO1F9xrltdCrxeuLt4+31LvWu9PHyifDZ4PPLV9d33jfJb7n/Ah+oX6z/Zr8Pvp7+xf4H/D/K8A5IDdgd8CLEbYjBCO2j3gSaBHIDdwa2B7EDMoI2hLUHmwezA2uCn4cYhnCD9kR8pxlz8ph7WG9CnUNlYYeDv3A9mfPZDeHYWGRYaVhreE64cnh68MfRlhEZEfURHRHekVOj2yOIkRFR62IusUx4fA41ZzukT4jZ448FU2NToxeH/04xiFGGtM4Ch01ctSqUfdjrWPFsfVxII4TtyruQbxt/OT4X0cTR8ePrhz9LMEtYUbC2UR64sTE3Ynvk0KTliXdS7ZLlie3pGimjEupTvmQGpa6MrV9zPAxM8dcTDNKE6U1pJPSU9J3pPeMDR+7ZmzHOK9xJeNujrcdP3X8+QlGE/ImHJ2oOZE78WAGISM1Y3fGZ24ct4rbk8nJ3JDZzWPz1vJe8kP4q/mdgkDBSsHzrMCslVkvsgOzV2V3CoOF5cIuEVu0XvQ6Jypnc86H3Ljcnbn9eal5+/LV8jPyj4h1xLniU5NMJ02d1CZxlJRI2if7T14zuVsaLd0hQ2TjZQ0FuvCn/pLcTr5A/qgwqLCysHdKypSDU7WniqdemuYwbfG050URRT9Px6fzprfMMJ8xd8ajmayZW2chszJntcy2nD1/dsecyDm75lLm5s79rdi1eGXxu3mp8xrnm8yfM//JgsgFNSUaJdKSWwsDFm5ehC8SLWpd7LF43eKvpfzSC2WuZeVln5fwllz4ye2nip/6l2YtbV3mvWzTcuJy8fKbK4JX7FqpvbJo5ZNVo1bVrWauLl39bs3ENefLPcs3r6Wsla9tr4ipaFhntW75us/rhetvVIZW7ttgvGHxhg8b+RuvbgrZVLvZZHPZ5k9bRFtub43cWldlU1W+jbitcNuz7Snbz/7s+3P1DqMdZTu+7BTvbN+VsOtUtU919W7j3ctq0Bp5TeeecXuu7A3b21DrXLt1H2Nf2X6wX77/j18yfrl5IPpAy0Hfg7WHrA9tOEw/XFqH1E2r664X1rc3pDW0HRl5pKUxoPHwry6/7mwyb6o8qnd02THKsfnH+o8XHe9pljR3ncg+8aRlYsu9k2NOXj81+lTr6ejT585EnDl5lnX2+LnAc03n/c8fueB7of6i98W6S16XDv/m9dvhVu/Wuss+lxuu+F1pbBvRduxq8NUT18KunbnOuX7xRuyNtpvJN2/fGner/Tb/9os7eXde3y2823dvzn3C/dIHWg/KHxo/rPrd/vd97d7tRx+FPbr0OPHxvSe8Jy+fyp5+7pj/jPas/LnZ8+oX7i+aOiM6r/wx9o+Ol5KXfV0lf2r/ueGV3atDf4X8dal7THfHa+nr/jdL3hq+3fnO811LT3zPw/f57/s+lPYa9u766Pvx7KfUT8/7pnwmfa74Yv+l8Wv01/v9+f39Eq6UO/ArgMGGZmUB8GYnALQ0AOjw3EYZqzwLDgiiPL8OIPCfsPK8OCDeANTCTvEbz24GYD9sNnMgdwgAil/4pBCAengMNZXIsjzclVxUeBIi9Pb3vzUBgNQIwBdpf3/fxv7+L9thsHcAaJ6sPIMqhAjPDFtCFOiGAX8O+EGU59PvcvyxB4oIPMGP/b8AtnePdwLOtd8AAACKZVhJZk1NACoAAAAIAAQBGgAFAAAAAQAAAD4BGwAFAAAAAQAAAEYBKAADAAAAAQACAACHaQAEAAAAAQAAAE4AAAAAAAAAkAAAAAEAAACQAAAAAQADkoYABwAAABIAAAB4oAIABAAAAAEAAATcoAMABAAAAAEAAAE6AAAAAEFTQ0lJAAAAU2NyZWVuc2hvdHFfdgMAAAAJcEhZcwAAFiUAABYlAUlSJPAAAAHXaVRYdFhNTDpjb20uYWRvYmUueG1wAAAAAAA8eDp4bXBtZXRhIHhtbG5zOng9ImFkb2JlOm5zOm1ldGEvIiB4OnhtcHRrPSJYTVAgQ29yZSA2LjAuMCI+CiAgIDxyZGY6UkRGIHhtbG5zOnJkZj0iaHR0cDovL3d3dy53My5vcmcvMTk5OS8wMi8yMi1yZGYtc3ludGF4LW5zIyI+CiAgICAgIDxyZGY6RGVzY3JpcHRpb24gcmRmOmFib3V0PSIiCiAgICAgICAgICAgIHhtbG5zOmV4aWY9Imh0dHA6Ly9ucy5hZG9iZS5jb20vZXhpZi8xLjAvIj4KICAgICAgICAgPGV4aWY6UGl4ZWxZRGltZW5zaW9uPjMxNDwvZXhpZjpQaXhlbFlEaW1lbnNpb24+CiAgICAgICAgIDxleGlmOlBpeGVsWERpbWVuc2lvbj4xMjQ0PC9leGlmOlBpeGVsWERpbWVuc2lvbj4KICAgICAgICAgPGV4aWY6VXNlckNvbW1lbnQ+U2NyZWVuc2hvdDwvZXhpZjpVc2VyQ29tbWVudD4KICAgICAgPC9yZGY6RGVzY3JpcHRpb24+CiAgIDwvcmRmOlJERj4KPC94OnhtcG1ldGE+Cu0FrMkAAAAcaURPVAAAAAIAAAAAAAAAnQAAACgAAACdAAAAnQAAYZVqoT13AABAAElEQVR4AeydB7zkVNmHj7RFylIWpEhZ6UuTIi4gCkhHqizSBKSJgKB0lC5NivRFpEuVakGUjihVmnQBQcoKu9JWUNoC98tz4M13JjeZycxkZpI7//P73TuZ5OTk5DmZZM5/3vKZgag4FREQAREQga4TeOCBB/wxl1122a4fWwdsnYDGrXV22lMEREAEREAEREAEREAE+oXAZyS49ctQ6zxFQATKRkDCTdlGJF9/NG75OKmWCIiACIiACIiACIiACPQzAQlu/Tz6OncREIGeEnjwwQcdRsZLL720m2yyyXraFx08H4GPP/7YPfTQQ+4zn/mMW2aZZfLtpFoiIAIiIAIiIAIiIAIiIAJ9R0CCW98NuU5YBESgLASefPJJ984777j555/fzTjjjGXplvpRh8DEiRPds88+66aZZho3atSoOjW1SQREQAREQAREQAREQAREoJ8JSHDr59HXuYuACPSUwIQJE9y4ceO8eLPwwgvLyq2no9H44Fi3PfXUU14knWuuudxss83WeCfVEAEREAEREAEREAEREAER6EsCEtz6cth10iIgAmUhYFZuWEzNMcccbvjw4RLeyjI4n/YDoe2tt95yr7zyihfbZN1WsgFSd0RABERABERABERABESghAQkuJVwUNQlERCB/iHw/vvvu+eee84LOf1z1tU9U8S2+eabzw0bNqy6J6Gei4AIiIAIiIAIiIAIiIAIdJyABLeOI9YBREAERKAxAdxL33jjDffuu+/6RAqN91CNbhEgQcJnP/tZN/PMM8uNtFvQdRwREAEREAEREAEREAERqDiBjgtuTFRUREAEREAEREAEREAEqkeATMoqIiACIiACIiACIiACzROQ4NY8M+0hAiIgAiIgAiIgAn1BQIJbXwyzTlIEREAEREAERKADBLomuOkLWwdGT01mEjDLSl13mYi0QQREQAREQAQyCeg5molGG0RABERABERABEQgFwEJbrkwqVLVCGiiULURU39FQAREQATKREDP0TKNhvoiAiIgAiIgAiJQRQIS3Ko4aupzQwKaKDREpAoiIAIiIAIikElAz9FMNNogAiIgAiIgAiIgArkISHDLhUmVqkZAE4WqjZj6KwIiIAIiUCYCeo6WaTTUFxEQAREQAREQgSoSkOBWxVFTnxsS0EShISJVEAEREAEREIFMAnqOZqLRBhEQAREQAREQARHIRUCCWy5MqlQ1ApooVG3E1F8REAEREIEyEdBztEyjob6IgAiIgAiIgAhUkYAEtyqOmvrckIAmCg0RqYIIiIAIiIAIZBLQczQTjTaIgAiIgAiIgAiIQC4CEtxyYVKlqhHQRKFqI6b+ioAIiIAIlImAnqNlGg31RQREQAREQAREoIoEJLhVcdTU54YENFFoiEgVREAEREAERCCTgJ6jmWi0QQREQAREQAREQARyEZDglguTKlWNgCYKVRsx9VcEREAERKBMBPQcLdNoqC8iIAIiIAIiIAJVJCDBrYqjpj43JKCJQkNEqiACIiACIiACmQT0HM1Eow0iIAIiIAIiIAIikIuABLdcmFSpagQ0UajaiKm/IiACIiACZSKg52iZRkN9EQEREAEREAERqCIBCW5VHDX1uSEBTRQaIlIFERABERABEcgkoOdoJhptEAEREAEREAEREIFcBEonuH3wwQfu/vvvd/fee6+bMGGCe/31192IESPcPPPM4+aee2638soru+HDh+c6OVXqXwLNTBQ+/vhj98QTT7g77rjDvfzyy+7VV191U0wxhZt11lndyJEj/TU377zz9i9MnbkIiIAIiEDfEWjmOdp3cHTCIiACIiACIiACIpCDQKkEt4ceesjtv//+7o033sjs+jTTTOO23nprt/nmm7vpp58+s14rGyZNmuTFFval7aLbb6VP2qc1AnknCi+99JLbb7/93DPPPFP3QKuvvro76KCD3HTTTVe33lDeOH78eIc4OWzYMC+CD+Vz1bmJgAiIQL8TyPsc7XdOOn8REAEREAEREAERyCJQCsGNSfxFF13kTjvttEH9xLLtv//97yARbtFFF3VnnnmmQ4ArqvzjH//wQh7t7bbbbm677bYrqmm102UCeSYKf/7zn72I9s4779T0buaZZ3bvvfeeS67//Oc/70488UQ3//zz19Tvlzdf+9rXPJPRo0e7sWPH9stp6zxFQAREoC8J5HmO9iUYnbQIiIAIiIAIiIAI5CRQCsHt2GOPdVdeeWXc5XXXXddttNFGbuGFF3bTTjutX4/V2xVXXOHOOeecuN5KK63kfvazn7nJJ588XtfOggS3duiVa99GE4VrrrnGHX300XGnEXC/853vuMUXX9x97nOf85ZcWL898sgjXggOrS7PP/98t8QSS8T79suCBLd+GWmdpwiIgAg41+g5KkYiIAIiIAIiIAIiIAL1CfRccAtFLrr6/e9/3wsfWd3+61//6nbdddd486mnnupWXHHF+H07C2FfZOHWDsne71tvovCf//zHrb/++rEF26qrruqOOOIIN/XUU6d2HFfKPfbYwz333HN+O+LcL3/5y3gykrrTEFwpwW0IDqpOSQREQAQyCNR7jmbsotUiIAIiIAIiIAIiIAIBgZ4Lbj/84Q99sHr69N3vftf/Bf1LXTzvvPPcGWec4bchnBx66KGp9ViJu+rEiRPdwMCAj8k21VRTZdZtVXCjfVxb67WddVAsp2aYYYaWrfRIMvH222+3FVPro48+cohQuFIOlVJvooBIe+GFF/pTzWslCePNNtvM/fvf//b7HXfcce7rX/96Q1ywffPNN/34WJ8a7hRUwK2Va7jV2HGNxvatt97y7rO038g9uxXBjb6T+IRrqx1LVBJZkMQiWd59911//ZNIJUswTe6j9yIgAiIgAo0J2DOL708qIiACIiACIiACIiACzRPoqeD26KOP1sRJu/XWW3NlICV76Te+8Q1/togEt99+e421ETHf/vCHP7irrroqtkoyNMSEW2+99XzihSmnnNKvvvTSS91NN93k/ve//8X1EQiI2UXBom655Zbzy/bvwQcf9C6uvJq7IbGtvvSlL/m+4ZaYVvjiSt/uvvtuh7We7YuV3gYbbOBWWGEFhwj54Ycf+j6miTq4Ol5yySXusccec3//+9/9YeCw1FJLueWXX94LQ0lx45VXXnE//vGPfd0f/OAHbskll3TXXXedu+uuu9ydd97pFlhgAS9KUmHppZf2Fl2+cso/3DGvvfZav2XnnXf2x0yp1tNVWRMFBDNclq1gqbbYYovZ27qvuDQjtFG4Nn7961+7ySabzL8/4YQT3OOPP+7FU9ycaReuDz/8sN/O+CyzzDLeGnPMmDHxfn5j4h+ZUnFbZV+zqltkkUUc19dqq63msLALS6Ox5bgnn3yy3wUBjs/L5Zdf7h544IGwGS+KrbHGGt7C1MQtrm+LrcjnlcK5WBw7rk+SmIQFkZCYjOwbHuOLX/yi42/bbbf1nMJ9WOa6R/hdZ5113Le+9S3/+bjlllvcX/7yFy90kr2YAh/Ggs+RfX5YT7/WXnttt+mmm7oFF1yQVSoiIAIiIAItEsh6jrbYnHYTAREQAREQAREQgb4j0FPBDaGLIPSUb3/7237CnXcEEKQQrxA8QnEJix1icb344ot1m8Ja5/jjj/f7HnbYYe73v/99Zv2f/OQnsUiDYEEcubPPPjuzPmLbueee6+aYY46aOvSZuGG/+93vataHb7DyO+uss/yqH/3oR26TTTYJN7sbbrjBHXjggTXrkm8QNTjObLPNFm8iC+cWW2zh37ONhAHXX399vB2h7p577onfI8pY/Lx45acL3/zmN2O+eUXSZBudfp81UUDAIRMuZdlll3W/+MUvcncFa6q11lordkVlHOecc06//w477BCLa4imCKpZZeWVV3aHH354qtUa/WNbMmFD2Nbpp59eI3I2Glus+BDcsDY75JBDasY9bNeWERO5xhHdEFbpT1bZcMMN3cEHHxxvRgCG77/+9a94XXIBMRvhEoE4LIjVFMQ2BOAwxh7rEdyefvppt+OOO9blQ10+f3wOVERABERABFojkPUcba017SUCIiACIiACIiAC/Uegp4LbT3/6U2+FBnaEN0SwdkvooopwgPiBNRfuZkzYsYyxglsh1kKIClgn4Rp68803+822L2+wprMg+YhhJohhUYOIhbUPLm9//OMfY4szRDesnMxSiHYQ0LCks4KwMGrUKH9cBLCHHnrINvnXpOCGuLXffvvFdegTFk8jRoxwiC7mJkkFjv+b3/wmdnMNRRmECLO8oi4CCNZ1WAuZGBiKjNSxErrdYk105JFH2qZSvWZNFEJ35H333ddbAzbTcawEb7zxRr8Lbs1f/vKX/XIouFl7xIZDROLawxoRizgrWEz+/Oc/t7f+NRmfcOONN/bX7qRJk7y1HCKoFa5BLNcoecaW2IgXX3xxbOnGtcvnjc/G7LPP7oUsrh8T+vbcc0+31VZb+aQRWJJRsBi1gpUehf3NYpBYd1iPWuG6ot7IkSMdVplcW6EQx2dxvvnms+qeFW/4TD7xxBPxevrK5wRxlM+MWf1hiYlL+UwzzeQt4H7729/G+3FsBGWzQIwb04IIiIAIiEAuAlnP0Vw7q5IIiIAIiIAIiIAIiIDrqeCGO6K5nF122WVtu4EhFphoh0sZVi5M1sOCq9spp5ziVyFeMYG3EopJaUkTxo0b57OnUh/X1DPPPNMLW7Y/Fmy4E1rG1Z122slxjpRQFEEMwE2PLKxWsD7C4s72ZX0ouBGrDVc5Eyyw4ttll11qrPsQNfbee+9YkEB8xHKQEh7fr4j+IZTstddebsYZZ/SryMi5/fbb+2WESnMltPq8hoJjKDiFdcqwnDVRwMLLBKRWRF5EMq4rygEHHOAFJZaTghtxBRGDwoJLJteViVohP0Q1YsSZZSYWZkkLMPpN/ymIptaPPGPLPmEfr776ajfvvPOyOi6IglxXFMRCrsew8Nmi77i2jh07Ntzkl0O2XD9HHXVUjYs4+yLkmqhtlnfWkFm42XuEN6xPTZR77bXXvMso23GxRSAMBTU+fwiFZl1YxD3F+qJXERABEeg3AlnP0X7joPMVAREQAREQAREQgVYJ9FRwQ/CxIPS40pE8oJ2CBdv3vvc930QoNoVt/u1vf/MuaawLBTHeNxLcyGSJFQ0FSymse5IFYWzzzTf3wgnCGiLJFFNM4YUGsx5LE2NoB3dV4ldZXKpQcGNfxAoKQsQFF1xQIzb4DdG/MC4eYiPiBskckqLMNttskxqnLbQgwmIvtNDDhXejjTbyoh8WdLjhhoKH9aEMr1kThVB0aiZ+m50TVmoISZQtt9zSC5Ysh+3iBszYpZVQNAut3ML1u+++u49zlrZ/eA2ahViesX3vvfccAhclKXTZcRCscC2mhIKeba8nuL3wwgs17s+4PmN5mSzEV+Rzb6JjOAah4MY1zmeMz44VBGWs/ihJC06rwz0AV3UKY5I3Pp/tr1cREAEREIFPCGQ9R8VHBERABERABERABEQgH4GeCm7EfzKLLQQli4eVr+uDa2ElhmhAYaKeFIMItk5we9w3Kc0KbriPIm4w2UcgySpYJ2H9RjHXvzXXXNMLaaEIlrZ/uG8ouBHzytxhicdl4klaGwg2ZuWDxdwXvvCFQYIbrq244iULx7DEAEmXyyeffDIOkI+wSSytspasiUJoVUliAnMVznseJBswyy8EHawMKaHg9qtf/crHIEtrE0s2XJRNVL3vvvt8wo+TTjrJJ8Jgn3qfBRIREOePYmOQFNyyxhYxmELMwzDuIesQwrD+NKu5ZgW3MDYeSRG4BrMKlmlkiqUQj9BEtFBwYzuJRJIljB+IlSnXICIh4raKCIiACIhAcQSynqPFHUEtiYAIiIAIiIAIiMDQJtBTwQ33unvvvdcTTnOhawc9Qh4uck899ZS3XCOYu4kc1m4zglto/cP+SVdVa5NXs95hGWso3PNMPMAVjlhaWeW2225zCF2UUHALWZFdNEyIkGwLdz/EJIq5TYaiTJaFE/VJOmGZUZN9xcUUiyRKPVHIV+jxv6yJwrHHHhu77RKUHyG0mQJPs6AK49yFgpuJaFnt7rHHHj47LNvNijAc37zXFuITMeXyjq31h0ygWEISJ414aCQiMFdWq9Os4Mb1Zm6mjbiSGRcGlDBZSii4Ec8uKZhTP7QE5L0VxDfi6fGHAFePoe2jVxEQAREQgWwCWc/R7D20RQREQAREQAREQAREICTQU8EttNoKxYuwg1nLxF/DBZRCLCwCv1MQ2LCOMSHPrwz+MRE3QawZwS0ZED5osu4iMdUQ3CyYPMKbWfek7RgGzg8Ft9CyJ0uMsPauueaaOMOjxakLRRliwVmmTtsnfCUrJYkkKGYhh/UgSRIQLbNieIVt9Ho5a6IQWqiZhVgzfQ2tB0MLORPcGlk/cqww1hmuwYsvvrh3szT36rz9IdspMQPzju2bb77pEzVwfaQVrMRMlG5WcAs/y8S5w102qyDyWezEMFacCW4kLDHX7bQ2sLRE+EwmGbG6fMZJEmHHsPV6FQEREAERyE8g6zmavwXVFAEREAEREAEREIH+JtBTwQ1LISbOlKwg/WnD8/7777uvfOUr8SbcJ6ecckpvpYPFjAlqTNwRJbDUmmuuudzcc8/tXefMha0ZwQ13PLNSY0JvseLiTmQsYHGDq6wlc0hajSV3Cy14QsHNBB3qZ7kMWluhWyqZYFdfffUaUWbXXXeNkyPYPuFrmDwB90X+wnWNLJjCtnq1nDVRCK2rEMew1AvjhNXrL1aTuEFbIT6eJZwIx4c4YvUKIqxlHCUmHNcl16IJSMQfTLPuSrZJ9k+uyVBwyxpbYrgxjpb9k2uYDLe41PLZwEIMHiaqNiu4kUH07LPP9l3EbXuVVVZJdjd+H7rFIopZ5l0T3MLYdvFOKQtkFUZ8Ji4jzC17qVUNPz+2Tq8iIAIiIAL5CGQ9R/PtrVoiIAIiIAIiIAIiIAI9FdxCoYChQIBbaKGFGo5KKJqEQh0TfeJnUcaMGeP22WefQWLK888/H2eWbEZwo02LOYc4kWUlRL20YjHc2HbHHXe4qaeeOq2aj59msdpCwSAMlp+VsMEaxM3wxhtv9G8vueQSnw01ZF0vKD87kRyBwP+4GSLC4MJKjDHGB6GGtrP6b33o9WvWRAGxluyhZsmFy+9aa62Vq7vh9YWAamIxO4eCG8kkzOIy2XCYeIJtJhaHrq5ZCQeSbdn7PGN76623xsIWIhuWcWlxzywxQrOCWygUY11m2U6tj+FraIEZxgk0wS38TIf7NVpGTCR2IvcHCtlN7bPUaF9tFwEREAERqCWQ9RytraV3IiACIiACIiACIiACmQQiAaCjJTrwAH9ZJQqaPrDsssv6v0gIGogEkayqfj3bIwu1eJ8o0Htcf+utt47XR+558fpw4frrr4/rRJPzcNNAJFzE2yJRq2YbbyI3zHh75Lo6aLutiMSMgTXWWMP/RaKVXx2JEPG+9CGtRIHr4zowueqqq+JqkXAWbzvggAPi9cmFyAorrkcbtEmJ4nTF6yM3xuRug95Hrpdx/cgiyZ8L7UWug4PqlnFFvesuEsTic9tggw0GXnnllYanEFlRxfvA4dlnn63ZZ/vtt4+3Ry7ONdvCN5EVW1yPY1uJXHfj9bDPKpF1Y3xtRUKor5ZnbE8//fS4fdpIK3Dg3PjjfJLlq1/9qt8WWdElNw08/vjj8b5Rpt2Bd999d1AdVkSxEAcil+a4biQ4xvXs2HxW0gqfB9qGWxSfMa3KwOuvvx63TXtZ/UjdWStFQAREQARiAvWeo3ElLYiACIiACIiACIiACGQS6KmFW/Rlzr3wwgvemoplCpY1WBKlZdB8++233THHHBNbb+Eyetlll8UB0nFPM7eytMQCr732mttyyy1j6yascLDGsRKJKG6zzTbzb82V0rbxGrrC0U+yhU4//fRhFe+yt8022/h1WBBF4pp3D7znnnviY7Eet08s5axgeYVFm2VQZX1o4UageyyzzF0WiyhcAsMSiQt+HyzoKJtvvrm38mM5jxUU9axwPGsfKzeLL0Ymy1GjRlm10r7W+2X+o48+cmSctWuF8YgEqUzrSlxHI5EzPlcsHQ8++OD4PQuhhRvvyfbJNRIWElJwvZlbJ21iiUlhG3H+GF+sCMnkictoWNi20UYbxdevuaPmGdsw2UOaSzDZU7E2s2tn0UUX9X0Ij1/P+o16oVssn7Oka2x0F/LXPe6nlAUXXNAnELGMqY0s3HAbNVduPgvEwrNx9g1G/3CdtQy+XLf1sgnbPnoVAREQAREYTMDur9y7VURABERABERABERABJon0HPBjS4jThBo3QoCCLGkCCa/wAILOGI1ISpQz1wBqZt0rQyD/SMYIG4QnwqxiKyMxJgywYr9iRWFyIDrGeXVV191kQWNX6YP2267rZt22mndMsssE4tje+21VyyKMaFHAEA4QOwinhQxwUycSrpu7rzzzu6BBx6I20dgoZ+4buLyRybVsISCG+sRF3EFtIJYgyg2YsQIn0ACdzrLNoloQ18sxlgeUcbatdfDDjvM4R5phfOkD1UojSYKsCZTZng9rbvuul4kY0wQQIlbR3ywUARlG0Ir10dYkoIb2xjvpZZayo8Bgf7JThuKfLCdaqqp4mbCmIas5Ppdcskl/TXIdYN4a2Jd6HaZZ2wRoA899FB/LK6Ngw46yC222GIOERuhmc+WXTtUog6fScbc+hgm7kCQnnXWWd28887rPx/swzlGVqYs+sLnC2GTGHXEv8OVNGRJshNiHFppJLjxGYus7Ky6j01In/iMU0iigpBtjIjVGFnQxvW1IAIiIAIikJ9Ao+do/pZUUwREQAREQAREQAT6k0ApBDfQMxFHBAgFsawhQQzAOgiBJCyIatttt124atBy5OrpRa9QaLE4WmEmznDHMIMqYhpC2MMPPxxWGbTMcYgPFga/J0sk55iVQZVG2H7kkUf69ojFhqBgJXLH8xlZsX6qVxCDSJaAUGgljyhjde0VsWnHHXe0tz4GWFUyP+aZKHANIMjcd9998TnWW+DcsdoyASqsGwpuWF4iMGUVhFoszkigERYScyCoXn311eHqQcu0zzUwwwwz+G15xhaLRcQvE4MHNRqtQFwbPnx4LApTB2u0yDXTVw+zq/oV0b+ktV8Yy83qpL2SJZdsuWFpJLhRN7QUDfdNLmM9St8RBVVEQAREQASaJ5DnOdp8q9pDBERABERABERABPqHQGkEN5AjUuDahzVPKIiFw8EEf7fddhtkYWR1CJh+2mmneYs4W8crIgfiEQIWlnFY11hhEm+ZKrFqOuWUU2oEtVBwYx9cEmkDC6WksILYtcsuu3j3QDKnJgv7YiV25513xkIPAiLZJhEgEOhwzaNkZXukv/TfLHnsGBybdvbcc89YjLFteUQZq2uvuJF84xvfiEWaMCun1Snra96JAuOBmyzB9bPEKIQoBDWyvWYVE9wYA8YXa0NcPsPCOJO9kyylJpaF2235lltu8ZZajFmyRLHV3FZbbVWzf96xxX2bazu0MqN9+oWrKp8rrn+uXytnnXVWLNxiAYpQyLVrwnhScGO/l156ySfZwAXU6ll7o0eP9qIlTJMlj+DGPojdCI6W6TVsx84Fd3HGQkUEREAERKA1Anmfo621rr1EQAREQAREQAREYOgTKJXgFuJGcMNF7OWXX/ZiGW5pc845p7N4T2Hd5DJCURQA3ruiso19k7HWxo8f7yZMmOBdVnEbbbVESQn8sYgdRWZK3DtDq7Z67WJRFwV5d7PMMksciyrM4GgZRrPawOINN0DcH7HkoZ0iSxjHDYs94udVpTQ7UWAscK3kuuDaQ4AljiCWUuayWO/cQ8HNMsRyTeBCyjVCO1mZS7PaxeKNrLq4fc4222x+fxOGs/bJs57z4zwpXDdJKzD6GyUF8e6i7VxT4eeQzx+WeXk/G3nOAy6IgMS/o13Ga4455ojF8zxtqI4IiIAIiEA6gWafo+mtaK0IiIAIiIAIiIAI9C+B0gpuQ21Irr32Wnfbbbf50yJ2WDIgPhsQfYjLZrG0iOuGi1+vSpQt0x1//PH+8FgeLr/88r3qStPH7fZEIU1wa7rT2kEEREAEREAESkKg28/Rkpy2uiECIiACIiACIiAChRGQ4FYYyvoN4eqK0EZZddVVfZy2YcOGxTvh2oi7H4HzKb22KCOjK+63uARinXXVVVcVap0Un3iHFro9UZDg1qGBVLMiIAIiIAI9IdDt52hPTlIHFQEREAEREAEREIEOEpDg1kG4YdO4fZI10eKEEVOOpA+4yRIHDkEujNlF/C9cYbtZcGEkjhyZYUkkYPG3yP5KLLcqlW5PFCS4VenqUF9FQAREQAQaEej2c7RRf7RdBERABERABERABKpGQIJbF0eMmHEEpDeX0bRDE+eKTKXLLbdc2uaOrkNwI+lCWFZeeWWfvMG+eIfbyrxs/SWOWDeKBLduUNYxREAEREAEukWg28/Rbp2XjiMCIiACIiACIiAC3SIgwa1bpD89Dq6jWI8Rz23cuHE+QD8B8XHbnG+++dzaa6/tpp566i736pPD0Tes2Ug4MeOMM3rRb5NNNsmVqKInHa5z0G5PFK677jqfhIMkAxtssEGdnmmTCIiACIiACJSfQLefo+Unoh6KgAiIgAiIgAiIQHMEJLg1x0u1K0JAE4WKDJS6KQIiIAIiUEoCeo6WcljUKREQAREQAREQgQoRkOBWocFSV/MT0EQhPyvVFAEREAEREIEkAT1Hk0T0XgREQAREQAREQASaIyDBrTleql0RApooVGSg1E0REAEREIFSEtBztJTDok6JgAiIgAiIgAhUiIAEtwoNlrqan4AmCvlZqaYIiIAIiIAIJAnoOZokovciIAIiIAIiIAIi0BwBCW7N8VLtihDQRKEiA6VuioAIiIAIlJKAnqOlHBZ1SgREQAREQAREoEIEJLhVaLDU1fwENFHIz0o1RUAEREAERCBJQM/RJBG9FwEREAEREAEREIHmCEhwa46XaleEgCYKFRkodVMEREAERKCUBPQcLeWwqFMiIAIiIAIiIAIVIiDBrUKDpa7mJ6CJQn5WqikCIiACIiACSQJ6jiaJ6L0IiIAIiIAIiIAINEega4Jbc91SbREQAREQAREQAREQgV4TGBgY6HUXdHwREAEREAEREAERqCQBCW6VHDZ1WgREQAREQAREQAQ6T0CCW+cZ6wgiIAIiIAIiIAJDk0DXBDd9YRuaF1BZz0quMGUdGfVLBERABESgCgT0HK3CKKmPIiACIiACIiACZSYgwa3Mo6O+tUxAE4WW0WlHERABERABEXB6juoiEAEREAEREAEREIH2CEhwa4+f9i4pAU0USjow6pYIiIAIiEAlCOg5WolhUidFQAREQAREQARKTECCW4kHR11rnYAmCq2z054iIAIiIAIioOeorgEREAEREAEREAERaI+ABLf2+GnvkhLQRKGkA6NuiYAIiIAIVIKAnqOVGCZ1UgREQAREQAREoMQEJLiVeHDUtdYJaKLQOjvtKQIiIAIiIAJ6juoaEAEREAEREAEREIH2CEhwa4+f9i4pAU0USjow6pYIiIAIiEAlCOg5WolhUidFQAREQAREQARKTECCW4kHR11rnYAmCq2z054iIAIiIAIioOeorgEREAEREAEREAERaI+ABLf2+GnvkhLQRKGkA6NuiYAIiIAIVIKAnqOVGCZ1UgREQAREQAREoMQEJLiVeHDUtdYJaKLQOjvtKQIiIAIiIAJ6juoaEAEREAEREAEREIH2CEhwa4+f9i4pAU0USjow6pYIiIAIiEAlCOg5WolhUidFQAREQAREQARKTECCW4kHR11rnYAmCq2z054iIAIiIAIioOeorgEREAEREAEREAERaI+ABLf2+GnvkhLQRKGkA6NuiYAIiIAIVIKAnqOVGCZ1UgREQAREQAREoMQESim4Pfvss27ChAke2/TTT++WWGKJQhA+8cQTbuLEiW666aZzSy65ZFNtPvjgg+69995zw4cPd4svvnhT+1a98rhx49yLL77oT2P06NFu8sknL/0paaJQO0SPPvqomzRpkltmmWVqN3ToHZ+VH/zgB+7DDz90O+ywg1txxRULP1LeY/z0pz91zzzzjPvKV77itt9++0L68dZbb7nHHnvMLbjggm7WWWfNbJPPDZ+fZZdd1g0bNiyzXlEb6BdcPve5z+Vu8oMPPnAXXXSR++ijj/x+G220Ue59y1DxlltucZdeeqmbb7753IEHHliGLpWmDzy3xo4d62accUZ33HHHVeLe3QiexjubUNHjredoNmttEQEREAEREAEREIE8BEonuA0MDLhNNtkkFng4iT/96U9eJMtzQvXq/PCHP3R33HGHr3L//ffXVH3jjTf8RJWVc845Z8023my44YbuX//6l59gX3bZZYO2V3nF//73P/ef//zHn8Iss8zipppqqprTueSSS9xJJ53k1zExHzVqVM32Mr7RRKF2VHbZZRd33333uTvvvLMrws8f//hHd/DBB/tOsFxPlKrtaf53eY7x8ssvuw022MA3iuDw9a9/Pf8B6tR86KGH3E477eS++93v+r+squedd54744wz/N+Xv/zlrGptr7/mmmvcxRdfHN83p5lmGrfeeus57nnJz3PyYCeeeKIXrFhfJKPkcTrxnh9QGN933nnHHXLIIfFYd+JYVWwTkX3MmDH+2bXffvu5b33rW1U8jbjPGu8YRepC0eOt52gqZq0UAREQAREQAREQgdwESie4PfLII4OsUA466CBXhNVFPcHtgAMOcDfffLMH99e//tVNNtlkNRCHsuB21VVXOayAKOeee6774he/WHPuEtxqcFTmzT//+U83zzzzeKuWpOD2/PPPu7nmmstNMcUUHTkfrNoefvhht+qqq7rjjz++Z8c466yzHH8IUHy+G4lP9ToaWo8lBTesyl577TXPFJEPiyKOmRTcqIOF6EwzzVTvUE1tu/DCC92pp57q9+GYtM2PAxQsC22bX5H4d9ddd7k99tjDr+WHjh/96EeJGuV+e9hhh7nf//73/jq/8sorh4QFV9HEb7zxRvfjH//YX4+/+93v/LVZ9DG61Z7GuzHpIsdbgltj3qohAiIgAiIgAiIgAvUIlE5wO+KII9xvf/vbmj4vssgi3nqjZmULb7CAuOeee7zI8Ic//KGmBQlu2YLb1Vdf7X7xi194Xrgn4UZX9tLvEwUsfr72ta+5mWee2W288cbupptu8tZPiM7XX3+9+/vf/94xayaEvk033dRfIog9nXAnzXMMXCTXWWcdh/Xqd77zHff973+/rcv2nHPOcWeeeaY/n5EjR3qrsOWWW87NPffcDgszxE0+K9/73vfcAw884K1isci5/fbb3Te/+U0vyP35z392m222mdt3333b6ovtbOPMe8TNY4891v9YEIpwv/zlL91iiy1mu8SviH/0izboO26ZU089dby97AuECNhmm218N0844QS3yiqrlL3LPenfxx9/7DbffHP33HPPua222srtueeePelHuwfVeOcjWOR49/tzNB9x1RIBERABERABERCBbAKlEtz++9//xpOmpZde2o0YMSK2OmMyuNBCC2WfSZtbJLhlC25tou3J7v0+UUBkQuzC+iet8PnCJbITbo4cF8EHsQ+3z07E/MtzDNzHERgpCGHzzjtvGorc6xDpL7jgAi9cJHfCsgzXxt13391b1F177bVe6EvWQ9hC/CjKtY94Vvvvv78/THiOiI0IcIhpxK3bdddda7rCpJwYe3fffbdfj5t8FYT08CTM2qmT11l4vCovX3HFFV5g5xxuu+02R2zUqhWNd/4RK2q8+/05mp+4aoqACIiACIiACIhAOoFSCW5YtmHhRsEajQQF++yzj3+/5ZZbur322ssvN/OPiSfxyZiU1SutCm5vv/22n9TixtWKu9qbb77ppp122sx9CTpPHfrfrHCBdQ1CQKN+NXIprcctbRvHpa+9nNRpovDJyCC4IKzgAmmFz9nnP/95e1voKwH4V199df+ZwI0V19KiS95j7L333t66jIQFZqFZRF+wkg2t5bg3wTj8fHLfIXYb1mVWiJWG1WGRxdy9+ZxjPRcWxD8EtXXXXdf95Cc/CTd5i+GTTz7Zr6tibK/XX3/drbXWWr7/WLmZW2zNSRb8hvsaMUabdQc2V2SS9TBOrZRXX321rTiI7I+1J4XnKNdslUovxpt7J/FN+eEvGWKiHrt3333X8b3gs5/9rH+2N7Ovtcs1g7Vpo2e31U++FjXeeo4myeq9CIiACIiACIiACDRHoFSCGxMn3EYot956qw/uvsYaa/jJOxMVYpOkuTy98sorPkYN+zHxJQPpdddd54hPRJB4MjMyucQdkmQJtMUyQhyTD6w9yIzKF2yKZUWdffbZ3THHHOPXhTHczj//fJ/V79e//rX797//7bfzb9FFF/XHZ4IfFmLC/fznP/erEBSJ98RE+d577433Zx9czSyoOxYyuAFyDlZwrd1uu+3caqutZqsGvZKljF+3ecXKiUJm0S996UvuG9/4Rk32Qs4dMY+MsHYeWODMMMMMfj8CqBPsnrEgWQKF/hP7K1mIj8VfeFw4w55x7VZ2TOtXsxMFrjuuDcZ8zTXXtGYq/xrGRCSLI25lO++8s7du68TJcQ0gXlP4DM4222yFHybPMbieEZooRx99dGFjyr0Cqzk+l3zeuW64zrkXMDG3wr0Ft1o+g9xPyBKL+yn3nVYm4NZu8hUh8eyzz/af6yw3+WQct9A1b6WVVvIJUezzkmy/rO9JEGGCIcvcG61w/XFPw9U3KTRanZdeesn/qMN77k9YA1KS92rE3V/96lf+Xm1x8fjxY+2113YIyogqyYLYihvx5Zdf7l2Lw+3syzMNF+dkIhGuK64bhDEsIOkLFox/+ctf/P15/fXXd8RepGDtlWWxyfNlt9128881kuBYDEUTYMlgm7xWfKMF/8MqnR+MEEbbvQ90arx5/tkPeVtvvbX/jGLFSoIZ+y7C55vPLgJ+WkIlsPH5ZrwRve17hOFkvHHlTWY3J7YkgjjjyHgyttwzWYfL/1e/+lWfVZ12ejXedl9AaFYRAREQAREQAREQARFonkBpBLdnnnnGbbHFFv4M+IJqQhevuEpRsibO4b7U4UsvcaqsMKlkcsaEJsxSyqSL+FZZJZyYmOCGIIWlgn0ZT9uXSZ5N9tkeCgQEr6YvyS/l1g5B1pnMEy8qq6Rl42OSxz5MvrMK50NShDnmmMNXQVgyUS5tHwJsM8EwKxrqJLOUMiHFcgcruXqlVQvFem3W29bsRMFccJhYmThar/0qbGNsSDaC+ETG0BVWWMFnLOTaw+UTwajowkQfIRlLLq6LTpQ8x0AUR9xisoxwPWzYsEK68pvf/MYdeeSR3kIQIYbPHFZsyfMl0Qv3IO4Dhx56qNtxxx39pLxo6yJLyhDeq+xEsfriXhJauDH23GcRjxB/OAdeq1ZMPKLfySQ3dq/GRTYro7QlvWB/7snEsqOE92qeJYx11r2aZwHth9cWgiz35/D54xtO/MPClGsnFN34UYSC2LbAAgv45124G9eQPRfqZcflBxKsFin8QMPnhcK9+5RTTvHL3K+JQ9jJYudDn5daaqm2DtWp8Q4twbBaRdwk2Uta4V7CfWX++eev2cz3E/u+UrMh8QZxPPwxjjFirLiO+M6A23d4rXEdWzzbXo13s8/RxCnrrQiIgAiIgAiIgAj0PYHSCG5MzvlFnHLSSSf5X3dZxmKKL5uULNewUHAjw2b4hZnJJLGV+DKdFNwQm/iVmYJIZ1ZeZOvjiyYurRb7yCZxvvKn/xCRFl54YTdu3Dj/xdj255jEzjJ3kHASZ/tjdYIQiDsp1gaIFMlC+wQ7x2IB8Ss8r+Qk07Ix0gYTAybVTAyYUBBHi1/MKUzMEQiY6J122mneZQZ+1jaMv/CFL3j3OJhhwVFPcDv88MMd1nhW1ltvPf9LPm41TCb45d9KUdlmrb16r81OFIai4IZVAmPDtYJlIkz+9Kc/+T8me1wnRZZQwO6E+yR9zXMMRA+uQz6P3/72t+M4bkWcK22SmGDbbbf1lrSTJk3yMdQQSZZffvn4EFgWItxSl/sImUuPOuoob/2H5VVRBYsYBD0K1lBmnQoDkggwgcetF2ssSvh5xeW1EzH8/IE6+A/miMeUNIHc7tXtCm52CjxTsICDLfHPQtddrOnGjBljVWtcdfl8IcRicY3l7NNPP+2FbhNVSF6A5ZMVE6jMctLW086oUaO8aG7ZurmPM/Z2n7O6vIbhEUJhjfuAPc+S/Q73L2rZzqddwa2T4x0KbnbesOWHOETRv/3tbz4him3DXd4yerOO5xuiphWe6VwvWBNjZQl/rIop9sOf1TXBje8LZIu27w9sx2ITkdHE0l6Nt11fsnCzUdOrCIiACIiACIiACDRJIPoi1dESdQdfhLrHiASlgch9YiASe/xrZJkT148stwYiize/je0vvPBCvM0WoolMvJ06/EUWPQORu4hV8a+Ru2lcr2ZD9CYKPB5v45jJEol28Xb6E2VJrKnCPpErUFwnErDi7ZGFTbyevkWCV7yNhcjtZiAKpF5T5/HHH6+pA5NoEhDXiUS+eHskQsTrqRN90Y+3sRBNWAaiSUJcJ8q0WLP9yiuvjLdFE4yabbyJ3Hni7ZFlX7w9mkjE6zmvyCUz3mYLkYga1+Ecu1XyXHdhXyJ3IN/PKMNkuFrLTRCIBCbPkM8H13QnSp5jROJ1fM1FruKd6EZp2ozc6eNzjaxX435FIn68/rHHHvPrb7jhhnhdlHQirhuJcwPcTyKrtwGWy14iMTP1PKzfdq+ud7+JfsiJ24gslGzXgeS9OvpRYiD5PIiErnjfSMCK92UhSlARb4tcBGu28SYSaOLtUXzSmu327LLXyMVxIHn9Rj+CxPuHzxhrKEo8FG+nL2GJfmCKtyWPHdYratnOI7ImbKvJTo53JHLFTOgv4xnFT6vpL58NOxdew3sbz1LbxmcuWaJYbvH3F77jhNdSlKk43pc2uG9GFnY1dXo93s0+R5Pnr/ciIAIiIAIiIAIi0O8E6ithBdDJ84UtnORE8WYGHfX000+Pv5hGVhmDticFt8htZlAdVhQluKV9sab9yJ0z7ifnZCU8v8gtyFbXvDJZti/uP/vZz2q22RsTG6gXTrYid5R433C97cfr+++/Hwt2fLFHhLPSquAWxZWJj4tglVY4rk2A6XdSDEzbp4h1ea678DgS3EIazS9zPXFdMcaR61TzDeTYI+8xIusd34+k4JDjEJWswo8Ldu+IXFYH7PxZZ4JQKMpHVlUDCPgIB9xr7McO6rPMfSYUBsoGJRQOr7nmmkHds/tNu4IbP16E90k7UBRIP+ZNHSuRVW+8nmdNWqE9G6vk9WnreUVsSzt2ZMUY7x9ZTw46RMgmsooetN3GOuz3oEoFrbDzaVdwC8+p6PFOCm58TtJKZGUfc2cfKzzP7TxDIc6288qPOFaHa8RKUnAL27U6vR7vZp+j1m+9ioAIiIAIiIAIiIAIfEKgFIIbk0L7QooFQLKEglpSLKJuuJ12+CU/rRQluCEipZUHHnggPo8sq4m0CQNtRbGh4n2ZYKQVE4U4x1BYM+s4LOzqlVAQpK9WWhXcmLTZuEXBvq25Qa9RhrkBrD3465YFTbMTBWPbDQs3rBfr/WEVUbUSBYmPrwUspTpR8hyDa82uSSyR+qFwPwrFbzt/xLfIfdELN1GQ/pjLiy++6LGEwlyU4KFGGI8SphSKjj7Wu+bZllfks88q5xn+sGEdLkpwi9z0rclBrybAIGCFhfPkL0184XPND0Y2PvUEtyjZT9hsvIxQaqIZr6E1OJUiN9W4fazdksXYJPudrFfEezvPdgW3To53KLhl/RgGi/DZGVodIooy3slxYB+2hT+2wSNLcMOSMq30erybfY6mnYPWiYAIiIAIiIAIiEA/E+h5DDeCdxNzxwoxbSxuiK3jlSxlVpLxocIYbsk4KbYPr8kYbuE2YtoQa42SjI/GOosLRCwVYq6llTyBuJN9t3aItUV8JUpWbKVIGPMxoahDsHRiA0UTu5rYUfXiclnsIPYnnhTZ4yjEmbG4NCRVIAZNWNJiuEWTY5/9lHrEqyEGWpmKXUPRh7umW1wrkeBQs443JNNgDDgXsngmC7HsiLvXbiG2VqO4WcmkG+0esxv722eL2FrEBuxEyXMMu1b5HGRlNe5E38rQZuQK5+OERZN0H/Nrpplm8t2KLNZ8shTecI8hW/E//vEPFwn1fjvx3YjzRgmT1MCvqIQK0Q8E8TH8gVL+kZAiLQNysqplZmV9ZP1cc/9jnd2r243hFt4jaTcsMCOTJddZGNPN6pBtlPheJNchhlf0o9Cg+w73We63VizmGe/TnkFWj+cD938KCXh45lEYf8tyDQMSpSQLMQ0tnifZMKeccspklabe8/whI2taicI0+NXcT7mvJguJFMLMvsnt9r6T4x3GcCNxBgk00oolJ2Ebz7rk+RBn9cknn/RjHoWbcDxnjHPYHs8Zy7RuMdzYXi+JTS/HO+s5Gp6TlkVABERABERABERABLIJ9FxwC4P9Z3ezdksyI2AouEWWGj6Iee0en7yzCTvvonhjNVXyCm7tTuKKFtzGjx/vA8TXnEyON3vvvXecFbYVwS2yDIgzsXZSZMlxKqlVsiYKiEEkjWi2EEDbMsY1u29YP4/gZqJIuF+Zl8NrMLKMiif9RfY5zzEQVwkqj4iPmBTFqSqyC5Vsi/tcZLXp+7722mv7rJu8Ce+7ofASfq6LFH4JPh9ZENVlmFdwQ2SyH2CSmR85QFGCW9a9mmNkCW5R3FCfLCOyZKbaoIKAaZmhswS3RveaMHFIOKbhjzZpP5zQGcSvyLrZ9ytMsjGoozlXRFZ0PjlHzuo11fiRhyQEjUonxzsU3OolWMkS3PjhiefJBRdcUJNhNOucsgQ3EhuFGWvD/Xs53lnP0bB/WhYBERABERABERABEcgm0FPBjS+rkRtkPAHJ7ubgLViZYW1GCQW3yD3VRa46g3eI1gxFwQ1rFrO8wtrCJtepAIKVWFktsMACfk0rglvkHuUz99HAEkss4c4///yg9d4vZk0UsCSI3H0HdZCJslkAMuFNlnnmmacQyy1EoSgwdrL5mvcLLbSQz2pYs7LEb5jcY0XF9cckvl2rmbRTzXOMMKPxZZdd5hDH+7lMnDjRkT0VgYd7JZY50003nUdi2UrTsnyuueaafh+yJG4bZWMtomDxhZVbvUJfsCRtVBA3sGyjpIlieQS3MGMnVk1YN1HCjNJpbftK0b80wQ0rJzJqY9VG4fOw2mqr+fsjlnvcQxgHRDLGJEtwSxsT32Dwj+yVltkaCzOyXTNeiKfcvxAv7R4Y7Oaz9prlVSi0hnWaWY7cKV3krhzfO8N9Eb4piIxp44oFnD27wv2Sy50c73YFtyjmrItcXuMu82MglopkIuaPscBSkqzllCzBjbGcfPLJ43aSC70ab7uGkpbiyf7pvQiIgAiIgAiIgAiIQAaB6ItUR0t02MwspcSpsTgvFty7XmfC+DSRwBNXDWO4RV/O4/XJhSJiuLUbiJs4VGmFANfGgiyLaSWaMMd1whhuFpen1UDYrcZwC2MJ1Yu/ROBnAnzzF7mypZ1a4evqXXdpB7M4Qd2I4ZZ2/KquI1aVJUsguUknSt5jWPIAAs73eyFWIjHc7J5CpsewkKWSbdxTk8ViM2Yln0nW7/b7yNI0Pq+0OH12P6x3ryaWprHJireZda/mfLlPsH8YCy0McE/MPOIJphW7b2bFcCMzZaMSHgsGYezC6EeFzN0tk3bY78zKbW4wvu3GcOvkeIcx3E466aTMM44E//h6sRhuIXN4Ri6lqfsfeOCB8b5ZMdxSdwxW9mq8m32OBl3WogiIgAiIgAiIgAiIQESgp0kTwixd119/fcMBCQMQM3EwkaffBbfIUiD+Qv/UU09lciQjIeIIfxY4ncqtCm5hhrYojlHqcQkobYIME7CsSWjqzm2sbHaiIMGtNdihaP7CCy+01kiDvfIcI7Lmij8DadkZGxxiyG0OP9OIBcliIkBaNk37vEaucsndSvGee42JOZdeeumgPpGF1baTUTSthGJkUYJbmE07LZkD/XjllVfivrUjuHFfNeEOgY5zsHNGRMoqtk+rP85ktZu23vrTruDWyfFuR3AL70uRe2waAv8dxQRgeLQquPVqvJt9jqZC0EoREAEREAEREAER6GMCPRPcXnvttXiCwBdRsuk1KnxZtS/xvEZuQX6XIgS3MGMfX26Txb4017OaiFza4v41O4lrx8ItzI7KJC4Knp3svs8QaOyYUJtYScXIpTTutzENG4jiJcXbI3epeFPkJhOvJ8thmpgWWid00/Ko2YlCs4Ib1i9YyfAXWhvGcApaYEJox+E1clsrqOXaZlo9HxPN81gGdvIYNn5c41kii51xq/2w/Yt87cT4Ri728eeSbJpYCCYLWRFhxb0gzBwcChBp2ZLLwI4suHYvi1xjk6c2YNZ71IlCDwzaHrl0x/tTp9l7NQ2mWbjxg4b1K40dGSdDK+vk/dD2zWPhRh9Cgc8s19IsFqlLmTBhQty/H/3oR5+s/PQ/WWLtPpMlFtbskOONnU+7glsnxzu83pu1cLv11ltjnkcffXQqkdAyDh5h5li7d7I+TylyvPMcjzrNPkfztqt6IiACIiACIiACItAvBD7DiUZfqjpWsmKAWDZBDpyVUS2tU0cccUQcvN4CRocx3OrFHaoXw41g75Zpc/311/dxd4h3RDwj6yMxacqWNMEYRRYbcbY84gRFE0Lf10ik9BnvIkHPRZMLXz3JKIxbRFwhspcOGzbMRZNxH4coHKuLLrrIZ0CkIRIAkFUW/hTi1ZDtcNSoUY74fJEFgI/t5TdG/6IJjYssLOxtR1+zrrusgzL2XAN54ifRxhZbbBGf95Zbbung34lCBsSw7Wgy7Cz7ZJHHa+V8wvhHeQKgd/IYxCojG2S9pCnGq5V+2L5FvxY9vsQR22abbTwLYogRn9FiXYZ9D+PdRWJBfJ8LA9RHgoIbPnx4uFvXrvuag6a8sThtaRmSid8XiV9+Lxgw3qussorjXsg9KZk0pagYbpFrpzv00EPj4x500EFuscUWc8S7jNwQfUbSMEMyfSP2Ic+Uqaaaysf+Yue8SWhoy2LP+YNG/zjvlVde2d7WvN51111ujz328OvCc2YF92bu85Q0pn5Dk/8s6+o555zjyEjaTunUeIf3sGaTJowbN84nabHzIs4aWWJ59pHoIBJyHczDwn0SLjPOOKMLs5QmkziF+9hykeNtbTZ6bfY52qg9bRcBERABERABERCBfiPQE8ENjW+TTTZxNvk4++yz3dJLL52LPRnWyLRmBbGIL81MqihJMcnq8VpPcEOQIitfWJiokpyBYl/4yyq4IaZFVgsNA5MjohHEebLJJotP9fnnn3djxoyJ39sCTOacc04/EWNCRgkFN94jtpEN0gJksy6tIALYZC9te9Hrmp0oSHBrXkAkAcWpp57qRVk+h4gG9UorQleeYzz66KNuu+2284dOXp9p/WmlH2ntFLGuaMEtipPoIndS37UTTjihbgZJxHFLZLDqqqu6yDI2zmBJIPzI0mrQKZaFXRisniQkYVB+hDXu15YNdNBJRCu4F3HtUkLxKfzxodmkCSSGgI/9sOEbT/zj+YGIaZlC2WyZVk2gyiu4sa8lb2AZAS+K9ZWZtCQr0yb7ll1w69R4tyO48T2GZ19k9QnC1MKYIPba9wgq8f1lp512alpwY9+ixpu28pRmn6N52lQdERABERAB2tWnOwAAIVVJREFUERABEegrAli4dbJEML1bQniMKEta7IoRxmIL62Qt4wqJG5S5q+CyWIRLKW5XBAkP26ZvVnCZ5Jh5XUpxEbVy2223xf3FJSutUN/OqdmkCdYe53DWWWcNmPurtccr54XLEG5NaYXjW7B02w93G0qWS6m1gwsfCRFCdtYGbRKDp9sl7bqr1wdzSUyLaZW2H9eBnWM0WU2rUsg6rhc7Dq/RpL6QdpONNHs+fA7tOssbXL9Tx4iEcs+I2F15SrP9yNNmq3WKHN/wPnPMMcc07BLubaH7pV1nkdVVjZtp2FBZ2HGPtP7i2pcsuE/imml17JX+4+4ZBrxv9l7NscyllHteWKIfL3wiCjuevRI7DZdTXMJx27f1vBISgGLr8rqUsg8JE2y/SEBkVWbBhZW6ac/cSFyM24FREcX6FQnibTfXqfGORNn4vOvdx0PX0OiHwvh8+Azx7LNzDV95lnAdcs+22Hlsjyz+/P7NupSyU1HjHZ9Ag4Vmn6MNmtNmERABERABERABEeg7Aj2xcOsrRbNHJxtNBFwUoNvhYjb77LO7ESNG1Fi1dapbWJVgMTf11FO7ueaaa5BLWqeOm2y3G7/M33fffd7iADfnaBKb7EKh77FGYjxDS4lCDxA11sz5ROKuu/baa737FG7Cs802W67udOIYWJhgqbLwwgt7V/A8HWmmH3naa7dOEeOLqySfvymmmMJb0PAZzFOwCMNCFVe4+eef3+9fb78ysIue1G6zzTbzrrNY52EBlVaw2sPVGBa4vE8//fRp1QpfxziMHz/etzvrrLM6/sLC/TlKcOPmnXdeN8sss4SbmlqO4nq5KDO33wcrXdxB00rojoiLOm7wycKzYqWVVnLRjyQuSqqR3NzT92Uf7ygGrf8MRfFf3QwzzOCvtdCKnPtlFCfPzTzzzIO2NQO2yPHOc9xuPEfz9EN1REAEREAEREAERKCqBCS4VXXk1O+6BDo9USB+HRPXO+64w4tgaXGy6nawiY2PPPKIi5JheLffKLlHE3vmr9qN8+nGMfKccVn6YX3txvjasdp9LRO7yDItDgOQFm+u3XMt+/6RtbJbffXVHWLPoosu6nC/zirEUTvzzDP95ixW5r4dxvTLaq8X6zXexY53njHs9HM0Tx9URwREQAREQAREQASqTECCW5VHT33PJNDpiYIFvB49erQbO3ZsZj/a3RBlhfVB8GmnmViHzR63G+fTjWPkOe+y9IO+dmt883DJU6dM7LDIityavVXfrrvu6kXpPOcwVOpwPyD+G6WeSBbGtMtK8GIxLLHAYpmg/mUrGu/ixjvv2Hb6OZq3H6onAiIgAiIgAiIgAlUlIMGtqiOnftcl0OmJAi6ABEAnsDzZbDtVyHJH8HuCc6+44oqdOozPLtvp8+kWs0aQytIP+tmt8W3EJO/2MrGjzzfeeKNPesAyCQ/KKBTRt6IKYhgu1GQ+Rayl4Cobxed0k08+eephcDnFFRExjay1ycyz7MSPBri4YrU7cuTI1HbKsFLjXcx45x3LTj9H8/ZD9URABERABERABESgqgQkuFV15NTvugQ6PVHAnatRVs66Hcy5cdKkSX4iHcYDyrlrU9W6cT7dOEaeky5LP+hrt8Y3D5c8dcrEjv4S22vHHXf02Va7nQk5D6+i60RJcRx/YTn//PMzYxdOnDjRWwHidkqcO+LdpZWyjWtaH1mn8XauiPHO4ptc3+nnaPJ4ei8CIiACIiACIiACQ42ABLehNqI6H09AEwVdCCLQHwT++c9/uihDq08Ms+GGGw7pkyZmZJRR2SGQYYlG4oisRAmAIIGNxWwbM2bMkGCj8U5PjNGJ8dZzdEh8ZHQSIiACIiACIiACPSQgwa2H8HXozhHQRKFzbNWyCIiACIjA0Ceg5+jQH2OdoQiIgAiIgAiIQGcJSHDrLF+13iMCmij0CLwOKwIiIAIiMCQI6Dk6JIZRJyECIiACIiACItBDAhLceghfh+4cAU0UOsdWLYuACIiACAx9AnqODv0x1hmKgAiIgAiIgAh0loAEt87yVes9IqCJQo/A67AiIAIiIAJDgoCeo0NiGHUSIiACIiACIiACPSQgwa2H8HXozhHQRKFzbNWyCIiACIjA0Ceg5+jQH2OdoQiIgAiIgAiIQGcJSHDrLF+13iMCmij0CLwOKwIiIAIiMCQI6Dk6JIZRJyECIiACIiACItBDAhLceghfh+4cAU0UOsdWLYuACIiACAx9AnqODv0x1hmKgAiIgAiIgAh0loAEt87yVes9IqCJQo/A67AiIAIiIAJDgoCeo0NiGHUSIiACIiACIiACPSTQNcGth+eoQ4uACIiACIiACIiACLRAYGBgoIW9tIsIiIAIiIAIiIAIiIAEN10DIiACIiACIiACIiACqQQkuKVi0UoREAEREAEREAERaEiga4KbvrA1HAtVKJCAXGEKhKmmREAEREAE+o6AnqN9N+Q6YREQAREQAREQgYIJSHArGKiaKwcBTRTKMQ7qhQiIgAiIQDUJ6DlazXFTr0VABERABERABMpDQIJbecZCPSmQgCYKBcJUUyIgAiIgAn1HQM/RvhtynbAIiIAIiIAIiEDBBCS4FQxUzZWDgCYK5RgH9UIEREAERKCaBPQcrea4qdciIAIiIAIiIALlISDBrTxjoZ4USEAThQJhqikREAEREIG+I6DnaN8NuU5YBERABERABESgYAIS3AoGqubKQUAThXKMg3ohAiIgAiJQTQJ6jlZz3NRrERABERABERCB8hCQ4FaesVBPCiSgiUKBMNWUCIiACIhA3xHQc7TvhlwnLAIiIAIiIAIiUDABCW4FA1Vz5SCgiUI5xkG9EAEREAERqCYBPUerOW7qtQiIgAiIgAiIQHkISHArz1ioJwUS0EShQJhqSgREQAREoO8I6Dnad0OuExYBERABERABESiYgAS3goGquXIQ0EShHOOgXoiACIiACFSTgJ6j1Rw39VoEREAEREAERKA8BCS4lWcs1JMCCWiiUCBMNSUCIiACItB3BPQc7bsh1wmLgAiIgAiIgAgUTECCW8FA1Vw5CGiiUI5xUC9EQAREQASqSUDP0WqOm3otAiIgAiIgAiJQHgIS3MozFupJgQQ0USgQppoSAREQARHoOwJ6jvbdkOuERUAEREAEREAECibQc8HtrrvuynVKI0aMcHPMMYcbPnx4rvrNVrr//vvdBx984GaddVa34IILNrt7y/Xt/Oecc043cuTIltsp0469Yhky0EQhpKFlEegcgVdffdU988wz/gDcw7iXqYiACFSfgJ6j1R9DnYEIiIAIiIAIiEBvCfRccPvSl77UFAHEsN13392tuOKKTe3XqLL142tf+5o78cQTG1XPvX38+PHu448/dsOGDXOIhsnSqeMmj9PN92U4J00UujniOlY/E7j55pvdAQcc4BFsuummbv/99+9nHDp3ERgyBPQcHTJDqRMRAREQAREQARHoEYHKCW7GaZdddnE77LCDvW37tVMiEQLeO++840aPHu3Gjh07qJ+dOu6gA3VxRRnOSROFLg64DtXXBCS49fXw6+SHMAE9R4fw4OrUREAEREAEREAEukKgVILbeeed5+wLXnj27733nvvXv/7lLr30Uvfcc8/Fm84//3y3xBJLxO/bWeiUSNRIcFtzzTV9t5dffnn3k5/8pJ1TKM2+nWLZzAnadTQwMNDMbqorAiLQJAEJbk0CU3URqAgBPUcrMlDqpgiIgAiIgAiIQGkJlEpwu++++1IFN6M3adIkb9X2xBNP+FXbbrutdy+17e28dkokaiS4tdPnsu7bKZbNnK8mCs3QUl0RaJ2ABLfW2WlPESgzAT1Hyzw66psIiIAIiIAIiEAVCFRKcAPobbfd5vbdd1/PdoUVVnCnnXZaXc64cxJDbbrppqtbrxmR6K233nJY3dHmNNNMU7fdIgU3zuP11193M888s5t88snrHjdr44cffujbmGmmmdxUU02VVW3Qeo49ceJEh8XY9NNPX3ffZlgOOlBBKzRRKAikmhGBBgQkuDUApM0iUFECeo5WdODUbREQAREQAREQgdIQqJzg9vjjjzss2yhf/OIX3bnnnjsI5ssvv+xwN3344YdjF9RFFlnEx1FbbbXV3KKLLjpon3oi0UcffeRuv/12d/nll7sHHnigZl/ErzXWWMN95zvf8RlO2fjggw/GQuCjjz7q6yPMzT///H7561//utt666398m677eZjvH35y192xKVLFgTDiy66yLcZHptz5w8WM8wwQ3I3H8R8woQJbrnllnPf+973fN/JiHr33XfHdeHwgx/8wC277LLxunDhv//9r/vDH/7grrrqqpijbZ9nnnnceuut589jyimntNX+tR7LmoodfFPkROHvf/+7u/HGG90ee+zRwR5nN/3uu++66667zi200EJuySWXzK7YpS3/+c9/3IUXXujGjBnjMwd36bCFH+aCCy5wXKuLL7544W33U4MS3PpptHWu/USgyOdoP3HTuYqACIiACIiACIiAEaic4IYAdMghh/j+r7322u7II4+0c/Gvt9xyizv88MO9iFWzIXhz+umnO2KmhSVLJMKyi+Ndf/31YfVBy5///OfdOeec40W3a6+91vdhUKVPV2y44Ybu4IMP9u+yjstGhB4y/hG/Lqsg+B133HFuqaWWqqnCMdhv9dVXd7PMMov71a9+VbM9fEPsuHXXXTdc5bDiQ0R88cUXa9Yn32DBd/zxx9dY3NU7p+T+nXrf7kSBcb/nnnu82ImrM4Lpn//85051N7VdrBmvvvpqd/HFF/vrmWuGce11+fe//x1fL1w3W2yxhRs1alSvu9X08e0zYsL1Siut5CabbLKm2+n3Hfhc7LXXXh7DlltuGS/3OxedvwhUnUC7z9Gqn7/6LwIiIAIiIAIiIALtEqiU4Pa///3P7bzzzl6I4sSTQtFf//pXt+uuu8ZMNt54Y28RROy3O++801up2cazzjrLLbPMMvbWW7rwBgHpxBNPjNcjdpx88sn+PaIL27Eymn322d3TTz/tLX2wQqPsueeebquttnKPPPKItwxjHdZhVrAIorC/CVxZ4tT48eO9BZnti7DG/iNHjnQvvfSS+93vflcjxF1xxRVuvvnms+pemEkKdUyGF154YTdu3Dj329/+1iGcUGj797//fY2b6A9/+EN3xx13+O2Iibjv0u+pp57a3X///Y7jWcHaKbQazDonq9+N11YnCh988IG74YYbvIVkKDYyXt1KakFiEATSa665JkbFGCFsIg71umD5iGUkFqRWsJLE2hIhuyqi1U9/+tOazyfXOSLzOuus469zOze91ifAdWAZo7HY3W677ervoK0iIAKVINDqc7QSJ6dOioAIiIAIiIAIiEAXCJRKcMOKLDlZRyzD2grXTEQIy1KKS+Nll13mhg0b5jFRb7PNNostsrA2S1p9hdZxCBehO2qWSMRE0oQFrI3mnXfemmF57LHH/CSdlauuuqoXRcIKjWK4ZR0Xqzr6S0HsOuqoo9zw4cPjphH5EIBw56JgnWPCIO/NeodlxBoERsQ6K1hw4RJqohsZYs1dkbbpN2XBBRf0nJKx6nBzPeWUU3yd/fbbz33rW9/yy/zLOqe4QhcWmp0ocI39+te/dpdccol744034h5yXlhwzT333PG6Ti3giozAG1rSwR8RCDdkc91lfBBkWylcv63G/0seD2GZ/t56663xJj6XCC5rrbVWjYAbV/h0gevv+eefT67O9Z5jTDHFFLnqNqqE+zn3FTIgW+Fa32abbdw3v/lN/9mx9UW/FjGOWEHi4ttsgR8ciyiMo/2YcOCBBzp+6KCUZYyLOEe1IQL9SKDZ52g/MtI5i4AIiIAIiIAIiEA9AqUS3Op1NNy29NJLewHqc5/7XLw6FNN23333OM5bXOHThSOOOMJbd/E2tApLE4lIjICQRUkKWn5l9I8kBOaemhTxqNOK4PbCCy+4TTbZxA7hLa5GjBgRv7cFLI2wvGLiTvnlL3/pFltsMb8cCm6cM1Y7yYIoeeaZZ/rVWPvgfkrBgo24bxQs3b797W/75fDf3/72N7fjjjv6VTvttJO3PLTtaSxtW7de804UsAIkNl9ScMFaC8GF5BKdLMQHJBEI8cRwIbaCyEqcP2Lw2bnYNmLxtRpP7o9//GMca9Daa/cVi0vE79DqEZEXi0rEl7QYg1y7q6yySkuHxoUaAbLIguD6m9/8xguIoeC66aabus0333yQ0F7EsYsYR5LG8LlvtmDNh5VrEQVea665pm8KK0x+eKCUbYx9p/RPBEQgNwF79pAsSUUEREAEREAEREAERKB5ApUU3BCBmMyH1nAnnXSSt04CAe6Wc845ZyoNrIi++93v+m2ISiYaZYlEuBhSsApKWgYxocTSyyzlihLciENH7DYKwg8CYlbBnfPUU0/1m0PrklBwY2KflpE0ZPHjH//YC0w0hGUKQiIFS5iQM+uwCjrhhBNiS6wqCm5YJmLNdtNNN3FKviBCYJ1FbEBcZztZcI/GjRexxKwMOd7666/vr20s27JKO0INyR8QwzpR3nzzTe8GyzmZCMxx+KxiKTjXXHPFhyURxFe/+tX4fTMLoTjczH556ma5FCMiITwX6dJbxDi2Krjhfh4KpHnYZNVBNB49erTfHLrql3WMs85D60VABGoJSHCr5aF3IiACIiACIiACItAsgVIJbrgmppW3337bkZ00dLVLijzEDrr33nv97kn3x7DNUAjAggmhiZIluNm+uG3h1vrEE094t1bit4UxvqhXlOBGhtWxY8f6Qx999NGx9Yj1JXwNJ+0IAoiRFBPcsAI019RwP5YfeughB0dKKLj5FZ/+wwIMceqpp55y//jHP7wVVmgBRLXkWDRiGbbfqeWsiQLuwQiU5ibM8Rk3hM1uBM1H0Dn77LO9VZ1di1yvCFL8hVabWWwQRHGhbrbAJE14bbadRvWxDMU9nOs4jCNINl9iLJp7LixasZzAtTYpAjfqU7PbYUzSDMTDMDswsQq///3vO7IKt1uKGEfELhPHm+kP/MxFuZn9suqaJW9oNUzdMo9x1rlovQiIwCcEsp6j4iMCIiACIiACIiACIpCPQKkEN7JB2he8tO7j8hVmJSWov1ki4VoZWgql7Z9ct/LKK7uf/exnfnWWSITVzs9//vOaAPZhO1gLmQBVlOCGy5xZn3Bs3AqzCjHtEGooYQw5E9ywlMLdL63UE9wQ2BCmTMRM7o9IZIJRlQS3MFA+4taxxx7rllhiieTpdew916glzOAgCFDEHpx22mk7dsxeNYyg9Je//MXtvffecRfKkmk17lCOhSeffNJhPWoCezcTaOToXimq8OMFfBBayYqsIgIiUH0C9n2slR9Gqn/2OgMREAEREAEREAERaJ9ApQQ3JvAE57aJLxY0JpYg+iAgUbDyymMBQxKBFVdc0e+TJrhhqYP7KVZtFESm1VZbzR8T9ziCjiPa4IKI6FaU4PaLX/zCW0FxTFw368W6Ct1CEd7MSrAdwQ2+WMuZoIarJeLkIoss4t0CsVDCndaCo1dJcEu64DH+BMi38Yd5J0sY74rjcE3hxopgkRbrrJN96WTbWF2RTAGX5zA2XSOLzU72qZW2iVWI2/jtt98e78496IADDojfa+ETK1fuv3fffXehlnNiKwIi0DsCEtx6x15HFgEREAEREAERGBoEKiW4gZyg3AS5p4STdyyVrrzySr/+hhtucGlJBvzGjH8muOAadeKJJ/paCAYmYCHsYQ2XFv/K3KmKEtzCBBC4r5GlMqtcc801ngPb9913X28txXI7ghsiH5kbKYgL++yzz6CskGFmwioJbvxSjyUl2TVxx7WCmIjwRjD+ojJgWtvJV6wmyYhKogQTNalDcH7+wlhnyX15Twy96667Lm1Tw3XEU+ukNV1WbLoNNtjAZ3u12HS4GrYS7J8TJEB/MltwwxNvogJumghsjI+J7eyOpSmJLEiSkkfQb3TIIsYRwT10eW10TNuOuGuWsbaunVeschHcQmvaMo9xO+eqfUWgXwhIcOuXkdZ5ioAIiIAIiIAIdIpA5QS3q6++2h1zzDGeR5gk4KqrrnK4C1IQybImkzfffLNjckjBEs7c+9IEN+KoYUVHyQrUPn78eLfeeuv5OkUJbkzyEX8oWNAhqpnrrF/56T+EgS222MLHlGPV6aefHmdMbUdw49gmNGRltUTUhD+lSoKb7/Cn/5599lmfnTTM1ghv4rkxpp0UpujC+++/7zPQIuyY1SbriXW21VZbucUXX5y3g0oYt2/QxgYrssazwW4NN+Mqi+CNGG4iItZ7XJ+ItrPOOmtNG+1ksMz6LNYcoIU3BPlHyMSiLYw9xz2C8Vh44YVbaDV7lyLGMWmxmX202i1FZimtbfn/35VxjP+/d1oSARFoRECCWyNC2i4CIiACIiACIiAC9QlUTnAjccJee+3lz4r4V9tvv71ffuutt7xIwmSfiT6ubLiMhoVtG220URxzDSsjC+CeJrhh6XbppZf6JkJrOmuTwPVYlRFLjkJAdY4blnrWb9RLOy7rQxdZrJKSbrJYap1zzjkO91MKlkNYbVkm1XYEN8RKYsNRECBmm202v2z/XnvtNZ950mLXYYGHJZ6VrHOy7d14bWai8Oqrr3pRk6yloVhEbLVNN900NZEB1+Hrr7/uT2X++ed3Sy65ZMunlRWgHwE3LZkDLpqIdK0UkmMMHz7c74qoSqw+yvTTT+9WX311v9zMPxJp8BkhM7AVREuuCURLPotphc/OUUcd5XDbbrbweTDejJ19/mgHcWzYsGFNNck4IuTz+QnHn7Hns5C8/sPGEb2vvfbaOPkDyRQQs/KUIsYRa9gwmUye41KHOGtYrlpp53p+5JFHHOI1Bcti7nmUosbYN6Z/IiACXSfQzHO0653TAUVABERABERABESgAgQqJ7jhDrjLLrt4tMng5Uz8zR2UCohATMyxVMLtioDeZrm1wgorOKxDrKSJRIhNhx56qK+CcHDQQQe5xRZbzJE1lQnmueeeW2OZRB2SHCB+WTZICyZOI8SDw9IHd7hlllnGt5t2XDYQqB33NSu4s2EthECI9Q1Wb+FE+4wzzqjJnNiO4Hb44Yd7EYFjW1ZG3ByxYiJTK1k2TZigDn1DeJxvvvl4myki+o1d+tfKRCHLwgl3SESeBRZYIO49Y/HMM8/492wzETiu0OICIgzXcZhZlliBCG/ECmxWTKrXjZNOOskhMlIYO0vUUW8ftiH23n///d4SLHTL5VpBaCPenwm/jdpqdzufgZD9TTfd5GaaaaZczeIWjQskYpsVxEI+d4x5HgtHshcT19FKo5iLVq9sr+1cz+EPE81cR2VjoP6IgAjUEmjlOVrbgt6JgAiIgAiIgAiIQH8TqJzg9vTTT3vxg2EjnhrChMXcImYQcdbCCXTa8GKBgiVaGKQ+TfhiMs1EtF72U8Q1LIbCOEpYnS277LL+0IccckiNeMJKxDCyNVLSjus3RP/CWG62Lu11//3395ZY4bZ2BDdENQL51yu4PXLOZuVGXQuYXu+c6rVZ5LZ2JgpYLSHkcI3AgoKYGgqc7QgUec4TV2VcNMM4Z0Vn+GxVcEtmWiU7LiKVWZ3lOb+i6rQjuNlnhL4Qww+xkHNpRiyU4Ob8jxxmCSzBragrW+2IQO8JtPMc7X3v1QMREAEREAEREAER6D2Bngtu5nIJCqzX7AteFhpc0AiabhZWaa6et9xyi3e3NAuksC1cUInHFIptbM8SiV544QV3yimn1Igt1EeAwT11t912c7hUmdUd284666zYgg2XNyxA7rzzzrjPeQU32nrppZccwggWRXbOrKeMHj3au5paIPpP1n7y39xC2RYGMg/rEOQc11UKlnzrr79+vBnLJSwAkwyxANpxxx19Vs3zzjvPYVln5Z577vHiZxZLq9eNV7uOsMZqpyC4YQVGcPobb7wxbioU3MjoistvJwpxsHDXxIWUa41rp6gSCm71rpPk8bim11lnHe9uCQdzy07W68b7pOBGohNzmW10fFjiDsz4mcVpo32S25OCG591c6lM1i3z+3auZ2JHmouzBLcyj7L6JgLNESjqOdrcUVVbBERABERABERABIYOgZ4Lbp1EicUbbmO4gBKHafbZZ4+t4Zo9LpZcWB1RcAtNCwJPPCzcRYmPVHRBOHrllVfcxIkTfbwtrPSKyJRYr5/hMamHsEKsr7DAZMKECd7dMo8LXrhvJ5eLniggdiKyhsXcm4844ggvQIXbil7+8MMPveCaV0zKe3wE7JVWWsltvPHGcRKMPPum8cizX6fq7LDDDv7zEbriNjoWsduazWac1SYiO3/Ec5tjjjmyqpV6fTev51KDUOdEQAQ8gaKfo8IqAiIgAiIgAiIgAv1GYEgLbv02mDrf/yfQ6YkCiQ6IHUbAfkQeLP+qWHCbPfXUU12apWhVzgcLUyxXyYZ6wAEHdL3biOBYlH72s591YcbbrnekjQMOleu5DQTaVQREIEGg08/RxOH0VgREQAREQAREQASGHAEJbkNuSHVCEOj0RGG//fZzuC/i1jt27NhKQidJwnHHHedjIbI844wzVu48SIKyzTbb+H6TzGPppZfu6jm8//773hUbC1hcfhvFPuxq55o42FC4nps4XVUVARHIQaDTz9EcXVAVERABERABERABEag0AQlulR4+dT6LQKcnCrgwEveMTLjTTTddVjdKvR6hEDdoLPVGjhxZ6r5mdY5Yg2QG3WeffdyKK66YVa1j63GtJXvszjvv7JO52HXXsQN2qOGhcD13CI2aFYG+JWD3s3ZjofYtQJ24CIiACIiACIhA3xOQ4Nb3l8DQBNDpiQLxAaeaaqpKwxsK5zBp0iSfVbTT8QyzBpqJKH3QtZBFSOtFQASqSqDTz9GqclG/RUAEREAEREAERCAvAQlueUmpXqUIaKJQqeFSZ0VABERABEpGQM/Rkg2IuiMCIiACIiACIlA5AhLcKjdk6nAeApoo5KGkOiIgAiIgAiKQTkDP0XQuWisCIiACIiACIiACeQlIcMtLSvUqRUAThUoNlzorAiIgAiJQMgJ6jpZsQNQdERABERABERCByhGQ4Fa5IVOH8xDQRCEPJdURAREQAREQgXQCeo6mc9FaERABERABERABEchLQIJbXlKqVykCmihUarjUWREQAREQgZIR0HO0ZAOi7oiACIiACIiACFSOgAS3yg2ZOpyHgCYKeSipjgiIgAiIgAikE9BzNJ2L1oqACIiACIiACIhAXgIS3PKSUr1KEdBEoVLDpc6KgAiIgAiUjICeoyUbEHVHBERABERABESgcgQkuFVuyNThPAQ0UchDSXVEQAREQAREIJ2AnqPpXLRWBERABERABERABPIS+D8AAAD//+AGeVkAAEAASURBVO2dB/x/U/3HT7ayR0ZI2SMzo1JGJBlZZSWjiKL8rRQlGVkhEipSdlbZq2hYIbNkhFBWZSVK9fvf5+F9vb/3e+/nc8dnf1/vx+P7vfdz75mvc+4Zr/M+7/OmSYmELsqb3vSmGHqXo+liDhT0MCKgejeMpaY0CwEhIASEwKAgoH50UEpC6RACQkAICAEhIASGFYE39YpwG1aAlG4hIASEgBAQAkJACExUBLRgOlFLXvkWAkJACAgBISAEmiIgwq0pgvIvBISAEBACQkAICIERRUCE24gWrLIlBISAEBACQkAIdB2BnhFuGrB1vSwVgUNAW2EcGLoVAkJACAgBIVARAfWjFQGTcyEgBISAEBACQkAIZBAQ4ZYBRD9HAwFNFEajHJULISAEhIAQ6A8C6kf7g7tiFQJCQAgIASEgBEYHARFuo1OWyolDQBMFB4ZuhYAQEAJCQAhURED9aEXA5FwICAEhIASEgBAQAhkERLhlANHP0UBAE4XRKEflQggIASEgBPqDgPrR/uCuWIWAEBACQkAICIHRQUCE2+iUpXLiENBEwYGhWyEgBISAEBACFRFQP1oRMDkXAkJACAgBISAEhEAGARFuGUD0czQQ0ERhNMpRuRACQkAICIH+IKB+tD+4K1YhIASEgBAQAkJgdBAQ4TY6ZamcOAQ0UXBg6FYICAEhIASEQEUE1I9WBEzOhYAQEAJCQAgIASGQQUCEWwYQ/RwNBDRRGI1yVC6EgBAQAkKgPwioH+0P7opVCAgBISAEhIAQGB0ERLiNTlkqJw4BTRQcGLoVAkJACAgBIVARAfWjFQGTcyEgBISAEBACQkAIZBAQ4ZYBRD9HAwFNFEajHJULISAEhIAQ6A8C6kf7g7tiFQJCQAgIASEgBEYHARFuo1OWyolDQBMFB4ZuhYAQEAJCQAhURED9aEXA5FwICAEhIASEgBAQAhkERLhlANHP0UBAE4XRKEflQggIASEgBPqDgPrR/uCuWIWAEBACQkAICIHRQUCE2+iUpXLiENBEwYGhWyEgBISAEBACFRFQP1oRMDkXAkJACAgBISAEhEAGgYEk3P74xz+Gp556KiZ1+umnD+9617syye7/zxtuuCEmYu655w7zzz9//xOkFIxBQBOFMXAMxI8XXngh3HPPPWGhhRYKs88++0CkqUwifvrTn4aLLroozDTTTOGb3/xmGS99cXPooYeGBx54ILzvfe8L22+/fW4aBjUvZevGo48+Gh5//PGw/PLLh6mnnjo3j4P28Omnnw7TTDNNmGGGGUonjTxedtll0f0yyywTVlxxxdJ+5VAIdAoB9aOdQlLhCAEhIASEgBAQAhMVgYEj3CZNmhQ22WSTwMTK5LrrrgvTTTed/RyI67vf/e6Yjg984APhqKOOGog0jXoinnzyyfC///0vTrRnnXXWltnVRKElPH15efvtt4cddtgh7LjjjvGvL4moGCn1baONNgp//vOfw2abbRb22muviiH0xvlf/vKXsMEGG8TIDj/88LDGGmuMi3iQ81K2bpxyyinhO9/5TvwbZBLq1VdfDcccc0y4+uqrw9///vdYFm9729vC1ltvHTbddNNxZeMf4PdTn/pU+P3vfx8fQ/aysCMRAr1GQP1orxFXfEJACAgBISAEhMCoITBwhNtdd901Tjtjv/32CxtuuOFAYS/CrffFAbn5z3/+M6y00krh+OOPb5kATRRawtOzl2guvfLKK+Gtb31ryJIqPP/rX/8a5plnnp6lp2pEt9xyS9h5552jtzPPPDMsvPDCVYPoifvvfve7gb83v/nN4ZprrglTTTXVuHgHLS9l6wZkItqF5C1LuFF/Jp988jDzzDOPy28/H3z+858PpgUN0fbss8/Gtos08e6Tn/xkYfK+/e1vh1NPPTW+P+SQQ8KHPvShQrd6IQS6iYD60W6iq7CFgBAQAkJACAiBiYDAwBFuBx54YGDbk5dFF100nH766f5R3+9tErTyyiuHr3/9631Pz0RIgAi34Svl73//++HEE08M733ve+PWa0irFVZYIcw777zhggsuCPPNN184//zzg03sBi2HkP1XXHFFWHzxxcOPfvSjQUteTM9///vfsM4660RNqm233TbssssuuekctLyUrRs77bRTuO2228JHP/rR8Nxzz4Vf/OIXYeONN45k7S9/+cuB0zy84447wqc//elYBrvvvnvYcsstA2W0xx57hF//+teROLzqqqviNtNsQf3mN78Jn/3sZ+Pj9ddfP+y///5ZJ/otBHqGgLXL7DyQCAEhIASEgBAQAkJACFRHYKAIt3/84x9htdVWi7lYdtllA9sG0dZABlm7JCZQ/7qOgAi3rkPc8QiwQ4W2zkMPPTQubDSW2Aa56667DqQ9LrSS1lprrZjur371q+mWzXEZ6fMDSJzddtstpgLy8u1vf/u4FA1iXsrWDTT3Lr744nRrps8chO3mm28ePv7xj/vHfb1nS++Pf/zjMMsss4Qrr7wyJZPvu+++sNVWW8W0HXvssZGE9gll6yl54YpW3FlnnRXJOe9G90KglwiIcOsl2opLCAgBISAEhIAQGEUEBopwQ7MNDTeECS5Gpvfcc8/4Gy0BtAXKCLaKmGCy1YgwJptssjLeon2wOv7aBf7iiy/GtEAw1JX//Oc/4W9/+1vcOpW3XaxduOTrLW95S+5WM/wSPm6YJIJbFUHrhLzVSRfx4J8V9HbbwkS4VSmVwXJ70003jdG84nv+whe+ULmu9TJXEB52SAKaVE2+326mG80ptL44SOCkk07KjWqQ81KmbqAhhu22H/7wh2n+sJ1JmzBoAvkJCYoWNFtCTcgD2+GRLIFL+0c5Us8QtCnRqpQIgX4iIMKtn+grbiEgBISAEBACQmAUEBgowg27NmYo+uc//3nUekHDBLtdTHaLtuFQEJBsaMOde+650VaULxy2pLIFad111x2nSVPX3+c+97mYLgx3m40nH+dvf/vbaDCbrVCm3cMECg0+tn0dfPDB8Tnb62wLEf732WefeEIrz9lKdc4550RbQDfeeGMaPOFAVjDB9sJ2pBNOOCE+grjERtYZZ5wRbr755sBJeQh+MP5uRtXRHMGwt9kbwg14bbfdduGDH/wgP3OF/KHFwdWMgjOZxLYdOGOzy0s2bf/+97/D2WefHdOGQXoEsu/DH/5wxHPaaaeNzwj/uOOOi/d33313vFIXFlhggXhPPjBEnpWqEwXq3a233hrmnHNO2UzKgtnwN98YJAR1jLoL1pThhRdeGLVYGwbfFe/+8BYOcfnSl77UlXiaBsp3/ZGPfCQGU2Tva5DzUrZuPP/88+FjH/tYbGs4tZq2gDYSW45lF1SaYl3WPwce3HnnnXEL7Fe+8pUx3mzRIGvHjbYUzTiEtj2vTRsT0JD+oLwhIzkAp65WYifC6DR8aPHS9y255JK1g+5EGLUjL/BYtR8tCEaPhYAQEAJCQAgIASEwYREYGMLtgQceCFtssUUsCEi2b3zjG/GeK9ukkKIJJQNw3DGBbyWrr756OPTQQ1Otmrr+iKPVoQnYpvKaDdk0YYsIAo3Jss8r7ngHAbXmmmuG2WabLZJSWf/2G9txNtnmGYQjhB3y5S9/OZ6SB1mZJxgfhwDBjlKRZLUwcIeWBn6+973vFXmLZNvJJ58c5pprrtSNTxvYHHTQQakR8dTR6zdsE0MjZ+qpp45byQ444ICsk/Q3eGUntbysOlGwCS+TeCMt00h00wiBn/zkJ7G82SYHyUr9QVMJ8mFQT/iFMIE4QQZZ2+gHP/hBJJ0gMCHO+WayMsh5KVs3zP4c7R12zbCRBulmNtKyee7nbxZgOKAi2zZBfNK+IL5tvf/++6OdN56zaMECw6CRiKStibD4gy1E6iv9G+VY1fZpJ8JokodWfq3fXnrppcM222wTVllllcpl2IkwWqWxzruq/WidOORHCAgBISAEhIAQEAKjjMDAEG5MvLHThhx99NHh/e9/f7xHw2nHHXeM90Vbpq677rp06ykOt99++6hJA6GGAWsLl3f77rtv2GijjbgNdf3ht4hwgxw0shB3EGrLLbdcJPnIC5MOL0WEm3fD9rtFFlkkPP744/FACdNWQyPskksuSbdyelLL/GOsnsE/20mxmYS2W1YIf4kllogacRdddFHUzjA3aKb5yZ+dhsh7JvmQpGibPfPMM+Hyyy8Pf/jDH6JXNNwgVWafffb4Oy9tTE4gQWecccZw7bXXptup8ABxuOmmmwZOrSXdyHnnnRev/OMdstRSS40hHePD5F/ViYIIN0Ou81fq62GHHRYnopTXq6++Gr74xS9GDRcOHRlEgeRF+3OhhRaK5O8gppH2bb311ovE/Sc+8YnUjls2rYOcl7J1g3YAIpx6hJkATi5FS5h2ggM4BkmK8EbT2bS6OImUuv/yyy9Hu26PPvpobE9ZrGGhZVQEMwXkib7AL/5Y+14mn50Io0w8TdywkOf7JxYX0GTnMJNpppmmVNCdCKNURBUcVe1HKwQtp0JACAgBISAEhIAQmBAIDATh9q9//SsSU7Z19Gc/+1mYcsopYwEwqWSboW1btJMNfemYkWqe5dn1YVvnZz7zmegFzTEGtkhdf/jNI9zYJskE2NKa1UDDH6SU18hqRbhBqEFwzT///HiN4ifZPEBTDRIDyZJa2W1LaKcxMUeb0CSrvQMZwpZTJoAIdvWYPCAQfhtuuGG8RwuN0yf91lHswGHzim29yA477JDink0bkxG20noyD2INzQ8ETQ+2i3mx7Vh577w77qtOFKoQbuBAWVeV6aefPiUgq/qt6x67f2zHqypTTDFFPEG0qr+67vn22WZWRzgkoKrdwVbxvPDCC+mWazRF2Y5uMkh4+hMtqb/vfOc7LZnpdVjykia4wc2g1CFMH1BvENpvFlwQCEK0sFmoMPMIXoP7mGOOiYsjuKUtpQ3GrmWRbUv6gkceeQTnlYX2m2+8W0La0WalXprQn9H/0IdAmraTsmEMCg6QwOTZL/BR1pjKoA0h/+2kSRjdwKFqP9ouf3ovBISAEBACQkAICIGJhsBAEG6ejOGUNjsowQoD4oWtKAjbvLI200yjgPd+qw6/TbBpxkr5PPPMkx6+UNcfYeYRbp4wWn/99ePWJ4vfX217FM9aEW6kmRXyrLAlD7ILgTyEREQ8jpzymrftE4IO4+NI0UEUhG1bTT2hR3og4BD/PD54/R9EFGXIZIkJBpgwsfNpY7LHRCw74WPCbEbQcQO56mVQCDcmjabJ59PX7h4bVGh29VLYnuYNzZeNG5LVyrqsnybu2N4MQVxHILFNk7KO/6wfr6WK5iVEqckg4YldObaRoinKFu48GZa85KW96rNBqUMsWrA9EO09CBdsYUIms80Uwf4nNjKxU7r33nvHZ9YWs1jDQg12zkz4FrHrZnY37bk/1duelb2y2JQNr6zfVu7Yvnz66adHjWVzR1tOftdee+1UG9ve5V2rhjFoOEBys1UaHGzxjXzS/tM35p0inMWhThjdwEGEW7Zk9FsICAEhIASEgBAQAtUQGAjCjQmIbXXEcHDW8LC37+ZJHMuqn7jwjEEtg3sMtLfSfKnrjzjyCDcmSmzJRPLyEV8k//w22VaEGxPIvJM/vX+vgeNJLb911uLl6k+CLbKJZ9peuPfEGttHKQu02mybJ26y4glB0/DwaUPbEO23POEdGolMVO3EPnM37ISbTaotP3WvkJoPPvhgS+8cfIH2YF2CCG0pr53SMrIOvGxClqAtVEZ7pGwyrZ5nbXDhf1DwZCLPKZhIniZtfJH8G4a8WFqbXgepDkG2YV8uS8zTvmF/7qmnnorbS1lkYNsypDjf9VZbbRVtnIEFh0P88Y9/TLdisp3WH2TDdlQzvVAVO79QU9Vv1j2a05ySe9ppp0W7evYeExDYM2PrrNdktvf+2iSMQcHB54d7yvPKK6+Mi4UsQJlgRoFFG4jydlIljG7gIMKtXQnpvRAQAkJACAgBISAEWiPQd8INA8pMbE2YcNggz55xZbXYJLttlEkLmm9+q6S5xYYZhqoZ9DOx8VLXH2HkEW5GFvEe+3DTTTcdt+PET5aLCLdWpNbtt9+eElZFhFsWI0sEdqnQ7EPQdOOU1aywJZTJHWKEG1ucvL0tCLEiAVcTtlFBfnrCzZ6ZG381g+PdItyoI37yY3GjUQI2EE2UY1Y4NZW6hDAJwgB6VUGjrxUBXDY8bwS/yA8aFmhzMpGl7KoKE2Tb1l3Vbx33bIdCM6iq0FbkkdJVwzH3nKDKFjAErVpIDy+DgienD2Prku/Etif6dHI/LHnJprvu70GpQz79EGu0OdjQXGyxxaI9L+oQJ1DTjiO0t+94xzuiDTAzd3DSSSfFE6Uxt8CJpdh/y7MnWLct4ttuR4L5fBTds8CEdqWdNI07TEDQj5PfMtKJMPqNQ6t8Ui9vuummSKqymGTCguAuu+yS2webG7uWDaPTONhYrE5/Z2nXVQgIASEgBISAEBACExmBvhNu3gh/2YJA0wlCyQsDTbTKIOY84ePdvOc97wlsw5p77rnTx3X95RFunLyGZgNy6623pnFkb4jTyJsiwi1vcmXh9INwY0sU9umqyh577BG1bDzhVkQGEna3Cbe6Gkq93mLZCmcOAkFLppUY4dbKjd6NR8BsavVaw298SoqfMPnFDhYkR94WfPM5DHmxtE6kq9cA9prILBpBptM3HHvssSkk3iYc5JTvv1JHfbqxkzWJnr5s1113rZy+ToTRp+xXjvbee++NBzfZok+d01o7EUbZhItwK4uU3AkBISAEhIAQEAJCIB+BvhJurPRjo8zbOclP5vinbGn0BvvNBSvBbOOB8IKYyG5LhDiBlPN2mfBb1V8e4YZmDFolSCsNNwwjb7DBBtHdsBBuniREqwYNjTKCBt2CCy44RsOtn4Qbh0Rg1yor2PczopY6khXsEEHWDYJwCAIT81aCVidaeZLyCFD+ZkMQ21p2omT5EHrj0m8pP+uss8Zp7pKKYclLbxAbnFi8dio21LClZsIWYfpCDpPhpG0TyBk7uMM0ju1dv69Ze5acHs025jJ2yiztnQjDwhrkK+MRtt2y/dYEvDixtax0IoyyceFOhFsVtORWCAgBISAEhIAQEALjEegr4eZt7pQ5eRKbOEagsRWDky7bCRNPyDnbqoP7I444ImBHpZW085dHuH3ta18Ll1xySQyWbTZFNlq8ttewEG5kyjQR8g40aIUl73ye+0m4FaXT7NZBVJ1wwglFzuJztp7WOVETu2p1bS61TFCLl5AzfhtTC6djXs0444w9JZwgoS+99NIxaSj7A9t4bNlrKmgPYQ8Nwb5j3kmKg4AnB8PQprElDQI5T4YlL3lpr/tsEOpQq7RjCB+NRLSgsTl43nnnjalj1qfQz1GnTZ555pn08Bx/kimLIHUORCFcyL0qpJilJXslDRzcQTrY9mqy6qqrxq2wyyyzjD0qvDYNYxBwKMoci4oQbGjf22Icbuln2Cpcxb5duzC6gYMIt6KS1XMhIASEgBAQAkJACJRDoK+EG1okTGyRVna9LCuetEG7DXKL7VWs/mP/iQmLTZjNj139VkIM9rMlr44/s+9lkyO/vZXJr20FImzsq+WJt/U2TIQbK/GUAXLmmWeGhRdeOC97cbvvFVdcEd9BPM4777wjRbhlNTJyQch5qFNKc0B5/ZEn34td5b/p1CmlpqHK1mnI8zzx7Uje+6JnndqSjHajGc7ff//9A6ch58kw5CUv3U2eDUIdapV+335ygjQnSXuxQ2F22223aFTf3j322GNho402ij+9XcEmp1J28tAEEkY/zMFHaHDZAUg8hxRmYQwCrp39yrphDBIO5BnhAAMWEMDD27djCyn27RZZZJHXHLb4XzWMbuAgwq1FAemVEBACQkAICAEhIARKINA3wu1vf/tbNKZvafzVr37VdgvcK6+8ElZZZRXzEjWRWCmGQDMD1GwXzFu5Z6Jy/PHHR792ql9dfwSSR7g999xzYc0110zTd+SRR4bVVlst/c0NW4I4rMBkmAg3v5UN7T20LbJbc72hdrQ4IN4wzu3J0qYabsQNkddKqk4Uqmi4Qbr4SVSrdPh3aHHaxJnnaGvyHSALLLBAWGqppeJ9J/+hCWVaoVXCnW222cKee+6ZeqFc77vvvvibMvf1PHXU4IZt4Ghw1BGIbdNGQxuIAzBMmOBOPfXU9rPwimF7tsIheWSIeewUnnXL3uop6SGMvMNLhiUvhmmnrp2qQ92o6/506B133DHwlxUjSTl04KCDDkpf+7YTEmeOOeaI71hkYqGKfrGqoEFn7U3db6Yozvvvvz+w1RlNYBMIZzS61l133bb9PH6qhDFIONCeMwbxtmT5RllsYYu6lZ3hknetG0ancPBpqtqPer+6FwJCQAgIASEgBISAEEhMdCSrytWPW6yAXNGAzU7ZIyi2Kn7lK18pFeqBBx4YmLwgNjHxJBYkD8anl19++TgJxzYXZN6JJ56Yhs9EYK655hpDflXxR0B5hBvPvUFsfpM30vLSSy+FG2+8cRz5MUyEG/nx23rRMsSWGwc8sBr/m9/8JrCVzQ6OwID2Nttsg7eOEG5oDZqxaSass88+eyRXl1tuuRiH/1dU77wbf29ERpktpd5fk3sIHsgRhAkw2A6qcCIm3ywyyAcKQEJ5HNnuNvPMM7eFFXL87LPPDmyXZsJs9aetx5oO6pY9k3a27rXSlhyWvNSEruveOl3XH3744VheJJzFAg4KytP28n3HhRdeGDWDIVHozyABOTGXhaNOS91vpl066Ac4gfWcc85J7WNCPqEhvMkmm4RZZ521XRCxL2kaRttIXnfQBIdHHnkkkozePij9IyQj9lrLbHnvRBhl81rWnbWDXR4mlk2O3AkBISAEhIAQEAJCYOgQ6AvhxuCNAbeRJ600SrKIYo/KtnXyjtV/BrNsw/FbWbL+7LedmslvJjN1/OG3iHDDZgsaUKxwFwlxsv0UA9nDRrgxieKk13ZG+8kX2hdotyFeS6OuhpvZrvK4FpG1VScKItw8quPvO01CjI+hM0/qTJrREMKmFXYbs/azOpOq8aHUIdzuvvvusN1228XA2Kq22GKLjQt4WPIyLuED9KCTdR27Wiw6QKxDNkHqFp0ySn/A6bPUQ9yiHX3PPfek/STmCux0607CVeebqRI/+cH8AxqsthhT9XTOToTRLs1NcDD7psSBrU620WInNo9YLUpHJ8IoCrvu86r9aN145E8ICAEhIASEgBAQAqOKQF8IN7amYccEMVtsRsy0A5rTRNFss5NNIWFYQWZAzko4Wjj2zoeFltlmm20WOBnOS11/RYSbhX3ttddGw+YQU5YethRCRGF3iXskq9lkGixojbEtJ0/YPst2WMTbceJkVNsGWERqod13wAEHRL9sbeUU0ayA42GHHRYf552KB6nIcyZR2a2VaAruvPPOATtYU045ZRp0mbThGL+33HJLNCp+1VVXpf65YesT+br++utTjYlOE25sWWarbC/Eky5ofUDEDqp4EqJV3ex3+rOT5qLDD3w62SZKO4KU1Yjz/uvc1yl70+5lQl9E6A9LXupg1is/nazrtFfYu0QOOeSQSOy2ysef/vSnsNdee405gADyDTMIEHDdkDrfTJ100G/QD3DAwvzzz19ob7VV2J0Ioyj8JjjQD2EWgHY8T+O6KE7/vBNh+PA6cS/CrRMoKgwhIASEgBAQAkJgIiPQF8Ktm4AzIIeY4Y97tN/YejjTTDO1jLauv5aBvv4Swg0bU1NMMUV8wpYwiDWEyRVE4LAKhpqfeOKJaEdozjnnjNuEypKn3czzsEwUIBchGSFT1llnnW5C0jhss6GIHbp99923cXjdDIBteNRLCKh2wnY9/iCLs4R8O79N3lcte047pF3D4DrbC/NkWPKSl/ZBetaJuo4ZAbaPImi1VWnn6TOeeuqp2H9x6Iy1Z93EqMo30zQdLHRBJDaRToSRF38dHLC7VmaLbF589qwTYVhYnbpavdOW0k4hqnCEgBAQAkJACAiBiYbAyBFu/SzAe++9NxpcJw0Yh7bTBLNpOvzwwwNbGJEiTbSsH/2uhsAwTBTQ1mQLI0b+IYbQ9hxksVN4y2jq9DMfd911V9h+++3DpptuGjgZchBl2Mq+FYajlBfL57DUdUtv0+swfDNN81jGv3AYi9Iw9KNjU6xfQkAICAEhIASEgBAYLAREuHWwPF544YVUQ4ZT2dBuyJ5Kdvnll6cHRKBRwyED00wzTQdToaBAYBgmCnvvvXdgyyPbi+0E3UEtPbNxR53lvp3GaL/ygYYXpz0iVWxD9jq9w1T27bAZpbyQ12Gp6+3Kpez7YflmyuanrjvhMB65YehHx6daT4SAEBACQkAICAEhMDgIiHDrcFlwoAB2oBC2zGBvji1gzz33XDxo4IYbbkhjxC4PxqMlnUdgGCYKbF3CHtouu+wSpptuus6D0MEQIQSxvYhGHvaXBlX4vjilE1uG3TAw36l8D1PZt8vzKOWFvA5LXW9XLmXfD8s3UzY/dd0Jh/HIDUM/Oj7VeiIEhIAQEAJCQAgIgcFBQIRbh8uCU+kwwM6pnK2ErW4bb7xxeopnK7d6Vx2BYZgoUFemmmqq6pnrg49hSSsnD3My4CDYEWxVTMOCZ6s82LtRygt5GrX8WDkVXYflmylKf6eeC4fxSA5DPzo+1XoiBISAEBACQkAICIHBQUCEW5fKAm0gTtl8+OGHo/F2Dk1AM2i++eaLJ5UOur2uLsHSs2A1UegZ1IpICAgBISAERhAB9aMjWKjKkhAQAkJACAgBIdBTBES49RRuRdYrBDRR6BXSikcICAEhIARGEQH1o6NYqsqTEBACQkAICAEh0EsERLj1Em3F1TMENFHoGdSKSAgIASEgBEYQAfWjI1ioypIQEAJCQAgIASHQUwREuPUUbkXWKwQ0UegV0opHCAgBISAERhEB9aOjWKrKkxAQAkJACAgBIdBLBES49RJtxdUzBDRR6BnUikgICAEhIARGEAH1oyNYqMqSEBACQkAICAEh0FMERLj1FG5F1isENFHoFdKKRwgIASEgBEYRAfWjo1iqypMQEAJCQAgIASHQSwREuPUSbcXVMwQ0UegZ1IpICAgBISAERhAB9aMjWKjKkhAQAkJACAgBIdBTBES49RRuRdYrBDRR6BXSikcICAEhIARGEQH1o6NYqsqTEBACQkAICAEh0EsERLj1Em3F1TMENFHoGdSKSAgIASEgBEYQAfWjI1ioypIQEAJCQAgIASHQUwR6Rrj1NFeKTAgIASEgBISAEBACQqAxApMmTWochgIQAkJACAgBISAEhMBERECE20QsdeVZCAgBISAEhIAQEAIlEBDhVgIkORECQkAICAEhIASEQA4CPSPcNGDLQV+PuoaAtsJ0DVoFLASEgBAQAhMAAfWjE6CQlUUhIASEgBAQAkKgqwiIcOsqvAq8XwhootAv5BWvEBACQkAIjAIC6kdHoRSVByEgBISAEBACQqCfCIhw6yf6irtrCGii0DVoFbAQEAJCQAhMAATUj06AQlYWhYAQEAJCQAgIga4iIMKtq/Aq8H4hoIlCv5BXvEJACAgBITAKCKgfHYVSVB6EgBAQAkJACAiBfiIgwq2f6CvuriGgiULXoFXAQkAICAEhMAEQUD86AQpZWRQCQkAICAEhIAS6ioAIt67Cq8D7hYAmCv1CXvEKASEgBITAKCCgfnQUSlF5EAJCQAgIASEgBPqJgAi3fqKvuLuGgCYKXYNWAQsBISAEhMAEQED96AQoZGVRCAgBISAEhIAQ6CoCIty6Cq8C7xcCmij0C3nFKwSEgBAQAqOAgPrRUShF5UEICAEhIASEgBDoJwIi3PqJvuLuGgKaKHQNWgUsBISAEBACEwAB9aMToJCVRSEgBISAEBACQqCrCIhw6yq8CrxfCGii0C/kFa8QEAJCQAiMAgLqR0ehFJUHISAEhIAQEAJCoJ8IiHDrJ/qKu2sIaKLQNWgVsBAQAkJACEwABNSPToBCVhaFgBAQAkJACAiBriIgwq2r8CrwfiGgiUK/kFe8QkAICAEhMAoIqB8dhVJUHoSAEBACQkAICIF+IiDCrZ/oK+6uIaCJQtegVcBCQAgIASEwARBQPzoBCllZFAJCQAgIASEgBLqKQN8JtxtuuCFmcIoppggrrrhiVzPb6cAff/zx8Oijj8ZgV1pppTD55JN3OopK4b344ovh7rvvjn4WXHDB8Na3vrWS/1FyPOwThTvvvDO89NJLYaaZZgqLL774KBWN8iIEhIAQEAJDgMCw96NDALGSKASEgBAQAkJACIw4An0n3N797nenEN9yyy3BBnjpwwG+OeOMM8LRRx8dU3jaaaeFxRZbrK+p/f3vfx8++clPxjTsvvvuYcstt+xrevoZudWjSZMm9TMZteOmHClPSNPLLrusdjjyWA4ByM3nn38+Op5tttnCVFNNVc6jXAkBISAERhSBYe9HR7RYlC0hIASEgBAQAkJgiBAQ4dagsES4NQCvy16HfaIgwq3LFSQT/HnnnRcOPfTQ+PTkk08OSy+9dMaFfgoBISAEJhYCw96PTqzSUm6FgBAQAkJACAiBQURAhFuDUjn//PPDSSedFEM4/vjjw0ILLdQgtOZepeH2BobDPlEQ4fZGWfbiToRbL1BWHEJACAwTAsPejw4T1kqrEBACQkAICAEhMJoIiHAboXIV4fZGYQ77REGE2xtl2Ys7EW69QFlxCAEhMEwIDHs/OkxYK61CQAgIASEgBITAaCIwcoTb//73v/C3v/0tzDLLLLUOMcD/3//+9zDrrLN23J7cc889F9M0/fTTV6pNr776asDvlFNOGfBbdDiDCLc3YK0yUaDMwRd7b+Bbx37XP//5z3jIAfVmsskmeyMhbe6Ik/o6zTTThOmmmy513UvCDftl//3vf8MMM8yQxl/1Bv/YQOO766T85z//ifjMPPPMlculSr5EuHWy1BSWEBACo4BAlX50FPKrPAgBISAEhIAQEAJCoNMIjAThBtnBoQW//e1vw2233ZZihB0m/rbZZpsw44wzps+zN/g/99xzw+233x7D4DfEAQc64Pff//53OOqoo6K3Aw88MMwzzzzx/uc//3mMlx/+eXz5+r9rrrkm8EfaIPKQN7/5zWG55ZaLBxxwzZO//OUvgS2rF198cerP3C2//PJhk002CR/60IfsUbyKcHsDjnYThX/84x/xMAKIloceeugNj8ndfPPNF9Zbb72w9dZbR5LTXj777LOBwygQ3q2wwgrh1FNPDRz2AfYIZcvzPfbYI8w999zxWfYfJNuFF14YfvnLX6b1DTdve9vbwkYbbRQ233zzsOOOO3b10ITf/OY34ZJLLgmchvrnP/85JpEDGvhePvzhD4dVV101m+zwxBNPhC9/+cvx+Re+8IWw1FJLhUsvvTRw0vD1118f6/Qxxxwzzl+ZB/vss0946qmnInY77bRTOOecc2K4N954Y+qd01qJl/pfJFXzRXlSrsT99NNPx2Apf2svDj/88DD77LMXRafnQkAICIGRRaBdPzqyGVfGhIAQEAJCQAgIASHQIQSGnnD7wx/+EL74xS+mpEEeLpBnTJyXWWaZca/RLmISTzh5AoECCcIBCQhEwAILLBDvWx2aYCQdhE4r4SRRI3HMnSfO7Fne9fOf/3x6KinvvT+dUvqmCFneKaUvvPBC2HbbbcOjjz6aB2v67AMf+EA44ogjUo3CZ555Jqyzzjrx/S677BJ+9atfRcIq9eBuqDc/+MEP0rpir9C6gpyFhC2SRRddNLz44ouxTnf6lFK0JU888cTwwx/+sCj6+HzTTTcNu+22W9S8M4cPPPBA2GKLLeLPQw45JBKGV1xxhb0Oq6yySqhLuH30ox+N+V1zzTUDp4SeffbZabjZm69//evhIx/5yJjHdfMFaW1E+JgAX/9x0UUXFRKnee71TAgIASEwKgiIcBuVklQ+hIAQEAJCQAgIgX4hMNSE25NPPhk1kQw8iDWIgvnnnz889thjgcmyae/g5sc//nF45zvfac4Dmmy4N80WyI111103uvnTn/4ULr/88jH+8ViWcDvggAOidppFhsbUkksuGV5++eWAZtzdd99tr8J+++0XNtxww/ibNKFhxBVBqweNKa7/+te/wlVXXRV+/etfx3f8u/nmm1NCSIRbCku6HTiPcINIMgzRKnvPe94TtbXY1nnrrbfGemIh/ehHP4rY89sTbvaeOgMhSzh33HFHuOCCC+xVgDyyky/tIUQomm0mEE1olb3yyitRw/Lqq6+2V/HaacINApE6bLLWWmvF+sU2ZbRDL7vsMnsV6+FBBx2U/vaEG2lGO86Eb2+DDTYIEJF1xAg37xcyepFFFgmPP/54+OlPf5p+p8SFdp7f+ls3X8cdd1zcCkzeLD9o0L3jHe+I3xX5mXbaaX2ydC8EhIAQmBAIiHCbEMWsTAoBISAEhIAQEAJdRGCoCbevfvWrKUEAaXLwwQePsUMFaYU2jGkTZTVw2EZ62GGHRXghENg2alvJeIgmFNpvnhwrQ7g9/PDD4WMf+1habJxkmt0Gd9ZZZ4VvfvOb0Q2nm/IbYUvcZz/72Xi/8cYbp1v44oPkH/bG9txzz5S0QcsOUgIR4RZhiP+KJgrUCTTXEHA/+eST4zbQ+OD1f2xP/ta3vhV/7b333uHjH/94vM8SbiuttFIk1LxNPgheyCMTT4hSj7bbbrv4Cg24b3/725HoM7dcIWOJ06SThNsjjzwSCWYLG63PNdZYw37G60033TSGNGPLLEQx4gm3+CD5h6YZJOJMM81kj2pdPeEGofbd7343EucWGPUe0trI8VNOOSXFrmm+iEM23AxpXYWAEBACryFQ1I8KHyEgBISAEBACQkAICIFyCAwt4YYGGnbMTK688sp40IH9tiu2uiAFTGOMrXRLLLFENBK//vrrpxN4bGrNO++85i29ZifzZQg3r93mCZs00OSGLaeQcqaBh2YR5Mr3vve9AEGHWFrjD/cPsuE73/lOfMJ1xRVXjPci3N4AqWiigAYbNsIQNN0+8YlPvOHp9Ts01T796U/HXzvssEP4zGc+E++zhNtPfvKT1J6fDwT3ZksQLUmzAbbXXnuFa6+9NjplG7QnZb1/yCb+kE4Sbp6gxjbhrrvu6qNN79HqO/bYY+NvT1JnCTcOdmBbcyfEE25subWtuz7s73//+3E7LM/QHESDEGmaL8IQ4QYKEiEgBITAGwgU9aNvuNCdEBACQkAICAEhIASEQCsEhpZw+9nPfhZtt5G5VuQB7z2BsO+++8YtgF4T6b3vfW9KMOA+K55AKUO4oZlm9sHQWCo6/RHbUdjqQjDUzuCW0x75Q/yWOX6zPfKee+6JW1CNqBPhBjLjpWiigKYUJ18iU0wxxbgTRTms4sgjj0w1CIsIt2WXXTaSo+NjDsETQ34bM8SvaWi1qhfYFVx77bVj0J0k3MrWS7Yuv+9974vxo4lnW2CzhBvbXzk9tBPiCTcOYcjWfeLg4BEOk0A4vIH8IE3zRRgi3EBBIgSEgBB4A4GifvQNF7oTAkJACAgBISAEhIAQaIXA0BJuGKQ//vjjY94w4J49sdNnmgm8aeKg0YRmk5+8tyPs2Gp65plnxiDbEW6QZWw1RLAXB+FSRyCGIDh+97vfxeuDDz4Y7rvvvlRTz8IU4WZIjL2WmShAWkJggiv4cnBG1oB+EeEGyWMndo6NOQSvgWiEGxqNELtImXph5FynCDdIxpVXXjnGj705bKK1ErTX0JhEjBz0hJvXfGsVTtl3Rri1yi+nCFMeiBFuncgX4YlwAwWJEBACQuANBMr0o2+41p0QEAJCQAgIASEgBIRAFoGhJdywP2Vk1gknnBANv2czZ78feuih1A7X6quvHk+eZAsq2m4Idtq23nprcz7u6rf4tSPc0GCCLEGwK4dR9qoCwYF9L9OSa+VfhFs+Oq0mChBsbJnEvlqeoNVlW5CLCDcjbvP85xFuTzzxRGALM4I9P9s2nOefZ5/61KeiEf9WBFSR37znf/3rX+MhCLxrpZ1nfiG0OKADgWxeeOGFx9hwYzss22I7JUa4eXuG2bDzCLdO5It4RLhl0dZvISAEJjoCrfrRiY6N8i8EhIAQEAJCQAgIgTIIDC3hBmGBvTOELYCrrbZavM/757XZMICPXTVvHL6dhhs2pUwjqB3hxhZRSD3kXe96V0ATr4pAtnmj+YSBZhSnJmJjjj+202InDhHhlo9u0UQBEhOyzAg1tL1WXXXVsOiii0Z7bOCL3T9OHkU6RbhxCilaYQhxnX766fG+6J9tk+wU4ebjL6Nh57dRmx06r+HGwR7bb799UfIrP69LuHUiXyRWhFvlIpMHISAERhyBon50xLOt7AkBISAEhIAQEAJCoGMIDC3hxiEDGEtHdtlll7DtttvG+7x/F1xwQWDbKYLh+s022yw89thjKanCFlDbnpr1j900DmcwbbN2hBv+OQUTQgdNqeuuu26cnTCLA3INI/4IcSywwAJj7FFxwqppy5kfrhjrP+igg+IjEW4emTfuiyYKkLNnn312dLjpppvGE1+x5ebFH5TRKcKN8G2bKPdFdsp49/LLL4f3v//93Hb00AQfP4RzNt8xwuQfdR4S0kjJW265JdoX9IQbBy5AVHdK6hJuxN80X4Qhwg0UJEJACAiBNxAo6kffcKE7ISAEhIAQEAJCQAgIgVYIDC3h5k/kRAsIUm2aaaYZl1dsqm2xxRaBbaUIWzWxZfXqq6/GLZ/m4eKLLw5zzTWX/UyvXjuOh2UIN0gatr8hRx99dEqexAev/8Om13rrrZfaDGP73tRTTx2JDpy0srMFeUh+ERFuEYZx/4omCt42mWluZT377cadJNx233339ACC/fffP91imo3fE8Sd0nAjDh//l770pTGn/Po0XHPNNWGfffaJj7yW5qASbk3zRUZFuPkaoHshIASEQIgLLeDAIoxECAgBISAEhIAQEAJCoDoCQ0u4kVVPbG255ZbxMITJJpssRYFBIidGmr0s7EOxlW/yySePbrD9dvLJJ8d77Fph12vaaadN/WN3a6eddgp2IigvyhBul156aYBQQdi+d+KJJ4ZZZpkl/rZ/F110UUCDDVl88cXjSaoY7LfDHyDcLrzwwnHacVkCkDSbMX5PQkJCgMlElSLCjS3FRr5STnPMMccYiLAJBm52eAKak2hQIs8880xYZ5114n1VG254QlNs5513jv6pD2yJfvvb3x5/27+HH344sJ3T4s8SbqTh17/+tTmP2l0QtWUEbUrqM4L2Jaf3zj///PG3/eOU1k9/+tPpaarYSlxjjTXi63aEG6eZcsIqgrbmUkstFe/L/Gui4dY0X6Tv/PPPD9/4xjdiUtvZhCyTH7kRAkJACAw7AkX96LDnS+kXAkJACAgBISAEhECvEBgowo0tajbAawUAE3m2bd57771jDjtYYYUVojYbdrggydAUggQw8dpgPHvhhReilpltnYOQW2uttcJ8880Xw0brzYgPC6MM4cYJo1tttVU0Mo8/yDOM4C+22GIBjbvrr78+MKk38VpwEG4WJ1vlIH/e8pa3xPz86le/ioSf+eMKZhiwn3POOeOpkmhwISLc3hRxyK7MY/uOckUgOiHT5plnnkgw3X333ZEEs/qAG+oU25AhTpsSboQH4QbxhkB68XvJJZeMv4kfctbHnyXcqM+UrcnVV18dZp55ZvvZ9rrHHnuEX/ziF6k7Tu/lEAeIauJHA9TiX3rppSNhbd9kO8INTVLcINRbn840woKbJoQbQTbJF/69Vh/5XnvttaPGKe0B5SQRAkJACEw0BKztz/ajEw0H5VcICAEhIASEgBAQAnURGCjCrWwm/GTe23Jr5Z8TFSGmssKJlf/3f/+XavRk30OWbbDBBilBxsmokC/IGWecEbeMcn/aaadFQo17BOJhzz33HKMd99qbsf8hyCA9TDgR8qijjrKfuVdsj7EFzsROnZSGmyFSvBUGUmm77bZ7w2HOHSTLbbfdlhKfOLnxxhvDc88910jDjXAg7diueeedd/IzVyB4jPTqNOEGmYv2JflpJZBOBx98cCRyzd0gE25N8kX+vN0+yy9XNFHnnntu/0j3QkAICIEJgYAItwlRzMqkEBACQkAICAEh0EUE+k642QEDVfLot/nhjwMQ0BJja5kRFRYeByLstttuAe21Inn++efj1tI77rgjaonhDqJtxRVXjOTMFVdcEW2l8dxrFLUi3HBLWtAYQnvGtNZ4jqBFB9FnxvFfe/raf0i3U089dZwfTrdE2woyxGtKoaHEtllPiEjDLV/DDYQ5sOC4445LtbEMe8gttlNyQugpp5ySljnvOWSAE2gh45CyW0rZFozGpRfs96HJRr16+umn/atoV3C//faL5QyB2o5w4+CNGWaYYUwY7X6ggcnBEZC2dhiI+aHeY1uQE0ht67W98/Ur79AEr+HWCh8Lz19tqy/f6VlnneVfpffYRWQbOZJnA69uviwCNB85VdhjUmTnz/zoKgSEgBAYVQREuI1qySpfQkAICAEhIASEQK8Q6Dvh1smMsu0Bu2toIk0//fSRNPM23crEBRny0ksvjdmmh4F5iDbEThUtE5Z3A+GGFg0HO7CFsR1JwqEO2NMiLZwmia2tqaaaygcZ7r///mjMGI27Kaeccsy7if6j3UTB1xWwghSjznh58sknw1NPPRUWXHDBuK3Xv+vU/bPPPhttymHTDRI2S3IVxcMWZeo6Gp5NhBNRH3/88XiICPbk2L7cRMxO3YEHHphqAzYJr67fTuerbjrkTwgIASEwrAi060eHNV9KtxAQAkJACAgBISAEeoXASBFuVUFj6yZkA0QW2+fyyA40kLClhrTSvqkat9x3F4FRnijcddddUQONrcV2mmh30SwXOhpmaFZyqANEINp5EiEgBISAEBhOBEa5Hx3OElGqhYAQEAJCQAgIgWFDYEITbmz3ZOsmgh01O3AgPkj+oSnHFk62siFoum2yySbxXv8GG4FRnSh4O32ccor9vkGRvffeO7DFlW3cxx9//KAkS+kQAkJACAiBGgiMaj9aAwp5EQJCQAgIASEgBIRALQQmNOHGlkwOYDDh1MrVV189bi188MEHI3lgttfY7seBCWzvlAw+AqM6UcD+3JFHHhkP5Hjve987UAXBNle0QDn5dbrpphuotCkxQkAICAEhUA2BUe1Hq6Eg10JACAgBISAEhIAQqI/AhCbcgA2bbGyDyx624CFFYwftNmyvSYYDgVGdKGDbj63PVW0T9qLUsH+YtTPYi3gVhxAQAkJACHQegVHtRzuPlEIUAkJACAgBISAEhEA+AhOecAMWyLZrr7023HzzzdEQ/T/+8Y+AAXm02pZYYonASao28MyHUU8HDQErLw5HkAgBISAEhIAQEALVEFA/Wg0vuRYCQkAICAEhIASEQBYBEW5ZRPR7JBDQRGEkilGZEAJCQAgIgT4hoH60T8ArWiEgBISAEBACQmBkEBDhNjJFqYx4BDRR8GjoXggIASEgBIRANQTUj1bDS66FgBAQAkJACAgBIZBFQIRbFhH9HgkENFEYiWJUJoSAEBACQqBPCKgf7RPwilYICAEhIASEgBAYGQREuI1MUSojHgFNFDwauhcCQkAICAEhUA0B9aPV8JJrISAEhIAQEAJCQAhkERDhlkVEv0cCAU0URqIYlQkhIASEgBDoEwLqR/sEvKIVAkJACAgBISAERgYBEW4jU5TKiEdAEwWPhu6FgBAQAkJACFRDQP1oNbzkWggIASEgBISAEBACWQREuGUR0e+RQEAThZEoRmVCCAgBISAE+oSA+tE+Aa9ohYAQEAJCQAgIgZFBQITbyBSlMuIR0ETBo6F7ISAEhIAQEALVEFA/Wg0vuRYCQkAICAEhIASEQBaBnhFu2Yj1WwgIASEgBISAEBACQmCwEZg0adJgJ1CpEwJCQAgIASEgBITAgCIgwm1AC0bJEgJCQAgIASEgBIRAvxEQ4dbvElD8QkAICAEhIASEwLAi0HXCbViBUbqFgBAQAkJACAgBISAEhIAQEAJCQAgIASEgBIRAHQREuNVBTX6EgBAQAkJACAgBISAEhIAQEAJCQAgIASEgBIRAAQIi3AqA0WMhIASEgBAQAkJACAgBISAEhIAQEAJCQAgIASFQBwERbnVQkx8hIASEgBAQAkJACAgBISAEhIAQEAJCQAgIASFQgIAItwJg9FgICAEhIASEgBAQAkJACAgBISAEhIAQEAJCQAjUQUCEWx3U5EcICAEhIASEgBAQAkJACAgBISAEhIAQEAJCQAgUICDCrQAYPRYCQkAICAEhIASEgBAQAkJACAgBISAEhIAQEAJ1EBDhVgc1+RECQkAICAEhIASEgBAQAkJACAiBCYPAvffeG5555pmwyCKLhDnmmGPC5FsZLYfAP//5z3DrrbeGaaaZJqy44orlPMnVyCMgwm3ki1gZFAJCQAgIASEgBISAEBACQkAICIEmCHzuc58LN998c9hjjz3CFlts0SQo+R1BBO66666w/fbbx5xBvEmEAAj0jHD7zW9+E/7zn/9E1JdccskwwwwztC2Bhx56KDz55JPR3QorrBCmnHLKtn5GzcF9990XbDVlxhlnDB/+8IdLYTdqOCg/ITzwwANxVW2qqaYK7373uwWJEBACQqArCPz+978Pzz33XJhuuunCUkst1ZU4+hEoWgm0o0jZcUiv0kk//+yzz4Ypppii1qr4iy++GO6+++6Y3EUXXTTMMsssvUp6YTw33HBDfDf33HOH+eefv9CdXgiBQULgscceC1/72tfCZJNNFo499tgw7bTTDlLylBaHwN///vfwyCOPxHaTdma22WZzb7tzK8KtO7hmQ/3f//4XOYDHH388znvf9ra3hemnnz7rbOB+i3DLL5Lf/va34fjjjw8zzTRTOPzww8Pkk0+e73BEn/aEcJs0aVKAMDOBNDrooIPsZ+H1qKOOCmeeeWZ8f8opp3R04P/qq69G8oLA+YAH7SMGs2984xvhggsuGIPPj370o7D44ouPeaYfw4EAA4NXXnklJpaBQVXZbbfdwq9//evobdhXTZpiURU7uR9dBFiUYWA29dRTh1lnnXV0M9rDnA1rW9OuX7/mmmvCPvvsE5FkfPGBD3ygh6i2jupTn/pUuPPOOyNRdtVVV7V2nPMWkvSTn/xkfLP77ruHLbfcMnXVDpfUYYdvbGEInMFbMtwITIS2lrH3Zz/72XDLLbeEj3zkI+HrX//6cBfaiKb+0UcfDQcffHC47bbbxuTwPe95T/j85z8fFlpooTHPO/mjV4QbdREtOggn2tBddtmlk9kY6LBuuumm+O09/fTTY9K5ySabhJ133jmSNmNeDNCPYSPcTj755HDllVeG2WefPS4wdIsIYxyy6aabhj//+c9h7733Dh//+McHqNS6n5S+EG5k65hjjgmrrLJKyxx2k3B78MEHw+abbx7jp/HcbrvtWqal1y9/9atfhf/7v/8bF60It3GQDM0DJnpM+BA0Plk9rSLDOgnOy2NTLPLC1LOJiQADUWxmrLTSSnH1bGKi0NlcD2tb065fn6iEWztcOlt73ghNhNsbWIzC3URoay+++OJwwAEHxOK66KKLQp3F0VEo60HOwwsvvBAn7izc5smb3/zmcNZZZwU0orohvSLcfvnLXwYWT0wmSn1EU7vVnHzppZcOJ5xwQmC3zyDKMBFuf/3rX+POOcMREnvttde2nx2/spj45S9/OfCNUp/Rdpso0jfCje0OaG+xZaVIJjLhhho75Bqy6667hk984hMpTN1in9MIdNMVBJqSTMM6Cc4DsykWeWHq2cREYCJMAntdsl9WXUh4AAA3y0lEQVT96lcDK8xsb7zssst6HX3t+NoRS6NMuGGCY6eddorYcd14441THNvhkjrs8M2HPvShGOLKK68sTaEOY9uP4Ea9rWUHAnWWBRw0RD3Z0Q+8FWc+Aux4+s53vhNfsn0e7WAWsNkRZRpvaM+gRdMN6QXhhtb+VlttlZpAIB8bbbRR2HfffbuRpYEKEw02NEyRtdZaK/ZlaEX94Ac/iNpRPD/ssMPCBz/4QW4HToaJcDv66KPDGWeckWIISQ030y2egXqNshPjFep3nmJRmpgRu+kb4QaOqIZ+6UtfKoR0IhNuBx54YPjpT38asbniiit6YpegsCD0oiMINCWZRLh1pBgUyIghMOqTwBErrq5mpx2xNMqEWytg2+HSyq/eCQFDYNTbWq/d9uMf/zi8853vtKzrOkAI7LXXXuHaa6+NKfr+978flllmmXiPjc511lkn3rOlFC23bkgvCLdf/OIXcTsp6WdbM4tgyE9+8pMwzzzzxPtR/OdNUKEFdfnll4e3vOUtMas/+9nPwhe/+MV4jxIKc6JBlGEh3Pz34usY92yn75bQtmLDDeE7HjSTXt3Kd18INz4iVpCQ7373u2G55ZbLzV9Vwu3f//53wHBwGTs+dQegGJIm/d1WZUWt88ILL4y40PBag5ML1OsPX3rppfDf//630aEKrPBxuEUrzcNWaeAdZUtaKIeq2yZRESev2GMaBnn55ZdjncOoLululd9eEm50Wn/729+iPaBWacrDuEqevH/zx4EoHIfdSppi0SrsXr6jrrNi0+R7yUsvYdLWUI50RnXaG9qC559/vtB4ejfbMtKNqjptZZm2y2NA3q3ullll68YkEGyIu85AoEo/5PPd9L5pXWxXX1qlr0l502eDNXWlqbTr14sIN/o8O7Bg5plnrpQM7JKQh6aHFBTZcKNcSBv96Zve9KZKaTPH7XAxd/26skWM74btJWhVVpFO4Z8XZye+5abl17SdbjWmq9rP1GlrO4VhUV/WpO5ky5wTJzlUBa2p008/PftavwcEATQP2W6JZOdHto29m2XYbcKN79K029haSXzWP3z0ox8NX/nKVwakJDqfDMYSZvM9W4Z8m3YqLPZKsdU3iDIshJtxLNiFZ0fdiSeeGCCwu63l5om+rL3ZQSzPTqWp54Qbqw6oE6LBhVCw55xzTu4E3SoD7ooOTeA0IdQh77nnnvCHP/wBp3HgzooH2xg222yzMaqRqBxfffXVkRBCpRFhoGx7/TGWah97fJn842QNGFmuZjMAe0E07Ouuu25461vfak7TK3uTjTAj7DKHRPzrX/+KDQgDlD/+8Y8pKcnHwIRkzjnnjAcppJEkN9gCu+SSS6KxZVRuEdLDHncOp1h11VXjM/+PjgrVXOTb3/52JOlYNeGYa/5YNfBbWL1fu2cCYOr2W2+9dcTs1FNPjWrAGG9GmECBJUY/i+xg0LEQN4cBUIaGL/WEfNO4LrjgghZtvHJ61J/+9Kd4f+SRR44jWDGyaasgED+cipIlnSh7q4Orr756amx6TEQFP7AvQJ0FRyOOzSnqz3SUnICHMEgEJ/Lpy/Rd73pXfJ9XpvFFzr92Gm50VNQ7JpUY3yZtlMH73ve+WFfXX3/9QuKmSp580v7yl7/Eb4NtZ1Z2vCde6t/HPvax1HhtJ7HwafD35Bv7kAh1f9ttt433/t/3vve9YKfnUb9s25N3Q9tjJ/6hcu3tDJBnvh/isjaEgQFtAirudQ81+cc//hG375133nlpuJam+eabL6y33nqBb82f1vzEE09Eewi4+8IXvhAPlrn00ktj/q6//vq4mGF44KZOW4a/IqGTZoWK8uY74zsmfuK2b4O0sz0HjeYiwgC3p512WkyfbQkhTtox/rbZZpvAKc0m5OO4446LP62cSMMCCywQn62xxhoRK3Nf5sp3w59v5wmTBSEGd0ULQ4RdtR8CJwzVIrQZ3sB9fPj6P75pVO75dmjL2EbjMaxaF8vWF8qSg1msXC1NnSpvMKYfpqztG+K7WW211eI3y4ITz+k/6JPbSdl+PUu4Qa5RDnYYDfEwHqDtYltL0emELC788Ic/jP2l1T/6edqA9773vTEf7dKcfW8TKuJnVZ/w+Y5oZxCri4SP4eFWfRrtBN9AGVwefvjhGB9xfOYzn4njJu690IfR5yP777//uBNHIZUoJ8Yuvk9josi3veKKK0Y8fZhMStBAoR54YfzC1in+ik4c7Ab+loaq37L5Yyzyu9/9LrZT3/zmNyuXn4XDtWo7XWVMV7WfqdPW1sGwbNsEPk3qDv7zhLKjn0EYs9rEPs9tu2fUT/rBhRdeuPZhb4xjGRszX2IRs4nQf9B2027MNddctYK67777wh133BHHIVUX0WpF2MKTEQM48fMVxiJovyHtdlBFRzX/dZtw8/nA5hV9AnM96wuZW84777w1Uz/43iAZrV+lH1xiiSVioj0ncMghh+SO3Qchd8NAuNG+mBYbJqwYV9BO2Dbdbmu5YSrrxhtvjHzFMJktaVK/+kK4QZDRYNkebTo5wM+K/7jyCDdO1Wi3n53JGh/mHHPMEYOHrIGgKhJfyRhEwvYyQS8SBocM2LOdmN8XjVo6hF07YaWOQXKRMHG1U0tZ1aXToTFqJXSwdEhe48irczLgBUOb9BCW78CKwvYMNSfncMiDTQyyfpgoQFDYZNjeQ9BQHkZ+2PPsFQOLDL5tonnooYcGSAkkr9E1o4wWDnnMnljE6qUREUcccUSAdCsj559//jjSM8/fSSedFJZffvk4ESftRUL9KdvYtCLcWAWHQGS1r0g4pAQ13qy2VNU8Wfj3339/+PSnP50SK/Y8e+X74DtkEN4pLLJx2G/fiTABtm3Z9p4rK4RGTq+55pqB+uSFb4uTrpDst4tKOwaVjUzy/uweEhuyv4rw7UMOcvJWK0HDgPpqml9+xY9vgYkXW9BNKHPqeZO2zMLKu2JH49xzz41kAFse0FwskqKVWRZKIMitTPL8M+Ck7trWEb/1J899UVx5biEJ6GusTclzw7Mimz51+iH/LdAGMDmz9s3HDza2+AHhSntpUqculq0vRW1NJ8qbPoy6WiSUHQMxvmXISE7rbifgUqZf94QbYWfJHh8P/S19R1bbGgypr62+VWyo0TZWESPc8EP7AwZFwmIC7ZDXrM07pbQMLmiU0ccieZPUp556Ki4sWlrIOwspXjxZ4b8T0zah3eIbM6G+Q9y1Etpvxg18+166hT9x1PmWLW1Ny49w6rbTZcd0dfqZqm1tXQzLtk1N6o6VVd6VsbQt4jBHWWSRRfKctXyGZjbjKcaXjBHQRKI9qyLgAFEO7gjhvf3tb68SxDi3flzEJBsycbHFFhvnrtUDG1cznsc+Gn/0Xf0Qxgoe17PPPjv2F17jqRO4FeWtm4Qbi/Nm4yo7N7Y2ZoMNNki3mBalcZifW10jD/TDkMW0cWa3j76BcWd2LjMoeR4Gws34FRY6afts/MncFc4DjLtpy40F9m9961uxyBh7zz///INSfF1LR18INwaxHHO84YYbphnjg8pqhliFwFGWcPv5z38+xiAmGkMws2y7oMMiPBM6BVaK+DjpxBgcQlAw+EaoWDbBRmPNtI/Y7sofQidDJwVpBNnECrRp1BE+FZYjdU3qEG6o/hsJxMSZThKhY0GrhYHnjjvuGJ8x6UbLyoTJA9oATMTRGvAkDqv1XsPOD84gQjxRRuPGKgpERCvxhJu5AwcIFfBkJczIQd5niQ0GlkwkKSsTBupoCsGyX3fddanxU97vt99+aX3BmLcdj43WVnbgzgSNztYk7/hh6zBxA9aUbzthxcWfnAOZAX6QMkxKvGaSER2QilaHfJmatg8rl7Zq1S7+okkwWjDUi9tvvz0GQRnybaFpgCYgDZsRRKxiUMdMO6JOniydDLiMqF122WUDZYHGCPUWoss0Ham3kEB8c53CwtKQd/WrY9mVQD/wxC/lTl0zPHjG98DABkHjY4cddoj3foWRB9T1pZZaKkDQoYniyU7y2UojKgbo/vmytfaIsCHK0TTimzXxbaWfpGS/ZXBnYMa3QnoM+6ptmcWbdzUCxr+jvaE+sE2P9tbaSdwwMPYaq08++WRcMTf/pJlFAjpfSCk0Nj0RBw58bwxorI3zRBl+EbCz1TsLu+gKcWGTG9xAbKGhipYC/YyttPLOt0P8rtsP4dcGz9yjHWxasfw28Sv5DDbRFELq1sWy9cXXR+qfSdPypl32BBr9Ft8J/RaaNJ4sJs6yhFvZft0TbpYnvhsWXNCgRLOAdtoEAtnqFM/Q8qI/tvaUcQNkEhofaGj775RFRNOYsfBaXX19MHekC9KKdoDwTWue9/T3nNRmkke4lcGFb80WnPj+mOx48ZMfnrMoaPZXzB3EGFqRiC02cZ9HuNEneq1i+g1wJI9ogTM+NG3p7Nilm/g3+ZbJa9PyI4y67XTZMZ3/rsv2M1Xa2iYYlmmbGCPWrTvg20pM4wI3LAJXmcwzDqJv82NeviXG6bQv7YQxHAoIjNU80c6ciElp1W3u2fjQakQD3o/1WRCmfWJx0I9/sn7t97333hs1/2xewnO+Xcoku6Btfrp59W1ONh4W/xj7dEts/tBUEzIvff4bgrz2JpJ8v58d2+aF1eQZxF+7elHGTZ008D1AnvpvwcJh/Eo7yVxxUGXQCTc/D2I+yHzVxCv+MDaGE+mG+LqcHWd1I76BCDOp2F2X5KOclDTu8S9h7tP4klWc9HmyYjop0TRI33GTqOWn75OOIn2XbL2clDSm6btkVWpSMrlL33OTrD5PIkyLN+nIxrxPOvf0XULmjXnHj2Syl75PJtaTEkJljJtkkj0p0YxJ3SQTozHvk4ZyUrKKH/+SjmHMuzI/EoIsDTvpLMd4SbaApO/IX6LpMOY9P5KGaoybZNKYukmIujHvCCOZxE8C17KSfLBjwkhIo0nJhzrGe0KqjnHjyyghZNJ3iZHTSYmNmTF+E0JuUjIJTd28//3vn2Q4kE5+k26uuPXi6wZu9txzT/96UjJZSsPNvhvjMPODMiY8/pLJfubtpEmJHZ9JyQSxMF2JZkDqP5vmcYHlPEgGTKl//zqZpKbPk4ZrUkIU+NeTkknKpER7KnWTbBtO39fNU0K4puElW2jHlQHfR0L0pG4Sbbg0Tm6aYjEmsMyPZHU5jTeZ4I95y3dpZWjXhBAa4ybpzFM3yTaK+I62iXbA/CTk5hg//EhW3tP322+//bj3RQ8Se4epP9pHfmeF79Pi5vs1AVd7btdkVT2Wublp2pZZOHlX3wYSf0I6jnOWdNppGrNtIWm1dFNfErJ9jH+w8HWFbyAr1hbQBlWVZKKUxk86EnJpXBC+n/L9V9N+yLeByaRqXLw8sLaMdsXazyZ1sUx9Id6itqZJeYOXtY9gzfeSFdpVqw9cac+qSLt+PdFoGxM+Y4dsW+y/42ydSra6pv5pZ7ICvlYfSX+2T8y6979pM3zeE7LZv473yUB+TPi+LU8WElP/iYbOGL/tcPHlnZBeY/wmBGkaLunL63MTbb7ohndWTwnE8pNsi07DTEjP9HmyqJo+txv6Fqsn2bi6hX/Tb5m0Ny2/Ju10mTFdk37Gysbqdva74H1TDMu0TU3qjuUh78p4xeoq45mykixuT6Jum1+u9BGMybLzmbwwcUObhx8fBmESdqeFeVSy5XJMXIxraGsov3bCt00bmmxZHxMGfTdtEXO9XgnzAauPhh2/r7322q4ngfpPnIwNOin0RTZvLRoTWDuTaC93MuoYFvEzLrE0MDdjHpvtE3CMO9KSHbN1KlH0dVaudiVdeWnxcSa2g6Mb3FX5S5QTfDCN7vnOLM0+INr4Kmkyt8y3OynJgllMH21d3jebLJrF94w/aRu9dCoPyaJailGVebhPy7DdY5S761JEuNF4+4Y72b45Ji1FhJufqOA/O2C2QPwHS0PsO5R2A9Bka2laGTzZZ2FzJTybhDNAzFZM77bqfSvCzU9Sk73XhUEnWndpHvxENTs4S1b0C8MoepEl3PgI8yTRvErTYI0G9cEG1DRKiXZQntf4LFl1TP1DOpjQ2ViDZqQI73y6rFOk7P0kwJOReZM+iyN7tUkF8frwvLtkK1Garizx5YmDojrrw8re+0mRf0enSJrIZ1HnBwFtePlJbN08+fCI339blrZkxTYORhk8JtoZ9jhem2IxJrDMD5+2bENuhIENWsAkWZkeE4K1SeTLOiM/CYcILhLfbtBZlhFwsrLJLgyYfwg+c+PJ/ewkJW+Q5tPU6bbM8CRttFl5wsTB0p5oSKVOHnnkkfQ57xko5QlENnXbwsjWJXuXNwnMC88/8+2IJzK9G+q2EV+kwRZfmvZDkDGWJ9rDbJvgy9a3803qog+TuPPqC3kvamualLdPd6vJQmLiIMXFt1W+TIru2/XrnnCj787rsz0xgRuTRNMyTRcTzCLx+cwS/kV+eO7bJCY5ReLDp78xaUK4MeG2upj9DqzuW3+KO79IwfdpfmlrvNhzT7j5uBjL5AlpwA/tN+Ej3cS/6bdM+pqWX5N2usyYrkk/Q/6QVm1tUwzLtE11685rqS/+T5tudZX2p5UY6cRk1fxwrUI60fZD2PtxMGFAKLMI1G1hjERf7NNPWlgQS3YilIo+j2yEEKF9KkM2loqkwBHkno17fR5a9SsFQdV6bG1hpwk3Tyiz8JAniWZQWm6MoTopjAc8nv4eopbxI30mczZ796UvfamTSYhjbr/IafFwhchuJ4yVvJ+y9/RznZIiwi3bZpRNG+OuTkmyqyTFJ2+BnHiYR1raaHO9dDIP1p/4cZaPa9Tu+0q4ASaTUitYrn6SWkS4+Y4isR3WskzoBC1835G1G5jbihONeitJ9jqn4XdyRaoV4WYkH/kqIlhIc7JFNU0bFdvED84gF+qIJ7YgbYrE42Nlm9WOKvLLc0+a+oEQDYWVqycp/ITKT/QTdfg0mmS7b+q3FX6ph9dv6GiYfOcNJnjn4yZtvSDcGBwZDtnJTjb9nvykbiBN8uTrIfcMtBIbJtloc393k3AjQvt+wcaXl6U5sSuXkgqJQfA0jR5PT3KgiWE4M/ErEl/nqPtlBKKFesVflnTBP/Ex+bT4WxFurBplxbDoRlvmCZg87TDSQh2ztPvBmR9ceqyz6ee3XzxItu2McWKddh3CzeoD6WvVFlCvGdzyZyRsJ/ohv3hCW+fFa1oyGTVpUhezk9q8+kI8ZQi3quXtNR29xrXly67+G+om4Qa+RWJtpe83fZ9DW1cktPtW3wmnrHjChvFJkdCe+Ym61ccmhJtfbfaLc76fZ5Jr+fITTY9Ldjxm7j3hBrFuz7kSHxO4bH+Zzb+Pp9P4d+Jbblp+TdrpMmO6Jv2MlUWrtrYphmXaprp1x9JfdIVAtjpZNLlFo4rFuSzRA8nj2+eiOHieHHITFzksLq5gSp9eRLC0Cq/pO757FB2sXC1dzL2KFtGzcTKv8pqnhEH7xLi8VZ+aDafsb/p/SydX5ng+/Yn5oBgU9Z0Fe8YFrRZJy8br3XWDcCO9plkG/q3EFsqLFixa+S16l5h0GIerHx95zP19dgG0KPwyzxkr+nEC8fixL79NwYL5JOXAn1faqEu4gX2npNOEW7v6UCXd1k7T3+TNNywsG3/S3vk5VF3CLS8PtpjH9zsRpG823Px+Woyqmy0S7KdxUAE2XYpsuNn+ecJIBl7pgQg+TLvHrkiyahN/Eh72VpBkC2M0TMk94XnbXMkK1hij563se5ktF8JJOp2w9tprc9tYCMvstSQDzWgjhkB92rDBkawqtoyL0/XMlha2AbAZ5u19JI1ZPFWzZSA5L5PBQUg+xPhm4403To0uZ51ie88MXZr9paQxSm1k5Rlp9mGAr5UZdiKw74Jg7872nXtbNtiWIR6eYbyeU+MQTlnD1gRCepMVvmg3xozkxhcl/xE39iyw7ZRs74126LydKguGk+/8YRXJ5DG1G8j+9Xb2ESwcu3r7K2ZXKZmkh2Sgb05a2qLzdRUD49h4M6mTJ2xoYSsjK9iQw9YUf9gHyft+mmKRjTP729c72hOM7SeD9Xj6IG55xndBm4Akk8nY5nj7Gd5upG9z8vITA0n+eYxbfRfmPntNyLVoq4kTwWijqFfJoHiMM2zKYVsOSSbm6WlqZjfQO/btBc/Lpr1sW5Z03tF4LWFn6xTPkKRTT7/DZCCe2vCiXTa7TxjR97Z5XvP5xn9s6phBZGw/8i2Y0D6AO9+6hWfvWl19urKHY7TyZ+98najbD3l7lNl8WTvl2z3i9vGWLU+ri+3qi+Utr63hXZPyps4mZFqMAruJ3uC/xcuV+m51wdcX76bovlW/jp+E5E0P9mhVxzmhFJtK4Gs23bCzR59iUgZ77JrSTpYRbwOMuM2IcZ5fvgU7bAh7stiPzbPhZn7b4YI7yzP3yQQmHhbBwRzJ4giPYny02+DBN2dtp7cna/6ih+Rfng033vG9e3tX5p7xH303fQe2/Xwf2U38/TdV91tuUn7Y6PIH7ZSpW2BmdbjqmK5qP2Pl06qtbYph2bapTt2x9BddvT0hxlPJJD51mkw2oxHxhNRM+3fKp8rBAdgqZRzs2wLaBuYd2EhqVd5pQrp4w/gP+5n0ydQNE9pfsChzIibjK75pOzDCwmAOkhBEHcljdrxr4wZffsTLnJK5TkKixGQkJlVSu8+WriZXq+udtOHm+yZr04vSSD9qY0DsojY9VIN4bOxLXUzI0jRM5hoY0be+26ep0za+sE+cEGYxCr6PROMu2gckfmyDIjynjjEvpv1D8IN9aoRxHePeqkJfg630ToivpzZXI1zakoRYqhwFBxvZQWmVPTsP3mYy/bbZbnVO0ttECzfaM2Zs7W0idjIPjHlt7oy9vk7hn2ZiwG4GgnBLWO1Ao0yHi3Cs82abbVZIuNlEBLftiAs6ABplxBvPbzUA9ZUyeiz5r5ONLw1JHuHmSQMMk9MQtRJOHzMjyMmqdDym3A/OktW8tgck5IXvCbfsRNG798SHEW7WsOMu0QBID4Lw/vy9DfJ45hsvT9owCaCjsLpBh8hghjKhYTYygsMNzAgk2OC+rNCQczgGA39PrBT57wXhVuZEsLz00WFhdLRpniAemXjZgQ3ZuCiTZAUyDk79O1927b5h76/svf++rY75esdkNVmZTU+ApKPHQLEduIHBYwagNuHDAH+i7VE2+uhu1eQkwWRVp5QfCDYGDRB/eQKOVueKCDcGlzY5tjC63ZZ5AgZ8GeRmxRNbnkAxchz3LLgw0S4SyooJDsIggcGCibUPVQk3ytMOVsBoe1Xy3doa0tGuDhf1Q2DDwgUkk69zPr/ZfqVJXfST2rz6YpiWIdyqlrdPt2/HLU67MqCzwbOvL/a+1dV/99YHePd+UuMX4Lwb7o184rszwq1oop/1m/3dKq/erRE2ZUg6BsA2eac/4sCNpoQbh48wHkDsgA4j0+zbYsHL2jTIYiYCHCLBJB2S1MZalq8iwo339F1Molj8yhMWbuijLYxu4t+Jb7lJ+c0222xjDo/JwyPvmbUNZcd0dfsZi7tVW9sUw7JtE2mpWncs/UVXvnEWZRF/UBK/fT/Bbwgo5icclFJWsgeP8J3Rj3ViEl02DWXcJdqyIdFSjeNmc59oUY05EdSeF10ZpzB34eA4k06RQl6BINnRkfbfxOPbL9pt3CaagzEJnSaGukG4gRH9Pgts/kBBwzB7Ze7HQWQcSMdcsBPCd8B8nAMIs8KhPZAipHGuueaKyiV1TvLNhmu/LS/229cZ6mWywyk9VZz8kgbrAzkUcZ555jGvfb8WEW79ThjjVObDKIJQh21+U5Qu2i0UZCjnRButyFnt534RlsU9Dq4aZRkIwg2A/WCR32husaIESYR4bRMb2PA82cbX8gQfNFms0fXkUquBuR/w03AndlKIqq2wKutP4GvroYWDIsLNa3aV0crwFdpWTfzgjEa7TmPdhHDjo7cVRLTObKCTB4cvCwbgflXcD2IgKyCQTDPC6gt1yCbnTBAYqO2///4xKsMjL968Zzb5sHcMPpkMsPrHHxqHlBuaPkgvCDe/0gVhxKluZYSTGCFHmubJ4qKzpFw5nZYJJp2yl2QrYUCb0aTbhBvx2EQQXCDUmGDTntjkEbKDQS8DRAgGiGPqD+QH5A4EvQkkl5GKuG3XUeGP0/+MOLBw8q5MOInbCDXqEWQd9ZlBBHUr2c4ST0XFfxHhxjfltR1x67+fbrRlTQg3Jtu2YHDkkUeG1VZbjSTnCidYQpwi2bJpNQnMDez1h4ltqHSFD80a04Ru5ce/60Q/RHiQG7RXiLVbXE0zGOKXCblJk7roJ7V59cXi6Abh5idLrTTckm1X6eBukAg36qqtskMeljklbdppp02/W8O26OrrUzuSzhaSCMtOq/NjKK/RjZtW4x3eI55YMI0QvjXachZNeAZhk2wpie5ZfGKAbJNDP76KDpJ/RpbxjZpGnL2za7J1LWoT0nfQR2c1etG2WGyxxWJb0S38PfZ1x5Q+jKrlN8ccc6R9RZ12usyYrkk/Y2XVqq31+a+DYdm2ydLCtWzd8X7y7v0EObuA7DVu8Uv5sJgLwVh2gshYkDbVhLE73xNkSZXTUM1/N65oBbGIwljJtE6IB6LbxtXt4kUrhrkb36z/jhM7UGHuuedu573l+2TLeUi2nkU3zAUgZLJawH4RzwfWifh9eN0g3Hz4E/HezwvzFgOZ+6Ip6esmOLFAhVZyti70E0PfnrTrC/qZzn7HTVtr5SkNtw6VBiqUpr2Q3R7jo0DDgEEcwqR4gQUWyCXcDjzwwHQrpU1QfDj+3mt4JSd3RaaW9+0GoDZZz5I8Puxu3hcRbsTpNQVslTkvLeDOxN0m8rZNxQ/O2uGXFy7PmhBufkJl5EdRPAz2TbMlqzHkJ8wQd2xBSYwsx6DsWPfEtka6lZQJNQQcE1iOakftvKz4QRcDrmR/e+6Ea7/99ovhE24vCDdfDqy6oh1aVjqRp6K4mPxBdNu2pyw53AvCDa0pK2MmAJDPfvJI2sHr2muvjZMdJqmbbrppzJJpeFj+PLEEaeuPajc3da+QTYltmOid+KnDaI54SWyHpWkrItwSeyVhm2228d7ifTfbMo9LVY0nVidtS7JN6Mcl/vUHXkPMNKDNbatJoLkpuppfvmlIoCIilbzZwAnimL6pE/0Q6fJtnC1AbLHFFlHjG8LWtlhYHjzmVeuin9QW1Rfi6Qbhltg6Shcj+C5pg/PEa6ENEuHm08XEbo011shLfu1nnrAo2p5N4PTrkFy29csGqk0JN8KGSMBUAu017bdNtG2cgKYBxDhjCra1smiT2JvFa1w5z2r9lCHcoufX/7EIwrZUtOgsf/ZNdBP/TnzLTcuvSTtdZkzXpJ+xMrL2Mm/c1hTDsm2TpSV7bVV3sm6zvyEjIdAQygGtLi/JSe+R2M7ubkjsIEXTNGW0azA/Qj8PUWSCVnNiRznGmacdbu66eU0OiYntMnMvr8WPRgv9EHO2dvLEE09E0xKQdSb0qUyo6S87MV7yY3mIStPGtfi4QhomNiHH7BRI7H6lCyXebZN7EW5N0Mv369sw5gc2FveuqZ/UKU/moo1O22vC4mze9ld7X3SFPLe5ZpGbss+LCLeLL744sOukqrC4Z2RzVb+ddt/JPBiXQVthOwk6nd6BCi8ZvHVdMOprRhYx1FckGM01I3rm3q4YITThyHt7nnyY9njcNRmwpe5wj9FTk6RzT98lg0l7nF69UfdkVTd9nr3BEGAyKYh/SaedfV37d6tDE7wRyUSNujCOhGRI85ispqXuEtIpfe5xTR2UuEkavjQMDiEokmRilbqzQxOSTjF9Rrm0MjibdKqp24QEGReNGfem3lAWhIcRVZNkEJYaVCUtZlyVOlRFMMppdY405Qlx+fqbNQLt6xRuq4rllXSY8G1ZnqiH2TjNHcZIqQO4SVaPouH3Jnmi3mFMk/wWGU3F0LxhxtWnrSkWlq9WV29EvKjO++ecGkY6wTPRDBsT9LnnnpvmBT9Fwjdn7UGy6lbkbMxzOxWVuPmu8iQhidP4k4lw6oRvxzBOJgPpc3/jse50W+a/zyIDyf579+21Lx/qkq8fPv34p85aPhOCwb9O63+isTXmeZkfZnyYsJMOP9cLh1lQpha/HQzSiX7IIrQ6QDwJAZfGlRBq5iS9NqmLZeoLEeW1NTxvUt7JhC7NV7KgRHC5wkEDhrWvL7mOMw/b9eu+T0y2VmR8v/HTTpumLTDxYSekrz0ed3388cfTNqCorxjnKXngje7n9XXmx59YTPtr4r+nbP/m05433rEwrA0Ef9828g2YkHfe08/avT8UwdxxtXL07zH0zffON130zXP4gvkFF8TnodP4d+Jbblp+TdppX1ZFYzprY8C1aj8TCyD5Z2ONvLa2KYZl2qa6dcfSX3Sl77L6liy8FTmLB5FxGmvWmDztVKuDYHyA9B8YJDcsLV5OiORQhV4JJ7MmNinHpIM00fYU1Y9s2jiMjDKxPHClTUpIxUkJKZ913ug3hzhYPK3mkQk5mrrDvT9srVECnGfqP2H7w2Pca93WQCBZZErLrdWckvGf1QOu1DUvyQLlmPfebat735f68Orc0wZbXN5/3QMHqowjfHzduO9kHqwNpD2dCDIwW0qNhWTbFhocWbEVVp4nnWNYf/31U80tVvyze86TgVxgGxtaRggrUab9xO+E/Il2GLg3G0/cm/gtTKzEH3PMMWH66ae31/HqV5S9/R1e8o7tFwj+WJGpIq003NC0sG2uMMOsKrF9zQtaZKjfJh1nfOxX5P1KgsfV+2937zWrsir43i/hoy2EEC8r54jfnlOEr1cxxk+eMWPYduwzeGHlne1LJslgKD2swJ7ZNhz73e6KFlQyyI/Oig568HnFIXvl/Yo/9RFNK8Q08OKPkv+KtE7QFrFDR9AGwF1WU4etlLalh+2kaJs0yZOvg3yLaCplVbr99uesXaJ2WFC/7NsFHlZCpp566pJIveYMbQy22PrVMN6YRgj3XtOV3wj5sW3Hrz0JwRsQLfrm0PpA88TiK1vHbNsWceXVcew2Uq4WLltR0AhDkkloemhCkcZS07YsRlTwz2tbVdVwI0i/PTKv7iadcDzgwraSsdqO/UFv+8a0LqpqrRI/eFtZm1YPbbkXtqNgLwax7cncd6IfIhwErQfsByJoj5gtv6yWLO+b1MUy9YU4itqaJuWdtdGSt40424YmBGSKC+lqJ+36da8lVdWGG3GbbTfufZ/KbxO/3ZO6RXtSRryGFO7ztAApe759xhcIfZtpAvjxSHZLaTtcYmDJP7boJYNf+xmvWfuG3laSOSzKZ56Gm+/7i/wlE5ZUa8FrHHUL/058y03Lr0k7XWZM16SfsXJu1dY2xbBM29Sk7lgeiq6mbUH7b3aPi9wytmB3CVphXpuGPggtc2wGZ8dg2bAYH2HWBK050+bEDemgL8zbst50XkH4jHkYD9KvmTA+Y1zB2JDxTSuxvLNtlF0zJuSdcXcyiW6Z97pjO7TX0Cq2HTt5dtnQcmQLbPYwuezhcHXTYHkt0nBrGq6FX/dK/pkTMW5CMHOEiZJeSt066r9/0pssIsSdBD7tjCHo/2wbor3z81h2TtTRlsJsh+cI6uaDNBVpuLGLz3/rlv52V8aE1i/3u4w7kQfyCzdBW4egSe/tvzbBPgY4oP8GjnADp7x9+P6Dwo033stvBp2Qbqgu06GwHQI1cYQOhM5lpplmir/5R8OIsWqEDpZOEnKEbYlsI0UYtNqHS4cEycWEDzIPMogwjdDKTnYxGJqs+MVwstvp4sM2/1oRbnj1g3p+QzIljHrs6NgSwmlq1jHREWLLzgiRMoMzwmwlHr86hFuWnABfGtKFF144TiiZaHr19DxSlPRBQti2F0svW0exyWTiJ7M8a7Wt2fxkr4nWQmqrhnd0uHT+NH5MUojDtk+a32RVItqwsXrn6zWTMNLISX3Z9Jv/7LVoEgyWEEtW3mzfhhSEhIV4hWBKtGLS4Gwi1yRPkF8MrEwglNmSYVsr+AbtJFDc0Flg9NSkHRZ8d3x/JhCVnORWVcxum/nLbtFj8GhbpMxN0UTck5a4pb4utdRSsd1g0M1WZToKJDtJjQ8L/jFwZJCEQOgQLjjStvAtM8mwssUN5Qv5S7viBynZNgi3Jk3aMgsj79qEgCE8Dt1gS40JeWMbC3brGJiwldTaYNxA3jOI9OKNddNOcGIjp3bRlrcTyh+bVOCIMDhl4ozNKL5ttrcZmc172nVf75v2Q4SJZMkonnmigd9e6tbFsvWlqK1pWt7epir5IY/0W2xrop3yZc37qoSb75fy+vWmhBvft1/MoZ3F1AE2uHiHwXGIZ4RxB1tDy24VyxI2hME2eE5Ypg/hW4FsZgsyQv4I32xA+bRlCbd2uMQAX//niRkeZRewPHln/ora5zzCDVttLAaaMPbClibfLSQEZBvjF1tgYKuijdV8HvHfSfybfstNy4/81G2ny4zpmvQzpA1p19Y2wbBM29Sk7ryWg+L/dmASLorqc55vJv+0x2bAHTfMIajXjMvaLRTSBzHehcAyO7GEQV9I38hYwsbudecVEDAskhKHH6cy3oBoow3zi1jEnxXswdJ+QhBaG4Qb2mgIQj/mzvr1v5uM7ZgTeBMLzPtsMZZ2g3IzDGl//bgJe8W0M0iTNOC/iHBrGi5hNxFIb698kreo1ST8Mn7r1lHCpq+x+kn50U9ANjHnpv4yTjbCypcv98y3GTd2Sprko4hw60TaBqGMO5EPypnyRrIHGDbBvhNp61YYA0m4Mfhmgm4DLjKfJdxY7WDy5UmZPJAYlEJ8ZCdfdHJ52i/+5BsmvGji0JC3EjocCDK/otW0wrQj3MCG1WEmKa0Eso2w5pxzztRZmcFZ6rjgxg/g6xBuBMsEghV6a0ALooqDPAainKySJ/5gCN57DSZ+extJ/G5lLJz3ecKAhdUPtNaKhEYf8sYPvEibaWx6TRkLI6v5Zc/zrkWTYNzSwJM+/83kheFP6m2aJ1Z4IYfaCYNPNJSYUJm0w6JTAxevNUDc2ckjz7y2Hb/ztIp4zoAT20KQq60E0oZ2qaxBZUg1bCe1EtoYSD1fvtTzRxLbbhBUSCvCrUlb1ipdTQkYwva23FrFlWy5ChjTzYo/sdHetSKrzI1dmejx7bRrhyBabIBgfpv2QxYO16wmLt8MZFSe1K2LZSa1xFfU1jQtb0hMVkghjoqEuPl+qOtVCbd2/XpTwo00e3uCRXngOdovSyyxRCsnY955woY2pFV9pN9gYcBrwXgyKku4tcPFJ8RrTPM8u4BFWH6RAmLAk9I+rDzCjffYQOWvnbCQg404b9OyW/g3/Zablh9Y1G2ny4zpmvQzU045ZSyqdm1tEwzLtk1N6k6r+gZRbgcl5S3stPLLO2wzsbDJd2+CLTj6orKSbAuPxIHXsGO8wQISUndeQb0ybRLCgXiCzGPBsKz4Q8rwA8mG3eCqGlRNxnYQ8tRBW9QoSjskDfM+Tq9MtuqmzqxNbpIGAhPhlkI67qZuHSUglADouzyhOy6C5AFkNgowjAkpS6TquDt6avGvST5EuLUA9vVXfjcD/ZftfuN1E+zbx9w/Fz0n3PyWnFbZ9uwn7rKEm/ll0k/nyGDTC0Qb2iyoEhdNfPkoaIw9oeYJN8JjgkDcrCRnB8DEwRYH1LBtQGJp8BWGQXGrCYb58VevAZTdmmjuGPhihJUtHqbNZ+9ofEgXpxZmV67KDM4snKIrRmSZDCFlCbe8LXaQq6xmcySwJxMIF9wgIvyKDc+zwiCHiSCS1WDiGcQSK3i22sUqbBlDsPj1QlqPP/74uDXWP+eeLQSw9JCC4G5xeYOe1CX8U5csr50i3EgDKx8QQhh/t/h5jrD6CPm38sorv/bg9f9N88S3w+Q4j4iEgGSLJSuofCte2mGRHRAVbVf0YebdE4+dRMp7VmeXXHLJMU6pl5DSSJExXu+BuoqmDhOErPC9oTFV1OZk3dtv2juIiGyY1A9W+dAs8B0U/mj7MMRchnDDfd22DL9F4jUIi8qIeBkAI3wbbGfOClqitJmsYmbrLn4hYYq+Wch/0oE2mvmtQriRFvzRDkHI2LdpaYQwph/xmm32zq5N+iELA+0o4kH4XtCY9Is45s5fq9bFspPaIsKtU+XNdnaIVtoPw5typk9B+9fqC5M6BuBVpFW/Ttto20bIC1vk8sS2LlIOfvJrbsER/35Llb1jIQ/y5R3veIc9KnU1woZvHk0UtPRpm7zYog4a7tk2xpdtlnAjjFa4+Dh8ODynbnvCi2f+cKAiIhx3RYQbfTLb6dAMym4Pwh/fHH0HbWl2/ML7buBPuEjdb9nKjzrDGKNq+b0We712uuyYrm4/Y+Vftq2tg6Gvd60Wj5rWHcM5e2W7th2EUqfdsfA4UZwFRcYaEDNVCDcLg50JbKlDa6eIcKuyU8MWyNFeNQ1yi6vslXYQjSnG+3ybZTV3s+E3HdtR/nxf4JOdk4EJY33GTFZn2aoGSY/QfjL+RlPS9ytFY5ds2u13WcKtargWft1rVvupVR9XN452/vzct0odtXAZi6HFyPjAxnP2btlll43KOEYe8552l7YDqbKzxMIsujbJRy8Jt36UcRFmVZ6zgA1vw3iHb9KPdT32dfiTKunopdueEG69yBAra5BOiXHfqEnDfuxOCx0pp/GwyoLGGNtXfSXpdHxVwkPlltWBxDh+XA3ztsOqhNNPt5B4rMSBKSt6tlWmn2nKi5tGno6eusakB3LT1wPqIiuVDLyz7/LC68YzBlh8D9QDjmNvNzhqmidOjCVOBq1gwfbPueaaKx301M0jnSnfnNcarBtWp/2hZYSGGXlnSxltgg3y6sTFQJK8sr0QQT0+azeSVfTE2HFYcMEFx9gHrBrfoLZlHgPy3o/vBwKIcoU8Z2tvu2/HY9+LfsjHZ/edrosWbi+u4A3G9u14jWS2TqNFMajCohd9Ad8tYw7avGmnnbZjyWWsAR58r5BQXlO9Y5H0OaDEiHzATiWLP3xzjKtoT8tIN/Gv+i17ws1I2qbl14122rexYNzNfqYqhmXK3LtpUnd8OHZvJ7lCzECWWJtk76tcyTvjqir9RzZ8xhZsSfVjYeoUC7xZMx1Zv9nfpIV81ZW8tNQNC3+dGNsx5qSvBh/Inar5q5uGIsLN8KgbrvlvejUtULZg0if1WurWUZ9O2inmMIx3mWdxMnyT79GHXfa+bj66SbhZ2vtdxpaOOlfKFSUCJG9xsE6Yw+BnZAi3YQBbaRQCQqA8AtZpYaeD7XYSISAEhhcBTAhgjxBZd911CzWXvXb3sK7eDm8pKeV1Ecgj3OqGJX/9QcBPBNGyYcfEoAk7Ckgbmltl7f8OWh4GYWzXJA2tCLcm4XainFiwRZORhZ/s4RGdCL9MGKNQR8ln3XxYHSAMdm10WgahjJvkydvy7bUWaJN0N/Urwq0pgvIvBIRAxxHw9oiYpKNKLhECQmB4EfBbttBcZIU2q8nENkPsHiFoCLM1q8h25/AioZSPIgIi3EajVM2WZivbhP3KqW0dpm3k3g7k6ld66sQ7CGO7pmkoItyahlsHT++HXTeYZEBrnDS2sw3s/XbqfhTqKFg0yUc3CbdBKOMmdYXdeGyzp4422brfJA398ivCrV/IK14hIAQKEcDWDNs7sLc0iKvMhQnXCyEgBAoR8AeUsP0He2eLLLJI3EaNPTe+e5OsPVV7rqsQGEQERLgNYqlUTxNbxM3uWp3DE6rHWN4HNoDvu+++uA2LU+iHUQZhbNc0DUWEW9Nwm5Yn24bpU7HXDJlhp9s2DbeK/1Goo+S3ST66SbgNQhlXqQ9Zt9i2xF4yiwbYn2+y5T4b9qD/FuE26CWk9AmBCYgAtggxlu1t401AGJRlITBSCGBrjlPmOJyilaBlgo0Pff+tUNK7QUJAhNsglUaztHBCNJr1GOxmW9mgtEO0n96eW7Nc9sf3IIztmqahiHBrGm7TEsHuGWnoZx0ZhTpKOTTJRzcJt0Eo47r1lK2wG2ywQbRtecQRR8QD7eqGNYz+RLgNY6kpzUJACAgBISAEhhQBtDQwLM8puxw4wConGhscDMBJpZxcJRECw4TApZdeGg18c3gGkwrJ8CLAtidOwoRo23zzzbWtfXiLsispx9A7p63uvffe0V5aVyJRoEOLwN133x2386LFTz2RvIYAB5yYzTZsc080EeE20Upc+RUCQkAICAEhIASEgBAQAkJACAgBISAEhIAQ6CoCIty6Cq8CFwJCQAgIASEgBISAEBACQkAICAEhIASEgBCYaAiIcJtoJa78CgEhIASEgBAQAkJACAgBISAEhIAQEAJCQAh0FQERbl2FV4ELASEgBISAEBACQkAICAEhIASEgBAQAkJACEw0BES4TbQSV36FgBAQAkJACAgBISAEhIAQEAJCQAgIASEgBLqKgAi3rsKrwIWAEBACQkAICAEhIASEgBAQAkJACAgBISAEJhoCItwmWokrv0JACAgBISAEhIAQEAJCQAgIASEgBISAEBACXUVAhFtX4VXgQkAICAEhIASEgBAQAkJACAgBISAEhIAQEAITDQERbhOtxJVfISAEhIAQEAJCQAgIASEgBISAEBACQkAICIGuIiDCravwKnAhIASEgBAQAkJACAgBISAEhIAQEAJCQAgIgYmGgAi3iVbiyq8QEAJCQAgIASEgBISAEBACQkAICAEhIASEQFcREOHWVXgVuBAQAkJACAgBISAEhIAQEAJCQAgIASEgBITARENAhNtEK3HlVwgIASEgBISAEBACQkAICAEhIASEgBAQAkKgqwiIcOsqvApcCAgBISAEhIAQEAJCQAgIASEgBISAEBACQmCiISDCbaKVuPIrBISAEBACQkAICAEhIASEgBAQAkJACAgBIdBVBES4dRVeBS4EhIAQEAJCQAgIASEgBISAEBACQkAICAEhMNEQEOE20Upc+RUCQkAICAEhIASEgBAQAkJACAgBISAEhIAQ6CoCIty6Cq8CFwJCQAgIASEgBISAEBACQkAICAEhIASEgBCYaAj8Pw/YZe2RKiCRAAAAAElFTkSuQmCC)"
      ]
    },
    {
      "cell_type": "markdown",
      "metadata": {
        "id": "0T17ujLsT9mb"
      },
      "source": [
        "4. Integer Division"
      ]
    },
    {
      "cell_type": "code",
      "execution_count": 5,
      "metadata": {
        "id": "9DssolaYSjoN"
      },
      "outputs": [
        {
          "name": "stdout",
          "output_type": "stream",
          "text": [
            "The / operator does 'normal' float division:\n",
            " 5/3  = 1.6666666666666667\n",
            "\n",
            "The // operator does integer division:\n",
            " 5//3 = 1\n",
            " 2//3 = 0\n",
            "-1//3 = -1\n",
            "-4//3 = -2\n"
          ]
        }
      ],
      "source": [
        "print(\"The / operator does 'normal' float division:\")\n",
        "print(\" 5/3  =\", ( 5/3))\n",
        "print()\n",
        "print(\"The // operator does integer division:\")\n",
        "print(\" 5//3 =\", ( 5//3))\n",
        "print(\" 2//3 =\", ( 2//3))\n",
        "print(\"-1//3 =\", (-1//3))\n",
        "print(\"-4//3 =\", (-4//3))\n",
        "#floor rule"
      ]
    },
    {
      "cell_type": "markdown",
      "metadata": {
        "id": "CBKJ9KuXUj04"
      },
      "source": [
        "5. The Modulus or Remainder Operator (%)"
      ]
    },
    {
      "cell_type": "code",
      "execution_count": 6,
      "metadata": {
        "id": "lrBZe7DuUlbx"
      },
      "outputs": [
        {
          "name": "stdout",
          "output_type": "stream",
          "text": [
            " 6%3 = 0\n",
            " 5%3 = 2\n",
            " 2%3 = 2\n",
            " 0%3 = 0\n",
            "-4%3 = 2\n"
          ]
        },
        {
          "ename": "ZeroDivisionError",
          "evalue": "integer modulo by zero",
          "output_type": "error",
          "traceback": [
            "\u001b[1;31m---------------------------------------------------------------------------\u001b[0m",
            "\u001b[1;31mZeroDivisionError\u001b[0m                         Traceback (most recent call last)",
            "Cell \u001b[1;32mIn[6], line 6\u001b[0m\n\u001b[0;32m      4\u001b[0m \u001b[38;5;28mprint\u001b[39m(\u001b[38;5;124m\"\u001b[39m\u001b[38;5;124m 0\u001b[39m\u001b[38;5;124m%\u001b[39m\u001b[38;5;124m3 =\u001b[39m\u001b[38;5;124m\"\u001b[39m, ( \u001b[38;5;241m0\u001b[39m\u001b[38;5;241m%\u001b[39m\u001b[38;5;241m3\u001b[39m))\n\u001b[0;32m      5\u001b[0m \u001b[38;5;28mprint\u001b[39m(\u001b[38;5;124m\"\u001b[39m\u001b[38;5;124m-4\u001b[39m\u001b[38;5;124m%\u001b[39m\u001b[38;5;124m3 =\u001b[39m\u001b[38;5;124m\"\u001b[39m, (\u001b[38;5;241m-\u001b[39m\u001b[38;5;241m4\u001b[39m\u001b[38;5;241m%\u001b[39m\u001b[38;5;241m3\u001b[39m))\n\u001b[1;32m----> 6\u001b[0m \u001b[38;5;28mprint\u001b[39m(\u001b[38;5;124m\"\u001b[39m\u001b[38;5;124m 3\u001b[39m\u001b[38;5;124m%\u001b[39m\u001b[38;5;124m0 =\u001b[39m\u001b[38;5;124m\"\u001b[39m, ( \u001b[38;5;241;43m3\u001b[39;49m\u001b[38;5;241;43m%\u001b[39;49m\u001b[38;5;241;43m0\u001b[39;49m))\n",
            "\u001b[1;31mZeroDivisionError\u001b[0m: integer modulo by zero"
          ]
        }
      ],
      "source": [
        "print(\" 6%3 =\", ( 6%3))\n",
        "print(\" 5%3 =\", ( 5%3))\n",
        "print(\" 2%3 =\", ( 2%3))\n",
        "print(\" 0%3 =\", ( 0%3))\n",
        "print(\"-4%3 =\", (-4%3))\n",
        "print(\" 3%0 =\", ( 3%0))\n",
        "#integer division result * divisor + modulus = dividend"
      ]
    },
    {
      "cell_type": "markdown",
      "metadata": {
        "id": "Uh2J9huiVOcY"
      },
      "source": [
        "6. More of the Modulus or Remainder Operator (%)\n",
        "\n",
        "   Verify that (a%b) is equivalent to (a - (a//b)*b):"
      ]
    },
    {
      "cell_type": "code",
      "execution_count": null,
      "metadata": {
        "id": "mqTIkn4OVRDo"
      },
      "outputs": [],
      "source": [
        "def mod(a, b):\n",
        "  return a - (a//b)*b\n",
        "\n",
        "print(41%14 == mod(41,14))\n",
        "print(14%41, mod(14,41))\n",
        "print(-32%9, mod(-32,9))\n",
        "print(32%-9, mod(32,-9))"
      ]
    },
    {
      "cell_type": "markdown",
      "metadata": {
        "id": "5lslsd87VfAP"
      },
      "source": [
        "7. Types Affect Semantics"
      ]
    },
    {
      "cell_type": "code",
      "execution_count": 1,
      "metadata": {
        "id": "5IkNlGbjVhZT"
      },
      "outputs": [
        {
          "name": "stdout",
          "output_type": "stream",
          "text": [
            "6\n",
            "abcabcabc\n",
            "5\n",
            "abcdef\n"
          ]
        },
        {
          "ename": "TypeError",
          "evalue": "unsupported operand type(s) for +: 'int' and 'str'",
          "output_type": "error",
          "traceback": [
            "\u001b[1;31m---------------------------------------------------------------------------\u001b[0m",
            "\u001b[1;31mTypeError\u001b[0m                                 Traceback (most recent call last)",
            "Cell \u001b[1;32mIn[1], line 6\u001b[0m\n\u001b[0;32m      4\u001b[0m \u001b[38;5;28mprint\u001b[39m(\u001b[38;5;241m3\u001b[39m \u001b[38;5;241m+\u001b[39m \u001b[38;5;241m2\u001b[39m)\n\u001b[0;32m      5\u001b[0m \u001b[38;5;28mprint\u001b[39m(\u001b[38;5;124m\"\u001b[39m\u001b[38;5;124mabc\u001b[39m\u001b[38;5;124m\"\u001b[39m \u001b[38;5;241m+\u001b[39m \u001b[38;5;124m\"\u001b[39m\u001b[38;5;124mdef\u001b[39m\u001b[38;5;124m\"\u001b[39m)\n\u001b[1;32m----> 6\u001b[0m \u001b[38;5;28mprint\u001b[39m(\u001b[38;5;241;43m3\u001b[39;49m\u001b[43m \u001b[49m\u001b[38;5;241;43m+\u001b[39;49m\u001b[43m \u001b[49m\u001b[38;5;124;43m\"\u001b[39;49m\u001b[38;5;124;43mdef\u001b[39;49m\u001b[38;5;124;43m\"\u001b[39;49m) \u001b[38;5;66;03m#false\u001b[39;00m\n",
            "\u001b[1;31mTypeError\u001b[0m: unsupported operand type(s) for +: 'int' and 'str'"
          ]
        }
      ],
      "source": [
        "# which line of the following will end with an error?\n",
        "print(3 * 2)\n",
        "print(3 * \"abc\")\n",
        "print(3 + 2)\n",
        "print(\"abc\" + \"def\")\n",
        "print(3 + \"def\") #false"
      ]
    },
    {
      "cell_type": "markdown",
      "metadata": {
        "id": "MsEDST0CWp76"
      },
      "source": [
        "8. Operator Order (Precedence and Associativity)"
      ]
    },
    {
      "cell_type": "code",
      "execution_count": null,
      "metadata": {
        "id": "K9loeS5gWw_3"
      },
      "outputs": [],
      "source": [
        "print(\"Precedence:\")\n",
        "print(2+3*4)  # prints 14, not 20\n",
        "print(5+4%3)  # prints  6, not 0 (% has same precedence as *, /, and //)\n",
        "print(2**3*4) # prints 32, not 4096 (** has higher precedence than *, /, //, and %)\n",
        "\n",
        "print()\n",
        "\n",
        "print(\"Associativity:\")\n",
        "print(5-4-3)   # prints -2, not 4 (- associates left-to-right)\n",
        "print(4**3**2) # prints 262144, not 4096 (** associates right-to-left)"
      ]
    },
    {
      "cell_type": "markdown",
      "metadata": {
        "id": "URP3n52bZuG_"
      },
      "source": [
        "9. Approximate Values of Floating-Point Numbers"
      ]
    },
    {
      "cell_type": "code",
      "execution_count": null,
      "metadata": {
        "id": "mYPdy2R2Zw7p"
      },
      "outputs": [],
      "source": [
        "print(0.1 + 0.1 == 0.2)        # True, but...\n",
        "print(0.1 + 0.1 + 0.1 == 0.3)  # False!\n",
        "print(0.1 + 0.1 + 0.1)         # prints 0.30000000000000004 (uh oh)\n",
        "print((0.1 + 0.1 + 0.1) - 0.3) # prints 5.55111512313e-17 (tiny, but non-zero!)"
      ]
    },
    {
      "cell_type": "markdown",
      "metadata": {
        "id": "AXMzN8oFaaTn"
      },
      "source": [
        "Equality Testing with almostEqual: (with programmer defined epsilon)"
      ]
    },
    {
      "cell_type": "code",
      "execution_count": null,
      "metadata": {
        "id": "vCysUuZvacIV"
      },
      "outputs": [],
      "source": [
        "print(\"The problem....\")\n",
        "d1 = 0.1 + 0.1 + 0.1\n",
        "d2 = 0.3\n",
        "print(d1 == d2)                # False (never use == with floats!)\n",
        "\n",
        "print()\n",
        "print(\"The solution...\")\n",
        "epsilon = 10**-10\n",
        "print(abs(d2 - d1) < epsilon)  # True!\n",
        "\n",
        "print()\n",
        "print(\"Once again, using a useful helper function, almostEqual:\")\n",
        "\n",
        "def almostEqual(d1, d2):\n",
        "    epsilon = 10**-10\n",
        "    return (abs(d2 - d1) < epsilon)\n",
        "\n",
        "d1 = 0.1 + 0.1 + 0.1\n",
        "d2 = 0.3\n",
        "print(d1 == d2)            # still False, of course\n",
        "print(almostEqual(d1, d2)) # True, and now packaged in a handy reusable function!"
      ]
    },
    {
      "cell_type": "markdown",
      "metadata": {
        "id": "xlaeHADzahJG"
      },
      "source": [
        "10. Short-Circuit Evaluation (lazy evaluation)"
      ]
    },
    {
      "cell_type": "code",
      "execution_count": null,
      "metadata": {
        "id": "Cffo4hszaiSL"
      },
      "outputs": [],
      "source": [
        "def yes():\n",
        "    return True\n",
        "\n",
        "def no():\n",
        "    return False\n",
        "\n",
        "def crash():\n",
        "    return 1/0 # crashes!\n",
        "\n",
        "print(no() and crash()) # Works!\n",
        "print(crash() and no()) # Crashes!\n",
        "print (yes() and crash()) # Never runs (due to crash), but would also crash (without short-circuiting)"
      ]
    },
    {
      "cell_type": "markdown",
      "metadata": {
        "id": "YgdZizX-bw9M"
      },
      "source": [
        "Once again, using the \"or\" operator:"
      ]
    },
    {
      "cell_type": "code",
      "execution_count": null,
      "metadata": {
        "id": "Q9bYJ-qVbyz5"
      },
      "outputs": [],
      "source": [
        "def yes():\n",
        "    return True\n",
        "\n",
        "def no():\n",
        "    return False\n",
        "\n",
        "def crash():\n",
        "    return 1/0 # crashes!\n",
        "\n",
        "print(yes() or crash()) # Works!\n",
        "print(crash() or yes()) # Crashes!\n",
        "print(no() or crash())  # Never runs (due to crash), but would also crash (without short-circuiting)"
      ]
    },
    {
      "cell_type": "markdown",
      "metadata": {
        "id": "C6LRdHv2cDIo"
      },
      "source": [
        "Yet another example:"
      ]
    },
    {
      "cell_type": "code",
      "execution_count": null,
      "metadata": {
        "id": "2HjnY4WgcFD3"
      },
      "outputs": [],
      "source": [
        "def isPositive(n):\n",
        "    result = (n > 0)\n",
        "    print(\"isPositive(\",n,\") =\", result)\n",
        "    return result\n",
        "\n",
        "def isEven(n):\n",
        "    result = (n % 2 == 0)\n",
        "    print(\"isEven(\",n,\") =\", result)\n",
        "    return result\n",
        "\n",
        "print(\"Test 1: isEven(-4) and isPositive(-4))\")\n",
        "print(isEven(-4) and isPositive(-4)) # Calls both functions\n",
        "print(\"----------\")\n",
        "print(\"Test 2: isEven(-3) and isPositive(-3)\")\n",
        "print(isEven(-3) and isPositive(-3)) # Calls only one function!"
      ]
    },
    {
      "cell_type": "markdown",
      "metadata": {
        "id": "BoxDBTvwcGow"
      },
      "source": [
        "11.type vs isinstance\n",
        "type() 不会认为子类是一种父类类型，不考虑继承关系。\n",
        "isinstance() 会认为子类是一种父类类型，考虑继承关系。且可以同时判断多个类型。"
      ]
    },
    {
      "cell_type": "code",
      "execution_count": 1,
      "metadata": {
        "id": "X4vXcpj4cNRK"
      },
      "outputs": [
        {
          "name": "stdout",
          "output_type": "stream",
          "text": [
            "True\n",
            "True\n",
            "True True False False\n",
            "True True True False\n"
          ]
        }
      ],
      "source": [
        "# Both type and isinstance can be used to type-check\n",
        "# In general, (isinstance(x, T)) will be more robust than (type(x) == T)!!!\n",
        "\n",
        "print(type(\"abc\") == str)\n",
        "print(isinstance(\"abc\", str))\n",
        "\n",
        "# We'll see better reasons for this when we cover OOP + inheritance later\n",
        "# in the course.  For now, here is one reason:  say you wanted to check\n",
        "# if a value is any kind of number (int, float, complex, etc).\n",
        "# You could do:\n",
        "\n",
        "def isNumber(x):\n",
        "    return ((type(x) == int) or\n",
        "            (type(x) == float)) # are we sure this is ALL kinds of numbers?\n",
        "\n",
        "print(isNumber(1), isNumber(1.1), isNumber(1+2j), isNumber(\"wow\"))\n",
        "\n",
        "# But this is cleaner, and works for all kinds of numbers, including\n",
        "# complex numbers for example:\n",
        "\n",
        "import numbers\n",
        "def isNumber(x):\n",
        "    return isinstance(x, numbers.Number) # works for any kind of number\n",
        "\n",
        "print(isNumber(1), isNumber(1.1), isNumber(1+2j), isNumber(\"wow\"))"
      ]
    }
  ],
  "metadata": {
    "colab": {
      "provenance": []
    },
    "kernelspec": {
      "display_name": "Python 3 (ipykernel)",
      "language": "python",
      "name": "python3"
    },
    "language_info": {
      "codemirror_mode": {
        "name": "ipython",
        "version": 3
      },
      "file_extension": ".py",
      "mimetype": "text/x-python",
      "name": "python",
      "nbconvert_exporter": "python",
      "pygments_lexer": "ipython3",
      "version": "3.11.4"
    }
  },
  "nbformat": 4,
  "nbformat_minor": 0
}
