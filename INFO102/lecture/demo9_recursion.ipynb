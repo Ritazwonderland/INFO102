{
  "cells": [
    {
      "cell_type": "markdown",
      "metadata": {
        "id": "VU2aBPkgoLBp"
      },
      "source": [
        "## 1. Predict "
      ]
    },
    {
      "cell_type": "code",
      "execution_count": 1,
      "metadata": {
        "id": "-6KE1i7Gn9zk"
      },
      "outputs": [
        {
          "name": "stdout",
          "output_type": "stream",
          "text": [
            "5\n",
            "4\n",
            "3\n",
            "2\n",
            "1\n",
            "boo!\n"
          ]
        }
      ],
      "source": [
        "# What will this print?\n",
        "def f(n):\n",
        "    if n == 0:\n",
        "        return \"boo!\"\n",
        "    else:\n",
        "        print(n)\n",
        "        return f(n-1)\n",
        "\n",
        "print(f(5))"
      ]
    },
    {
      "cell_type": "markdown",
      "metadata": {
        "id": "zJVDGR-nqAYv"
      },
      "source": [
        "## 2. General Recursive Form \n",
        "\n",
        "Recursion technically means that some function calls itself. However, fundamentally, using recursion is more than that -- it is a powerful way to think about problem solving.\n",
        "\n",
        "In recursion, we divide a function into two possible cases: a **base case**, which returns the result for a known small value, and a **recursive case**, which computes a result by calling the same function on a smaller value. In other words: we solve the problem by assuming it's already solved!\n",
        "\n",
        "\n",
        "\n",
        "```\n",
        "def recursiveFunction():\n",
        "    if (this is the base case):\n",
        "        do something non-recursive\n",
        "    else:\n",
        "        do something recursive\n",
        "```\n",
        "\n"
      ]
    },
    {
      "cell_type": "markdown",
      "metadata": {
        "id": "q5L9OIxTqRsM"
      },
      "source": [
        "## 3. Basic Examples\n",
        "\n",
        "We could write these with loops, but it's useful to practice basic recursion this way:"
      ]
    },
    {
      "cell_type": "markdown",
      "metadata": {
        "id": "EB7IAY7GqZqH"
      },
      "source": [
        "3.1 listSum"
      ]
    },
    {
      "cell_type": "code",
      "execution_count": null,
      "metadata": {
        "id": "2IB_0K4Sqbx4"
      },
      "outputs": [],
      "source": [
        "# Problem: sum all of the numbers in a given list\n",
        "def listSum(L):\n",
        "    # Base Case: the list is empty, so the sum is 0\n",
        "    if (len(L) == 0):\n",
        "        return 0\n",
        "    else:\n",
        "        # Recursive Case: assume we already know the sum of the entire list\n",
        "        # after the first element. Add that sum to the first element.\n",
        "        return L[0] + listSum(L[1:])\n",
        "\n",
        "print(listSum([2,3,5,7,11])) # what will this print?"
      ]
    },
    {
      "cell_type": "markdown",
      "metadata": {
        "id": "U-lE0CPGrKDk"
      },
      "source": [
        "3.2 rangeSum"
      ]
    },
    {
      "cell_type": "code",
      "execution_count": null,
      "metadata": {
        "id": "Kyutb5cnrMfd"
      },
      "outputs": [],
      "source": [
        "# Problem: sum all of the numbers from lo to hi, inclusive\n",
        "def rangeSum(lo, hi):\n",
        "    if (lo > hi):\n",
        "        return 0\n",
        "    else:\n",
        "        return lo + rangeSum(lo+1, hi)\n",
        "\n",
        "print(rangeSum(10,15)) # what will this print?"
      ]
    },
    {
      "cell_type": "markdown",
      "metadata": {
        "id": "hkv9SvDTr9LM"
      },
      "source": [
        "3.3 power"
      ]
    },
    {
      "cell_type": "code",
      "execution_count": null,
      "metadata": {
        "id": "YWe0yrHtsAj1"
      },
      "outputs": [],
      "source": [
        "# Problem: raise the number base to the given exponent\n",
        "def power(base, expt):\n",
        "    # assume expt is non-negative integer\n",
        "    if (expt == 0):\n",
        "        return 1\n",
        "    else:\n",
        "        return base * power(base, expt-1)\n",
        "\n",
        "print(power(2,5)) # 32"
      ]
    },
    {
      "cell_type": "markdown",
      "metadata": {
        "id": "y7l9KInOsOWM"
      },
      "source": [
        "## 4. Multiple Base/Recursive Cases\n",
        "\n",
        "Sometimes, we need to include more than one base or recursive case when solving a problem"
      ]
    },
    {
      "cell_type": "markdown",
      "metadata": {
        "id": "4hswONS1sT7r"
      },
      "source": [
        "4.1 power"
      ]
    },
    {
      "cell_type": "code",
      "execution_count": null,
      "metadata": {
        "id": "Hq4mXLkPsZGX"
      },
      "outputs": [],
      "source": [
        "def power(base, expt):\n",
        "    # This version allows for negative exponents\n",
        "    # It still assumes that expt is an integer, however.\n",
        "    if (expt == 0):\n",
        "        return 1\n",
        "    elif (expt < 0): # new recursive case!\n",
        "        return 1.0 / power(base, abs(expt)) ##easier way to convert. not dividing one by one\n",
        "    else:\n",
        "        return base * power(base, expt-1)\n",
        "\n",
        "print(power(2,5)) # 32\n",
        "print(power(2,-5)) # 1/32 = 0.03125"
      ]
    },
    {
      "cell_type": "markdown",
      "metadata": {
        "id": "pRtTLBsLt63k"
      },
      "source": [
        "4.2 interleave"
      ]
    },
    {
      "cell_type": "code",
      "execution_count": null,
      "metadata": {
        "id": "BZ6ON99tt82S"
      },
      "outputs": [],
      "source": [
        "def interleave(list1, list2):\n",
        "    # Allow for different-length lists\n",
        "    if (len(list1) == 0):\n",
        "        return list2\n",
        "    elif (len(list2) == 0): # new base case!\n",
        "        return list1\n",
        "    else:\n",
        "        return [list1[0] , list2[0]] + interleave(list1[1:], list2[1:])\n",
        "\n",
        "print(interleave([1,2],[3,4,5,6])) # what will we see here?"
      ]
    },
    {
      "cell_type": "markdown",
      "metadata": {
        "id": "Rp6-CQANt_3D"
      },
      "source": [
        "## 5. Practical Programming with Recursion\n",
        "\n",
        "### 5.1 Infinite Recursion and Stack Overflow\n",
        "\n",
        "Just as we can write infinite loops, we can also write infinite recursive functions, which result in stack overflow, producing a **RecursionError**."
      ]
    },
    {
      "cell_type": "code",
      "execution_count": null,
      "metadata": {
        "id": "kmpg19-NuKt0"
      },
      "outputs": [],
      "source": [
        "def sumToN(n):\n",
        "    if n == 0:\n",
        "        return 0\n",
        "    else:\n",
        "        return n + sumToN(n-1)\n",
        "\n",
        "print(sumToN(3))  # 6 (works!)\n",
        "print(sumToN(-3)) # RecursionError: maximum recursion depth exceeded..."
      ]
    },
    {
      "cell_type": "markdown",
      "metadata": {
        "id": "XMYX1-ODuToM"
      },
      "source": [
        "### 5.2 Recursive Debugging\n",
        "\n",
        "Debugging recursive code can be tricky because we not only have to know which function we are in, but which specific call to that function (since it calls itself repeatedly)! We can make it easier by keeping track of the recursion depth using an optional parameter, then adjusting the output based on that depth."
      ]
    },
    {
      "cell_type": "code",
      "execution_count": null,
      "metadata": {
        "id": "mTjqOcL8uYh6"
      },
      "outputs": [],
      "source": [
        "#possible way for debugging\n",
        "def rangeSum(lo, hi, depth=0):\n",
        "    print(\"   \" * depth + \"rangeSum(\" + str(lo) + \", \" + str(hi) + \")\")\n",
        "    if depth == 10:\n",
        "        input(\"Pause (press enter to continue)\")\n",
        "    if (lo > hi):\n",
        "        result = 0\n",
        "    else:\n",
        "        result = lo + rangeSum(lo + 1, hi, depth + 1)\n",
        "    print(\"   \" * depth + \"-->\", result)\n",
        "    return result\n",
        "\n",
        "print(rangeSum(10, 30))"
      ]
    },
    {
      "cell_type": "markdown",
      "metadata": {
        "id": "GLHB7cD2u5dM"
      },
      "source": [
        "### 5.3 Wrapper Functions \n",
        "\n",
        "Sometimes we want to write a function with certain parameters, but it would be helpful to use different parameters in the recursive call. We can do this by writing a **wrapper function** around the core recursive function. The wrapper can set up the additional parameters on the way in, and it can also parse and perhaps modify the recursive result on the way out. The wrapper function itself is not recursive, but the function it calls is!"
      ]
    },
    {
      "cell_type": "code",
      "execution_count": null,
      "metadata": {
        "id": "r3fFrq0iv_oZ"
      },
      "outputs": [],
      "source": [
        "# This time with a wrapper function that tracks the sum so far.\n",
        "def rangeSum(lo, hi):\n",
        "    return rangeSumHelper(lo, hi, 0)\n",
        "\n",
        "def rangeSumHelper(lo, hi, sumSoFar):\n",
        "    if (lo > hi):\n",
        "        return sumSoFar\n",
        "    else:\n",
        "        return rangeSumHelper(lo+1, hi, lo+sumSoFar)\n",
        "\n",
        "print(rangeSum(10,15)) # 75"
      ]
    },
    {
      "cell_type": "markdown",
      "metadata": {
        "id": "l1gY4p7Iw6Fg"
      },
      "source": [
        "### 5.4 Default Parameters (Optional)\n",
        "\n",
        "5.4.1 Using default parameters in recursion\n",
        "\n",
        "As we just saw, we can use wrapper functions to effectively add parameters that we need for recursion but which are not included in the top-level call. Another approach to do the same basic thing is to use default values. For example, here is one way to write rangeSum recursively using default parameters:"
      ]
    },
    {
      "cell_type": "code",
      "execution_count": null,
      "metadata": {
        "id": "ZqgzdFNaxGcO"
      },
      "outputs": [],
      "source": [
        "# Now with a default value instead of a wrapper function\n",
        "def rangeSum(lo, hi, sumSoFar=0):\n",
        "    if (lo > hi):\n",
        "        return sumSoFar\n",
        "    else:\n",
        "        return rangeSum(lo+1, hi, lo+sumSoFar)\n",
        "\n",
        "print(rangeSum(10,15)) # 75"
      ]
    },
    {
      "cell_type": "markdown",
      "metadata": {
        "id": "ke34QrsoxNS7"
      },
      "source": [
        "5.4.2 Do not use mutable default values (in recursion or elsewhere)\n",
        "\n",
        "Python only creates default values once ever and reuses those values on each call. If you mutate those values, you will get unexpected results, where it works once properly, and then not after that. For example, here is a typical way to recursively reverse a list:"
      ]
    },
    {
      "cell_type": "code",
      "execution_count": null,
      "metadata": {
        "id": "_0DY6AguxS65"
      },
      "outputs": [],
      "source": [
        "# This is a typical, clean way without wrapper functions or default values:\n",
        "def reverseList(L):\n",
        "    if (L == [ ]):\n",
        "        return [ ]\n",
        "    else:\n",
        "        return reverseList(L[1:]) + [L[0]]\n",
        "\n",
        "print(reverseList([2,3,4])) # [4, 3, 2] (it works!)\n",
        "print(reverseList([5,6,7])) # [7, 6, 5] (yup!)"
      ]
    },
    {
      "cell_type": "markdown",
      "metadata": {
        "id": "jhuB4wZAy-DI"
      },
      "source": [
        "And here it is again, using a default value in a similar way that we just did in rangeSum above:"
      ]
    },
    {
      "cell_type": "code",
      "execution_count": null,
      "metadata": {
        "id": "ROou5FbNzAi9"
      },
      "outputs": [],
      "source": [
        "# Warning: This is BROKEN because it uses a mutable default value\n",
        "def reverseList(L, reversedSoFar=[]):\n",
        "    if (L == [ ]):\n",
        "        return reversedSoFar\n",
        "    else:\n",
        "        reversedSoFar.insert(0, L[0])\n",
        "        return reverseList(L[1:], reversedSoFar)\n",
        "\n",
        "print(reverseList([2,3,4])) # [4, 3, 2] (it works the first time!)\n",
        "print(reverseList([5,6,7])) # [7, 6, 5, 4, 3, 2] <-- OH NO!!!"
      ]
    },
    {
      "cell_type": "markdown",
      "metadata": {
        "id": "3HRag1kyzmma"
      },
      "source": [
        "5.4.3 Workarounds instead of mutable default values\n",
        "\n",
        "We have several good choices instead of using mutable default values:"
      ]
    },
    {
      "cell_type": "markdown",
      "metadata": {
        "id": "fodDq3XFztxW"
      },
      "source": [
        "* Do not mutate the default value"
      ]
    },
    {
      "cell_type": "code",
      "execution_count": null,
      "metadata": {
        "id": "QdiaEuWWzvvZ"
      },
      "outputs": [],
      "source": [
        "# Fix #1: just do not mutate it!\n",
        "def reverseList(L, reversedSoFar=[]):\n",
        "    if (L == [ ]):\n",
        "        return reversedSoFar\n",
        "    else:\n",
        "        # reversedSoFar.insert(0, L[0])\n",
        "        reversedSoFar = [L[0]] + reversedSoFar # this is nondestructive!\n",
        "        return reverseList(L[1:], reversedSoFar)\n",
        "\n",
        "print(reverseList([2,3,4])) # [4, 3, 2] (it works!)\n",
        "print(reverseList([5,6,7])) # [7, 6, 5] (and it works again!)"
      ]
    },
    {
      "cell_type": "markdown",
      "metadata": {
        "id": "7lTrCKb9zy5J"
      },
      "source": [
        "* Use None as the default value"
      ]
    },
    {
      "cell_type": "code",
      "execution_count": null,
      "metadata": {
        "id": "77W66V7oz0y3"
      },
      "outputs": [],
      "source": [
        "# Fix #2: use None instead of [] and create a new list to start\n",
        "def reverseList(L, reversedSoFar=None):\n",
        "    if (reversedSoFar == None):\n",
        "        reversedSoFar = [ ] # this creates a new list each time!\n",
        "    if (L == [ ]):\n",
        "        return reversedSoFar\n",
        "    else:\n",
        "        reversedSoFar.insert(0, L[0])\n",
        "        return reverseList(L[1:], reversedSoFar)\n",
        "\n",
        "print(reverseList([2,3,4])) # [4, 3, 2] (it works!)\n",
        "print(reverseList([5,6,7])) # [7, 6, 5] (and it works again!)"
      ]
    },
    {
      "cell_type": "markdown",
      "metadata": {
        "id": "LICUNaMjz4dy"
      },
      "source": [
        "* Use a wrapper function"
      ]
    },
    {
      "cell_type": "code",
      "execution_count": null,
      "metadata": {
        "id": "rRFrUTPNz6Kz"
      },
      "outputs": [],
      "source": [
        "# Fix #3: use a wrapper function instead of a default value\n",
        "def reverseList(L):\n",
        "    return reverseListHelper(L, [ ])\n",
        "\n",
        "def reverseListHelper(L, reversedSoFar):\n",
        "    if (L == [ ]):\n",
        "        return reversedSoFar\n",
        "    else:\n",
        "        reversedSoFar.insert(0, L[0])\n",
        "        return reverseListHelper(L[1:], reversedSoFar)\n",
        "\n",
        "print(reverseList([2,3,4])) # [4, 3, 2] (it works!)\n",
        "print(reverseList([5,6,7])) # [7, 6, 5] (and this also works again!)"
      ]
    },
    {
      "cell_type": "markdown",
      "metadata": {
        "id": "rTBKI3shz90Y"
      },
      "source": [
        "\n",
        "\n",
        "*   Use a different approach without default values\n",
        "\n",
        "\n",
        "\n",
        "In each example above, we started with a recursive function that did not use default values. It can be easier and cleaner to write your functions that way, when possible. And when it's not clear how to do that, then use wrapper functions or at least use None as a default value for mutable types."
      ]
    },
    {
      "cell_type": "markdown",
      "metadata": {
        "id": "AeYtblIs-liP"
      },
      "source": [
        "### 5.5 Multiple Recursive Calls\n",
        "\n",
        "Recursion is perhaps most powerful when we make **multiple recursive calls** in the recursive case. This often lets us solve problems that we cannot easily solve with loops. You can think of this approach as **divide and conquer**. In order to solve a problem, we break it into smaller parts, solve each of those, then combine the solutions to get the final answer."
      ]
    },
    {
      "cell_type": "markdown",
      "metadata": {
        "id": "rSye7c2SAjlX"
      },
      "source": [
        "* listSum"
      ]
    },
    {
      "cell_type": "code",
      "execution_count": null,
      "metadata": {
        "id": "iFCelN2pAl4G"
      },
      "outputs": [],
      "source": [
        "# Technically we don't need multiple recursive calls here, but it's a nice simple example.\n",
        "# Sum the list by splitting it in half, then summing each half.\n",
        "def listSum(L):\n",
        "    if (len(L) == 0):\n",
        "        return 0\n",
        "    elif (len(L) == 1):\n",
        "        return L[0]\n",
        "    else:\n",
        "        mid = len(L)//2\n",
        "        return listSum(L[:mid]) + listSum(L[mid:])\n",
        "\n",
        "print(listSum([2,3,5,7,11])) # 28"
      ]
    },
    {
      "cell_type": "markdown",
      "metadata": {
        "id": "OtLDgxI4Ao_Z"
      },
      "source": [
        "* fibonacci "
      ]
    },
    {
      "cell_type": "code",
      "execution_count": null,
      "metadata": {
        "id": "y13vfZwMArTo"
      },
      "outputs": [],
      "source": [
        "# In the Fibonacci sequence, each element is the sum of the two\n",
        "# elements before it. This translates nicely into recursive code!\n",
        "def fib(n):\n",
        "    if (n < 2):\n",
        "        return 1 # note: fib(0) and fib(1) are both 1\n",
        "    else:\n",
        "        return fib(n-1) + fib(n-2)\n",
        "\n",
        "print([fib(n) for n in range(15)])"
      ]
    },
    {
      "cell_type": "markdown",
      "metadata": {
        "id": "UrqVf8p-A43C"
      },
      "source": [
        "* towersOfHanoi\n",
        "\n",
        "A. First attempt (without Python):\n",
        "\n",
        "\n",
        "\n",
        "```\n",
        "# This is the plan to solve Towers of Hanoi (based on magic!)\n",
        "magically move(n-1, source, temp, target)\n",
        "          move(  1, source, target, temp)\n",
        "magically move(n-1, temp, target, source)\n",
        "```\n",
        "\n",
        "\n"
      ]
    },
    {
      "cell_type": "markdown",
      "metadata": {
        "id": "a-_U1n3XBIA8"
      },
      "source": [
        "B. Turn into Python (The \"magic\" is recursion!):"
      ]
    },
    {
      "cell_type": "code",
      "execution_count": null,
      "metadata": {
        "id": "YJXq6og0Bhz1"
      },
      "outputs": [],
      "source": [
        "def move(n, source, target, temp):\n",
        "    move(n-1, source, temp, target)\n",
        "    move(  1, source, target, temp)\n",
        "    move(n-1, temp, target, source)\n",
        "\n",
        "move(2, 0, 1, 2) # Does not work -- infinite recursion"
      ]
    },
    {
      "cell_type": "markdown",
      "metadata": {
        "id": "KZ-iQOk9BoFA"
      },
      "source": [
        "C. Once again, with a base case:"
      ]
    },
    {
      "cell_type": "code",
      "execution_count": null,
      "metadata": {
        "id": "p87QEI17Bqvo"
      },
      "outputs": [],
      "source": [
        "def move(n, source, target, temp):\n",
        "    if (n == 1):\n",
        "        print((source, target), end=\"\")\n",
        "    else:\n",
        "        move(n-1, source, temp, target)\n",
        "        move(  1, source, target, temp)\n",
        "        move(n-1, temp, target, source)\n",
        "\n",
        "move(2, 0, 1, 2)"
      ]
    },
    {
      "cell_type": "markdown",
      "metadata": {
        "id": "H_jz0GG-B9sJ"
      },
      "source": [
        "D. Once more, with a nice wrapper:\n"
      ]
    },
    {
      "cell_type": "code",
      "execution_count": null,
      "metadata": {
        "id": "VWm3V_4jCAjk"
      },
      "outputs": [],
      "source": [
        "def move(n, source, target, temp):\n",
        "    if (n == 1):\n",
        "        print((source, target), end=\"\")\n",
        "    else:\n",
        "        move(n-1, source, temp, target)\n",
        "        move(  1, source, target, temp)\n",
        "        move(n-1, temp, target, source)\n",
        "\n",
        "def hanoi(n):\n",
        "    print(\"Solving Towers of Hanoi with n =\", n)\n",
        "    move(n, 0, 1, 2)\n",
        "    print()\n",
        "\n",
        "hanoi(4)"
      ]
    },
    {
      "cell_type": "markdown",
      "metadata": {
        "id": "QA9bh6fWCKT8"
      },
      "source": [
        "E. And again, printing call stack and recursion depth:"
      ]
    },
    {
      "cell_type": "code",
      "execution_count": null,
      "metadata": {
        "id": "MCnhNmgWCMVw"
      },
      "outputs": [],
      "source": [
        "def move(n, source, target, temp, depth=0):\n",
        "    print((\" \" * 3 * depth), \"move\", n,\n",
        "          \"from\", source, \"to\", target, \"via\", temp)\n",
        "    if (n == 1):\n",
        "        print((\" \" * 3 * depth), (source, target))\n",
        "    else:\n",
        "        move(n-1, source, temp, target, depth+1)\n",
        "        move(  1, source, target, temp, depth+1)\n",
        "        move(n-1, temp, target, source, depth+1)\n",
        "\n",
        "def hanoi(n):\n",
        "    print(\"Solving Towers of Hanoi with n =\", n)\n",
        "    move(n, 0, 1, 2)\n",
        "    print()\n",
        "hanoi(4)"
      ]
    },
    {
      "cell_type": "markdown",
      "metadata": {
        "id": "q_5PO8ojCP9D"
      },
      "source": [
        "F. Iterative Towers of Hanoi (just to see it's possible):"
      ]
    },
    {
      "cell_type": "code",
      "execution_count": null,
      "metadata": {
        "id": "II0h3dPKCSB1"
      },
      "outputs": [],
      "source": [
        "def iterativeHanoi(n):\n",
        "    def f(k): return (k%3) if (n%2==0) else (-k%3)\n",
        "    return [(f(move & (move-1)),\n",
        "             f((move|(move-1))+1)) for move in range(1,1 << n)]\n",
        "\n",
        "def recursiveHanoi(n, source=0, target=1, temp=2):\n",
        "    if (n == 1):\n",
        "        return [(source, target)]\n",
        "    else:\n",
        "        return (recursiveHanoi(n-1, source, temp, target) +\n",
        "                recursiveHanoi(  1, source, target, temp) +\n",
        "                recursiveHanoi(n-1, temp, target, source))\n",
        "\n",
        "def compareIterativeAndRecursiveHanoi():\n",
        "    for n in range(1,10):\n",
        "        assert(iterativeHanoi(n) == recursiveHanoi(n))\n",
        "    print(\"iterative and recursive solutions match exactly in all tests!\")\n",
        "    \n",
        "compareIterativeAndRecursiveHanoi()"
      ]
    },
    {
      "cell_type": "markdown",
      "metadata": {
        "id": "8X4Kiav50ZRF"
      },
      "source": [
        "## 5. Search"
      ]
    },
    {
      "cell_type": "code",
      "execution_count": null,
      "metadata": {
        "id": "GGvHUC1p0ZRF"
      },
      "outputs": [],
      "source": [
        "def recursiveLinearSearch(lst, target): \n",
        "    if lst == [ ]:\n",
        "        return False\n",
        "    elif lst[0] == target:\n",
        "        return True \n",
        "    else:\n",
        "        return recursiveLinearSearch(lst[1:], target)\n",
        "\n",
        "print(recursiveLinearSearch([\"dog\", \"cat\", \"rabbit\", \"mouse\"], \"rabbit\"))  \n",
        "print(recursiveLinearSearch([\"dog\", \"cat\", \"rabbit\", \"mouse\"], \"horse\"))\n"
      ]
    },
    {
      "cell_type": "code",
      "execution_count": null,
      "metadata": {
        "id": "QMX9zwp30ZRG"
      },
      "outputs": [],
      "source": [
        "def binarySearch(lst, target): \n",
        "    if lst == [ ]:\n",
        "        return False  \n",
        "    else:\n",
        "        midIndex = len(lst) // 2\n",
        "        if lst[midIndex] == target:\n",
        "            return True\n",
        "        elif target < lst[midIndex]:\n",
        "            return binarySearch(lst[:midIndex],target)\n",
        "        else: # lst[midIndex] < target\n",
        "            return binarySearch(lst[midIndex+1:], target)\n"
      ]
    },
    {
      "cell_type": "code",
      "execution_count": null,
      "metadata": {
        "id": "e4FZQZ5-0ZRH"
      },
      "outputs": [],
      "source": [
        "\n",
        "print(binarySearch([2, 7, 11, 18, 19, 32, 45, 63, 84, 95, 97], 95))\n",
        "\n",
        "print(recursiveLinearSearch([2, 7, 11, 18, 19, 32, 45, 63, 84, 95, 97], 95))"
      ]
    },
    {
      "cell_type": "markdown",
      "metadata": {
        "id": "y9Y2wzTXE3bN"
      },
      "source": [
        "## 6. mergeSort "
      ]
    },
    {
      "cell_type": "code",
      "execution_count": null,
      "metadata": {
        "id": "7omqBOG-E51_"
      },
      "outputs": [],
      "source": [
        "def merge(A, B):\n",
        "    # beautiful, but impractical for large N\n",
        "    if ((len(A) == 0) or (len(B) == 0)):\n",
        "        return A+B\n",
        "    else:\n",
        "        if (A[0] < B[0]):\n",
        "            return [A[0]] + merge(A[1:], B)\n",
        "        else:\n",
        "            return [B[0]] + merge(A, B[1:])\n",
        "\n",
        "# def merge(A, B):\n",
        "#     # iterative (ugh) and destructive (double ugh), but practical...\n",
        "#     C = [ ]\n",
        "#     i = j = 0\n",
        "#     while ((i < len(A)) or (j < len(B))):\n",
        "#         if ((j == len(B)) or ((i < len(A)) and (A[i] <= B[j]))):\n",
        "#             C.append(A[i])\n",
        "#             i += 1\n",
        "#         else:\n",
        "#             C.append(B[j])\n",
        "#             j += 1\n",
        "#     return C\n",
        "\n",
        "def mergeSort(L):\n",
        "    if (len(L) < 2):\n",
        "        return L\n",
        "    else:\n",
        "        # No need for complicated loops- just merge sort each half, then merge!\n",
        "        mid = len(L)//2\n",
        "        left = mergeSort(L[:mid])\n",
        "        right = mergeSort(L[mid:])\n",
        "        return merge(left, right)\n",
        "\n",
        "print(mergeSort([1,5,3,4,1,0,9,8]))"
      ]
    },
    {
      "cell_type": "markdown",
      "metadata": {
        "id": "S6vKNqsoFQfk"
      },
      "source": [
        "*quickSort (optional) "
      ]
    },
    {
      "cell_type": "code",
      "execution_count": null,
      "metadata": {
        "id": "cZNjGTjiFTDm"
      },
      "outputs": [],
      "source": [
        "# In Quick Sort, select an element to pivot around, organize all elements to\n",
        "# the left and right of the pivot, then Quick Sort each side.\n",
        "def quickSort(L):\n",
        "    if (len(L) < 2):\n",
        "        return L\n",
        "    else:\n",
        "        first = L[0]  # pivot\n",
        "        rest = L[1:]\n",
        "        lo = [x for x in rest if x < first]\n",
        "        hi = [x for x in rest if x >= first]\n",
        "        return quickSort(lo) + [first] + quickSort(hi)\n",
        "\n",
        "print(quickSort([1,5,3,4,2,0]))"
      ]
    },
    {
      "cell_type": "markdown",
      "metadata": {
        "id": "ALdKqWnAFg2u"
      },
      "source": [
        "### 6.1 Hazard: *Extra Recursive Calls\n",
        "\n",
        "The problem:"
      ]
    },
    {
      "cell_type": "code",
      "execution_count": null,
      "metadata": {
        "id": "hKyCkaEhFskF"
      },
      "outputs": [],
      "source": [
        "def f(L):\n",
        "    if L == [ ]:\n",
        "        return 0\n",
        "    else:\n",
        "        if (f(L[1:]) > 10):\n",
        "            return 1 + f(L[1:])\n",
        "        else:\n",
        "            return 2 + f(L[1:])\n",
        "\n",
        "print(f(list(range(10)))) # prints 16\n",
        "\n",
        "# However... uncomment the next line and run it:\n",
        "\n",
        "# print(f(list(range(30)))) # super, super slow! <-- This shows the problem"
      ]
    },
    {
      "cell_type": "markdown",
      "metadata": {
        "id": "ld2Boo1JFvmv"
      },
      "source": [
        "The reason:\n",
        "\n",
        "What's going on? Well, in our recursive case, we call f(L[1:]) twice. So f(L) calls f(L[1:]) twice, but f(L[1:]) calls f(L[2:]) twice on each call so 4 times total, and that means f(L[3:]) will be called 2\\*\\*3 or 8 times. Thus, if L is of length N, then the base case will be called 2\\*\\*N times. And that's exponential, which runs very slowly.\n",
        "\n",
        "The fix:"
      ]
    },
    {
      "cell_type": "code",
      "execution_count": null,
      "metadata": {
        "id": "8LsEN2G9FzjO"
      },
      "outputs": [],
      "source": [
        "def f(L):\n",
        "    if L == [ ]:\n",
        "        return 0\n",
        "    else:\n",
        "        rest = f(L[1:])     # <-- this is the fix (recurse only once)\n",
        "        if (rest > 10):\n",
        "            return 1 + rest\n",
        "        else:\n",
        "            return 2 + rest\n",
        "\n",
        "print(f(list(range(10))))  # 16 (whew)\n",
        "print(f(list(range(100)))) # 106, zippy quick!!!  Problem solved!"
      ]
    },
    {
      "cell_type": "markdown",
      "metadata": {
        "id": "DCeKI3W7GG4d"
      },
      "source": [
        "## 7. Combining Iteration and Recursion (optional)\n",
        "\n",
        "We sometimes need to combine iteration and recursion while problem solving."
      ]
    },
    {
      "cell_type": "markdown",
      "metadata": {
        "id": "dHAutjVcGczM"
      },
      "source": [
        "7.1 powerset, or combination (optional)"
      ]
    },
    {
      "cell_type": "code",
      "execution_count": null,
      "metadata": {
        "id": "F35-RaLvGftB"
      },
      "outputs": [],
      "source": [
        "# Problem: given a list a, return a list with all the possible subsets of a.\n",
        "\n",
        "def powerset(a):\n",
        "    # Base case: the only possible subset of an empty list is the empty list.\n",
        "    if (len(a) == 0):\n",
        "        return [ [] ]\n",
        "    else:\n",
        "        # Recursive Case: remove the first element, then find all subsets of the\n",
        "        # remaining list. Then for each subset, use two versions of that subset:\n",
        "        # one without the first element, and another one with it.\n",
        "\n",
        "        partialSubsets = powerset(a[1:])\n",
        "        allSubsets = [ ]\n",
        "        for subset in partialSubsets:\n",
        "            #choose a[0], or not to choose a[0]\n",
        "            allSubsets.append(subset)\n",
        "            allSubsets.append([a[0]] + subset)\n",
        "        return allSubsets\n",
        "\n",
        "print(powerset([1,2,3]))"
      ]
    },
    {
      "cell_type": "markdown",
      "metadata": {
        "id": "2yVB52slGrjW"
      },
      "source": [
        "7.2 permutations (optional)"
      ]
    },
    {
      "cell_type": "code",
      "execution_count": null,
      "metadata": {
        "id": "9Guw8rFhGuDs"
      },
      "outputs": [],
      "source": [
        "# Problem: given a list a, find all possible permutations (orderings) of the\n",
        "# elements of a\n",
        "\n",
        "def permutations(a):\n",
        "    # Base Case: the only permutation of an empty list is the empty list\n",
        "    if (len(a) == 0):\n",
        "        return [ [] ]\n",
        "    else:\n",
        "        # Recursive Case: remove the first element, then find all possible\n",
        "        # permutations of the remaining elements. For each permutation,\n",
        "        # insert a into every possible position in that permutation.\n",
        "\n",
        "        partialPermutations = permutations(a[1:])\n",
        "        allPerms = [ ]\n",
        "        for perm in partialPermutations:\n",
        "            for i in range(len(perm) + 1):\n",
        "                allPerms.append(perm[:i] + [ a[0] ] + perm[i:])\n",
        "        return allPerms\n",
        "\n",
        "print(permutations([1,2,3]))"
      ]
    },
    {
      "cell_type": "code",
      "execution_count": 1,
      "metadata": {
        "id": "XTOklNshG0C5"
      },
      "outputs": [
        {
          "name": "stdout",
          "output_type": "stream",
          "text": [
            "[[1, 2, 3], [1, 3, 2], [2, 1, 3], [2, 3, 1], [3, 1, 2], [3, 2, 1]]\n"
          ]
        }
      ],
      "source": [
        "# Alternative Approach: choose each element as the starting element of the\n",
        "# permutation, then find all possible permutations of the rest.\n",
        "\n",
        "def permutations(a):\n",
        "    if (len(a) == 0):\n",
        "        return [ [] ]\n",
        "    else:\n",
        "        allPerms = [ ]\n",
        "        for i in range(len(a)):\n",
        "            partialPermutations = permutations(a[:i] + a[i+1:])\n",
        "            for perm in partialPermutations:\n",
        "                allPerms.append([ a[i] ] + perm)\n",
        "        return allPerms\n",
        "\n",
        "print(permutations([1,2,3]))"
      ]
    },
    {
      "cell_type": "markdown",
      "metadata": {
        "id": "JoTqm8nqG8UV"
      },
      "source": [
        "8. Iteration vs. Recursion"
      ]
    },
    {
      "cell_type": "markdown",
      "metadata": {
        "id": "WJA_ge8XHAu9"
      },
      "source": [
        "8.1 factorial"
      ]
    },
    {
      "cell_type": "markdown",
      "metadata": {
        "id": "jcLzb1kGHElG"
      },
      "source": [
        "Iterative Solution"
      ]
    },
    {
      "cell_type": "code",
      "execution_count": null,
      "metadata": {
        "id": "Z5PO3PhYHGbG"
      },
      "outputs": [],
      "source": [
        "def factorial(n):\n",
        "    result = 1\n",
        "    for i in range(2, n + 1):\n",
        "        result *= i\n",
        "    return result\n",
        "\n",
        "print(factorial(5))"
      ]
    },
    {
      "cell_type": "markdown",
      "metadata": {
        "id": "dwVbevExHpA2"
      },
      "source": [
        "Recursive Solution"
      ]
    },
    {
      "cell_type": "code",
      "execution_count": null,
      "metadata": {
        "id": "mbeIn_n3Hq25"
      },
      "outputs": [],
      "source": [
        "def factorial(n):\n",
        "    if (n < 2):\n",
        "        return 1\n",
        "    else:\n",
        "        return n * factorial(n - 1)\n",
        "\n",
        "print(factorial(5))"
      ]
    },
    {
      "cell_type": "markdown",
      "metadata": {
        "id": "pQY3Wf6QHw4g"
      },
      "source": [
        "8.2 reverse"
      ]
    },
    {
      "cell_type": "markdown",
      "metadata": {
        "id": "63wve57mH0GO"
      },
      "source": [
        "Iterative Solution"
      ]
    },
    {
      "cell_type": "code",
      "execution_count": null,
      "metadata": {
        "id": "V844oixQH2rI"
      },
      "outputs": [],
      "source": [
        "def reverse(s):\n",
        "    reverse = \"\"\n",
        "    for ch in s:\n",
        "        reverse = ch + reverse\n",
        "    return reverse\n",
        "\n",
        "\n",
        "print(reverse(\"abcd\"))"
      ]
    },
    {
      "cell_type": "markdown",
      "metadata": {
        "id": "bggwRqC2IA1t"
      },
      "source": [
        "Recursive Solution"
      ]
    },
    {
      "cell_type": "code",
      "execution_count": null,
      "metadata": {
        "id": "98BHE2naICqn"
      },
      "outputs": [],
      "source": [
        "def reverse(s):\n",
        "    if (len(s) < 2):\n",
        "        return s\n",
        "    else:\n",
        "        mid = len(s)//2\n",
        "        return reverse(s[mid:]) + reverse(s[:mid])\n",
        "\n",
        "print(reverse(\"abcd\"))"
      ]
    },
    {
      "cell_type": "markdown",
      "metadata": {
        "id": "VOKytBn-IGuQ"
      },
      "source": [
        "digitSum"
      ]
    },
    {
      "cell_type": "markdown",
      "metadata": {
        "id": "Xhj2iVkOIOCr"
      },
      "source": [
        "Iterative Solution"
      ]
    },
    {
      "cell_type": "code",
      "execution_count": null,
      "metadata": {
        "id": "wwUDf3yuII1G"
      },
      "outputs": [],
      "source": [
        "def digitSum(n):\n",
        "    if n < 0:\n",
        "        n = abs(n)\n",
        "    result = 0\n",
        "    while n > 0:\n",
        "        result += n % 10\n",
        "        n = n // 10\n",
        "    return result\n",
        "\n",
        "print(digitSum(-12345))"
      ]
    },
    {
      "cell_type": "markdown",
      "metadata": {
        "id": "g30Jnt2aILfW"
      },
      "source": [
        "Recursive Solution"
      ]
    },
    {
      "cell_type": "code",
      "execution_count": null,
      "metadata": {
        "id": "Ys-A_bAyItLX"
      },
      "outputs": [],
      "source": [
        "def digitSum(n):\n",
        "    if (n < 0):\n",
        "        return digitSum(abs(n))\n",
        "    elif (n < 10):\n",
        "        return n\n",
        "    else:\n",
        "        return (n % 10) + digitSum(n // 10)\n",
        "\n",
        "\n",
        "print(digitSum(-12345))"
      ]
    },
    {
      "cell_type": "markdown",
      "metadata": {
        "id": "fF1nS5TzIt3V"
      },
      "source": [
        "gcd (optional)"
      ]
    },
    {
      "cell_type": "code",
      "execution_count": null,
      "metadata": {
        "id": "xMRK2wEwJC4I"
      },
      "outputs": [],
      "source": [
        "def gcd(x, y):\n",
        "    while (y > 0):\n",
        "        (x, y) = (y, x % y)\n",
        "    return x\n",
        "\n",
        "\n",
        "print(gcd(500, 420)) # 20"
      ]
    },
    {
      "cell_type": "markdown",
      "metadata": {
        "id": "7mbLzqa_JF_m"
      },
      "source": [
        "Recursive Solution"
      ]
    },
    {
      "cell_type": "code",
      "execution_count": null,
      "metadata": {
        "id": "DsxJWdf0JIGy"
      },
      "outputs": [],
      "source": [
        "def gcd(x, y):\n",
        "    if (y == 0):\n",
        "        return x\n",
        "    else:\n",
        "        return gcd(y, x % y)\n",
        "\n",
        "print(gcd(500, 420)) # 20"
      ]
    },
    {
      "cell_type": "markdown",
      "metadata": {},
      "source": [
        "exercise: binary to decimal"
      ]
    },
    {
      "cell_type": "code",
      "execution_count": 7,
      "metadata": {},
      "outputs": [],
      "source": [
        "def bintodec(n):\n",
        "    #print(n)\n",
        "    if n == '0':\n",
        "        return 0\n",
        "    if n == '1':\n",
        "        return 1\n",
        "    return 2 * bintodec(n[0:-1]) + bintodec(n[-1])"
      ]
    },
    {
      "cell_type": "markdown",
      "metadata": {
        "id": "4RCS79eENGIV"
      },
      "source": [
        "In general, recursion and iteration have the following properties:\n",
        "\n",
        "![Screen Shot 2021-12-24 at 10.11.08 AM.png](data:image/png;base64,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)"
      ]
    }
  ],
  "metadata": {
    "colab": {
      "provenance": []
    },
    "kernelspec": {
      "display_name": "Python 3",
      "language": "python",
      "name": "python3"
    },
    "language_info": {
      "codemirror_mode": {
        "name": "ipython",
        "version": 3
      },
      "file_extension": ".py",
      "mimetype": "text/x-python",
      "name": "python",
      "nbconvert_exporter": "python",
      "pygments_lexer": "ipython3",
      "version": "3.11.4"
    }
  },
  "nbformat": 4,
  "nbformat_minor": 0
}
