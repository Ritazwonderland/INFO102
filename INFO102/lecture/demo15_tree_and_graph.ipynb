{
 "cells": [
  {
   "cell_type": "markdown",
   "metadata": {
    "id": "gNWSnf39dtg0"
   },
   "source": [
    "## Create a tree"
   ]
  },
  {
   "cell_type": "code",
   "execution_count": null,
   "metadata": {
    "id": "EUJACwcgdlKE"
   },
   "outputs": [],
   "source": [
    "class Node:\n",
    "   def __init__(self, data):\n",
    "      self.left = None\n",
    "      self.right = None\n",
    "      self.data = data\n",
    "   def PrintTree(self):\n",
    "      print(self.data)\n",
    "\n",
    "root = Node(10)\n",
    "root.PrintTree()"
   ]
  },
  {
   "cell_type": "markdown",
   "metadata": {
    "id": "4TDNvyN0eGsY"
   },
   "source": [
    "## Add a node\n",
    "\n",
    "To insert into a tree we use the same node class created above and add a insert class to it. The insert class compares the value of the node to the parent node and decides to add it as a left node or a right node. "
   ]
  },
  {
   "cell_type": "code",
   "execution_count": null,
   "metadata": {
    "id": "MKx7EJSgeQHa"
   },
   "outputs": [],
   "source": [
    "class Node:\n",
    "   def __init__(self, data):\n",
    "      self.left = None\n",
    "      self.right = None\n",
    "      self.data = data\n",
    "\n",
    "   # Compare the new value with the parent node\n",
    "   def insert(self, data):\n",
    "     if self.data:\n",
    "       if data < self.data:\n",
    "         if self.left is None:\n",
    "           self.left = Node(data)\n",
    "         else:\n",
    "           self.left.insert(data)\n",
    "       elif data > self.data:\n",
    "         if self.right is None:\n",
    "            self.right = Node(data)\n",
    "         else:\n",
    "            self.right.insert(data)\n",
    "     else:\n",
    "       self.data = data\n",
    "\n",
    "   # Print the tree\n",
    "   def PrintTree(self):\n",
    "      print(self.data)\n",
    "      if self.left:\n",
    "         self.left.PrintTree()\n",
    "      if self.right:\n",
    "         self.right.PrintTree()\n",
    "\n",
    "# Use the insert method to add nodes\n",
    "root = Node(12)\n",
    "root.insert(6)\n",
    "root.insert(14)\n",
    "root.insert(3)\n",
    "root.PrintTree()"
   ]
  },
  {
   "cell_type": "markdown",
   "metadata": {
    "id": "npQGkaTtgcMH"
   },
   "source": [
    "## Traverse a tree\n",
    "\n",
    "Traversal is a process to visit all the nodes of a tree and may print their values too. In this traversal method, the left subtree is visited first, then the root and later the right sub-tree. We should always remember that every node may represent a subtree itself."
   ]
  },
  {
   "cell_type": "code",
   "execution_count": null,
   "metadata": {
    "id": "Kp3-EZlSgpkP"
   },
   "outputs": [],
   "source": [
    "class Node:\n",
    "   def __init__(self, data):\n",
    "      self.left = None\n",
    "      self.right = None\n",
    "      self.data = data\n",
    "\n",
    "   # Compare the new value with the parent node\n",
    "   def insert(self, data):\n",
    "     if self.data:\n",
    "       if data < self.data:\n",
    "         if self.left is None:\n",
    "           self.left = Node(data)\n",
    "         else:\n",
    "           self.left.insert(data)\n",
    "       elif data > self.data:\n",
    "         if self.right is None:\n",
    "            self.right = Node(data)\n",
    "         else:\n",
    "            self.right.insert(data)\n",
    "     else:\n",
    "       self.data = data\n",
    "\n",
    "   # Print the tree\n",
    "   def PrintTree(self):\n",
    "      print( self.data)\n",
    "      if self.left:\n",
    "         self.left.PrintTree()\n",
    "      if self.right:\n",
    "         self.right.PrintTree()\n",
    "         \n",
    "   # Left -> Root -> Right\n",
    "   def inorderTraversal(self, root):\n",
    "     res = []\n",
    "     if root:\n",
    "         res = self.inorderTraversal(root.left)\n",
    "         res.append(root.data)\n",
    "         res = res + self.inorderTraversal(root.right)\n",
    "     return res\n",
    "\n",
    "root = Node(27)\n",
    "root.insert(14)\n",
    "root.insert(35)\n",
    "root.insert(10)\n",
    "root.insert(19)\n",
    "root.insert(31)\n",
    "root.insert(42)\n",
    "print(root.inorderTraversal(root))  "
   ]
  },
  {
   "cell_type": "markdown",
   "metadata": {
    "id": "ggpJ65tzs1Cs"
   },
   "source": [
    "## Graph\n",
    "\n",
    "In the following example, we create two classes: Graph, which holds the master list of nodes, and Nodes, which represents each node in the graph."
   ]
  },
  {
   "cell_type": "code",
   "execution_count": null,
   "metadata": {
    "id": "YAWo_NRPrQW5"
   },
   "outputs": [],
   "source": [
    "class nodes:\n",
    "    def __init__(self, node):\n",
    "        self.id = node\n",
    "        self.adjacent = {}\n",
    "\n",
    "    def __str__(self):\n",
    "        return str(self.id) + ' adjacent: ' + str([x.id for x in self.adjacent])\n",
    "\n",
    "    def add_neighbor(self, neighbor, weight=0):\n",
    "        self.adjacent[neighbor] = weight\n",
    "\n",
    "    def get_connections(self):\n",
    "        return self.adjacent.keys()  \n",
    "\n",
    "    def get_id(self):\n",
    "        return self.id\n",
    "\n",
    "    def get_weight(self, neighbor):\n",
    "        return self.adjacent[neighbor]\n",
    "\n",
    "class Graph:\n",
    "    def __init__(self):\n",
    "        self.vert_dict = {}\n",
    "        self.num_nodes = 0\n",
    "\n",
    "    def __iter__(self):\n",
    "        return iter(self.vert_dict.values())\n",
    "\n",
    "    def add_nodes(self, vert):\n",
    "        self.num_nodes = self.num_nodes + 1\n",
    "        new_nodes = nodes(vert)\n",
    "        self.vert_dict[vert] = new_nodes\n",
    "        return new_nodes\n",
    "\n",
    "    def get_nodes(self, n):\n",
    "        if n in self.vert_dict:\n",
    "            return self.vert_dict[n]\n",
    "        else:\n",
    "            return None\n",
    "\n",
    "    def add_edge(self, frm, to, cost = 0):\n",
    "        if frm not in self.vert_dict:\n",
    "            self.add_nodes(frm)\n",
    "        if to not in self.vert_dict:\n",
    "            self.add_nodes(to)\n",
    "\n",
    "        self.vert_dict[frm].add_neighbor(self.vert_dict[to], cost)\n",
    "        self.vert_dict[to].add_neighbor(self.vert_dict[frm], cost)\n",
    "\n",
    "    def get_vertices(self):\n",
    "        return self.vert_dict.keys()\n",
    "\n",
    "if __name__ == '__main__':\n",
    "\n",
    "    g = Graph()\n",
    "\n",
    "    g.add_nodes('a')\n",
    "    g.add_nodes('b')\n",
    "    g.add_nodes('c')\n",
    "    g.add_nodes('d')\n",
    "    g.add_nodes('e')\n",
    "    g.add_nodes('f')\n",
    "\n",
    "    g.add_edge('a', 'b', 7)  \n",
    "    g.add_edge('a', 'c', 9)\n",
    "    g.add_edge('a', 'f', 14)\n",
    "    g.add_edge('b', 'c', 10)\n",
    "    g.add_edge('b', 'd', 15)\n",
    "    g.add_edge('c', 'd', 11)\n",
    "    g.add_edge('c', 'f', 2)\n",
    "    g.add_edge('d', 'e', 6)\n",
    "    g.add_edge('e', 'f', 9)\n",
    "\n",
    "    for v in g:\n",
    "        for w in v.get_connections():\n",
    "            vid = v.get_id()\n",
    "            wid = w.get_id()\n",
    "            print(f'{vid}, {wid}, {v.get_weight(w)}')\n",
    "\n",
    "    for v in g:\n",
    "        print(f'g.vert_dict[%s]= {v.get_id()}, {g.vert_dict[v.get_id()]}')"
   ]
  }
 ],
 "metadata": {
  "colab": {
   "collapsed_sections": [],
   "name": "demo14_tree and graph.ipynb",
   "provenance": []
  },
  "kernelspec": {
   "display_name": "Python 3",
   "language": "python",
   "name": "python3"
  },
  "language_info": {
   "codemirror_mode": {
    "name": "ipython",
    "version": 3
   },
   "file_extension": ".py",
   "mimetype": "text/x-python",
   "name": "python",
   "nbconvert_exporter": "python",
   "pygments_lexer": "ipython3",
   "version": "3.9.16"
  }
 },
 "nbformat": 4,
 "nbformat_minor": 1
}
