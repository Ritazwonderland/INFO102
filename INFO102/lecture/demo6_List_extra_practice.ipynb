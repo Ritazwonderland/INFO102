{
  "cells": [
    {
      "cell_type": "markdown",
      "metadata": {
        "id": "Tm0SPwJCI9i1"
      },
      "source": [
        "## Additional Practice on functions and lists\n",
        "\n",
        "Let us walk through some more examples of functions, lists, and searches."
      ]
    },
    {
      "cell_type": "markdown",
      "metadata": {
        "id": "s90JL89sI9i3"
      },
      "source": [
        "## HW 3. Q9\n",
        "\n",
        "Write the function setKthDigit(n, k, d) that takes three integers -- n, k, and d -- where n is a possibly-negative int, k is a non-negative int, and d is a non-negative single digit (between 0 and 9 inclusive), and returns the number n but with the kth digit replaced with d. Counting starts at 0 and goes right-to-left, so the 0th digit is the rightmost digit. For example:\n",
        "\n",
        " *  setKthDigit(468, 0, 1) returns 461\n",
        " *  setKthDigit(468, 1, 1) returns 418\n",
        " *  setKthDigit(468, 2, 1) returns 168\n",
        " *  setKthDigit(468, 3, 1) returns 1468"
      ]
    },
    {
      "cell_type": "markdown",
      "metadata": {
        "id": "8JQXkfcgI9i3"
      },
      "source": [
        "#### 1. Input Parameters: The function takes three arguments:\n",
        "\n",
        "   * `n`: The original integer whose k-th digit we want to change.\n",
        "   * `k`: The position of the digit in n that we want to replace, counting from the right and starting at 0.\n",
        "   * `d`: The new digit that we want to place in the k-th position."
      ]
    },
    {
      "cell_type": "markdown",
      "metadata": {
        "id": "yXYaC7NPI9i4"
      },
      "source": [
        "#### 2. Working with Absolute Value: Since the function uses abs(n), it is designed to work with the absolute value of n, ignoring the sign of the input number."
      ]
    },
    {
      "cell_type": "code",
      "execution_count": null,
      "metadata": {
        "id": "07C0k8-qI9i4"
      },
      "outputs": [],
      "source": [
        "negative = n < 0\n",
        "n = abs(n)"
      ]
    },
    {
      "cell_type": "markdown",
      "metadata": {
        "id": "5VpJDHAiI9i5"
      },
      "source": [
        "#### 3. Isolating Right Digits: It calculates right_digits as the portion of the number n that is to the right of the k-th digit. This is obtained by taking the remainder of the division of `abs(n)` by `10 ** k`."
      ]
    },
    {
      "cell_type": "code",
      "execution_count": null,
      "metadata": {
        "id": "lT4J79wHI9i5"
      },
      "outputs": [],
      "source": [
        "# Extract the right digits after the k-th digit\n",
        "right_digits = n % (10 ** k)"
      ]
    },
    {
      "cell_type": "markdown",
      "metadata": {
        "id": "D049h_jRI9i5"
      },
      "source": [
        "#### 4. Isolating Left Digits: It calculates left_digits as the portion of the number n that is to the left of the k-th digit, excluding the k-th digit itself. This is obtained by dividing `abs(n)` by `10 ** (k+1)`."
      ]
    },
    {
      "cell_type": "code",
      "execution_count": null,
      "metadata": {
        "id": "mBDUnTNwI9i5"
      },
      "outputs": [],
      "source": [
        "# Extract the left part of n before the k-th digit\n",
        "left_digits = n // (10 ** (k+1))"
      ]
    },
    {
      "cell_type": "markdown",
      "metadata": {
        "id": "xcJIYDBVI9i6"
      },
      "source": [
        "#### 5. Constructing the New Number: The function then attempts to construct the new number by combining left_digits, the new digit d, and right_digits."
      ]
    },
    {
      "cell_type": "code",
      "execution_count": null,
      "metadata": {
        "id": "XIG6nLIOI9i6"
      },
      "outputs": [],
      "source": [
        "# Construct the new number with the k-th digit replaced by d\n",
        "new_number = left_digits * (10 ** (k+1)) + d * (10 ** k) + right_digits"
      ]
    },
    {
      "cell_type": "markdown",
      "metadata": {
        "id": "9oxMPBTRI9i6"
      },
      "source": [
        "#### 6. Returning the Result: The function converts the calculated new number into an integer and returns it. Note if n is negative, you will return the negative of abs(new_number)"
      ]
    },
    {
      "cell_type": "code",
      "execution_count": null,
      "metadata": {
        "id": "KdvDceXFI9i6"
      },
      "outputs": [],
      "source": [
        "## your code"
      ]
    },
    {
      "cell_type": "code",
      "execution_count": null,
      "metadata": {
        "id": "ptju2zouI9i6"
      },
      "outputs": [],
      "source": [
        "def setKthDigit(n, k, d):\n",
        "    right_digits = abs(n) % (10 ** k)\n",
        "    left_digits = abs(n) // (10 ** (k+1))\n",
        "    newN = int(left_digits * (10 ** (k+1))  + d * (10 ** k) + right_digits)\n",
        "    if n < 0:\n",
        "        newN = -newN\n",
        "    return newN"
      ]
    },
    {
      "cell_type": "code",
      "execution_count": null,
      "metadata": {
        "id": "6sWBWqADI9i7"
      },
      "outputs": [],
      "source": [
        "def testGetKthDigit():\n",
        "    print('Testing getKthDigit()... ', end='')\n",
        "    assert(setKthDigit(468, 0, 1) == 461)\n",
        "    assert(setKthDigit(468, 1, 1) == 418)\n",
        "    assert(setKthDigit(468, 2, 1) == 168)\n",
        "    assert(setKthDigit(468, 3, 1) == 1468)\n",
        "    assert(setKthDigit(468, 4, 1) == 10468)\n",
        "    assert(setKthDigit(-468, 2, 1) == -168)\n",
        "    # you can add more test cases yourself\n",
        "    print('Passed...')\n",
        "\n",
        "testGetKthDigit()"
      ]
    },
    {
      "cell_type": "markdown",
      "metadata": {
        "id": "HtoHTct7I9i7"
      },
      "source": [
        "## 1. The Locker Problem.\n",
        "\n",
        "Imagine 100 lockers numbered 1 to 100 with 100 students lined up in front of those 100 lockers.\n",
        "\n",
        "The first student opens every locker. The second student closes every 2nd locker.\n",
        "\n",
        "The 3rd student changes every 3rd locker; if it’s closed, she opens it; if it’s open, she closes it. The 4th student changes every fourth locker.\n",
        "\n",
        "The 5th student changes every 5th locker.\n",
        "\n",
        "That same pattern continues for all 100 students.\n",
        "\n",
        "Here’s the question: “Which lockers are left open after all 100 students have walked the row of lockers?”\n",
        "\n",
        "As many of you found, the perfect square lockers (#s 1, 4, 9, 16, 25, 36, 49, 64, 81, and 100) are the only lockers left open.\n",
        "\n",
        "What are the lockers that are left open after n students have walked the row of lockers? Assume there are also n lockers."
      ]
    },
    {
      "cell_type": "markdown",
      "metadata": {
        "id": "UPKWUn5XI9i8"
      },
      "source": [
        "### How can we solve this problem computationally?"
      ]
    },
    {
      "cell_type": "markdown",
      "metadata": {
        "id": "wYO2kySjI9i8"
      },
      "source": [
        "#### Step 1. Initialize a list isOpen with a size of lockers+1 to account for locker numbers starting at 1 (ignoring the 0th index). The list is initialized with False indicating all lockers are closed."
      ]
    },
    {
      "cell_type": "code",
      "execution_count": null,
      "metadata": {
        "id": "RfbhhqmFI9i8"
      },
      "outputs": [],
      "source": [
        "## your code\n",
        "[False]*100"
      ]
    },
    {
      "cell_type": "markdown",
      "metadata": {
        "id": "HU6dHVhSI9i8"
      },
      "source": [
        "#### Step 2. Assign the students variable the same value as lockers, indicating one student for each locker."
      ]
    },
    {
      "cell_type": "code",
      "execution_count": null,
      "metadata": {
        "id": "cLyG4d4HI9i8"
      },
      "outputs": [],
      "source": [
        "## your code"
      ]
    },
    {
      "cell_type": "markdown",
      "metadata": {
        "id": "3v2tXOOyI9i8"
      },
      "source": [
        "#### Step 3. Perform a nested loop where each student (`student`) toggles the state of lockers:"
      ]
    },
    {
      "cell_type": "code",
      "execution_count": null,
      "metadata": {
        "id": "eXunEi_uI9i9"
      },
      "outputs": [],
      "source": [
        "## Hint 1. The outer loop iterates through each student.\n",
        "## Hint 2. The inner loop selects lockers based on the student's number,\n",
        "## toggling the state by flipping the boolean value.\n",
        "## [T, F, F, T, F, F,....]\n"
      ]
    },
    {
      "cell_type": "markdown",
      "metadata": {
        "id": "pWaLVhBKI9i9"
      },
      "source": [
        "#### Step 4. After all students have passed, compile a list `openLockers` of all locker numbers that remain open (`True` in the `isOpen` list)."
      ]
    },
    {
      "cell_type": "code",
      "execution_count": null,
      "metadata": {
        "id": "wqTwWslrI9i9"
      },
      "outputs": [],
      "source": [
        "## your code"
      ]
    },
    {
      "cell_type": "markdown",
      "metadata": {
        "id": "NScxUftpI9i9"
      },
      "source": [
        "#### Step5. Return the `openLockers` list containing the locker numbers that are open after all students have passed."
      ]
    },
    {
      "cell_type": "code",
      "execution_count": null,
      "metadata": {
        "id": "Za6k-y8HI9i9"
      },
      "outputs": [],
      "source": [
        "## your code"
      ]
    },
    {
      "cell_type": "markdown",
      "metadata": {
        "id": "O2bcOPnAI9i9"
      },
      "source": [
        "#### Step 6. Putting all your code together\n",
        "\n",
        "1. Input: the total number of lockers\n",
        "2. Output: a list of locker numbers that are open after the last student has passed.\n",
        "3. Test case: you can write some test cases to see if the returned list is expected.\n",
        "4. Edge case: if you like, you can also handle non-integer and negative inputs gracefully."
      ]
    },
    {
      "cell_type": "code",
      "execution_count": null,
      "metadata": {
        "id": "vYoudxUZI9i9"
      },
      "outputs": [],
      "source": [
        "## Your code"
      ]
    },
    {
      "cell_type": "code",
      "execution_count": null,
      "metadata": {
        "id": "m6mgDmsII9i-"
      },
      "outputs": [],
      "source": [
        "## Example code as your reference\n",
        "\n",
        "def lockerProblem(lockers):\n",
        "    isOpen = [ False ] * (lockers+1)\n",
        "    students = lockers\n",
        "    for student in range(1,students+1):\n",
        "        for locker in range(student, lockers+1, student):\n",
        "            isOpen[locker] = not isOpen[locker]\n",
        "    print(isOpen)\n",
        "    openLockers = [ ]\n",
        "    for locker in range(1, lockers+1):\n",
        "        if isOpen[locker]:\n",
        "            openLockers.append(locker)\n",
        "    return openLockers\n",
        "\n",
        "print(lockerProblem(100))"
      ]
    }
  ],
  "metadata": {
    "kernelspec": {
      "display_name": "py39",
      "language": "python",
      "name": "python3"
    },
    "language_info": {
      "codemirror_mode": {
        "name": "ipython",
        "version": 3
      },
      "file_extension": ".py",
      "mimetype": "text/x-python",
      "name": "python",
      "nbconvert_exporter": "python",
      "pygments_lexer": "ipython3",
      "version": "3.9.1"
    },
    "colab": {
      "provenance": []
    }
  },
  "nbformat": 4,
  "nbformat_minor": 0
}