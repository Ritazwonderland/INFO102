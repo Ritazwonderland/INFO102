{
  "cells": [
    {
      "cell_type": "markdown",
      "metadata": {
        "id": "W6cNj8OKGC6B"
      },
      "source": [
        "# Additional Problems - List"
      ]
    },
    {
      "cell_type": "markdown",
      "metadata": {
        "id": "lfBvNBLaGC6C"
      },
      "source": [
        "## Sieve of Eratosthenes\n",
        "\n",
        "In mathematics, the sieve of Eratosthenes is an ancient algorithm for finding all prime numbers up to any given limit.\n",
        "\n",
        "It does so by iteratively marking as composite (i.e., not prime) the multiples of each prime, starting with the first prime number, 2. The multiples of a given prime are generated as a sequence of numbers starting from that prime, with constant difference between them that is equal to that prime. This is the sieve's key distinction from using trial division to sequentially test each candidate number for divisibility by each prime. Once all the multiples of each discovered prime have been marked as composites, the remaining unmarked numbers are primes. Read this Wikipedia article for more [details](http://en.wikipedia.org/wiki/Sieve_of_Eratosthenes).\n",
        "\n",
        "![Animation_Sieve_of_Eratosth.gif](https://upload.wikimedia.org/wikipedia/commons/9/94/Animation_Sieve_of_Eratosth.gif)\n"
      ]
    },
    {
      "cell_type": "code",
      "execution_count": null,
      "metadata": {
        "id": "KvK_9x4cG0Hf"
      },
      "outputs": [],
      "source": [
        "from IPython import display\n",
        "display.Image(\"https://upload.wikimedia.org/wikipedia/commons/9/94/Animation_Sieve_of_Eratosth.gif\")"
      ]
    },
    {
      "cell_type": "code",
      "execution_count": null,
      "metadata": {
        "id": "SH8Br2GdGC6D"
      },
      "outputs": [],
      "source": [
        "# Sieve of Eratosthenes\n",
        "\n",
        "# This function returns a list of prime numbers\n",
        "# up to n (inclusive), using the Sieve of Eratosthenes.\n",
        "\n",
        "def sieve(n: int) -> list[int]:\n",
        "    isPrime = [ True ] * (n+1) # assume all are prime to start\n",
        "    isPrime[0] = isPrime[1] = False # except 0 and 1, of course\n",
        "    primes = [ ]\n",
        "    for prime in range(n+1):\n",
        "        if (isPrime[prime] == True):\n",
        "            # we found a prime, so add it to our result\n",
        "            primes.append(prime)\n",
        "            # and mark all its multiples as not prime\n",
        "            for multiple in range(2*prime, n+1, prime):\n",
        "                isPrime[multiple] = False\n",
        "    return primes\n",
        "\n",
        "print(sieve(100))"
      ]
    },
    {
      "cell_type": "markdown",
      "metadata": {
        "id": "sK-SMVboGC6E"
      },
      "source": [
        "## The Prime Counting Function"
      ]
    },
    {
      "cell_type": "code",
      "execution_count": null,
      "metadata": {
        "id": "OXB4twuXGC6F"
      },
      "outputs": [],
      "source": [
        "# Sieve of Eratosthenes\n",
        "# More complete example, showing one reason why we might\n",
        "# care to use the sieve rather than the simple isPrime function\n",
        "# we already learned how to write.\n",
        "\n",
        "# We'll be computing the prime counting function, pi(n):\n",
        "# See http://en.wikipedia.org/wiki/Prime-counting_function\n",
        "\n",
        "# We'll do it two different ways:  once using the simple isPrime\n",
        "# function, and again using the sieve.  We'll time each way\n",
        "# and see how it goes.\n",
        "\n",
        "####################################################\n",
        "\n",
        "###################\n",
        "## sieve(n)\n",
        "###################\n",
        "\n",
        "# This function returns a list of prime numbers\n",
        "# up to n (inclusive), using the Sieve of Eratosthenes.\n",
        "# See http://en.wikipedia.org/wiki/Sieve_of_Eratosthenes\n",
        "\n",
        "def sieve(n):\n",
        "    isPrime = [ True ] * (n+1) # assume all are prime to start\n",
        "    isPrime[0] = isPrime[1] = False # except 0 and 1, of course\n",
        "    primes = [ ]\n",
        "    for prime in range(n+1):\n",
        "        if (isPrime[prime] == True):\n",
        "            # we found a prime, so add it to our result\n",
        "            primes.append(prime)\n",
        "            # and mark all its multiples as not prime\n",
        "            for multiple in range(2*prime, n+1, prime):\n",
        "                isPrime[multiple] = False\n",
        "    return primes\n",
        "\n",
        "# Here we will use the sieve to compute the prime\n",
        "# counting function.  The sieve will return a list\n",
        "# of all the primes up to n, so the prime counting\n",
        "# function merely returns the length of this list!\n",
        "\n",
        "def piUsingSieve(n):\n",
        "    return len(sieve(n))\n",
        "\n",
        "###################\n",
        "## piUsingisPrime(n)\n",
        "###################\n",
        "\n",
        "# Here we will use the isPrime function to compute\n",
        "# the prime counting function.\n",
        "\n",
        "def piUsingIsPrime(n):\n",
        "    primeCount = 0\n",
        "    for counter in range(n+1):\n",
        "        if (isPrime(counter)):\n",
        "            primeCount += 1\n",
        "    return primeCount\n",
        "\n",
        "def isPrime(n):\n",
        "    if (n < 2): return False\n",
        "    if (n == 2): return True\n",
        "    if (n % 2 == 0): return False\n",
        "    for factor in range(3, int(round(n**0.5))+1, 2):\n",
        "        if (n % factor == 0):\n",
        "            return False\n",
        "    return True\n",
        "\n",
        "####################################################\n",
        "\n",
        "###################\n",
        "## test code\n",
        "###################\n",
        "\n",
        "# Before running the timing code below, let's run\n",
        "# some test code to verify that the functions above\n",
        "# seemingly work.  Test values are from:\n",
        "# http://en.wikipedia.org/wiki/Prime-counting_function\n",
        "\n",
        "def testCorrectness():\n",
        "    print(\"First testing functions for correctness...\", end=\"\")\n",
        "    assert(piUsingSieve(10) == 4)\n",
        "    assert(piUsingIsPrime(10) == 4)\n",
        "    assert(piUsingSieve(100) == 25)\n",
        "    assert(piUsingIsPrime(100) == 25)\n",
        "    assert(piUsingSieve(1000) == 168)\n",
        "    assert(piUsingIsPrime(1000) == 168)\n",
        "    print(\"Passed!\")\n",
        "\n",
        "testCorrectness()\n",
        "\n",
        "####################################################\n",
        "\n",
        "###################\n",
        "## timing code\n",
        "###################\n",
        "\n",
        "# Finally we can time each version for a large value of n\n",
        "# and compare their runtimes\n",
        "\n",
        "import time\n",
        "\n",
        "def testTiming():\n",
        "    n = 100000 # Use 100000 for Colab, 1000*1000 for Python\n",
        "\n",
        "    print(\"***************\")\n",
        "    print(\"Timing piUsingIsPrime(\" + str(n) + \"):\")\n",
        "    startTime = time.time()\n",
        "    result1 = piUsingIsPrime(n)\n",
        "    endTime = time.time()\n",
        "    time1 = endTime - startTime\n",
        "    print(\"   result = \" + str(result1))\n",
        "    print(\"   time = \" + str(time1) + \" sec\")\n",
        "\n",
        "    print(\"***************\")\n",
        "    print(\"Timing piUsingSieve(\" + str(n) + \"):\")\n",
        "    startTime = time.time()\n",
        "    result2 = piUsingSieve(n)\n",
        "    endTime = time.time()\n",
        "    time2 = endTime - startTime\n",
        "    print(\"   result = \" + str(result2))\n",
        "    print(\"   time = \" + str(time2) + \" sec\")\n",
        "\n",
        "    print(\"***************\")\n",
        "    print(\"Comparison:\")\n",
        "    print(\"   Same result: \" + str(result1 == result2))\n",
        "    print(\"   (time of isPrime) / (time of sieve) = \" + str(time1 / time2))\n",
        "    print(\"And this only gets worse, and quickly, for larger values of n.\")\n",
        "\n",
        "testTiming()"
      ]
    },
    {
      "cell_type": "markdown",
      "metadata": {
        "id": "zL8nK2YlGC6F"
      },
      "source": [
        "## Word Search\n",
        "\n",
        "Find the word and its start position in a 2d list."
      ]
    },
    {
      "cell_type": "markdown",
      "metadata": {
        "id": "StVpqgWdGC6F"
      },
      "source": [
        "![word2.jpg](https://raw.githubusercontent.com/doocs/leetcode/main/solution/0200-0299/0212.Word%20Search%20II/images/search1.jpg)"
      ]
    },
    {
      "cell_type": "code",
      "execution_count": null,
      "metadata": {
        "id": "pKEdTZ8PGC6G"
      },
      "outputs": [],
      "source": [
        "def wordSearch(board, word):\n",
        "    (rows, cols) = (len(board), len(board[0]))\n",
        "    for row in range(rows):\n",
        "        for col in range(cols):\n",
        "            result = wordSearchFromCell(board, word, row, col)\n",
        "            if (result != None):\n",
        "                return result\n",
        "    return None\n",
        "\n",
        "def wordSearchFromCell(board, word, startRow, startCol):\n",
        "    for drow in [-1, 0, +1]:\n",
        "        for dcol in [-1, 0, +1]:\n",
        "            if (drow, dcol) != (0, 0):\n",
        "                result = wordSearchFromCellInDirection(board, word,\n",
        "                                                       startRow, startCol,\n",
        "                                                       drow, dcol)\n",
        "                if (result != None):\n",
        "                    return result\n",
        "    return None\n",
        "\n",
        "def wordSearchFromCellInDirection(board, word, startRow, startCol, drow, dcol):\n",
        "    (rows, cols) = (len(board), len(board[0]))\n",
        "    dirNames = [ [\"up-left\"  ,   \"up\", \"up-right\"],\n",
        "                 [\"left\"     ,   \"\"  , \"right\"   ],\n",
        "                 [\"down-left\", \"down\", \"down-right\" ] ]\n",
        "    for i in range(len(word)):\n",
        "        row = startRow + i*drow\n",
        "        col = startCol + i*dcol\n",
        "        if ((row < 0) or (row >= rows) or\n",
        "            (col < 0) or (col >= cols) or\n",
        "            (board[row][col] != word[i])):\n",
        "            return None\n",
        "    return (word, (startRow, startCol), dirNames[drow+1][dcol+1])\n",
        "\n",
        "def testWordSearch():\n",
        "    board = [ [ 'd', 'o', 'g' ],\n",
        "              [ 't', 'a', 'c' ],\n",
        "              [ 'o', 'a', 't' ],\n",
        "              [ 'u', 'r', 'k' ],\n",
        "            ]\n",
        "    print(wordSearch(board, \"dog\")) # ('dog', (0, 0), 'right')\n",
        "    print(wordSearch(board, \"cat\")) # ('cat', (1, 2), 'left')\n",
        "    print(wordSearch(board, \"tad\")) # ('tad', (2, 2), 'up-left')\n",
        "    print(wordSearch(board, \"cow\")) # None\n",
        "\n",
        "testWordSearch()"
      ]
    },
    {
      "cell_type": "markdown",
      "metadata": {
        "id": "t2TaRWZsGC6G"
      },
      "source": [
        "## Another Word Search Solution"
      ]
    },
    {
      "cell_type": "code",
      "execution_count": null,
      "metadata": {
        "id": "Fix9bkR3GC6G"
      },
      "outputs": [],
      "source": [
        "# This time with a slightly different handling of directions\n",
        "\n",
        "def wordSearch(board, word):\n",
        "    (rows, cols) = (len(board), len(board[0]))\n",
        "    for row in range(rows):\n",
        "        for col in range(cols):\n",
        "            result = wordSearchFromCell(board, word, row, col)\n",
        "            if (result != None):\n",
        "                return result\n",
        "    return None\n",
        "\n",
        "def wordSearchFromCell(board, word, startRow, startCol):\n",
        "    possibleDirections = 8 # 3^2 - 1\n",
        "    for dir in range(possibleDirections):\n",
        "        result = wordSearchFromCellInDirection(board, word,\n",
        "                                               startRow, startCol, dir)\n",
        "        if (result != None):\n",
        "            return result\n",
        "    return None\n",
        "\n",
        "def wordSearchFromCellInDirection(board, word, startRow, startCol, dir):\n",
        "    (rows, cols) = (len(board), len(board[0]))\n",
        "    dirs = [ (-1, -1), (-1, 0), (-1, +1),\n",
        "             ( 0, -1),          ( 0, +1),\n",
        "             (+1, -1), (+1, 0), (+1, +1) ]\n",
        "    dirNames = [ \"up-left\"  ,   \"up\", \"up-right\",\n",
        "                 \"left\"     ,         \"right\",\n",
        "                 \"down-left\", \"down\", \"down-right\" ]\n",
        "    (drow,dcol) = dirs[dir]\n",
        "    for i in range(len(word)):\n",
        "        row = startRow + i*drow\n",
        "        col = startCol + i*dcol\n",
        "        if ((row < 0) or (row >= rows) or\n",
        "            (col < 0) or (col >= cols) or\n",
        "            (board[row][col] != word[i])):\n",
        "            return None\n",
        "    return (word, (startRow, startCol), dirNames[dir])\n",
        "\n",
        "def testWordSearch():\n",
        "    board = [ [ 'd', 'o', 'g' ],\n",
        "              [ 't', 'a', 'c' ],\n",
        "              [ 'o', 'a', 't' ],\n",
        "              [ 'u', 'r', 'k' ],\n",
        "            ]\n",
        "    print(wordSearch(board, \"dog\")) # ('dog', (0, 0), 'right')\n",
        "    print(wordSearch(board, \"cat\")) # ('cat', (1, 2), 'left')\n",
        "    print(wordSearch(board, \"tad\")) # ('tad', (2, 2), 'up-left')\n",
        "    print(wordSearch(board, \"cow\")) # None\n",
        "\n",
        "testWordSearch()"
      ]
    }
  ],
  "metadata": {
    "colab": {
      "provenance": []
    },
    "kernelspec": {
      "display_name": "py39",
      "language": "python",
      "name": "python3"
    },
    "language_info": {
      "codemirror_mode": {
        "name": "ipython",
        "version": 3
      },
      "file_extension": ".py",
      "mimetype": "text/x-python",
      "name": "python",
      "nbconvert_exporter": "python",
      "pygments_lexer": "ipython3",
      "version": "3.9.1"
    }
  },
  "nbformat": 4,
  "nbformat_minor": 0
}
