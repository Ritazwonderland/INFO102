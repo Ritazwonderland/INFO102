{
  "cells": [
    {
      "cell_type": "markdown",
      "metadata": {
        "id": "fnBqeZtIcVKF"
      },
      "source": [
        "Example 1"
      ]
    },
    {
      "cell_type": "code",
      "execution_count": 1,
      "metadata": {
        "id": "4NTw6-G0cOGs"
      },
      "outputs": [
        {
          "name": "stdout",
          "output_type": "stream",
          "text": [
            "5\n",
            "False\n",
            "0\n",
            "None\n"
          ]
        }
      ],
      "source": [
        "def ct1(x, y):\n",
        "    print((x//10) % ((y%10)**3))\n",
        "    if (x > y):\n",
        "        return isinstance(x/10, type(x))\n",
        "\n",
        "print(ct1(137,42))\n",
        "print(ct1(42, 731))"
      ]
    },
    {
      "cell_type": "markdown",
      "metadata": {
        "id": "Sy2Yd5dNdY8L"
      },
      "source": [
        "Example 2"
      ]
    },
    {
      "cell_type": "code",
      "execution_count": 2,
      "metadata": {
        "id": "efZmlTRwdcdJ"
      },
      "outputs": [
        {
          "name": "stdout",
          "output_type": "stream",
          "text": [
            "1.5\n",
            "13.0\n"
          ]
        }
      ],
      "source": [
        "def f(z):\n",
        "    return 2*z\n",
        "\n",
        "def g(z):\n",
        "    z += 1\n",
        "    return z/2\n",
        "\n",
        "def h(z):\n",
        "    if (z > 3):\n",
        "        return z + f(g(z))\n",
        "    else:\n",
        "        return g(z)\n",
        "\n",
        "def ct2(z):\n",
        "    print(h(z-1))\n",
        "    z *= 2\n",
        "    return h(z)\n",
        "\n",
        "print(ct2(3))"
      ]
    },
    {
      "cell_type": "markdown",
      "metadata": {
        "id": "i_YzYirVfm2o"
      },
      "source": [
        "Reasoning over Example 1"
      ]
    },
    {
      "cell_type": "code",
      "execution_count": null,
      "metadata": {
        "id": "SWLOeNARfpw1"
      },
      "outputs": [],
      "source": [
        "def rc1(n):\n",
        "    t = n//1000\n",
        "    return ((n >= 100000) and\n",
        "            (n <= 333333) and\n",
        "            (t != 112) and   \n",
        "            (t % 112 == 0) and \n",
        "            (t == n%1000))\n",
        "\n",
        "print('rc1:', rc1(42))"
      ]
    },
    {
      "cell_type": "markdown",
      "metadata": {
        "id": "Xcbn_Xg_f8ob"
      },
      "source": [
        "Reasoning over Example 2"
      ]
    },
    {
      "cell_type": "code",
      "execution_count": null,
      "metadata": {
        "id": "KaSLx6UFgAkh"
      },
      "outputs": [],
      "source": [
        "def f(x1, x2, n):\n",
        "    d1 = (x1 // (10**n)) % 10\n",
        "    d2 = (x2 // (10**n)) % 10\n",
        "    if ((d1 > d2) and (d1 > 5)):\n",
        "        return d1\n",
        "    elif (d2 > d1):\n",
        "        return d2\n",
        "    elif ((d1 == 0) and (d2 == 0)):\n",
        "        return 42\n",
        "    elif ((d1 == 0) or (d2 == 0)):\n",
        "        return -10**10\n",
        "    else:\n",
        "        return 0\n",
        "\n",
        "def rc2(x, y):\n",
        "    z = 100*f(x,y,2) + 10*f(x,y,1) + f(x,y,0)\n",
        "    return ((f(x,y,3) == 42) and (z == 206)) #true and false\n",
        "\n",
        "print('rc2:', rc2(42, 99))"
      ]
    },
    {
      "cell_type": "markdown",
      "metadata": {
        "id": "vHjLCGnletAc"
      },
      "source": [
        "Word Search\n"
      ]
    },
    {
      "cell_type": "code",
      "execution_count": null,
      "metadata": {
        "id": "fs9tib3peyKb"
      },
      "outputs": [],
      "source": [
        "# search a word in all directions\n",
        "\n",
        "def wordSearch(board, word):\n",
        "    '''\n",
        "    search a given word on the board\n",
        "    '''\n",
        "    (rows, cols) = (len(board), len(board[0]))  # read the size of the board\n",
        "    for row in range(rows):\n",
        "        for col in range(cols):  # loop over the board cell by cell\n",
        "            result = wordSearchFromCell(board, word, row, col) \n",
        "            if (result != None):\n",
        "                return result\n",
        "    return None\n",
        "\n",
        "def wordSearchFromCell(board, word, startRow, startCol):\n",
        "    '''\n",
        "    A search function based on each cell\n",
        "    '''\n",
        "    for drow in [-1, 0, +1]:\n",
        "        for dcol in [-1, 0, +1]: # check neighboring cells\n",
        "            if ((drow != 0) or (dcol != 0)):\n",
        "                result = wordSearchFromCellInDirection(board, word,\n",
        "                                                       startRow, startCol,\n",
        "                                                       drow, dcol)\n",
        "                if (result != None):\n",
        "                    return result\n",
        "    return None\n",
        "\n",
        "def wordSearchFromCellInDirection(board, word, startRow, startCol, drow, dcol):\n",
        "    (rows, cols) = (len(board), len(board[0]))\n",
        "    dirNames = [ [\"up-left\"  ,   \"up\", \"up-right\"],\n",
        "                 [\"left\"     ,   \"\"  , \"right\"   ],\n",
        "                 [\"down-left\", \"down\", \"down-right\" ] ]\n",
        "    for i in range(len(word)):\n",
        "        row = startRow + i*drow\n",
        "        col = startCol + i*dcol\n",
        "        if ((row < 0) or (row >= rows) or # check if row exceeds the board\n",
        "            (col < 0) or (col >= cols) or # check if column exceeds the board\n",
        "            (board[row][col] != word[i])): # check if the character on board matches the character in the word\n",
        "            return None\n",
        "    return (word, (startRow, startCol), dirNames[drow+1][dcol+1])\n",
        "\n",
        "def testWordSearch():\n",
        "    board = [ [ 'd', 'o', 'g' ],\n",
        "              [ 't', 'a', 'c' ],\n",
        "              [ 'o', 'a', 't' ],\n",
        "              [ 'u', 'r', 'k' ],\n",
        "            ]\n",
        "    print(wordSearch(board, \"dog\")) # ('dog', (0, 0), 'right')\n",
        "    print(wordSearch(board, \"cat\")) # ('cat', (1, 2), 'left')\n",
        "    print(wordSearch(board, \"tad\")) # ('tad', (2, 2), 'up-left')\n",
        "    print(wordSearch(board, \"cow\")) # None\n",
        "\n",
        "testWordSearch()"
      ]
    },
    {
      "cell_type": "markdown",
      "metadata": {
        "id": "-leIUzjQe4Er"
      },
      "source": [
        "Another example of word search"
      ]
    },
    {
      "cell_type": "code",
      "execution_count": null,
      "metadata": {
        "id": "t5H6d4Hie2z0"
      },
      "outputs": [],
      "source": [
        "# This time with a slightly different handling of directions\n",
        "\n",
        "def wordSearch(board, word):\n",
        "    (rows, cols) = (len(board), len(board[0]))\n",
        "    for row in range(rows):\n",
        "        for col in range(cols):\n",
        "            result = wordSearchFromCell(board, word, row, col)\n",
        "            if (result != None):\n",
        "                return result\n",
        "    return None\n",
        "\n",
        "def wordSearchFromCell(board, word, startRow, startCol):\n",
        "    possibleDirections = 8 # 3^2 - 1\n",
        "    for dir in range(possibleDirections):\n",
        "        result = wordSearchFromCellInDirection(board, word,\n",
        "                                               startRow, startCol, dir)\n",
        "        if (result != None):\n",
        "            return result\n",
        "    return None\n",
        "\n",
        "def wordSearchFromCellInDirection(board, word, startRow, startCol, dir):\n",
        "    (rows, cols) = (len(board), len(board[0]))\n",
        "    dirs = [ (-1, -1), (-1, 0), (-1, +1),\n",
        "             ( 0, -1),          ( 0, +1),\n",
        "             (+1, -1), (+1, 0), (+1, +1) ]\n",
        "    dirNames = [ \"up-left\"  ,   \"up\", \"up-right\",\n",
        "                 \"left\"     ,         \"right\",\n",
        "                 \"down-left\", \"down\", \"down-right\" ]\n",
        "    (drow,dcol) = dirs[dir]    \n",
        "    for i in range(len(word)):\n",
        "        row = startRow + i*drow\n",
        "        col = startCol + i*dcol\n",
        "        if ((row < 0) or (row >= rows) or\n",
        "            (col < 0) or (col >= cols) or\n",
        "            (board[row][col] != word[i])):\n",
        "            return None\n",
        "    return (word, (startRow, startCol), dirNames[dir])\n",
        "\n",
        "def testWordSearch():\n",
        "    board = [ [ 'd', 'o', 'g' ],\n",
        "              [ 't', 'a', 'c' ],\n",
        "              [ 'o', 'a', 't' ],\n",
        "              [ 'u', 'r', 'k' ],\n",
        "            ]\n",
        "    print(wordSearch(board, \"dog\")) # ('dog', (0, 0), 'right')\n",
        "    print(wordSearch(board, \"cat\")) # ('cat', (1, 2), 'left')\n",
        "    print(wordSearch(board, \"tad\")) # ('tad', (2, 2), 'up-left')\n",
        "    print(wordSearch(board, \"cow\")) # None\n",
        "\n",
        "testWordSearch()"
      ]
    }
  ],
  "metadata": {
    "colab": {
      "collapsed_sections": [],
      "name": "demo8_code_tracing.ipynb",
      "provenance": []
    },
    "kernelspec": {
      "display_name": "Python 3",
      "name": "python3"
    },
    "language_info": {
      "codemirror_mode": {
        "name": "ipython",
        "version": 3
      },
      "file_extension": ".py",
      "mimetype": "text/x-python",
      "name": "python",
      "nbconvert_exporter": "python",
      "pygments_lexer": "ipython3",
      "version": "3.11.4"
    }
  },
  "nbformat": 4,
  "nbformat_minor": 0
}
