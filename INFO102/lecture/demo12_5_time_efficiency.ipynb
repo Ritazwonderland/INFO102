{
  "cells": [
    {
      "cell_type": "markdown",
      "metadata": {
        "id": "12aYEv_b_-hz"
      },
      "source": [
        "## 1. Big-O\n",
        "\n",
        "* Describes asymptotic behavior of a function\n",
        "* Informally: ignore all lower-order terms and constants\n",
        "* Formally: see (this wikipedia article)[https://en.wikipedia.org/wiki/Big_O_notation#Formal_definition]\n",
        "* A few examples:"
      ]
    },
    {
      "cell_type": "markdown",
      "metadata": {
        "id": "2GKyya8h_-h3"
      },
      "source": [
        "- 3$n^{2}$ - 2n + 25 is O($n^{2}$)\n",
        "- 30000$n^{2}$ + 2n - 25 is O($n^{2}$)\n",
        "- 0.00000000001$n^{2}$ + 123456789n is O($n^{2}$)\n",
        "- 10nlog17n + 25n - 17 is O(nlogn)"
      ]
    },
    {
      "cell_type": "markdown",
      "metadata": {
        "id": "5SKydisZ_-h3"
      },
      "source": [
        "## 2. Common Function Families\n",
        "\n",
        "1. Constant O(1)\n",
        "2. Logarithmic O(logn)\n",
        "3. Square-Root O(n0.5)\n",
        "4. Linear O(n)\n",
        "5. Linearithmic, Loglinear, or quasilinear O(nlogn)\n",
        "6. Quadratic O(n2)\n",
        "7. Exponential O(kn)"
      ]
    },
    {
      "cell_type": "markdown",
      "metadata": {
        "id": "Lujmu5r7_-h4"
      },
      "source": [
        "![The graph below compares the running times of various algorithms](https://science.slc.edu/~jmarshall/courses/2002/spring/cs50/BigO/running-times.gif)\n",
        "\n",
        "Linear -- O(n)\n",
        "Quadratic -- O(n2)\n",
        "Cubic -- O(n3)\n",
        "Logarithmic -- O(log n)\n",
        "Exponential -- O(2n)\n",
        "Square root -- O(sqrt n)\n",
        "\n"
      ]
    },
    {
      "cell_type": "markdown",
      "metadata": {
        "id": "54GEc9Pm_-h4"
      },
      "source": [
        "![The basic shape of a polynomial function is determined by the highest valued exponent in the polynomial](https://science.slc.edu/~jmarshall/courses/2002/spring/cs50/BigO/polynomials.gif)"
      ]
    },
    {
      "cell_type": "markdown",
      "metadata": {
        "id": "76zE74WV_-h4"
      },
      "source": [
        "The basic shape of a polynomial function is determined by the highest valued exponent in the polynomial (called the order of the polynomial)."
      ]
    },
    {
      "cell_type": "markdown",
      "metadata": {
        "id": "GGOgzpXc_-h5"
      },
      "source": [
        "## 3. Efficiency\n",
        "\n",
        "When we say the program runs in O(f(N)), we mean...\n",
        "1. N is the size of our input\n",
        "* For a string s, N = len(s)\n",
        "* For a list L, N = len(L) (also true for sets, dictionaries, and other collections)\n",
        "* For an integer n, N = numberOfDigits(n) = logb(n), so n = bN (where b is the base, and you can use any base b >= 2).\n",
        "* In the literature, N is often written in lowercase n, but we use that often to represent an integer n, which is different from the size of that integer. So in 102, we use uppercase N for the size of the input.\n",
        "2. f(N) = resource consumption of our program\n",
        "* Resource can be time, space, bandwidth, ...\n",
        "* For 102, we mainly care about time\n",
        "3. For time, we usually measure algorithmic steps rather than elapsed time (These share the same big-oh, but algorithmic steps are easier to precisely describe and reason over)\n",
        "4. Note that you can measure worst-case or average case, or even other cases such as best case (which often is trivial to compute and not very useful in practice). For 102, we often omit this term (which is a notable simplification that you will not see in future courses), and we nearly always mean worst-case, which is quite useful and generally easier to compute than average-case.\n",
        "* Count steps in a written algorithm, or comparisons and swaps in a list, etc\n",
        "* Can verify by timing your code's execution with: time.time()"
      ]
    },
    {
      "cell_type": "markdown",
      "metadata": {
        "id": "YvmfILau_-h5"
      },
      "source": [
        "## 4. The Big Idea\n",
        "\n",
        "1. Each function family grows much faster than the one before it!\n",
        "2. And: on modern computers, any function family is usually efficient enough on small n, so we only care about large n\n",
        "3. Constants do not matter nearly as much as function families\n",
        "4. Practically...\n",
        "* Do not prematurely or overly optimize your code\n",
        "* Instead: think **algorithmically**!!!"
      ]
    },
    {
      "cell_type": "markdown",
      "metadata": {
        "id": "EiQ4g8V8_-h5"
      },
      "source": [
        "## 5. Examples\n",
        "\n",
        "### 1. Python Builtins\n",
        "\n",
        "Here we use S for a set and L for a list:\n",
        "1. Some are O(1), including len(L), (val in S), L.append(item)\n",
        "2. Some are O(N), including max(L), min(L), (val in L), L.count(val), set(L)\n",
        "3. Sorting is O(NlogN)\n",
        "4. Optional: For a more complete list, see [here](https://wiki.python.org/moin/TimeComplexity)"
      ]
    },
    {
      "cell_type": "markdown",
      "metadata": {
        "id": "zEIGXyno_-h6"
      },
      "source": [
        "### 2. isPrime vs fasterISPrime\n",
        "1. From here, isPrime tests O(n) values and fasterIsPrime tests only O(n0.5) values.\n",
        "2. So fasterIsPrime is much faster.\n",
        "3. Considerably faster primality tests exist. For example, the [AKS Primality Test](https://en.wikipedia.org/wiki/AKS_primality_test)."
      ]
    },
    {
      "cell_type": "markdown",
      "metadata": {
        "id": "Con0LOWr_-h6"
      },
      "source": [
        "### 3. Linear Search vs Binary Search\n",
        "\n",
        "1. Linear search\n",
        "* Basic idea: check each element in turn\n",
        "* Use: find an element in an unsorted list\n",
        "* Cost: O(N)\n",
        "2. Binary search\n",
        "* Basic idea: in a **sorted list**, check middle element, eliminate half on each pass\n",
        "* Uses:\n",
        "    * Find an element in a sorted list\n",
        "    * Number-guessing game (eg: guess a random number between 1 and 1000)\n",
        "    * Find a root (zero) of a function with bisection (adapted binary search)\n",
        "* Cost: O(logN)"
      ]
    },
    {
      "cell_type": "markdown",
      "metadata": {
        "id": "FsQfFSPW_-h6"
      },
      "source": [
        "### 4. Sorting and other algorithms\n",
        "\n",
        "Check out other sorting methods and figure out the Big-O for other sorting methods such as Bubble Sort or Quick Sort."
      ]
    },
    {
      "cell_type": "markdown",
      "metadata": {
        "id": "UljQp0rUKo7U"
      },
      "source": [
        "You Do:"
      ]
    },
    {
      "cell_type": "code",
      "execution_count": null,
      "metadata": {
        "id": "F5sXXNpKKm94"
      },
      "outputs": [],
      "source": [
        "def recursiveFun2(n):\n",
        "    if (n <= 0):\n",
        "        return 1\n",
        "    else:\n",
        "        return 1 + recursiveFun2(n-5)"
      ]
    },
    {
      "cell_type": "code",
      "execution_count": null,
      "metadata": {
        "id": "dNGFOEEfKyRX"
      },
      "outputs": [],
      "source": [
        "def recursiveFun3(n):\n",
        "    if (n <= 0):\n",
        "        return 1\n",
        "    else:\n",
        "        return 1 + recursiveFun3(n/5)"
      ]
    },
    {
      "cell_type": "markdown",
      "metadata": {
        "id": "pFHUQXJ5FQON"
      },
      "source": [
        "## You Do: Trapping rain water problem\n",
        "\n",
        "Given n non-negative integers representing an elevation map where the width of each bar is 1, compute how much water it can be trapped after raining."
      ]
    },
    {
      "cell_type": "markdown",
      "metadata": {
        "id": "UxKy5O9zGBux"
      },
      "source": [
        "![rain_trapping](https://afteracademy.com/images/trapping-rain-water.png)"
      ]
    },
    {
      "cell_type": "code",
      "execution_count": 1,
      "metadata": {
        "id": "zopVavILFe-l"
      },
      "outputs": [
        {
          "name": "stdout",
          "output_type": "stream",
          "text": [
            "Total rainwater trapped: 6\n",
            "Total rainwater trapped: 6\n"
          ]
        }
      ],
      "source": [
        "def trapRainwater(heights):\n",
        "    if not heights:\n",
        "        return 0\n",
        "\n",
        "    n = len(heights)\n",
        "    left_max = [0] * n\n",
        "    right_max = [0] * n\n",
        "    water_trapped = 0\n",
        "\n",
        "    # Fill left_max list\n",
        "    left_max[0] = heights[0]\n",
        "    for i in range(1, n):\n",
        "        left_max[i] = max(heights[i], left_max[i - 1])\n",
        "\n",
        "    # Fill right_max list\n",
        "    right_max[n - 1] = heights[n - 1]\n",
        "    for i in range(n - 2, -1, -1):\n",
        "        right_max[i] = max(heights[i], right_max[i + 1])\n",
        "\n",
        "    # Calculate water trapped\n",
        "    for i in range(1, n - 1):\n",
        "        water_trapped += min(left_max[i], right_max[i]) - heights[i]\n",
        "\n",
        "    return water_trapped\n",
        "\n",
        "# Example usage\n",
        "heights = [0, 1, 0, 2, 1, 0, 1, 3, 2, 1, 2, 1]\n",
        "print(\"Total rainwater trapped:\", trapRainwater(heights))\n",
        "\n",
        "heights = [1,0,2,1,0,1,3,2,1,2,1]\n",
        "print(\"Total rainwater trapped:\", trapRainwater(heights))"
      ]
    },
    {
      "cell_type": "markdown",
      "metadata": {
        "id": "1lfM8jOYCJmt"
      },
      "source": [
        "## Challenge: What is the Big-O for the following code?"
      ]
    },
    {
      "cell_type": "code",
      "execution_count": 2,
      "metadata": {
        "id": "9JxLJfyO_-h7"
      },
      "outputs": [
        {
          "name": "stdout",
          "output_type": "stream",
          "text": [
            "Sorted array is: [-9, 0, 1, 2, 3, 5, 7, 10, 34]\n"
          ]
        }
      ],
      "source": [
        "def stoogeSort(arr, l, h):\n",
        "    if l >= h:\n",
        "        return\n",
        "\n",
        "    # If first element is smaller than the last, swap them\n",
        "    if arr[l] > arr[h]:\n",
        "        arr[l], arr[h] = arr[h], arr[l]\n",
        "\n",
        "    # If there are more than two elements in the array\n",
        "    if h-l+1 > 2:\n",
        "        t = (h-l+1) // 3\n",
        "\n",
        "        # Recursively sort first 2/3 elements\n",
        "        stoogeSort(arr, l, (h-t))\n",
        "\n",
        "        # Recursively sort last 2/3 elements\n",
        "        stoogeSort(arr, l+t, h)\n",
        "\n",
        "        # Recursively sort first 2/3 elements again\n",
        "        stoogeSort(arr, l, (h-t))\n",
        "\n",
        "    return arr\n",
        "\n",
        "# Example usage\n",
        "arr = [34, 2, 10, -9, 7, 5, 0, 1, 3]\n",
        "n = len(arr)\n",
        "stoogeSort(arr, 0, n-1)\n",
        "print(\"Sorted array is:\", arr)\n"
      ]
    }
  ],
  "metadata": {
    "colab": {
      "provenance": []
    },
    "kernelspec": {
      "display_name": "Python 3",
      "name": "python3"
    },
    "language_info": {
      "codemirror_mode": {
        "name": "ipython",
        "version": 3
      },
      "file_extension": ".py",
      "mimetype": "text/x-python",
      "name": "python",
      "nbconvert_exporter": "python",
      "pygments_lexer": "ipython3",
      "version": "3.11.4"
    }
  },
  "nbformat": 4,
  "nbformat_minor": 0
}
