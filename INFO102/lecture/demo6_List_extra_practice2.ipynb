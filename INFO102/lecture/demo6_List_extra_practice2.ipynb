{
 "cells": [
  {
   "cell_type": "markdown",
   "metadata": {},
   "source": [
    "## Is Rotation?\n",
    "\n",
    "Write the function isRotation(x, y) that takes two non-negative integers x and y, both guaranteed to not contain any 0's, and returns True if x is a rotation of the digits of y and False otherwise. For example, 3412 is a rotation of 1234. Any number is a rotation of itself. "
   ]
  },
  {
   "cell_type": "markdown",
   "metadata": {},
   "source": [
    "#### Step 1. Convert the integers to strings"
   ]
  },
  {
   "cell_type": "code",
   "execution_count": null,
   "metadata": {},
   "outputs": [],
   "source": [
    "## your code"
   ]
  },
  {
   "cell_type": "markdown",
   "metadata": {},
   "source": [
    "#### Step 2. Check if x and y have the same length; if not, return False immediately since one cannot be a rotation of the other if their lengths differ."
   ]
  },
  {
   "cell_type": "code",
   "execution_count": null,
   "metadata": {},
   "outputs": [],
   "source": [
    "## your code"
   ]
  },
  {
   "cell_type": "markdown",
   "metadata": {},
   "source": [
    "#### Step 3. Making a new string that contains all possible rotations of y."
   ]
  },
  {
   "cell_type": "code",
   "execution_count": null,
   "metadata": {},
   "outputs": [],
   "source": [
    "## your code"
   ]
  },
  {
   "cell_type": "markdown",
   "metadata": {},
   "source": [
    "#### Step 4. Check if the string of x is a possibility of the rotation of y. If it is, return True. Otherwise, return False"
   ]
  },
  {
   "cell_type": "code",
   "execution_count": null,
   "metadata": {},
   "outputs": [],
   "source": [
    "## your code"
   ]
  },
  {
   "cell_type": "code",
   "execution_count": 3,
   "metadata": {},
   "outputs": [
    {
     "name": "stdout",
     "output_type": "stream",
     "text": [
      "True\n",
      "False\n",
      "False\n",
      "True\n"
     ]
    }
   ],
   "source": [
    "def isRotation(x, y):\n",
    "\n",
    "    # Convert both numbers to strings\n",
    "    str_x = str(x)\n",
    "    str_y = str(y)\n",
    "    \n",
    "    # Check if the lengths are different, if they are, x cannot be a rotation of y\n",
    "    if len(str_x) != len(str_y):\n",
    "        return False\n",
    "    else:\n",
    "        return sorted(str_x) == sorted(str_y)\n",
    "\n",
    "# Example usage:\n",
    "print(isRotation(3412, 1234))  # Output: True\n",
    "print(isRotation(3412, 12345)) # Output: False\n",
    "print(isRotation(11234, 34121))# Output: True\n",
    "print(isRotation(123, 312))    # Output: True\n"
   ]
  },
  {
   "cell_type": "markdown",
   "metadata": {},
   "source": [
    "## applyCaesarCipher(message, shift)\n",
    "\n",
    "A Caesar Cipher is a simple cipher that works by shifting each letter in the given message by a certain number. For example, if we shift the message \"We Attack At Dawn\" by 1 letter, it becomes \"Xf Buubdl Bu Ebxo\"."
   ]
  },
  {
   "cell_type": "markdown",
   "metadata": {},
   "source": [
    "Write the function `applyCaesarCipher(message, shift)` which shifts the given message by shift letters. You are guaranteed that message is a string, and that shift is an integer between -25 and 25. Capital letters should stay capital and lowercase letters should stay lowercase, and non-letter characters should not be changed. Note that \"Z\" wraps around to \"A\". So, for example: "
   ]
  },
  {
   "cell_type": "code",
   "execution_count": null,
   "metadata": {},
   "outputs": [],
   "source": [
    "assert(applyCaesarCipher(\"We Attack At Dawn\", 1) == \"Xf Buubdl Bu Ebxo\")\n",
    "assert(applyCaesarCipher(\"zodiac\", -2) == \"xmbgya\")"
   ]
  },
  {
   "cell_type": "markdown",
   "metadata": {},
   "source": [
    "HINT: you should use `ord()` and `chr()` functions. The `ord` function is used to get the ASCII value of a character, and `chr` to convert an ASCII value back to a character. For 'A', the ASCII value is 65. For 'a', the value is 97."
   ]
  },
  {
   "cell_type": "markdown",
   "metadata": {},
   "source": [
    "Let us understand the problem. The Caesar Cipher is a type of substitution cipher in which each letter in the plaintext is 'shifted' a certain number of places down or up the alphabet. In this task, the function `applyCaesarCipher(message, shift)` will take a string message and an integer shift and return a new string where each letter is shifted by the shift value in the alphabet, wrapping around if necessary."
   ]
  },
  {
   "cell_type": "markdown",
   "metadata": {},
   "source": [
    "#### Step 1. Normalize the Shift:\n",
    "\n",
    "Since the alphabet has 26 letters, any shift that goes beyond 26 can be wrapped around. This is achieved by taking the modulo of the shift with 26."
   ]
  },
  {
   "cell_type": "code",
   "execution_count": null,
   "metadata": {},
   "outputs": [],
   "source": [
    "## your code"
   ]
  },
  {
   "cell_type": "markdown",
   "metadata": {},
   "source": [
    "#### Step 2. Process Each Character:\n",
    "\n",
    "The function will iterate through each character in the input message. For each character, determine whether it is an uppercase letter, a lowercase letter, or a non-letter character."
   ]
  },
  {
   "cell_type": "code",
   "execution_count": null,
   "metadata": {},
   "outputs": [],
   "source": [
    "## your code"
   ]
  },
  {
   "cell_type": "markdown",
   "metadata": {},
   "source": [
    "#### Step 3. Shift Letters:\n",
    "\n",
    "* For uppercase letters:\n",
    "        Convert the letter to its ASCII value using ord().\n",
    "        Normalize it to a 0-25 range by subtracting 65 (the ASCII value of 'A').\n",
    "        Add the shift value and take the modulo with 26 to wrap around if necessary.\n",
    "        Convert it back to an ASCII value by adding 65 and then to a character using chr().\n",
    "* For lowercase letters:\n",
    "        Similar steps are followed as with uppercase, using 97 (the ASCII value of 'a') for normalization.\n",
    "* For non-letters:\n",
    "        No changes"
   ]
  },
  {
   "cell_type": "code",
   "execution_count": null,
   "metadata": {},
   "outputs": [],
   "source": [
    "## your code"
   ]
  },
  {
   "cell_type": "markdown",
   "metadata": {},
   "source": [
    "#### Step 4. Reconstruct the Message:\n",
    "\n",
    "Combine the shifted (or unchanged) characters to form the encrypted message and return."
   ]
  },
  {
   "cell_type": "code",
   "execution_count": null,
   "metadata": {},
   "outputs": [],
   "source": [
    "## your code"
   ]
  },
  {
   "cell_type": "code",
   "execution_count": 1,
   "metadata": {},
   "outputs": [
    {
     "name": "stdout",
     "output_type": "stream",
     "text": [
      "Test applyCaesarCipher...Passed...\n"
     ]
    }
   ],
   "source": [
    "def applyCaesarCipher(message, shift):\n",
    "\n",
    "    # Make sure the shift is not greater than the length of the alphabet\n",
    "    shift = shift % 26\n",
    "    encrypted_message = []\n",
    "\n",
    "    # Iterate over each character in the message\n",
    "    for char in message:\n",
    "        # Check if the character is an uppercase letter\n",
    "        if char.isupper():\n",
    "            # Find the ASCII value for A, add the shift, then mod by 26 to wrap around\n",
    "            new_char = chr(((ord(char) - 65 + shift) % 26) + 65)\n",
    "            encrypted_message.append(new_char)\n",
    "        # Check if the character is a lowercase letter\n",
    "        elif char.islower():\n",
    "            # Find the ASCII value for a, add the shift, then mod by 26 to wrap around\n",
    "            new_char = chr(((ord(char) - 97 + shift) % 26) + 97)\n",
    "            encrypted_message.append(new_char)\n",
    "        else:\n",
    "            # If it's not a letter, leave it unchanged\n",
    "            encrypted_message.append(char)\n",
    "\n",
    "    # Join the list of characters into a string and return it\n",
    "    return ''.join(encrypted_message)\n",
    "\n",
    "# test\n",
    "def testApplyCaesarCipher():\n",
    "    print('Test applyCaesarCipher...', end=\"\")\n",
    "    assert(applyCaesarCipher(\"We Attack At Dawn\", 1) == \"Xf Buubdl Bu Ebxo\")\n",
    "    assert(applyCaesarCipher(\"zodiac\", -2) == \"xmbgya\")\n",
    "    print(\"Passed...\")\n",
    "\n",
    "testApplyCaesarCipher()"
   ]
  },
  {
   "cell_type": "markdown",
   "metadata": {},
   "source": [
    "## encodeRightLeftRouteCipher(message,rows)\n",
    "\n",
    "Background: A right-left route cipher is a fairly simple way to encrypt a message. It takes two values, some plaintext and a number of rows, and it first constructs a grid with that number of rows and the minimum number of columns required, writing the message in successive columns. For example, if the message is WEATTACKATDAWN, with 4 rows, the grid would be: \n",
    "\n",
    "```\n",
    "    W T A W\n",
    "    E A T N\n",
    "    A C D\n",
    "    T K A\n",
    "```\n",
    "\n"
   ]
  },
  {
   "cell_type": "markdown",
   "metadata": {},
   "source": [
    "We will assume the message only contains uppercase letters. We'll fill in the missing grid entries with lowercase letters starting from z and going in reverse (wrapping around if necessary), so we have: \n",
    "```\n",
    "    W T A W\n",
    "    E A T N\n",
    "    A C D z\n",
    "    T K A y\n",
    "```"
   ]
  },
  {
   "cell_type": "markdown",
   "metadata": {},
   "source": [
    "Next, we encrypt the text by reading alternating rows first to the right (\"WTAW\"), then to the left (\"NTAE\"), then back to the right (\"ACDz\"), and back to the left (\"yAKT\"), until we finish all rows. We precede these values with the number of rows itself in the string. So the encrypted value for the message WEATTACKATDAWN with 4 rows is \"4WTAWNTAEACDzyAKT\"."
   ]
  },
  {
   "cell_type": "markdown",
   "metadata": {},
   "source": [
    "With this in mind, write the function encodeRightLeftRouteCipher that takes an all-uppercase message and a positive integer number of rows, and returns the encoding as just described."
   ]
  },
  {
   "cell_type": "markdown",
   "metadata": {},
   "source": [
    "Here are a few more examples to consider: "
   ]
  },
  {
   "cell_type": "code",
   "execution_count": null,
   "metadata": {},
   "outputs": [],
   "source": [
    "assert(encodeRightLeftRouteCipher(\"WEATTACKATDAWN\",4) == \"4WTAWNTAEACDzyAKT\")\n",
    "assert(encodeRightLeftRouteCipher(\"WEATTACKATDAWN\",3) == \"3WTCTWNDKTEAAAAz\") \n",
    "assert(encodeRightLeftRouteCipher(\"WEATTACKATDAWN\",5) == \"5WADACEAKWNATTTz\") "
   ]
  },
  {
   "cell_type": "markdown",
   "metadata": {},
   "source": [
    "Be sure to take the time to fully understand each of those examples!"
   ]
  },
  {
   "cell_type": "markdown",
   "metadata": {},
   "source": [
    "### Break down the problem\n",
    "Hint: the grid described above is only conceptual. Your code will never actually construct a 2-dimensional grid (especially as you may not yet use lists!). Instead, you should use a clever scheme of indexing the message string where you translate a row and column into a single index into the message string."
   ]
  },
  {
   "cell_type": "markdown",
   "metadata": {},
   "source": [
    "More complete hint: let's do this example in a bit more detail, and we'll even provide an idea or two on how to simplify solving this: "
   ]
  },
  {
   "cell_type": "code",
   "execution_count": null,
   "metadata": {},
   "outputs": [],
   "source": [
    "assert(encodeRightLeftRouteCipher(\"WEATTACKATDAWN\",3) == \"3WTCTWNDKTEAAAAz\") "
   ]
  },
  {
   "cell_type": "markdown",
   "metadata": {},
   "source": [
    "#### Step 1. Find the dimensions of the conceptual 2d grid\n",
    "Since len('WEATTACKATDAWN') is 14, and we have 3 rows, we need math.ceil(14/3) or 5 columns.\n"
   ]
  },
  {
   "cell_type": "markdown",
   "metadata": {},
   "source": [
    "#### Step 2. Pad the string\n",
    "We need 3*5, or 15 letters. We have 14. We have to add one. So we now have 'WEATTACKATDAWNz'\n"
   ]
  },
  {
   "cell_type": "markdown",
   "metadata": {},
   "source": [
    "#### Step 3. Imagine the conceptual 2d grid\n",
    "We do not create this part. We just imagine it. But this is the 2d grid we imagine: \n",
    "```\n",
    "W T C T W\n",
    "E T K D N\n",
    "A A A A z\n",
    "```"
   ]
  },
  {
   "cell_type": "markdown",
   "metadata": {},
   "source": [
    "#### Step 4. Label your rows and cols\n",
    "To be sure we are visualizing the grid properly, let's add row and col labels, like so: \n",
    "```\n",
    "       col0  col1  col2  col3  col4\n",
    "row0:    W     T     C     T     W\n",
    "row1:    E     T     K     D     N\n",
    "row2:    A     A     A     A     z\n",
    "```"
   ]
  },
  {
   "cell_type": "markdown",
   "metadata": {},
   "source": [
    "#### Step 5. Label the padded string with row, col, and i\n",
    "Let's use these row and col labels, but write them over the padded string (instead of the conceptual 2d grid). We'll also include the index i, like so: \n",
    "```\n",
    "    row:  0  1  2  0  1  2  0  1  2  0  1  2  0  1  2\n",
    "    col:  0  0  0  1  1  1  2  2  2  3  3  3  4  4  4\n",
    "    i:    0  1  2  3  4  5  6  7  8  9 10 11 12 13 14\n",
    "          W  E  A  T  T  A  C  K  A  T  D  A  W  N  z\n",
    "```"
   ]
  },
  {
   "cell_type": "markdown",
   "metadata": {},
   "source": [
    "#### Step 6. Find a function f(row,col) --> i\n",
    "Look at the patterns in the row, col, and i in the table we just made. See if you can find a function f(row, col) that takes any row and col (in the conceptual 2d grid) and returns the corresponding index i (in the padded string). Also, name this function something better than f.\n",
    "* Hint: from the table above, we see that the K is in row 1 and column 2, and the K is at index 7 in the padded string, so... f(1,2) == 7\n",
    "* Hint: see how the row in the table above repeats: 0, 1, 2, 0, 1, 2,... What does this have to do with the fact that we have 3 total rows?\n",
    "\n"
   ]
  },
  {
   "cell_type": "markdown",
   "metadata": {},
   "source": [
    "#### Step 7. Now, traverse the 2d grid top-to-bottom, left-to-right\n",
    "This step is not required, but it is super helpful. As only a temporary measure, we will solve a slightly easier version of the problem: we will simply ignore that every other row goes right-to-left. We'll make every row go left-to-right just for now. So use two loops, one going over every row, and inside that, one going over every column. For each row,col pair, use your function f() that you just wrote (and renamed) to find the index in the padded string. Remember that this was the conceptual grid: \n",
    "```\n",
    "WTCTW\n",
    "ETKDN\n",
    "AAAAz\n",
    "```"
   ]
  },
  {
   "cell_type": "markdown",
   "metadata": {},
   "source": [
    "And so, when you are done with this step, you should have a string like this (which, again, is not the real solution, since we always go left-to-right):\n",
    "```\n",
    "WTCTWETKDNAAAAz\n",
    "```"
   ]
  },
  {
   "cell_type": "markdown",
   "metadata": {},
   "source": [
    "#### Step 8. Now alternate left-to-right and right-to-left\n",
    "Now make every-other-row go the other way. So the second row will change from ETKDN to NDKTE, like so:\n",
    "```\n",
    "WTCTWNDKTEAAAAz\n",
    "```"
   ]
  },
  {
   "cell_type": "markdown",
   "metadata": {},
   "source": [
    "#### Step 9. Add the rows as a prefix\n",
    "Easy enough:\n",
    "```\n",
    "3WTCTWNDKTEAAAAz\n",
    "``` "
   ]
  },
  {
   "cell_type": "markdown",
   "metadata": {},
   "source": [
    "#### Step 10. Return that string\n",
    "We are done. To remind ourselves, here was the test case: \n",
    "```\n",
    "assert(encodeRightLeftRouteCipher(\"WEATTACKATDAWN\",3) == \"3WTCTWNDKTEAAAAz\") \n",
    "```"
   ]
  },
  {
   "cell_type": "code",
   "execution_count": null,
   "metadata": {},
   "outputs": [],
   "source": []
  },
  {
   "cell_type": "code",
   "execution_count": 2,
   "metadata": {},
   "outputs": [
    {
     "name": "stdout",
     "output_type": "stream",
     "text": [
      "0\n"
     ]
    }
   ],
   "source": [
    "def sameIndex(l1, l2):\n",
    "    if len(l1) == 0 or len(l2) == 0:\n",
    "        return -1\n",
    "    else:\n",
    "        if l1[0] == l2[0]:\n",
    "            return 1 + sameIndex(l1[1:], l2[1:])\n",
    "        else:\n",
    "            return 0 + sameIndex(l1[1:], l2[1:])\n",
    "        \n",
    "print(sameIndex([2,2,3,4], [1, 3, 3, 5]))"
   ]
  }
 ],
 "metadata": {
  "kernelspec": {
   "display_name": "py39",
   "language": "python",
   "name": "python3"
  },
  "language_info": {
   "codemirror_mode": {
    "name": "ipython",
    "version": 3
   },
   "file_extension": ".py",
   "mimetype": "text/x-python",
   "name": "python",
   "nbconvert_exporter": "python",
   "pygments_lexer": "ipython3",
   "version": "3.11.4"
  }
 },
 "nbformat": 4,
 "nbformat_minor": 2
}
