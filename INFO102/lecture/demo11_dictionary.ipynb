{
 "cells": [
  {
   "cell_type": "markdown",
   "metadata": {},
   "source": [
    "## 1. Quick Example"
   ]
  },
  {
   "cell_type": "code",
   "execution_count": 16,
   "metadata": {},
   "outputs": [
    {
     "name": "stdout",
     "output_type": "stream",
     "text": [
      "Enter a city name --> chicago\n",
      "Chicago is in IL\n"
     ]
    }
   ],
   "source": [
    "# A dictionary is a data structure that maps keys to values in the same way\n",
    "# that a list maps indexes to values. However, keys can be any immutable value!\n",
    "\n",
    "stateMap = { 'pittsburgh':'PA', 'chicago':'IL', 'seattle':'WA', 'boston':'MA' }\n",
    "city = input(\"Enter a city name --> \").lower()\n",
    "if (city in stateMap):\n",
    "    print(city.title(), \"is in\", stateMap[city])\n",
    "else:\n",
    "    print(\"Sorry, never heard of it.\")"
   ]
  },
  {
   "cell_type": "markdown",
   "metadata": {},
   "source": [
    "Another example"
   ]
  },
  {
   "cell_type": "code",
   "execution_count": 2,
   "metadata": {},
   "outputs": [
    {
     "name": "stdout",
     "output_type": "stream",
     "text": [
      "Enter an integer (0 to end) --> 3\n",
      "I have seen 3 a total of 1 time(s)\n",
      "Enter an integer (0 to end) --> 5\n",
      "I have seen 5 a total of 1 time(s)\n",
      "Enter an integer (0 to end) --> 3\n",
      "I have seen 3 a total of 2 time(s)\n",
      "Enter an integer (0 to end) --> 2\n",
      "I have seen 2 a total of 1 time(s)\n",
      "Enter an integer (0 to end) --> 3\n",
      "I have seen 3 a total of 3 time(s)\n",
      "Enter an integer (0 to end) --> 0\n",
      "Done, counts: {3: 3, 5: 1, 2: 1}\n"
     ]
    }
   ],
   "source": [
    "counts = dict()\n",
    "while True:\n",
    "    n = int(input(\"Enter an integer (0 to end) --> \"))\n",
    "    if (n == 0): break\n",
    "    if (n in counts):\n",
    "        counts[n] += 1\n",
    "    else:\n",
    "        counts[n] = 1\n",
    "    print(\"I have seen\", n, \"a total of\", counts[n], \"time(s)\")\n",
    "print(\"Done, counts:\", counts)"
   ]
  },
  {
   "cell_type": "markdown",
   "metadata": {},
   "source": [
    "## 2. Creating Dictionaries"
   ]
  },
  {
   "cell_type": "markdown",
   "metadata": {},
   "source": [
    "2.1 Create an empty dictionary"
   ]
  },
  {
   "cell_type": "code",
   "execution_count": 3,
   "metadata": {},
   "outputs": [
    {
     "name": "stdout",
     "output_type": "stream",
     "text": [
      "{}\n",
      "{}\n"
     ]
    }
   ],
   "source": [
    "d = dict()\n",
    "print(d)    # prints {}\n",
    "\n",
    "# We can also use empty braces\n",
    "d = { }\n",
    "print(d)    # prints {}"
   ]
  },
  {
   "cell_type": "markdown",
   "metadata": {},
   "source": [
    "2.2 Create a dictionary from a list of (key, value) pairs"
   ]
  },
  {
   "cell_type": "code",
   "execution_count": 1,
   "metadata": {},
   "outputs": [
    {
     "name": "stdout",
     "output_type": "stream",
     "text": [
      "{'cow': 5, 'dog': 98, 'cat': 1}\n"
     ]
    }
   ],
   "source": [
    "pairs = [(\"cow\", 5), (\"dog\", 98), (\"cat\", 1)] \n",
    "# pairs = [(\"cow\", 5), (\"dog\", [98, 2]), (\"cat\", 1)]\n",
    "# pairs = [(5, \"cow\"), (98, \"dog\"), (1, \"cat\")]\n",
    "\n",
    "d = dict(pairs)\n",
    "print(d)    # unpredictable order!"
   ]
  },
  {
   "cell_type": "markdown",
   "metadata": {},
   "source": [
    "Statically-allocate a dictionary"
   ]
  },
  {
   "cell_type": "code",
   "execution_count": 27,
   "metadata": {},
   "outputs": [
    {
     "name": "stdout",
     "output_type": "stream",
     "text": [
      "{'cow': 5, 'dog': 98, 'cat': 1}\n"
     ]
    }
   ],
   "source": [
    "d = { \"cow\":5, \"dog\":98, \"cat\":1 }\n",
    "print(d)    # ditto!"
   ]
  },
  {
   "cell_type": "markdown",
   "metadata": {},
   "source": [
    "## 3. Using Dictionaries"
   ]
  },
  {
   "cell_type": "code",
   "execution_count": 28,
   "metadata": {},
   "outputs": [
    {
     "name": "stdout",
     "output_type": "stream",
     "text": [
      "3\n",
      "True\n",
      "False\n",
      "True\n",
      "False\n",
      "1\n",
      "42\n",
      "a 1\n",
      "b 2\n",
      "c 3\n"
     ]
    }
   ],
   "source": [
    "# We can interact with dictionaries in a similar way to lists/sets\n",
    "d = { \"a\" : 1, \"b\" : 2, \"c\" : 3 }\n",
    "\n",
    "print(len(d)) # prints 3, the number of key-value pairs\n",
    "\n",
    "print(\"a\" in d) # prints True\n",
    "print(2 in d) # prints False - we check the keys, not the values\n",
    "print(2 not in d) # prints True\n",
    "print(\"a\" not in d) # prints False\n",
    "\n",
    "print(d[\"a\"]) # finds the value associated with the given key. Crashes if the key is not in d\n",
    "print(d.get(\"z\", 42)) # finds the value of the key if the key is in the dictionary,\n",
    "# or returns the second (default) value if the key is not in d\n",
    "\n",
    "d[\"e\"] = \"wow\" # adds a new key-value pair to the dictionary, or updates the value of a current key\n",
    "del d[\"e\"] # removes the key-value pair specified from the dictionary. Crashes if the key is not in d\n",
    "\n",
    "for key in d:\n",
    "    print(key, d[key]) # we can iterate over the keys, then print out the keys or corresponding values"
   ]
  },
  {
   "cell_type": "markdown",
   "metadata": {},
   "source": [
    "## 4. Properties of Dictionaries\n"
   ]
  },
  {
   "cell_type": "markdown",
   "metadata": {},
   "source": [
    "1. Dictionaries Map Keys to Values"
   ]
  },
  {
   "cell_type": "code",
   "execution_count": 7,
   "metadata": {},
   "outputs": [
    {
     "name": "stdout",
     "output_type": "stream",
     "text": [
      "38\n"
     ]
    }
   ],
   "source": [
    "ages = dict()\n",
    "key = \"fred\"\n",
    "value = 38\n",
    "ages[key] = value  # \"fred\" is the key, 38 is the value\n",
    "print(ages[key])"
   ]
  },
  {
   "cell_type": "markdown",
   "metadata": {},
   "source": [
    "2. Keys are Sets"
   ]
  },
  {
   "cell_type": "markdown",
   "metadata": {},
   "source": [
    "* Keys are unordered"
   ]
  },
  {
   "cell_type": "code",
   "execution_count": 9,
   "metadata": {},
   "outputs": [
    {
     "name": "stdout",
     "output_type": "stream",
     "text": [
      "{2: 100, 4: 200, 8: 300}\n"
     ]
    }
   ],
   "source": [
    "d = dict()\n",
    "d[2] = 100\n",
    "d[4] = 200\n",
    "d[8] = 300\n",
    "print(d)  # unpredictable order"
   ]
  },
  {
   "cell_type": "markdown",
   "metadata": {},
   "source": [
    "* Keys are unique"
   ]
  },
  {
   "cell_type": "code",
   "execution_count": 10,
   "metadata": {},
   "outputs": [
    {
     "name": "stdout",
     "output_type": "stream",
     "text": [
      "{2: 400}\n"
     ]
    }
   ],
   "source": [
    "d = dict()\n",
    "d[2] = 100\n",
    "d[2] = 200\n",
    "d[2] = 400\n",
    "print(d)  # { 2:400 }"
   ]
  },
  {
   "cell_type": "markdown",
   "metadata": {},
   "source": [
    "* Keys must be immutable"
   ]
  },
  {
   "cell_type": "code",
   "execution_count": 11,
   "metadata": {},
   "outputs": [
    {
     "ename": "TypeError",
     "evalue": "unhashable type: 'list'",
     "output_type": "error",
     "traceback": [
      "\u001b[1;31m---------------------------------------------------------------------------\u001b[0m",
      "\u001b[1;31mTypeError\u001b[0m                                 Traceback (most recent call last)",
      "\u001b[1;32m<ipython-input-11-fb46113824e1>\u001b[0m in \u001b[0;36m<module>\u001b[1;34m\u001b[0m\n\u001b[0;32m      1\u001b[0m \u001b[0md\u001b[0m \u001b[1;33m=\u001b[0m \u001b[0mdict\u001b[0m\u001b[1;33m(\u001b[0m\u001b[1;33m)\u001b[0m\u001b[1;33m\u001b[0m\u001b[1;33m\u001b[0m\u001b[0m\n\u001b[0;32m      2\u001b[0m \u001b[0ma\u001b[0m \u001b[1;33m=\u001b[0m \u001b[1;33m[\u001b[0m\u001b[1;36m1\u001b[0m\u001b[1;33m]\u001b[0m \u001b[1;31m# lists are mutable, so...\u001b[0m\u001b[1;33m\u001b[0m\u001b[1;33m\u001b[0m\u001b[0m\n\u001b[1;32m----> 3\u001b[1;33m \u001b[0md\u001b[0m\u001b[1;33m[\u001b[0m\u001b[0ma\u001b[0m\u001b[1;33m]\u001b[0m \u001b[1;33m=\u001b[0m \u001b[1;36m42\u001b[0m \u001b[1;31m# Error: unhashable type: 'list'\u001b[0m\u001b[1;33m\u001b[0m\u001b[1;33m\u001b[0m\u001b[0m\n\u001b[0m",
      "\u001b[1;31mTypeError\u001b[0m: unhashable type: 'list'"
     ]
    }
   ],
   "source": [
    "d = dict()\n",
    "a = [1] # lists are mutable, so...\n",
    "d[a] = 42 # Error: unhashable type: 'list'"
   ]
  },
  {
   "cell_type": "markdown",
   "metadata": {},
   "source": [
    "3. Values are Unrestricted"
   ]
  },
  {
   "cell_type": "code",
   "execution_count": 12,
   "metadata": {},
   "outputs": [
    {
     "name": "stdout",
     "output_type": "stream",
     "text": [
      "[1, 2]\n",
      "[1, 2, 3]\n"
     ]
    },
    {
     "ename": "TypeError",
     "evalue": "unhashable type: 'list'",
     "output_type": "error",
     "traceback": [
      "\u001b[1;31m---------------------------------------------------------------------------\u001b[0m",
      "\u001b[1;31mTypeError\u001b[0m                                 Traceback (most recent call last)",
      "\u001b[1;32m<ipython-input-12-1d1edb8a612f>\u001b[0m in \u001b[0;36m<module>\u001b[1;34m\u001b[0m\n\u001b[0;32m      8\u001b[0m \u001b[1;33m\u001b[0m\u001b[0m\n\u001b[0;32m      9\u001b[0m \u001b[1;31m# but keys may not be mutable\u001b[0m\u001b[1;33m\u001b[0m\u001b[1;33m\u001b[0m\u001b[1;33m\u001b[0m\u001b[0m\n\u001b[1;32m---> 10\u001b[1;33m \u001b[0md\u001b[0m\u001b[1;33m[\u001b[0m\u001b[0ma\u001b[0m\u001b[1;33m]\u001b[0m \u001b[1;33m=\u001b[0m \u001b[1;36m42\u001b[0m       \u001b[1;31m# TypeError: unhashable type: 'list'\u001b[0m\u001b[1;33m\u001b[0m\u001b[1;33m\u001b[0m\u001b[0m\n\u001b[0m",
      "\u001b[1;31mTypeError\u001b[0m: unhashable type: 'list'"
     ]
    }
   ],
   "source": [
    "# values may be mutable\n",
    "d = dict()\n",
    "a = [1,2]\n",
    "d[\"fred\"] = a\n",
    "print(d[\"fred\"])\n",
    "a += [3]\n",
    "print(d[\"fred\"]) # sees change in a!\n",
    "\n",
    "# but keys may not be mutable\n",
    "d[a] = 42       # TypeError: unhashable type: 'list'"
   ]
  },
  {
   "cell_type": "markdown",
   "metadata": {},
   "source": [
    "4. Dictionaries are Very Efficient\n",
    "\n",
    "As mentioned above, a dictionary's keys are stored as a set. This means that finding where a key is stored takes constant time. This lets us look up a dictionary's value based on a key in constant time too!"
   ]
  },
  {
   "cell_type": "markdown",
   "metadata": {},
   "source": [
    "## 5. Some Worked Examples Using Dictionaries"
   ]
  },
  {
   "cell_type": "markdown",
   "metadata": {},
   "source": [
    "1. isAnagram(s1, s2)\n",
    "\n",
    "Recall previous example. "
   ]
  },
  {
   "cell_type": "code",
   "execution_count": 13,
   "metadata": {},
   "outputs": [
    {
     "name": "stdout",
     "output_type": "stream",
     "text": [
      "Testing isAnagram()...Passed!\n"
     ]
    }
   ],
   "source": [
    "def letterCounts(s):\n",
    "    counts = [0] * 26\n",
    "    for ch in s.upper():\n",
    "        if ((ch >= \"A\") and (ch <= \"Z\")):\n",
    "            counts[ord(ch) - ord(\"A\")] += 1\n",
    "    return counts\n",
    "\n",
    "def isAnagram(s1, s2):\n",
    "    # First approach: same #'s of each letter\n",
    "    return (letterCounts(s1) == letterCounts(s2))\n",
    "\n",
    "def isAnagram(s1, s2):\n",
    "    # Second approach: sorted strings must match!\n",
    "    return sorted(list(s1.upper())) == sorted(list(s2.upper()))\n",
    "\n",
    "def testIsAnagram():\n",
    "    print(\"Testing isAnagram()...\", end=\"\")\n",
    "    assert(isAnagram(\"\", \"\") == True)\n",
    "    assert(isAnagram(\"abCdabCd\", \"abcdabcd\") == True)\n",
    "    assert(isAnagram(\"abcdaBcD\", \"AAbbcddc\") == True)\n",
    "    assert(isAnagram(\"abcdaabcd\", \"aabbcddcb\") == False)\n",
    "    print(\"Passed!\")\n",
    "\n",
    "testIsAnagram()"
   ]
  },
  {
   "cell_type": "code",
   "execution_count": 14,
   "metadata": {},
   "outputs": [
    {
     "name": "stdout",
     "output_type": "stream",
     "text": [
      "Testing isAnagram()...Passed!\n"
     ]
    }
   ],
   "source": [
    "## Using dictionaries instead\n",
    "\n",
    "from collections import defaultdict\n",
    "\n",
    "#: Option 1: initializing d[key] to 0:\n",
    "def letterCounts(s):\n",
    "    counts = dict()\n",
    "    for ch in s.upper():\n",
    "        if ch.isalpha():\n",
    "            if ch not in counts:\n",
    "                counts[ch] = 0\n",
    "            counts[ch] += 1\n",
    "    return counts\n",
    "\n",
    "# Option 2: using d.get(key, defaultValue):\n",
    "def letterCounts(s):\n",
    "    counts = dict()\n",
    "    for ch in s.upper():\n",
    "        if ch.isalpha():\n",
    "            counts[ch] = counts.get(ch, 0) + 1\n",
    "    return counts\n",
    "\n",
    "# Option 3: using defaultdict(lambda: defaultValue)\n",
    "#    Note that defaultdict is not part of the\n",
    "#    required 112 subset, but it is very handy.\n",
    "def letterCounts(s):\n",
    "    counts = defaultdict(lambda: 0)\n",
    "    for ch in s.upper():\n",
    "        if ch.isalpha():\n",
    "            counts[ch] += 1\n",
    "    return counts\n",
    "\n",
    "# Regardless, this makes isAnagram clear and efficient:\n",
    "def isAnagram(s1, s2):\n",
    "    return (letterCounts(s1) == letterCounts(s2))\n",
    "\n",
    "def testIsAnagram():\n",
    "    print(\"Testing isAnagram()...\", end=\"\")\n",
    "    assert(isAnagram(\"\", \"\") == True)\n",
    "    assert(isAnagram(\"abCdabCd\", \"abcdabcd\") == True)\n",
    "    assert(isAnagram(\"abcdaBcD\", \"AAbbcddc\") == True)\n",
    "    assert(isAnagram(\"abcdaabcd\", \"aabbcddcb\") == False)\n",
    "    print(\"Passed!\")\n",
    "\n",
    "testIsAnagram()"
   ]
  },
  {
   "cell_type": "markdown",
   "metadata": {},
   "source": [
    "2. mostFrequent(L)"
   ]
  },
  {
   "cell_type": "code",
   "execution_count": 15,
   "metadata": {},
   "outputs": [
    {
     "name": "stdout",
     "output_type": "stream",
     "text": [
      "Testing mostFrequent()... Passed!\n"
     ]
    }
   ],
   "source": [
    "def mostFrequent(L):\n",
    "    # Return most frequent element in L, resolving ties arbitrarily.\n",
    "    maxValue = None\n",
    "    maxCount = 0\n",
    "    counts = dict()\n",
    "    for element in L:\n",
    "        count = 1 + counts.get(element, 0)\n",
    "        counts[element] = count\n",
    "        if (count > maxCount):\n",
    "            maxCount = count\n",
    "            maxValue = element\n",
    "    return maxValue\n",
    "\n",
    "def testMostFrequent():\n",
    "    print(\"Testing mostFrequent()... \", end=\"\")\n",
    "    assert(mostFrequent([2,5,3,4,6,4,2,4,5]) == 4)\n",
    "    assert(mostFrequent([2,3,4,3,5,3,6,3,7]) == 3)\n",
    "    assert(mostFrequent([42]) == 42)\n",
    "    assert(mostFrequent([]) == None)\n",
    "    print(\"Passed!\")\n",
    "\n",
    "testMostFrequent()"
   ]
  }
 ],
 "metadata": {
  "kernelspec": {
   "display_name": "Python 3",
   "language": "python",
   "name": "python3"
  },
  "language_info": {
   "codemirror_mode": {
    "name": "ipython",
    "version": 3
   },
   "file_extension": ".py",
   "mimetype": "text/x-python",
   "name": "python",
   "nbconvert_exporter": "python",
   "pygments_lexer": "ipython3",
   "version": "3.11.4"
  }
 },
 "nbformat": 4,
 "nbformat_minor": 4
}
