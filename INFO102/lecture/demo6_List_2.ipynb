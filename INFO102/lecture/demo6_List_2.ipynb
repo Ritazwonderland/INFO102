{
  "cells": [
    {
      "cell_type": "markdown",
      "metadata": {
        "id": "HCAL2__WotxD"
      },
      "source": [
        "# 2D List Continue"
      ]
    },
    {
      "cell_type": "markdown",
      "metadata": {
        "id": "DPs6sgDaotxG"
      },
      "source": [
        "## 1. Print 2d List"
      ]
    },
    {
      "cell_type": "code",
      "execution_count": 1,
      "metadata": {
        "id": "Y__MJqjsotxG"
      },
      "outputs": [
        {
          "name": "stdout",
          "output_type": "stream",
          "text": [
            "[\n",
            " [ 1, 23,  'a'          ],\n",
            " [ 4,  5, 6789, 10, 100 ]\n",
            "]\n"
          ]
        }
      ],
      "source": [
        "# Here are two helpful functions:\n",
        "#    repr2dList(L): returns a nicely-formatted multiline string, and\n",
        "#    print2dList(L): prints a 2d list in that nicely-formatted way\n",
        "\n",
        "#######################################\n",
        "\n",
        "def repr2dList(L):\n",
        "    if (L == []): return '[]'\n",
        "    output = [ ]\n",
        "    rows = len(L)\n",
        "    cols = max([len(L[row]) for row in range(rows)])\n",
        "    M = [['']*cols for row in range(rows)]\n",
        "    for row in range(rows):\n",
        "        for col in range(len(L[row])):\n",
        "            M[row][col] = repr(L[row][col])\n",
        "    colWidths = [0] * cols\n",
        "    for col in range(cols):\n",
        "        colWidths[col] = max([len(M[row][col]) for row in range(rows)])\n",
        "    output.append('[\\n')\n",
        "    for row in range(rows):\n",
        "        output.append(' [ ')\n",
        "        for col in range(cols):\n",
        "            if (col > 0):\n",
        "                output.append(', ' if col < len(L[row]) else '  ')\n",
        "            output.append(M[row][col].rjust(colWidths[col]))\n",
        "        output.append((' ],' if row < rows-1 else ' ]') + '\\n')\n",
        "    output.append(']')\n",
        "    return ''.join(output)\n",
        "\n",
        "def print2dList(L):\n",
        "    print(repr2dList(L))\n",
        "\n",
        "#######################################\n",
        "\n",
        "# Let's give the new function a try!\n",
        "L = [ [ 1, 23, 'a' ] , [ 4, 5, 6789, 10, 100 ] ]\n",
        "\n",
        "assert(repr2dList(L) == '''\\\n",
        "[\n",
        " [ 1, 23,  'a'          ],\n",
        " [ 4,  5, 6789, 10, 100 ]\n",
        "]''')\n",
        "\n",
        "print2dList(L)"
      ]
    },
    {
      "cell_type": "markdown",
      "metadata": {
        "id": "KF4jSgQAotxH"
      },
      "source": [
        "A fancier version:"
      ]
    },
    {
      "cell_type": "code",
      "execution_count": 2,
      "metadata": {
        "id": "XPgjhL_totxI"
      },
      "outputs": [
        {
          "name": "stdout",
          "output_type": "stream",
          "text": [
            "\n",
            "          col=0    col=1    col=2   \n",
            "       |--------|--------|--------|\n",
            "row=0  |   1    | -1023  |   3    | \n",
            "       |--------|--------|--------|\n",
            "row=1  |   4    |   5    |  678   | \n",
            "       |--------|--------|--------|\n",
            "\n",
            "\n",
            "            col=0         col=1         col=2         col=3         col=4      \n",
            "       |-------------|-------------|-------------|-------------|-------------|\n",
            "row=0  |     123     |     4567    |    891011   | ✖✖✖✖✖✖✖✖✖✖✖ | ✖✖✖✖✖✖✖✖✖✖✖ | \n",
            "       |-------------|-------------|-------------|-------------|-------------|\n",
            "row=1  |    567890   |    'ABC'    | ✖✖✖✖✖✖✖✖✖✖✖ | ✖✖✖✖✖✖✖✖✖✖✖ | ✖✖✖✖✖✖✖✖✖✖✖ | \n",
            "       |-------------|-------------|-------------|-------------|-------------|\n",
            "row=2  |  'Amazing!' |     True    |      ''     |    -3.14    |     None    | \n",
            "       |-------------|-------------|-------------|-------------|-------------|\n",
            "\n"
          ]
        }
      ],
      "source": [
        "# Helper function for print2dList.\n",
        "# This finds the maximum length of the string\n",
        "# representation of any item in the 2d list\n",
        "def maxItemLength(a):\n",
        "    maxLen = 0\n",
        "    for row in range(len(a)):\n",
        "        for col in range(len(a[row])):\n",
        "            maxLen = max(maxLen, len(repr(a[row][col])))\n",
        "    return maxLen\n",
        "\n",
        "def print2dList(a):\n",
        "    if a == []:\n",
        "        print([])\n",
        "        return\n",
        "    print()\n",
        "    rows, cols = len(a), len(a[0])\n",
        "    maxCols = max([len(row) for row in a])\n",
        "    fieldWidth = max(maxItemLength(a), len(f'col={maxCols-1}'))\n",
        "    rowLabelSize = 5 + len(str(rows-1))\n",
        "    rowPrefix = ' '*rowLabelSize+' '\n",
        "    rowSeparator = rowPrefix + '|' + ('-'*(fieldWidth+3) + '|')*maxCols\n",
        "    print(rowPrefix, end='  ')\n",
        "    # Prints the column labels centered\n",
        "    for col in range(maxCols):\n",
        "        print(f'col={col}'.center(fieldWidth+2), end='  ')\n",
        "    print('\\n' + rowSeparator)\n",
        "    for row in range(rows):\n",
        "        # Prints the row labels\n",
        "        print(f'row={row}'.center(rowLabelSize), end=' | ')\n",
        "        # Prints each item of the row flushed-right but the same width\n",
        "        for col in range(len(a[row])):\n",
        "            print(repr(a[row][col]).center(fieldWidth+1), end=' | ')\n",
        "        # Prints out missing cells in each column in case the list is ragged\n",
        "        missingCellChar = chr(10006)\n",
        "        for col in range(len(a[row]), maxCols):\n",
        "            print(missingCellChar*(fieldWidth+1), end=' | ')\n",
        "        print('\\n' + rowSeparator)\n",
        "    print()\n",
        "\n",
        "# Let's give the new function a try!\n",
        "a = [ [ 1, -1023, 3 ] , [ 4, 5, 678 ] ]\n",
        "b = [ [123, 4567, 891011], [567890, 'ABC'], ['Amazing!', True, '', -3.14, None]]\n",
        "print2dList(a)\n",
        "print2dList(b)"
      ]
    },
    {
      "cell_type": "markdown",
      "metadata": {
        "id": "YwX1TkLAotxI"
      },
      "source": [
        "## 2. Nested Looping Over 2d Lists"
      ]
    },
    {
      "cell_type": "code",
      "execution_count": null,
      "metadata": {
        "id": "cszwaay9otxI"
      },
      "outputs": [],
      "source": [
        "# Create an \"arbitrary\" 2d List\n",
        "a = [ [ 2, 3, 5] , [ 1, 4, 7 ] ]\n",
        "print(\"Before: a =\", a)\n",
        "\n",
        "# Now find its dimensions\n",
        "rows = len(a)\n",
        "cols = len(a[0])\n",
        "\n",
        "# And now loop over every element\n",
        "# Here, we'll add one to each element,\n",
        "# just to make a change we can easily see\n",
        "for row in range(rows):\n",
        "    for col in range(cols):\n",
        "        # This code will be run rows*cols times, once for each\n",
        "        # element in the 2d list\n",
        "        a[row][col] += 1\n",
        "\n",
        "# Finally, print the results\n",
        "print(\"After:  a =\", a)"
      ]
    },
    {
      "cell_type": "markdown",
      "metadata": {
        "id": "cJPT-bm9otxJ"
      },
      "source": [
        "## 3. Accessing 2d Lists by Row or Column"
      ]
    },
    {
      "cell_type": "markdown",
      "metadata": {
        "id": "g_BHSM9jotxK"
      },
      "source": [
        "Accessing a whole row"
      ]
    },
    {
      "cell_type": "code",
      "execution_count": null,
      "metadata": {
        "id": "EXZ-TFV6otxK"
      },
      "outputs": [],
      "source": [
        "# alias (not a copy! no new list created)\n",
        "a = [ [ 1, 2, 3 ] , [ 4, 5, 6 ] ]\n",
        "row = 1\n",
        "rowList = a[row]\n",
        "print(rowList)"
      ]
    },
    {
      "cell_type": "markdown",
      "metadata": {
        "id": "SvmoSEMxotxK"
      },
      "source": [
        "Accessing a whole column"
      ]
    },
    {
      "cell_type": "code",
      "execution_count": null,
      "metadata": {
        "id": "p0ovKJTOotxK"
      },
      "outputs": [],
      "source": [
        "# copy (not an alias! new list created)\n",
        "a = [ [ 1, 2, 3 ] , [ 4, 5, 6 ] ]\n",
        "col = 1\n",
        "colList = [ ]\n",
        "for i in range(len(a)):\n",
        "    colList += [ a[i][col] ]\n",
        "print(colList)"
      ]
    },
    {
      "cell_type": "markdown",
      "metadata": {
        "id": "We3hT4tJotxL"
      },
      "source": [
        "\n",
        "Accessing a whole column with a list comprehension"
      ]
    },
    {
      "cell_type": "code",
      "execution_count": null,
      "metadata": {
        "id": "kxTjehHBotxL"
      },
      "outputs": [],
      "source": [
        "# still a copy, but cleaner with a list comprehension!\n",
        "a = [ [ 1, 2, 3 ] , [ 4, 5, 6 ] ]\n",
        "col = 1\n",
        "colList = [ a[i][col] for i in range(len(a)) ]\n",
        "print(colList)"
      ]
    },
    {
      "cell_type": "markdown",
      "metadata": {
        "id": "V3iMXDRPotxL"
      },
      "source": [
        "## 4. 3d Lists"
      ]
    },
    {
      "cell_type": "code",
      "execution_count": null,
      "metadata": {
        "id": "NO1SKKV9otxL"
      },
      "outputs": [],
      "source": [
        "# 2d lists do not really exist in Python.\n",
        "# They are just lists that happen to contain other lists as elements.\n",
        "# And so this can be done for \"3d lists\", or even \"4d\" or higher-dimensional lists.\n",
        "# And these can also be non-rectangular, of course!\n",
        "\n",
        "a = [ [ [ 1, 2 ],\n",
        "        [ 3, 4 ] ],\n",
        "      [ [ 5, 6, 7 ],\n",
        "        [ 8, 9 ] ],\n",
        "      [ [ 10 ] ] ]\n",
        "\n",
        "# a0 = [ [ 1, 2 ],\n",
        "#         [ 3, 4 ] ]\n",
        "\n",
        "# a1 = [ [ 5, 6, 7 ],\n",
        "#         [ 8, 9 ] ]\n",
        "\n",
        "# a2 = [ [ 10 ] ]\n",
        "\n",
        "# a = [a0, a1, a2]\n",
        "\n",
        "for i in range(len(a)):\n",
        "    for j in range(len(a[i])):\n",
        "        for k in range(len(a[i][j])):\n",
        "            print(f'a[{i}][{j}][{k}] = {a[i][j][k]}')"
      ]
    }
  ],
  "metadata": {
    "colab": {
      "provenance": []
    },
    "kernelspec": {
      "display_name": "py39",
      "language": "python",
      "name": "python3"
    },
    "language_info": {
      "codemirror_mode": {
        "name": "ipython",
        "version": 3
      },
      "file_extension": ".py",
      "mimetype": "text/x-python",
      "name": "python",
      "nbconvert_exporter": "python",
      "pygments_lexer": "ipython3",
      "version": "3.11.4"
    }
  },
  "nbformat": 4,
  "nbformat_minor": 0
}
