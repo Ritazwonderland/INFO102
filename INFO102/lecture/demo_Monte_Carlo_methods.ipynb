{
 "cells": [
  {
   "cell_type": "markdown",
   "metadata": {
    "id": "vEx2DeDk28GT"
   },
   "source": [
    "## Monte Carlo Methods:  \n",
    "* Definition:\n",
    "** Using (pseudo)random numbers to solve (not-so-random) problems.\n",
    "General approach\n",
    "* Run Trials\n",
    "** In each trial, simulate event (coin toss, dice rolling, etc)\n",
    "* Count # of successful trials\n",
    "** Guess that Expected Odds ~= Observed Odds = (successful trials) / (total trials)\n",
    "* Law of Large Numbers\n",
    "** As total trials increases, observed odds --> expected odds.\n",
    "* Time-Accuracy Tradeoff\n",
    "** More trials == more accurate + more time"
   ]
  },
  {
   "cell_type": "markdown",
   "metadata": {
    "id": "X_AczkrV4A3I"
   },
   "source": [
    "## 1. Finding pi on a desert isle\n",
    "\n",
    "Here, we have fun approximating pi by repeatedly throwing a coconut into a circle we inscribed in a square (using a vine we found on the beach). If the coconut throws are random, and we ignore throws that land outside the square, then the odds that a throw lands inside the circle are the ratio of the area of the circle divided by the area of the square, which equals pi/4. So we guess that pi is about 4 times our observed ratio."
   ]
  },
  {
   "cell_type": "code",
   "execution_count": 12,
   "metadata": {
    "colab": {
     "base_uri": "https://localhost:8080/"
    },
    "id": "DYNr5Ln3WukK",
    "outputId": "0acab088-267e-4460-9412-dd17b2cf80ff"
   },
   "outputs": [
    {
     "name": "stdout",
     "output_type": "stream",
     "text": [
      "10**1 throws --> 3.200000 (accuracy: 98.140836%)\n",
      "10**2 throws --> 3.000000 (accuracy: 95.492966%)\n",
      "10**3 throws --> 3.132000 (accuracy: 99.694656%)\n",
      "10**4 throws --> 3.135600 (accuracy: 99.809248%)\n",
      "10**5 throws --> 3.135000 (accuracy: 99.790149%)\n",
      "10**6 throws --> 3.141228 (accuracy: 99.988393%)\n"
     ]
    }
   ],
   "source": [
    "import random, math\n",
    "\n",
    "def randomFloatInRange(lo, hi):\n",
    "    return lo + (hi - lo)*random.random()\n",
    "\n",
    "def inUnitCircle(x,y):\n",
    "    return (x**2 + y**2 <= 1)\n",
    "\n",
    "def findPi(throws):\n",
    "    throwsInCircle = 0\n",
    "    for throw in range(throws):\n",
    "        x = randomFloatInRange(-1, +1)\n",
    "        y = randomFloatInRange(-1, +1)\n",
    "        if inUnitCircle(x,y):\n",
    "            throwsInCircle += 1\n",
    "    return 4.0 * throwsInCircle / throws\n",
    "\n",
    "for k in range(1,7):\n",
    "    throws = 10**k\n",
    "    piGuess = findPi(throws)\n",
    "    accuracy = 100 * (1 - abs(piGuess - math.pi) / math.pi)\n",
    "    print(\"10**%d throws --> %f (accuracy: %f%%)\" %\n",
    "          (k, piGuess, accuracy))\n",
    "    "
   ]
  },
  {
   "cell_type": "markdown",
   "metadata": {
    "id": "gAy90kwT4QJ3"
   },
   "source": [
    "## 2. Random Run Length\n",
    "\n",
    "We will say that a \"run\" of random numbers continues until you pick one that is smaller than the previous one. That last number ends the run, and is also counted in the run (so the shortest possible run length is 2). With this definition, what is the expected length of a run of random numbers?"
   ]
  },
  {
   "cell_type": "code",
   "execution_count": null,
   "metadata": {
    "colab": {
     "base_uri": "https://localhost:8080/"
    },
    "id": "iChqMgU84YgP",
    "outputId": "7dbda5aa-3def-46e4-8548-9081b05302d2"
   },
   "outputs": [],
   "source": [
    "# Q: We will say that a \"run\" of random numbers continues\n",
    "#    until you pick one that is smaller than the previous one.\n",
    "#    That last number ends the run, and is also counted in the run\n",
    "#    (so the shortest possible run length is 2).\n",
    "#    With this definition, what is the expected length of\n",
    "#    a run of random numbers?\n",
    "\n",
    "# A: See code below.\n",
    "\n",
    "import random\n",
    "\n",
    "def randomRunLength():\n",
    "    val = random.random()\n",
    "    runLength = 1\n",
    "    while True:\n",
    "        nextVal = random.random()\n",
    "        runLength += 1\n",
    "        if (nextVal < val): \n",
    "            return runLength\n",
    "        val = nextVal\n",
    "\n",
    "# Or, if you prefer...\n",
    "def randomRunLength():\n",
    "    vals = [ random.random(), random.random() ]\n",
    "    while (vals[-2] < vals[-1]): vals.append(random.random())\n",
    "    return (len(vals))\n",
    "\n",
    "def averageRandomRunLength(trials):\n",
    "    totalRunLength = 0\n",
    "    for trial in range(trials):\n",
    "        totalRunLength += randomRunLength()\n",
    "    return totalRunLength / trials\n",
    "\n",
    "for k in range(1,6):\n",
    "    trials = 10**k\n",
    "    print(\"10**%d trials --> %f\" %\n",
    "          (k, averageRandomRunLength(trials)))"
   ]
  },
  {
   "cell_type": "markdown",
   "metadata": {
    "id": "z2FjIniL428-"
   },
   "source": [
    "## Dice Throwing Tables\n",
    "\n",
    "Here we compute the odds of getting various sums by rolling different numbers of different-sided dice (say, rolling 4 5-sided dice). There are many web resources to check your answer, such as this one (chosen randomly)."
   ]
  },
  {
   "cell_type": "code",
   "execution_count": 13,
   "metadata": {
    "colab": {
     "base_uri": "https://localhost:8080/"
    },
    "id": "wqq_Dh0e4-HW",
    "outputId": "158fa97e-22b9-4eb2-88ad-9369f11691f8"
   },
   "outputs": [
    {
     "name": "stdout",
     "output_type": "stream",
     "text": [
      "Trials      3      4      5      6      7      8      9     10     11     12     13     14     15     16     17     18\n",
      "     10  0.00   0.00   0.00  10.00  10.00  20.00  50.00  20.00  20.00  10.00   0.00  20.00  10.00   0.00   0.00   0.00 \n",
      "    100  0.00   3.00   1.00   7.00   7.00   7.00  12.00  16.00  11.00  11.00  11.00   8.00   7.00   1.00   3.00   0.00 \n",
      "   1000  0.60   1.20   3.50   4.30   7.20   9.70  10.90  10.80  12.50  10.50  10.60   6.60   4.80   3.30   1.80   0.30 \n",
      "  10000  0.45   1.21   3.01   4.60   7.29   9.81  11.65  12.17  12.72  11.22   9.89   6.80   4.70   2.61   1.47   0.50 \n"
     ]
    }
   ],
   "source": [
    "# For correct answers, try here:\n",
    "# http://www.ogmiosproject.org/articles/stattables.html\n",
    "\n",
    "import random\n",
    "\n",
    "def rollDie(sides):\n",
    "    return random.randint(1,sides)\n",
    "\n",
    "def trialSucceeds(dice, sides, total):\n",
    "    # run only ONE trial and return True on success.\n",
    "    # one trial means:\n",
    "    # roll 2 dice and succeed if their sum is total\n",
    "    dieTotal = 0\n",
    "    for roll in range(dice):\n",
    "        die = rollDie(sides)\n",
    "        dieTotal += die\n",
    "    return (dieTotal == total)\n",
    "\n",
    "def diceOdds(dice, sides, total, trials):\n",
    "    successes = 0\n",
    "    for trial in range(trials):\n",
    "        if trialSucceeds(dice, sides, total) == True:\n",
    "            successes += 1\n",
    "    return successes / trials\n",
    "\n",
    "def printAllDiceOdds(dice, sides):\n",
    "    # print the label line\n",
    "    print(\"Trials\", end=\"\")\n",
    "    for label in range(dice, dice*sides+1):\n",
    "        print(\"%7d\" % label, end=\"\")\n",
    "    print()\n",
    "    # now compute and print results for different-sized trials\n",
    "    for k in range(1,5):\n",
    "        trials = 10**k\n",
    "        print(\"%7d\" % trials, end=\"\")\n",
    "        for total in range(dice, dice*sides+1):\n",
    "            print(\"%6.2f \" % (100*diceOdds(dice, sides, total, trials)),\n",
    "                  end=\"\")\n",
    "        print()\n",
    "\n",
    "printAllDiceOdds(3,6)"
   ]
  },
  {
   "cell_type": "code",
   "execution_count": 1,
   "metadata": {
    "colab": {
     "base_uri": "https://localhost:8080/"
    },
    "id": "aAqCgn0c5FBW",
    "outputId": "1f45600d-9121-4f8d-af16-1a728a2dcc99"
   },
   "outputs": [
    {
     "name": "stdout",
     "output_type": "stream",
     "text": [
      "3   0.48\n",
      "4   1.37\n",
      "5   2.85\n",
      "6   4.63\n",
      "7   7.06\n",
      "8   9.57\n",
      "9  11.45\n",
      "10  12.45\n",
      "11  12.53\n",
      "12  11.43\n",
      "13   9.77\n",
      "14   7.01\n",
      "15   4.66\n",
      "16   2.81\n",
      "17   1.41\n",
      "18   0.50\n"
     ]
    }
   ],
   "source": [
    "# Here we improve on diceThrowing.py by realizing that we can\n",
    "# compute the odds for all the totals at once, rather than\n",
    "# repeating our trials for each possible total.\n",
    "\n",
    "import random\n",
    "\n",
    "def rollDie(sides):\n",
    "    return random.randint(1,sides)\n",
    "\n",
    "def rollDice(dice, sides):\n",
    "    dieTotal = 0\n",
    "    for roll in range(dice):\n",
    "        die = rollDie(sides)\n",
    "        dieTotal += die\n",
    "    return dieTotal\n",
    "\n",
    "def diceOdds(dice, sides):\n",
    "    trials = 1000*100\n",
    "    maxTotal = dice*sides\n",
    "    successes = [0]*(maxTotal+1)\n",
    "    for trial in range(trials):\n",
    "        dieTotal = rollDice(dice, sides)\n",
    "        successes[dieTotal] += 1\n",
    "    odds = [count/trials for count in successes]\n",
    "    return odds\n",
    "\n",
    "def printAllDiceOdds(dice, sides):\n",
    "    odds = diceOdds(dice, sides)\n",
    "    for total in range(dice,dice*sides+1):\n",
    "        print(total, \"%6.2f\" % (100*odds[total]))\n",
    "\n",
    "printAllDiceOdds(3,6)"
   ]
  },
  {
   "cell_type": "markdown",
   "metadata": {
    "id": "bC7U7oAj5sLY"
   },
   "source": [
    "## The Birthday Problem\n",
    "\n",
    "And here we solve the famous birthday problem: how many people must be in a room so that it is more likely than not that at least two of them share a birthday (same day and month, not necessarily year; and we ignored leap year birthdays)? You can check your answer at the Wikipedia page on the Birthday Problem."
   ]
  },
  {
   "cell_type": "code",
   "execution_count": 14,
   "metadata": {
    "colab": {
     "base_uri": "https://localhost:8080/"
    },
    "id": "3NycgjbU5x4G",
    "outputId": "e4fdb99f-74d3-4c4f-d34a-2fe87798cd85"
   },
   "outputs": [
    {
     "name": "stdout",
     "output_type": "stream",
     "text": [
      "10**1 trials --> 19.000000\n",
      "10**2 trials --> 24.000000\n",
      "10**3 trials --> 23.000000\n",
      "10**4 trials --> 24.000000\n",
      "10**5 trials --> 23.000000\n"
     ]
    }
   ],
   "source": [
    "import random\n",
    "\n",
    "def trialSucceeds(numberOfPeopleInRoom):\n",
    "    # run only ONE trial and return True on success.\n",
    "    # one trial means:\n",
    "    # Put the given # of people in a room\n",
    "    # and return true if any 2 share any birthday\n",
    "    seenBirthdays = set()\n",
    "    for person in range(numberOfPeopleInRoom):\n",
    "        birthday = random.randint(1,365)\n",
    "        if (birthday in seenBirthdays):\n",
    "            return True\n",
    "        seenBirthdays.add(birthday)\n",
    "    return False\n",
    "\n",
    "def birthdayOdds(numberOfPeopleInRoom, trials):\n",
    "    successes = 0\n",
    "    for trial in range(trials):\n",
    "        if trialSucceeds(numberOfPeopleInRoom) == True:\n",
    "            successes += 1\n",
    "    return successes / trials\n",
    "\n",
    "def solveBirthdayProblem(trials):\n",
    "    for peopleInRoom in range(2,366):\n",
    "        if (birthdayOdds(peopleInRoom, trials) >= 0.5):\n",
    "            return peopleInRoom\n",
    "\n",
    "for k in range(1,6):\n",
    "    trials = 10**k\n",
    "    print(\"10**%d trials --> %f\" %\n",
    "          (k, solveBirthdayProblem(trials)))"
   ]
  },
  {
   "cell_type": "code",
   "execution_count": null,
   "metadata": {},
   "outputs": [],
   "source": []
  }
 ],
 "metadata": {
  "colab": {
   "collapsed_sections": [],
   "name": "demo_Monte Carlo methods.ipynb",
   "provenance": []
  },
  "kernelspec": {
   "display_name": "Python 3",
   "language": "python",
   "name": "python3"
  },
  "language_info": {
   "codemirror_mode": {
    "name": "ipython",
    "version": 3
   },
   "file_extension": ".py",
   "mimetype": "text/x-python",
   "name": "python",
   "nbconvert_exporter": "python",
   "pygments_lexer": "ipython3",
   "version": "3.11.4"
  }
 },
 "nbformat": 4,
 "nbformat_minor": 1
}
