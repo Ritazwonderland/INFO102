{
  "nbformat": 4,
  "nbformat_minor": 0,
  "metadata": {
    "colab": {
      "name": "demo7_debugging.ipynb",
      "provenance": [],
      "collapsed_sections": []
    },
    "kernelspec": {
      "name": "python3",
      "display_name": "Python 3"
    },
    "language_info": {
      "name": "python"
    }
  },
  "cells": [
    {
      "cell_type": "markdown",
      "source": [
        "In class, we'll have a short discussion on some helpful debugging techniques, especially using print statements strategically."
      ],
      "metadata": {
        "id": "6NOZiLC2U7RM"
      }
    },
    {
      "cell_type": "markdown",
      "source": [
        "## We have a bug!\n",
        "\n",
        "Here is an example with a bug intentionally added:"
      ],
      "metadata": {
        "id": "wag1jZvoU-5M"
      }
    },
    {
      "cell_type": "code",
      "execution_count": null,
      "metadata": {
        "id": "aFzdrIYSU11c"
      },
      "outputs": [],
      "source": [
        "# THIS CODE HAS A BUG (ON PURPOSE)!!!!\n",
        "\n",
        "# When you run it, it will hang (run forever)!!!!\n",
        "\n",
        "def isPrime(n):\n",
        "    if (n < 2):\n",
        "        return False\n",
        "    if (n == 2):\n",
        "        return True\n",
        "    if (n % 2 == 0):\n",
        "        return False\n",
        "    maxFactor = round(n**0.5)\n",
        "    for factor in range(3,maxFactor+1,2):\n",
        "        if (n % factor == 0):\n",
        "            return False\n",
        "    return True\n",
        "\n",
        "def nthPrime(n):\n",
        "    found = 0\n",
        "    guess = 0\n",
        "    while (found <= n):\n",
        "        guess += 1\n",
        "        if (isPrime(guess)):\n",
        "            found + 1\n",
        "    return guess\n",
        "\n",
        "print('The next line will hang (run forever):')\n",
        "print(nthPrime(5))"
      ]
    },
    {
      "cell_type": "markdown",
      "source": [
        "A Helpful Approach: Print Statement Debugging\n",
        "\n",
        "\n",
        "Now, let's add a well-placed print statement to shine a light on what the bug is:"
      ],
      "metadata": {
        "id": "kQ_G2gaZVRXb"
      }
    },
    {
      "cell_type": "code",
      "source": [
        "# THIS CODE STILL HAS A BUG (ON PURPOSE)!!!!\n",
        "\n",
        "# When you run it, it will hang (run forever)!!!!\n",
        "\n",
        "def isPrime(n):\n",
        "    if (n < 2):\n",
        "        return False\n",
        "    if (n == 2):\n",
        "        return True\n",
        "    if (n % 2 == 0):\n",
        "        return False\n",
        "    maxFactor = round(n**0.5)\n",
        "    for factor in range(3,maxFactor+1,2):\n",
        "        if (n % factor == 0):\n",
        "            return False\n",
        "    return True\n",
        "\n",
        "def nthPrime(n):\n",
        "    found = 0\n",
        "    guess = 0\n",
        "    while (found <= n):\n",
        "        print(guess, found) ### <--- THIS is our well-placed print statement!\n",
        "        guess += 1\n",
        "        if (isPrime(guess)):\n",
        "            found + 1\n",
        "    return guess\n",
        "\n",
        "print('The next line will hang (run forever):')\n",
        "print(nthPrime(5))"
      ],
      "metadata": {
        "id": "W1zc7usxVTrw"
      },
      "execution_count": null,
      "outputs": []
    },
    {
      "cell_type": "markdown",
      "source": [
        "Even Better: Print Statement Debugging with locals() + input()\n",
        "\n",
        "Check out this perhaps even-more-helpful approach:"
      ],
      "metadata": {
        "id": "4uYOIvFdVm5h"
      }
    },
    {
      "cell_type": "code",
      "source": [
        "# THIS CODE STILL HAS A BUG (ON PURPOSE)!!!!\n",
        "\n",
        "# When you run it, it will hang (run forever)!!!!\n",
        "\n",
        "def isPrime(n):\n",
        "    if (n < 2):\n",
        "        return False\n",
        "    if (n == 2):\n",
        "        return True\n",
        "    if (n % 2 == 0):\n",
        "        return False\n",
        "    maxFactor = round(n**0.5)\n",
        "    for factor in range(3,maxFactor+1,2):\n",
        "        if (n % factor == 0):\n",
        "            return False\n",
        "    return True\n",
        "\n",
        "def nthPrime(n):\n",
        "    found = 0\n",
        "    guess = 0\n",
        "    while (found <= n):\n",
        "        print(locals()) ### <--- THIS is our well-placed print statement!\n",
        "        input()         ### <--- THIS pauses until we hit Enter. Sweet!\n",
        "        guess += 1\n",
        "        if (isPrime(guess)):\n",
        "            found + 1\n",
        "    return guess\n",
        "\n",
        "print('The next line will hang (run forever):')\n",
        "print(nthPrime(5))"
      ],
      "metadata": {
        "id": "Dfuw35d7VqaI"
      },
      "execution_count": null,
      "outputs": []
    },
    {
      "cell_type": "markdown",
      "source": [
        "### Avoiding Bugs\n",
        "\n",
        "Bugs are a natural part of the programming process. However, you can reduce the number of bugs you encounter by following a few tips:\n",
        "* Write code with good style.\n",
        "* Write tests before writing functions, and test as you go.\n",
        "* Make sure each function only has one task.\n",
        "* Avoid copying and pasting code at all costs (this leads to bug propagation).\n",
        "\n",
        "### Debugging Syntax Errors\n",
        "1. When debugging a syntax error, the most important thing you can do is read the error message!\n",
        "2. Start with the bottom line. It will verify that this is a syntax error.\n",
        "3. Look for the line number. It will appear at the bottom of the stack trace.\n",
        "4. Then look carefully at where in the line the arrow is pointing. That is usually where the syntax error is.\n",
        "5. Common syntax errors include:\n",
        "  * Forgetting to close a string or parenthesis (may result in an EOF error)\n",
        "  * Forgetting a colon\n",
        "  * Using = instead of ==, or vice versa\n",
        "  * Mismatched indentation (automatically convert tabs to spaces to avoid this!)\n",
        "  * And many more...\n",
        "\n",
        "### Debugging Runtime Errors\n",
        "1. When debugging a runtime error, the most important thing you can do is, again, read the error message!\n",
        "2. Start with the bottom line. The type of the error will probably tell you what's going wrong.\n",
        "3. Look for the line number. It will appear at the bottom of the stack trace.\n",
        "4. Go to that line in the code, and identify what part of that line might be associated with the runtime error. If there are multiple possibilities, split them up into separate lines and run the code again.\n",
        "5. If it seems like the data you're inputting shouldn't result in that runtime error, try tracing the code of your program with the input. You can use print statements in your code to identify where your expectations diverge from what the code is doing. It's especially helpful to print the data on the line before the error occurs, to see what the state of the program is.\n",
        "6. Finally, determine how your algorithm needs to change to handle the new program state.\n",
        "7. Common runtime errors include:\n",
        "    * String/list index errors\n",
        "    * Having a typo in a variable name\n",
        "    * Infinitely-recursing programs\n",
        "    * Trying to use an operation on an inappropriate type\n",
        "    * Dividing by zero\n",
        "    * Trying to read a file that doesn't exist\n",
        "    * And many more...\n",
        "\n",
        "### Debugging Logical Errors\n",
        "1. When debugging a logical error (aka, trying to figure out why you're failing a test case), the most important thing you can do is identify the input, expected output, and actual output of the failing case.\n",
        "2. Does the expected output make sense to you? If it does not, re-read the problem prompt until you understand it.\n",
        "3. Start tracing your code to determine when it starts behaving differently from what you expected. Usually this can be done by adding print statements at important conjunctures of the code, to display the current program state.\n",
        "* It helps to pair the values you're printing with meaningful labels. Instead of print(n), try print(\"n before for:\", n).\n",
        "* It also helps to put some debugging statements into conditionals, so they're only printed when a certain (bad) condition is met.\n",
        "* When printing strings that include whitespace, use repr(s) to display the escape sequences in a more readable format.\n",
        "* If your program is very large, try using binary-search-print-debugging! Print the program state in the middle to see if the problem occurs before or after that point, move to the affected area, and repeat until the problem is found.\n",
        "4. Once you've found the location of the error, use problem-solving approaches to determine how your algorithm needs to be changed."
      ],
      "metadata": {
        "id": "ICeWk0mfjC6n"
      }
    },
    {
      "cell_type": "code",
      "source": [
        ""
      ],
      "metadata": {
        "id": "JjbeIrocmDPt"
      },
      "execution_count": null,
      "outputs": []
    }
  ]
}