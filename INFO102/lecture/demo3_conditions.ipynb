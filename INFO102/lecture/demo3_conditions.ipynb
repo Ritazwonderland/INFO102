{
  "cells": [
    {
      "cell_type": "markdown",
      "metadata": {
        "id": "YQSg4l8P2y5w"
      },
      "source": []
    },
    {
      "cell_type": "markdown",
      "metadata": {
        "id": "8cAgZZiT2z8D"
      },
      "source": [
        "## 1. if statement "
      ]
    },
    {
      "cell_type": "code",
      "execution_count": null,
      "metadata": {
        "id": "B1lpYZ462m2F"
      },
      "outputs": [],
      "source": [
        "def f(x):\n",
        "    print(\"A\", end=\"\")\n",
        "    if (x == 0):\n",
        "        print(\"B\", end=\"\")\n",
        "        print(\"C\", end=\"\")\n",
        "    print(\"D\")\n",
        "\n",
        "f(0) #ABCD\n",
        "f(1) #AD"
      ]
    },
    {
      "cell_type": "markdown",
      "metadata": {
        "id": "f-hwjXKY27GY"
      },
      "source": [
        "A more interesting example:"
      ]
    },
    {
      "cell_type": "code",
      "execution_count": null,
      "metadata": {
        "id": "8HUqwmoOpLIi"
      },
      "outputs": [],
      "source": [
        "abs(-5)"
      ]
    },
    {
      "cell_type": "code",
      "execution_count": null,
      "metadata": {
        "id": "yEbv5y_W27-B"
      },
      "outputs": [],
      "source": [
        "# These examples define abs(n), which is a nice example here, but it is\n",
        "# also a builtin function, so you do not need to define it to use it.\n",
        "\n",
        "def abs1(n):\n",
        "    if (n < 0):\n",
        "        n = -n\n",
        "    return n\n",
        "\n",
        "# again, with same-line indenting\n",
        "\n",
        "def abs2(n):\n",
        "    if (n < 0): n = -n # only indent this way for very short lines (if at all)\n",
        "    return n\n",
        "\n",
        "# again, with multiple return statements\n",
        "\n",
        "def abs3(n):\n",
        "    if (n < 0):\n",
        "        return -n\n",
        "    return n\n",
        "\n",
        "# aside: you can do this with boolean arithmetic, but don't!\n",
        "\n",
        "def abs4(n):\n",
        "    return (n < 0)*(-n) + (n>=0)*(n) # this is awful!\n",
        "\n",
        "# now show that they all work properly:\n",
        "\n",
        "print(\"abs1(5) =\", abs1(5), \"and abs1(-5) =\", abs1(-5))\n",
        "print(\"abs2(5) =\", abs2(5), \"and abs2(-5) =\", abs2(-5))\n",
        "print(\"abs3(5) =\", abs3(5), \"and abs3(-5) =\", abs3(-5))\n",
        "print(\"abs4(5) =\", abs4(5), \"and abs4(-5) =\", abs4(-5))"
      ]
    },
    {
      "cell_type": "code",
      "execution_count": null,
      "metadata": {
        "id": "HBltI0sXpLIj"
      },
      "outputs": [],
      "source": [
        "n = -5\n",
        "print((n < 0)*(-n))"
      ]
    },
    {
      "cell_type": "markdown",
      "metadata": {
        "id": "EUz1Jovi4yfB"
      },
      "source": [
        "## 2. if-else statement"
      ]
    },
    {
      "cell_type": "code",
      "execution_count": null,
      "metadata": {
        "id": "UsZofn-s4zgf"
      },
      "outputs": [],
      "source": [
        "def f(x):\n",
        "    print(\"A\", end=\"\")\n",
        "    if (x == 0):\n",
        "        print(\"B\", end=\"\")\n",
        "        print(\"C\", end=\"\")\n",
        "    else:\n",
        "        print(\"D\", end=\"\")\n",
        "        if (x == 1):\n",
        "            print(\"E\", end=\"\")\n",
        "        else:\n",
        "            print(\"F\", end=\"\")\n",
        "    print(\"G\")\n",
        "\n",
        "f(0) # ABCG\n",
        "f(1) # ADEG\n",
        "f(2) # ADFG"
      ]
    },
    {
      "cell_type": "markdown",
      "metadata": {
        "id": "f-cljcE643y0"
      },
      "source": [
        "Revisiting abs(n):"
      ]
    },
    {
      "cell_type": "code",
      "execution_count": null,
      "metadata": {
        "id": "KZaxWsA-45kV"
      },
      "outputs": [],
      "source": [
        "def abs5(n):\n",
        "    if (n >= 0):\n",
        "        return n\n",
        "    else:\n",
        "        return -n\n",
        "\n",
        "# or, if you prefer...\n",
        "\n",
        "def abs6(n):\n",
        "    if (n >= 0):\n",
        "        sign = +1\n",
        "    else:\n",
        "        sign = -1\n",
        "    return sign * n\n",
        "\n",
        "print(\"abs5(5) =\", abs5(5), \"and abs5(-5) =\", abs5(-5))\n",
        "print(\"abs6(5) =\", abs6(5), \"and abs6(-5) =\", abs6(-5))"
      ]
    },
    {
      "cell_type": "markdown",
      "metadata": {
        "id": "47zwuqop49rK"
      },
      "source": [
        "## 3.if-elif-else statement #single track judgement"
      ]
    },
    {
      "cell_type": "code",
      "execution_count": null,
      "metadata": {
        "id": "Igpg_uY24_yx"
      },
      "outputs": [],
      "source": [
        "def f(x):\n",
        "#     print(\"A\", end=\"\")\n",
        "    print(\"A\")\n",
        "    if (x == 0):\n",
        "        print(\"B\", end=\"\")\n",
        "        print(\"C\", end=\"\")\n",
        "    elif (x == 1):\n",
        "        print(\"D\", end=\"\")\n",
        "    else:\n",
        "        print(\"E\", end=\"\")\n",
        "        if (x == 2):\n",
        "            print(\"F\", end=\"\")\n",
        "        else:\n",
        "            print(\"G\", end=\"\")\n",
        "    print(\"H\")\n",
        "\n",
        "f(0) # ABCH\n",
        "f(1) # ADH\n",
        "f(2)\n",
        "f(3) # AEGH"
      ]
    },
    {
      "cell_type": "markdown",
      "metadata": {
        "id": "G9Iee-d_5CoS"
      },
      "source": [
        "A more interesting example:"
      ]
    },
    {
      "cell_type": "code",
      "execution_count": null,
      "metadata": {
        "id": "sNzJ4HhK5EfU"
      },
      "outputs": [],
      "source": [
        "def numberOfRoots(a, b, c):\n",
        "    # Returns number of roots (zeros) of y = a*x**2 + b*x + c\n",
        "    d = b**2 - 4*a*c\n",
        "    if (d > 0):\n",
        "        return 2\n",
        "    elif (d == 0):\n",
        "        return 1\n",
        "    else:\n",
        "        return 0\n",
        "\n",
        "print(\"y = 4*x**2 + 5*x + 1 has\", numberOfRoots(4,5,1), \"root(s).\")\n",
        "print(\"y = 4*x**2 + 4*x + 1 has\", numberOfRoots(4,4,1), \"root(s).\")\n",
        "print(\"y = 4*x**2 + 3*x + 1 has\", numberOfRoots(4,3,1), \"root(s).\")"
      ]
    },
    {
      "cell_type": "markdown",
      "metadata": {
        "id": "hhFJK1jO5HNo"
      },
      "source": [
        "Another example (the example in the lecture slides):"
      ]
    },
    {
      "cell_type": "code",
      "execution_count": null,
      "metadata": {
        "id": "6bQZW8ap5I0I"
      },
      "outputs": [],
      "source": [
        "def getGrade(score):\n",
        "    if (score >= 90):\n",
        "        grade = \"A\"\n",
        "    elif (score >= 80):\n",
        "        grade = \"B\"\n",
        "    elif (score >= 70):\n",
        "        grade = \"C\"\n",
        "    elif (score >= 60):\n",
        "        grade = \"D\"\n",
        "    else:\n",
        "        grade = \"F\"\n",
        "    return grade\n",
        "\n",
        "print(\"103 -->\", getGrade(103))\n",
        "print(\" 88 -->\", getGrade(88))\n",
        "print(\" 70 -->\", getGrade(70))\n",
        "print(\" 61 -->\", getGrade(61))\n",
        "print(\" 22 -->\", getGrade(22))"
      ]
    },
    {
      "cell_type": "markdown",
      "metadata": {
        "id": "qfZWJj2A5MBl"
      },
      "source": [
        "## 4. if-else expression"
      ]
    },
    {
      "cell_type": "code",
      "execution_count": 1,
      "metadata": {
        "colab": {
          "base_uri": "https://localhost:8080/"
        },
        "id": "SB1JmJtb5OIs",
        "outputId": "4293d01c-0da9-4fb3-89fa-d89c6cc444de"
      },
      "outputs": [
        {
          "name": "stdout",
          "output_type": "stream",
          "text": [
            "abs7(5) = 5 and abs7(-5) = 5\n"
          ]
        }
      ],
      "source": [
        "# if-else expression (not an if-else statement!)\n",
        "\n",
        "def abs7(n):\n",
        "    return n if (n >= 0) else -n\n",
        "    # if (n >= 0):\n",
        "    #     return n\n",
        "    # else:\n",
        "    #     return -n\n",
        "\n",
        "print(\"abs7(5) =\", abs7(5), \"and abs7(-5) =\", abs7(-5))"
      ]
    },
    {
      "cell_type": "markdown",
      "metadata": {
        "id": "1jo4EI215Q16"
      },
      "source": [
        "## 5. Incorrect (or at least unconventional) usage"
      ]
    },
    {
      "cell_type": "markdown",
      "metadata": {
        "id": "YQBJuLT85ZAr"
      },
      "source": [
        "Note: this section concerns style and not correctness. All the examples here 'work', but some work more artfully than others. With that..."
      ]
    },
    {
      "cell_type": "markdown",
      "metadata": {
        "id": "fkhtdDS45gKk"
      },
      "source": [
        "Negated Condition (with \"else\" clause)"
      ]
    },
    {
      "cell_type": "code",
      "execution_count": 2,
      "metadata": {
        "colab": {
          "base_uri": "https://localhost:8080/"
        },
        "id": "RS9SW6yJ5jhn",
        "outputId": "3ae3d02e-45fb-4223-8128-cda0e63fc71a"
      },
      "outputs": [
        {
          "name": "stdout",
          "output_type": "stream",
          "text": [
            "yes\n"
          ]
        }
      ],
      "source": [
        "# Wrong:\n",
        "b = True\n",
        "if (not b):\n",
        "    print('no')\n",
        "else:\n",
        "    print('yes')"
      ]
    },
    {
      "cell_type": "code",
      "execution_count": 5,
      "metadata": {
        "colab": {
          "base_uri": "https://localhost:8080/"
        },
        "id": "BNT-hsJc5lS_",
        "outputId": "5a2900a5-0a5a-49c3-c061-ba38a2f3672d"
      },
      "outputs": [
        {
          "name": "stdout",
          "output_type": "stream",
          "text": [
            "yes\n"
          ]
        }
      ],
      "source": [
        "# Right:\n",
        "b = True\n",
        "if (b):\n",
        "    print('yes')\n",
        "else:\n",
        "    print('no')"
      ]
    },
    {
      "cell_type": "markdown",
      "metadata": {
        "id": "JNAMbokP5sfY"
      },
      "source": [
        "Empty \"if\" Clause"
      ]
    },
    {
      "cell_type": "code",
      "execution_count": null,
      "metadata": {
        "id": "QoZns28d5rn0"
      },
      "outputs": [],
      "source": [
        "# Wrong:\n",
        "b = False\n",
        "if (b):\n",
        "    pass\n",
        "else:\n",
        "    print('no')"
      ]
    },
    {
      "cell_type": "code",
      "execution_count": null,
      "metadata": {
        "id": "cut69il65v0Z"
      },
      "outputs": [],
      "source": [
        "# Right:\n",
        "b = False\n",
        "if (not b):\n",
        "    print('no')"
      ]
    },
    {
      "cell_type": "markdown",
      "metadata": {
        "id": "cECO6rAQ57KU"
      },
      "source": [
        "Using \"if\" instead of \"and\""
      ]
    },
    {
      "cell_type": "code",
      "execution_count": null,
      "metadata": {
        "id": "BGMoxpo959Sb"
      },
      "outputs": [],
      "source": [
        "# Wrong (though not so wrong...):\n",
        "b1 = True\n",
        "b2 = True\n",
        "if (b1):\n",
        "    if (b2):\n",
        "        print('both!')"
      ]
    },
    {
      "cell_type": "code",
      "execution_count": null,
      "metadata": {
        "id": "WnqoTnbM6B1y"
      },
      "outputs": [],
      "source": [
        "# Right (well, maybe just \"preferred\"):\n",
        "b1 = True\n",
        "b2 = True\n",
        "if (b1 and b2):\n",
        "        print('both!')"
      ]
    },
    {
      "cell_type": "markdown",
      "metadata": {
        "id": "LgU1yHoL6FqA"
      },
      "source": [
        "Using another \"if\" instead of \"else\""
      ]
    },
    {
      "cell_type": "code",
      "execution_count": null,
      "metadata": {
        "id": "GO4zAnQ16H9I"
      },
      "outputs": [],
      "source": [
        "# Wrong:\n",
        "b = False\n",
        "if (b):\n",
        "    print('yes')\n",
        "    \n",
        "if (not b):\n",
        "    print('no')"
      ]
    },
    {
      "cell_type": "code",
      "execution_count": null,
      "metadata": {
        "id": "9MWApdRw6J7J"
      },
      "outputs": [],
      "source": [
        "# Right:\n",
        "b = True\n",
        "if (b):\n",
        "    print('yes')\n",
        "else:\n",
        "    print('no')"
      ]
    },
    {
      "cell_type": "markdown",
      "metadata": {
        "id": "2DN3SpA96PWS"
      },
      "source": [
        "Another example:"
      ]
    },
    {
      "cell_type": "code",
      "execution_count": null,
      "metadata": {
        "id": "XSTPamwz6TsD"
      },
      "outputs": [],
      "source": [
        "# Wrong:\n",
        "x = 10\n",
        "if (x < 5):\n",
        "    print('small')\n",
        "if ((x >= 5) and (x < 10)):\n",
        "    print('medium')\n",
        "if ((x >= 10) and (x < 15)):\n",
        "    print('large')\n",
        "if (x >= 15):\n",
        "    print('extra large')"
      ]
    },
    {
      "cell_type": "code",
      "execution_count": null,
      "metadata": {
        "id": "JtX6wYy86W-7"
      },
      "outputs": [],
      "source": [
        "# Right:\n",
        "x = 10\n",
        "if (x < 5):\n",
        "    print('small')\n",
        "elif (x < 10):\n",
        "    print('medium')\n",
        "elif (x < 15):\n",
        "    print('large')\n",
        "else:\n",
        "    print('extra large')"
      ]
    },
    {
      "cell_type": "markdown",
      "metadata": {
        "id": "os4cIqxb6ZB3"
      },
      "source": [
        "Yet Another Example"
      ]
    },
    {
      "cell_type": "code",
      "execution_count": 7,
      "metadata": {
        "colab": {
          "base_uri": "https://localhost:8080/"
        },
        "id": "epzPVe836bTp",
        "outputId": "5613d0fb-a96a-410a-95d7-092bbcc816ad"
      },
      "outputs": [
        {
          "name": "stdout",
          "output_type": "stream",
          "text": [
            "lowercase!\n"
          ]
        }
      ],
      "source": [
        "# Wrong:\n",
        "c = 'a'\n",
        "if ((c >= 'A') and (c <= 'Z')):\n",
        "    print('Uppercase!')\n",
        "if ((c >= 'a') and (c <= 'z')):\n",
        "    print('lowercase!')\n",
        "if ((c < 'A') or \\\n",
        "    ((c > 'Z') and (c < 'a')) or \\\n",
        "    (c > 'z')):\n",
        "    print ('not a letter!')"
      ]
    },
    {
      "cell_type": "code",
      "execution_count": null,
      "metadata": {
        "id": "hIVhL1Qi6eHF"
      },
      "outputs": [],
      "source": [
        "# Right:\n",
        "c = 'a'\n",
        "if ((c >= 'A') and (c <= 'Z')):\n",
        "    print('Uppercase!')\n",
        "elif ((c >= 'a') and (c <= 'z')):\n",
        "    print('lowercase!')\n",
        "else:\n",
        "    print('not a letter!')"
      ]
    },
    {
      "cell_type": "markdown",
      "metadata": {
        "id": "Zgp-W9ub6hL4"
      },
      "source": [
        "Using \"arithmetic logic\" instead of \"boolean logic\""
      ]
    },
    {
      "cell_type": "code",
      "execution_count": null,
      "metadata": {
        "id": "XJo-DsXX6jZq"
      },
      "outputs": [],
      "source": [
        "# Wrong:\n",
        "x = 42\n",
        "y = ((x > 0) and 99)\n",
        "print(x, y)"
      ]
    },
    {
      "cell_type": "code",
      "execution_count": null,
      "metadata": {
        "id": "zvXoCWRM6lgT"
      },
      "outputs": [],
      "source": [
        "# Right:\n",
        "x = 42\n",
        "if (x > 0):\n",
        "    y = 99\n",
        "print(x, y)"
      ]
    }
  ],
  "metadata": {
    "colab": {
      "collapsed_sections": [],
      "name": "demo3_conditions.ipynb",
      "provenance": []
    },
    "kernelspec": {
      "display_name": "Python 3 (ipykernel)",
      "language": "python",
      "name": "python3"
    },
    "language_info": {
      "codemirror_mode": {
        "name": "ipython",
        "version": 3
      },
      "file_extension": ".py",
      "mimetype": "text/x-python",
      "name": "python",
      "nbconvert_exporter": "python",
      "pygments_lexer": "ipython3",
      "version": "3.9.7"
    }
  },
  "nbformat": 4,
  "nbformat_minor": 0
}
