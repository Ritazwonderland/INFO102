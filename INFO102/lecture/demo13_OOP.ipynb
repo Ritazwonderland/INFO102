{
 "cells": [
  {
   "cell_type": "markdown",
   "metadata": {
    "id": "bY4L9uVeRnBY"
   },
   "source": [
    "## Objects and Object-Oriented Programming (OOP)\n",
    "\n",
    "Every value in Python is an Object.\n",
    "* Every instance is an object, and its type is some class.\n",
    "* Every class is an object, too (its type is **type**!).\n",
    "\n",
    "That is why we call this Object-Oriented Programming.\n",
    "* We are using objects only a little bit now.\n",
    "* Soon we will write our own classes.\n",
    "* Then we will add some sophistication to how we write and use classes and objects.\n",
    "* Even so, because we are using objects now, we are already using Object-Oriented Programming (OOP)."
   ]
  },
  {
   "cell_type": "markdown",
   "metadata": {
    "id": "1V__D270SXGB"
   },
   "source": [
    "### Namespaces\n",
    "We can use namespaces to create mutable objects. This is a very handy way to store a collection of properties (or \"fields\") in a single object."
   ]
  },
  {
   "cell_type": "code",
   "execution_count": null,
   "metadata": {
    "colab": {
     "base_uri": "https://localhost:8080/"
    },
    "id": "Ng3bWDngRiFy",
    "outputId": "aaf2bb34-a833-4fe8-e046-5020b5b1bd88"
   },
   "outputs": [],
   "source": [
    "# Don't forget this import:\n",
    "\n",
    "from types import SimpleNamespace\n",
    "\n",
    "# Now we can create new object representing dogs:\n",
    "\n",
    "dog1 = SimpleNamespace(name='Dino', age=10, breed='shepherd')\n",
    "print(dog1)        # prints: namespace(age=10, breed='shepherd', name='Dino')\n",
    "print(dog1.name)   # prints: Dino\n",
    "\n",
    "# Next, let's show that this is in fact mutable:\n",
    "\n",
    "dog1.name = 'Fred'\n",
    "print(dog1)        # prints: namespace(age=10, breed='shepherd', name='Fred')\n",
    "print(dog1.name)   # prints: Fred\n",
    "\n",
    "# Now let's show that == works properly:\n",
    "\n",
    "dog2 = SimpleNamespace(name='Spot', age=12, breed='poodle')\n",
    "dog3 = SimpleNamespace(name='Fred', age=10, breed='shepherd')\n",
    "\n",
    "print(dog1 == dog2) # prints: False\n",
    "print(dog1 == dog3) # prints: True\n",
    "\n",
    "# Finally, let's see what the type of a dog object is:\n",
    "\n",
    "print(type(dog1))   # prints <class 'types.SimpleNamespace'>; (yuck)"
   ]
  },
  {
   "cell_type": "markdown",
   "metadata": {
    "id": "wKe14f3SSuv0"
   },
   "source": [
    "### Dataclasses\n",
    "\n",
    "A Dataclass is like a SimpleNamespace, with these improvements:\n",
    "* It has required fields.\n",
    "* It has a custom type.\n",
    "\n",
    "Let's revisit the example above, this time using a Dataclass:"
   ]
  },
  {
   "cell_type": "code",
   "execution_count": null,
   "metadata": {
    "colab": {
     "base_uri": "https://localhost:8080/"
    },
    "id": "xwDQiqYLS3fV",
    "outputId": "f057a452-988a-4187-b5a9-6bcd27d98881"
   },
   "outputs": [],
   "source": [
    "# Don't forget this import:\n",
    "\n",
    "from dataclasses import make_dataclass #short cut of defining new class\n",
    "\n",
    "# Now we can create a new class named Dog where\n",
    "# instances (individual dogs) have 3 properties\n",
    "# (fields): name, age, and breed\n",
    "\n",
    "Dog = make_dataclass('Dog', ['name', 'age', 'breed'])\n",
    "\n",
    "# Now we can create an instances of the Dog class:\n",
    "\n",
    "dog1 = Dog(name='Dino', age=10, breed='shepherd')\n",
    "print(dog1)        # prints: Dog(name='Dino', age=10, breed='shepherd')\n",
    "print(dog1.name)   # prints: Dino\n",
    "\n",
    "# Next, let's show that this is in fact mutable:\n",
    "\n",
    "dog1.name = 'Fred'\n",
    "print(dog1)        # prints: Dog(name='Fred', age=10, breed='shepherd')\n",
    "print(dog1.name)   # prints: Fred\n",
    "\n",
    "# Now let's show that the fields are in fact required:\n",
    "\n",
    "try:\n",
    "    dog2 = Dog(name='Dino', age=10)\n",
    "except Exception as e:\n",
    "    print(e) # prints: missing 1 required positional argument: 'breed'\n",
    "\n",
    "# Now let's show that == works properly:\n",
    "\n",
    "dog2 = Dog(name='Spot', age=12, breed='poodle')\n",
    "dog3 = Dog(name='Fred', age=10, breed='shepherd')\n",
    "\n",
    "print(dog1 == dog2) # prints: False\n",
    "print(dog1 == dog3) # prints: True\n",
    "\n",
    "# Finally, let's see what the type of a dog object is:\n",
    "\n",
    "print(type(dog1))            # prints <class 'types.Dog'&rt; (better)\n",
    "print(isinstance(dog1, Dog)) # prints True (great!)"
   ]
  },
  {
   "cell_type": "markdown",
   "metadata": {
    "id": "awNjtNhMTbHt"
   },
   "source": [
    "### Writing Classes\n",
    "\n"
   ]
  },
  {
   "cell_type": "code",
   "execution_count": null,
   "metadata": {
    "colab": {
     "base_uri": "https://localhost:8080/"
    },
    "id": "oDGNmnJ0TgJ3",
    "outputId": "d8fa8c13-3372-4ae9-fcd8-8890f22261c0"
   },
   "outputs": [],
   "source": [
    "# Create our own class:\n",
    "class Dog(object):\n",
    "    # a class must have a body, even if it does nothing, so we will\n",
    "    # use 'pass' for now...\n",
    "    pass\n",
    "\n",
    "# Create instances of our class:\n",
    "d1 = Dog()\n",
    "d2 = Dog()\n",
    "\n",
    "# Verify the type of these instances:\n",
    "print(type(d1))             # Dog (actually, class '__main__.Dog')\n",
    "print(isinstance(d2, Dog))  # True\n",
    "\n",
    "# Set and get properties (aka 'fields' or 'attributes') of these instances:\n",
    "d1.name = 'Dot'\n",
    "d1.age = 4\n",
    "d2.name = 'Elf'\n",
    "d2.age = 3\n",
    "print(d1.name, d1.age) # Dot 4\n",
    "print(d2.name, d2.age) # Elf 3"
   ]
  },
  {
   "cell_type": "markdown",
   "metadata": {
    "id": "MbXG8yvpT2xD"
   },
   "source": [
    "### Writing Constructors\n",
    "\n",
    "* Constructors let us pre-load our new instances with properties.\n",
    "* This lets us write code like so:\n",
    "\n",
    "\n",
    "```\n",
    "d1 = Dog('fred', 4) # now d1 is a Dog instance with name 'fred' and age 4\n",
    "```\n",
    "\n",
    "* We would like to write our constructor like this:\n",
    "\n",
    "\n",
    "\n",
    "```\n",
    "def constructor(dog, name, age):\n",
    "    # pre-load the dog instance with the given name and age:\n",
    "    dog.name = name\n",
    "    dog.age = age\n",
    "```\n",
    "\n",
    "* Unfortunately, Python does not use 'constructor' as the constructor name. Instead, it uses `'__init__'` (sorry about that), like so:\n",
    "\n",
    "\n",
    "\n",
    "```\n",
    "def __init__(dog, name, age):\n",
    "    # pre-load the dog instance with the given name and age:\n",
    "    dog.name = name\n",
    "    dog.age = age\n",
    "```\n",
    "\n",
    "\n"
   ]
  },
  {
   "cell_type": "markdown",
   "metadata": {
    "id": "6emswGoIUmXO"
   },
   "source": [
    "* Also, unfortunately, while we could name the instance 'dog' like we did, standard convention requires that we name it 'self' (sorry again), like so:\n",
    "\n",
    "```\n",
    "def __init__(self, name, age):\n",
    "    # pre-load the dog instance with the given name and age:\n",
    "    self.name = name\n",
    "    self.age = age\n",
    "```\n",
    "* Finally, we place this method inside the class and we have a constructor that we can use, like so:\n",
    "\n",
    "\n",
    "\n"
   ]
  },
  {
   "cell_type": "code",
   "execution_count": null,
   "metadata": {
    "colab": {
     "base_uri": "https://localhost:8080/"
    },
    "id": "pjiyygXYU1-4",
    "outputId": "12b7ebf6-bf51-4c03-db8c-583ef461415a"
   },
   "outputs": [],
   "source": [
    "class Dog(object):\n",
    "    def __init__(self, name, age):\n",
    "        # pre-load the dog instance with the given name and age:\n",
    "        self.name = name\n",
    "        self.age = age\n",
    " \n",
    "# Create instances of our class, using our new constructor\n",
    "d1 = Dog('Dot', 4)\n",
    "d2 = Dog('Elf', 3)\n",
    "\n",
    "print(d1.name, d1.age) # Dot 4\n",
    "print(d2.name, d2.age) # Elf 3"
   ]
  },
  {
   "cell_type": "markdown",
   "metadata": {
    "id": "pj50FiyOVBuD"
   },
   "source": [
    "### Writing Methods\n",
    "\n",
    "* Start with a function:"
   ]
  },
  {
   "cell_type": "code",
   "execution_count": null,
   "metadata": {
    "colab": {
     "base_uri": "https://localhost:8080/"
    },
    "id": "dXWYou_KVHhr",
    "outputId": "1e2303ce-35af-471b-dd86-27d2556d675c"
   },
   "outputs": [],
   "source": [
    "class Dog(object):\n",
    "    def __init__(self, name, age):\n",
    "        self.name = name\n",
    "        self.age = age\n",
    "\n",
    "# Here is a function we will turn into a method:\n",
    "def sayHi(dog):\n",
    "    print(f'Hi, my name is {dog.name} and I am {dog.age} years old!')\n",
    "\n",
    "d1 = Dog('Dot', 4)\n",
    "d2 = Dog('Elf', 3)\n",
    "\n",
    "sayHi(d1) # Hi, my name is Dot and I am 4 years old!\n",
    "sayHi(d2) # Hi, my name is Elf and I am 3 years old!"
   ]
  },
  {
   "cell_type": "markdown",
   "metadata": {
    "id": "zfnzmRe8VTiM"
   },
   "source": [
    "* Turn the function into a method, and the function call into a method call, like this:"
   ]
  },
  {
   "cell_type": "code",
   "execution_count": null,
   "metadata": {
    "colab": {
     "base_uri": "https://localhost:8080/"
    },
    "id": "vn3cTc8XVWaU",
    "outputId": "b186c1e1-4b2a-4a7c-823e-14809122040d"
   },
   "outputs": [],
   "source": [
    "class Dog(object):\n",
    "    def __init__(self, name, age):\n",
    "        self.name = name\n",
    "        self.age = age\n",
    "\n",
    "    # Now it is a method (simply by indenting it inside the class!)\n",
    "    def sayHi(dog):\n",
    "        print(f'Hi, my name is {dog.name} and I am {dog.age} years old!')\n",
    "\n",
    "d1 = Dog('Dot', 4)\n",
    "d2 = Dog('Elf', 3)\n",
    "\n",
    "# Notice how we change the function calls into method calls:\n",
    "\n",
    "d1.sayHi() # Hi, my name is Dot and I am 4 years old!\n",
    "d2.sayHi() # Hi, my name is Elf and I am 3 years old!"
   ]
  },
  {
   "cell_type": "markdown",
   "metadata": {
    "id": "z49Ym6vJVcR2"
   },
   "source": [
    "* Finally, use `self`, as convention requires:"
   ]
  },
  {
   "cell_type": "code",
   "execution_count": null,
   "metadata": {
    "colab": {
     "base_uri": "https://localhost:8080/"
    },
    "id": "WbAr1nESVboc",
    "outputId": "6d4258d2-b8bc-48c1-b066-8c456d1caaaa"
   },
   "outputs": [],
   "source": [
    "class Dog(object):\n",
    "    def __init__(self, name, age):\n",
    "        self.name = name\n",
    "        self.age = age\n",
    "\n",
    "    # Now we are using self, as convention requires:\n",
    "    def sayHi(self):\n",
    "        print(f'Hi, my name is {self.name} and I am {self.age} years old!')\n",
    "\n",
    "d1 = Dog('Dot', 4)\n",
    "d2 = Dog('Elf', 3)\n",
    "\n",
    "# Notice how we change the function calls into method calls:\n",
    "\n",
    "d1.sayHi() # Hi, my name is Dot and I am 4 years old!\n",
    "d2.sayHi() # Hi, my name is Elf and I am 3 years old!"
   ]
  },
  {
   "cell_type": "markdown",
   "metadata": {
    "id": "GAs-EB5hVsFF"
   },
   "source": [
    "* Methods can take additional parameters, like so:"
   ]
  },
  {
   "cell_type": "code",
   "execution_count": null,
   "metadata": {
    "colab": {
     "base_uri": "https://localhost:8080/"
    },
    "id": "UOVZXlK4Vwfp",
    "outputId": "bec76f5d-85db-4d0c-870f-b83468d2424f"
   },
   "outputs": [],
   "source": [
    "class Dog(object):\n",
    "    def __init__(self, name, age):\n",
    "        self.name = name\n",
    "        self.age = age\n",
    "\n",
    "    # This method takes a second parameter -- times\n",
    "    def bark(self, times):\n",
    "        print(f'{self.name} says: {\"woof!\" * times}')\n",
    "\n",
    "d = Dog('Dot', 4)\n",
    "\n",
    "d.bark(1) # Dot says: woof!\n",
    "d.bark(4) # Dot says: woof!woof!woof!woof!"
   ]
  },
  {
   "cell_type": "markdown",
   "metadata": {
    "id": "iqLzcqXrV95e"
   },
   "source": [
    "* Methods can also set properties, like so:"
   ]
  },
  {
   "cell_type": "code",
   "execution_count": null,
   "metadata": {
    "colab": {
     "base_uri": "https://localhost:8080/"
    },
    "id": "H78TGM3iWAPf",
    "outputId": "1e079dea-eae3-46dd-f532-c3ff8045e736"
   },
   "outputs": [],
   "source": [
    "class Dog(object):\n",
    "    def __init__(self, name, age):\n",
    "        self.name = name\n",
    "        self.age = age\n",
    "        self.woofCount = 0   # we initialize the property in the constructor!\n",
    "\n",
    "    def bark(self, times):\n",
    "        # Then we can set and get the property in this method\n",
    "        self.woofCount += times\n",
    "        print(f'{self.name} says: {\"woof!\" * times} ({self.woofCount} woofs!)')\n",
    "\n",
    "d = Dog('Dot', 4)\n",
    "\n",
    "d.bark(1) # Dot says: woof!\n",
    "d.bark(4) # Dot says: woof!woof!woof!woof!"
   ]
  },
  {
   "cell_type": "markdown",
   "metadata": {},
   "source": [
    "Activity: Modify the code above so that the dog barks as many times as his/her age."
   ]
  },
  {
   "cell_type": "code",
   "execution_count": null,
   "metadata": {},
   "outputs": [],
   "source": []
  },
  {
   "cell_type": "markdown",
   "metadata": {
    "id": "3VFDKapMWJ0y"
   },
   "source": [
    "### Advantages of Classes and Methods\n",
    "\n",
    "1. Encapsulation\n",
    "  * Organizes code\n",
    "  \n",
    "  A class includes the data and methods for that class.\n",
    "\n",
    "  * Promotes intuitive design\n",
    "\n",
    "Well-designed classes should be intuitive, so the data and methods in the class match commonsense expectations.\n",
    "\n",
    "2. Polymorphism\n",
    "  * Polymorphism: the same method name can run different code based on type, like so:"
   ]
  },
  {
   "cell_type": "code",
   "execution_count": null,
   "metadata": {
    "colab": {
     "base_uri": "https://localhost:8080/"
    },
    "id": "WIhr5HMGWb4T",
    "outputId": "9bbc8549-380a-458f-e924-4eb31be50952"
   },
   "outputs": [],
   "source": [
    "class Dog(object):\n",
    "    def speak(self):\n",
    "        print('woof!')\n",
    "\n",
    "class Cat(object):\n",
    "    def speak(self):\n",
    "        print('meow!')\n",
    "\n",
    "for animal in [ Dog(), Cat() ]:\n",
    "    animal.speak() # same method name, but one woofs and one meows!"
   ]
  },
  {
   "cell_type": "markdown",
   "metadata": {},
   "source": [
    "## Objects and Aliases"
   ]
  },
  {
   "cell_type": "code",
   "execution_count": null,
   "metadata": {},
   "outputs": [],
   "source": [
    "# Objects are mutable so aliases change!\n",
    "# Run this with the visualizer to make it clear!\n",
    "\n",
    "import copy\n",
    "\n",
    "class Dog:\n",
    "    def __init__(self, name, age, breed):\n",
    "        self.name = name\n",
    "        self.age = age\n",
    "        self.breed = breed\n",
    "\n",
    "dog1 = Dog('Dino', 10, 'shepherd')\n",
    "dog2 = dog1            # this is an alias\n",
    "dog3 = copy.copy(dog1) # this is a copy, not an alias\n",
    "\n",
    "dog1.name = 'Spot'\n",
    "print(dog2.name) # Spot (the alias changed, since it is the same object)\n",
    "print(dog3.name) # Dino (the copy did not change, since it is a different object)"
   ]
  }
 ],
 "metadata": {
  "colab": {
   "collapsed_sections": [],
   "name": "demo13_OOP.ipynb",
   "provenance": []
  },
  "kernelspec": {
   "display_name": "Python 3",
   "language": "python",
   "name": "python3"
  },
  "language_info": {
   "codemirror_mode": {
    "name": "ipython",
    "version": 3
   },
   "file_extension": ".py",
   "mimetype": "text/x-python",
   "name": "python",
   "nbconvert_exporter": "python",
   "pygments_lexer": "ipython3",
   "version": "3.8.3"
  }
 },
 "nbformat": 4,
 "nbformat_minor": 1
}
