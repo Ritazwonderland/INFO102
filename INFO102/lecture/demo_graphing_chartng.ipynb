{
  "cells": [
    {
      "cell_type": "markdown",
      "metadata": {
        "id": "H9dD8nSit7wn"
      },
      "source": [
        "# Data Visualization and Exploration\n",
        "\n",
        "Data visualization can help us understand the structure of the data. This step is very important especially when we arrive at analyzing the data in order to apply Machine learning. Plotting consists of Histograms, Box plot, Scatter plot and many more. It often takes much time to explore the data. Through the process, we can ask to define the problem statement or definition on our data set which is very important.\n",
        "\n",
        "In addition to data visualization, we also have other ways of exploring the data, especially when the data are in text format. Unsupervised methods include word cloud, topic modeling, and so on. Unsupervised methods are helpful in data exploration, description, or visualization. They are useful when we knew little about the data but nonetheless need to tell a story about it. They are useful in data journalism. But they can be problematic in revealing false pattern or making misleading statement. For example, a topic modeling of twitter feeds may give us very different patterns over Super Bowl compared to an event such as political election.\n",
        "\n",
        "\n"
      ]
    },
    {
      "cell_type": "markdown",
      "metadata": {
        "id": "OBVGjr4AAfy9"
      },
      "source": [
        "## Scientific graphing and charting\n",
        "\n",
        "First, we will use some Python modules to illustrate different types of data in different formats. \n",
        "\n",
        "Graphing and charting help us to understand the basic statistics of data, such as frequency and distribution along certain values. \n"
      ]
    },
    {
      "cell_type": "markdown",
      "metadata": {
        "id": "WContjZEBitv"
      },
      "source": [
        "### Line chart, bar chart, pie chart (review)\n",
        "\n",
        "We'll now use the Matplotlib package for visualization in Python. Matplotlib is a multi-platform data visualization library built on NumPy arrays, and designed to work with the broader SciPy stack. It was conceived by John Hunter in 2002, originally as a patch to IPython for enabling interactive MATLAB-style plotting via gnuplot from the IPython command line. IPython's creator, Fernando Perez, was at the time scrambling to finish his PhD, and let John know he wouldn’t have time to review the patch for several months. John took this as a cue to set out on his own, and the Matplotlib package was born, with version 0.1 released in 2003. It received an early boost when it was adopted as the plotting package of choice of the Space Telescope Science Institute (the folks behind the Hubble Telescope), which financially supported Matplotlib’s development and greatly expanded its capabilities."
      ]
    },
    {
      "cell_type": "code",
      "execution_count": null,
      "metadata": {
        "id": "3SYRv4c2BoEm"
      },
      "outputs": [],
      "source": [
        "# import matplotlib\n",
        "import matplotlib.pyplot as plt\n",
        "plt.style.use('classic')\n",
        "%matplotlib inline\n",
        "\n",
        "# change image size\n",
        "plt.rcParams['figure.figsize'] = [15, 9]\n",
        "\n",
        "import numpy as np\n",
        "\n",
        "# generate evenly spaced numbers over a specified interval \n",
        "x = np.linspace(0, 10, 100)\n",
        "print(x) \n",
        "\n",
        "# plot two mathematical functions -- sin and cos\n",
        "plt.plot(x, np.sin(x))\n",
        "plt.plot(x, np.cos(x))\n",
        " \n",
        "plt.show()"
      ]
    },
    {
      "cell_type": "markdown",
      "metadata": {
        "id": "5tQWjzQaDNQ8"
      },
      "source": [
        "You can change the color and style of the lines."
      ]
    },
    {
      "cell_type": "code",
      "execution_count": null,
      "metadata": {
        "id": "yAMNSHCkDNtJ"
      },
      "outputs": [],
      "source": [
        "import numpy as np\n",
        "x = np.linspace(0, 10, 100)\n",
        "\n",
        "fig = plt.figure()\n",
        "# solid line\n",
        "plt.plot(x, np.sin(x), '-', color='r')\n",
        "# dash line\n",
        "plt.plot(x, np.cos(x), '--', color='b');"
      ]
    },
    {
      "cell_type": "markdown",
      "metadata": {
        "id": "RXxXXI7bDQo5"
      },
      "source": [
        "We can also make other types of graphs, such as Bar Charts."
      ]
    },
    {
      "cell_type": "code",
      "execution_count": null,
      "metadata": {
        "id": "u7Mdc5l4DS2B"
      },
      "outputs": [],
      "source": [
        "import matplotlib.pyplot as plt\n",
        "\n",
        "# Look at index 4 and 6, which demonstrate overlapping cases.\n",
        "x1 = [1, 3, 4, 5, 6, 7, 9]\n",
        "y1 = [4, 7, 2, 4, 7, 8, 3]\n",
        "\n",
        "x2 = [2, 4, 6, 8, 10]\n",
        "y2 = [5, 6, 2, 6, 2]\n",
        "\n",
        "# Colors: https://matplotlib.org/api/colors_api.html\n",
        "\n",
        "plt.bar(x1, y1, label=\"Blue Bar\", color='b')\n",
        "plt.bar(x2, y2, label=\"Green Bar\", color='g')\n",
        "plt.plot()\n",
        "\n",
        "plt.xlabel(\"bar number\")\n",
        "plt.ylabel(\"bar height\")\n",
        "plt.title(\"Bar Chart Example\")\n",
        "plt.legend()\n",
        "plt.show()"
      ]
    },
    {
      "cell_type": "markdown",
      "metadata": {
        "id": "WT5o2oB0DXer"
      },
      "source": [
        "Or histograms.\n",
        "\n",
        "(Note: A histogram is similar to a Bar Chart, but a histogram groups numbers into ranges .\n",
        "\n",
        "The height of each bar shows how many fall into each range.\n",
        "\n",
        "And you decide what ranges to use!)"
      ]
    },
    {
      "cell_type": "code",
      "execution_count": null,
      "metadata": {
        "id": "Q3uBymdbDYX3"
      },
      "outputs": [],
      "source": [
        "import matplotlib.pyplot as plt\n",
        "import numpy as np\n",
        "\n",
        "# Use numpy to generate a bunch of random data in a bell curve around 5.\n",
        "n = 5 + np.random.randn(1000)\n",
        "\n",
        "m = [m for m in range(len(n))]\n",
        "plt.bar(m, n)\n",
        "plt.title(\"Raw Data\")\n",
        "plt.show()\n",
        "\n",
        "plt.hist(n, bins=20)\n",
        "plt.title(\"Histogram\")\n",
        "plt.show()\n",
        "\n",
        "plt.hist(n, cumulative=True, bins=20)\n",
        "plt.title(\"Cumulative Histogram\")\n",
        "plt.show()"
      ]
    },
    {
      "cell_type": "markdown",
      "metadata": {
        "id": "vlQHxlm3Dogo"
      },
      "source": [
        "Or scatter plot\n",
        "\n",
        "(Note: A Scatter (XY) Plot has points that show the relationship between two sets of data.)"
      ]
    },
    {
      "cell_type": "code",
      "execution_count": null,
      "metadata": {
        "id": "io9s3c89Dg5i"
      },
      "outputs": [],
      "source": [
        "import matplotlib.pyplot as plt\n",
        "\n",
        "x1 = [2, 3, 4]\n",
        "y1 = [5, 5, 5]\n",
        "\n",
        "x2 = [1, 2, 3, 4, 5]\n",
        "y2 = [2, 3, 2, 3, 4]\n",
        "y3 = [6, 8, 7, 8, 7]\n",
        "\n",
        "# Markers: https://matplotlib.org/api/markers_api.html\n",
        "\n",
        "plt.scatter(x1, y1)\n",
        "plt.scatter(x2, y2, marker='v', color='r')\n",
        "plt.scatter(x2, y3, marker='^', color='m')\n",
        "plt.title('Scatter Plot Example')\n",
        "plt.show()"
      ]
    },
    {
      "cell_type": "markdown",
      "metadata": {
        "id": "3kJbYlnxDewN"
      },
      "source": [
        "Or pie chart"
      ]
    },
    {
      "cell_type": "code",
      "execution_count": null,
      "metadata": {
        "id": "StQgd6PtDrkF"
      },
      "outputs": [],
      "source": [
        "import matplotlib.pyplot as plt\n",
        "\n",
        "labels = 'S1', 'S2', 'S3'\n",
        "sections = [56, 66, 24]\n",
        "colors = ['c', 'g', 'y']\n",
        "\n",
        "plt.pie(sections, labels=labels, colors=colors,\n",
        "        startangle=90,\n",
        "        explode = (0, 0.1, 0),\n",
        "        autopct = '%1.2f%%')\n",
        "\n",
        "plt.axis('equal') # Try commenting this out.\n",
        "plt.title('Pie Chart Example')\n",
        "plt.show()"
      ]
    },
    {
      "cell_type": "markdown",
      "metadata": {
        "id": "J0JhLzCnDzPO"
      },
      "source": [
        "Now try to generate some complicated data and visualize it with lines."
      ]
    },
    {
      "cell_type": "code",
      "execution_count": null,
      "metadata": {
        "id": "npI-5ix7D1TK"
      },
      "outputs": [],
      "source": [
        "# Create some data\n",
        "rng = np.random.RandomState(0)\n",
        "x = np.linspace(0, 10, 500)\n",
        "y = np.cumsum(rng.randn(500, 6), 0)\n",
        "\n",
        "print(\"print out x:\")\n",
        "print(x)\n",
        "print(\"print out y:\")\n",
        "print(y)"
      ]
    },
    {
      "cell_type": "code",
      "execution_count": null,
      "metadata": {
        "id": "UFEukoaPD4Ox"
      },
      "outputs": [],
      "source": [
        "# Plot the data with Matplotlib defaults\n",
        "plt.plot(x, y)\n",
        "plt.legend('ABCDEF', ncol=2, loc='upper left');"
      ]
    },
    {
      "cell_type": "markdown",
      "metadata": {
        "id": "ARovc7JUD7YF"
      },
      "source": [
        "### Exercise 1\n",
        "\n",
        "Choose one type of charts that are described above to intuitively illustrate the gender composition of our class."
      ]
    },
    {
      "cell_type": "code",
      "execution_count": null,
      "metadata": {
        "id": "BrwM03iMGi5O"
      },
      "outputs": [],
      "source": [
        "## Complete your code here\n",
        "## Complete your code here\n",
        "\n",
        "labels = 'in-china', 'outside-of-china'\n",
        "sections = [6,7]\n",
        "colors = ['b', 'g']\n",
        "\n",
        "plt.pie(sections, labels=labels, colors=colors,\n",
        "        startangle=90,\n",
        "        autopct = '%1.6f%%')\n",
        "\n",
        "plt.axis('equal') # Try commenting this out.\n",
        "plt.title('location composition')\n",
        "plt.show()"
      ]
    },
    {
      "cell_type": "markdown",
      "metadata": {
        "id": "R2QbHRHgG0y8"
      },
      "source": [
        "## Visualization with Seaborn\n",
        "\n",
        "One advantage of using Python is to make use of various packages that are available at our disposal.\n",
        "\n",
        "Now let's take a look at how it works with Seaborn, a newer visualization package. As we will see, Seaborn has many of its own high-level plotting routines, but it can also overwrite Matplotlib's default parameters and in turn get even simple Matplotlib scripts to produce vastly superior output. We can set the style by calling Seaborn's set() method. By convention, Seaborn is imported as sns:"
      ]
    },
    {
      "cell_type": "code",
      "execution_count": null,
      "metadata": {
        "id": "0nX98c9-IKWf",
        "scrolled": true
      },
      "outputs": [],
      "source": [
        "import seaborn as sns\n",
        "import pandas.util.testing as tm\n",
        "sns.set()\n",
        "\n",
        "# same plotting code as above!\n",
        "plt.plot(x, y)\n",
        "plt.legend('ABCDEF', ncol=2, loc='upper left');"
      ]
    },
    {
      "cell_type": "markdown",
      "metadata": {
        "id": "uXKQpfAQI86y"
      },
      "source": [
        "We'll be using a cool Pokémon dataset (first generation). "
      ]
    },
    {
      "cell_type": "markdown",
      "metadata": {
        "id": "0FKz6WVUJTzI"
      },
      "source": [
        "Once you've downloaded the CSV file, you can import it with Pandas.\n",
        "\n",
        "Tip: The argument  index_col=0 simply means we'll treat the first column of the dataset as the ID column."
      ]
    },
    {
      "cell_type": "code",
      "execution_count": null,
      "metadata": {
        "id": "FBRYYHvtJUgt"
      },
      "outputs": [],
      "source": [
        "# pandas for managing datasets\n",
        "import pandas as pd\n",
        "\n",
        "# Read dataset\n",
        "df = pd.read_csv('Pokemon.csv', encoding= 'unicode_escape')"
      ]
    },
    {
      "cell_type": "markdown",
      "metadata": {
        "id": "e8Q35c2BgRJP"
      },
      "source": [
        "Here's what the dataset looks like:"
      ]
    },
    {
      "cell_type": "code",
      "execution_count": null,
      "metadata": {
        "id": "N3z7_-MIgTSb"
      },
      "outputs": [],
      "source": [
        "# Display first 10 observations\n",
        "df.head(10)"
      ]
    },
    {
      "cell_type": "markdown",
      "metadata": {
        "id": "OuvnIStZFBXK"
      },
      "source": [
        "### Seaborn's plotting functions\n",
        "\n",
        "One of Seaborn's greatest strengths is its diversity of plotting functions. For instance, making a scatter plot is just one line of code using the lmplot() function.\n",
        "\n",
        "The way is to pass your DataFrame to the data= argument, while passing column names to the axes arguments, x= and y=."
      ]
    },
    {
      "cell_type": "code",
      "execution_count": null,
      "metadata": {
        "id": "8MhSOQxkFIhX"
      },
      "outputs": [],
      "source": [
        "sns.lmplot(x='Attack', y='Defense', data=df)"
      ]
    },
    {
      "cell_type": "markdown",
      "metadata": {
        "id": "dSL59VyaGIjh"
      },
      "source": [
        "Seaborn doesn't have a dedicated scatter plot function, which is why you see a diagonal line. We actually used Seaborn's function for fitting and plotting a regression line.\n",
        "\n",
        "Thankfully, each plotting function has several useful options that you can set. Here's how we can tweak the lmplot():\n",
        "\n",
        "First, we'll set fit_reg=False to remove the regression line, since we only want a scatter plot.\n",
        "\n",
        "Then, we'll set hue='Stage' to color our points by the Pokémon's evolution stage. This hue argument is very useful because it allows you to express a third dimension of information using color."
      ]
    },
    {
      "cell_type": "code",
      "execution_count": null,
      "metadata": {
        "id": "dmw3-AypGKvH"
      },
      "outputs": [],
      "source": [
        "# Scatterplot arguments\n",
        "sns.lmplot(x='Attack', y='Defense', data=df,\n",
        "           fit_reg=False, # No regression line\n",
        "           hue='Stage')   # Color by evolution stage"
      ]
    },
    {
      "cell_type": "markdown",
      "metadata": {
        "id": "fqDr6vsXHGLv"
      },
      "source": [
        "Looking better, but we can improve this scatter plot further. For example, all of our Pokémon have positive Attack and Defense values, yet our axes limits fall below zero. Let's see how we can fix that..."
      ]
    },
    {
      "cell_type": "markdown",
      "metadata": {
        "id": "c_t7WElyHX1x"
      },
      "source": [
        "### Customizing with Matplotlib\n",
        "\n",
        "Remember, Seaborn is a high-level interface to Matplotlib. From our experience, Seaborn will get you most of the way there, but you'll sometimes need to bring in Matplotlib.\n",
        "\n",
        "Setting your axes limits is one of those times, but the process is pretty simple:\n",
        "\n",
        "1. First, invoke your Seaborn plotting function as normal.\n",
        "2. Then, invoke Matplotlib's customization functions. In this case, we'll use its ylim() and xlim() functions.\n",
        "\n",
        "Here's our new scatter plot with sensible axes limits:"
      ]
    },
    {
      "cell_type": "code",
      "execution_count": null,
      "metadata": {
        "id": "9StF-c0-HIjC"
      },
      "outputs": [],
      "source": [
        "# Plot using Seaborn\n",
        "sns.lmplot(x='Attack', y='Defense', data=df,\n",
        "           fit_reg=False, \n",
        "           hue='Stage')\n",
        " \n",
        "# Tweak using Matplotlib\n",
        "\n",
        "plt.ylim(0, None)\n",
        "plt.xlim(0, None)"
      ]
    },
    {
      "cell_type": "markdown",
      "metadata": {
        "id": "kUEpoJ5rHtT9"
      },
      "source": [
        "### The role of Pandas\n",
        "\n",
        "Even though this is a Seaborn tutorial, Pandas actually plays a very important role. You see, Seaborn's plotting functions benefit from a base DataFrame that's reasonably formatted.\n",
        "\n",
        "For example, let's say we wanted to make a box plot for our Pokémon's combat stats:"
      ]
    },
    {
      "cell_type": "code",
      "execution_count": null,
      "metadata": {
        "id": "Eu3Ao2-lHzU3"
      },
      "outputs": [],
      "source": [
        "# Boxplot\n",
        "sns.boxplot(data=df)"
      ]
    },
    {
      "cell_type": "markdown",
      "metadata": {
        "id": "S5Azt4upKWAK"
      },
      "source": [
        "Well, that's a reasonable start, but there are some columns we'd probably like to remove:\n",
        "\n",
        "* We can remove the Total since we have individual stats.\n",
        "* We can remove the Stage and Legendary columns because they aren't combat stats.\n",
        "\n",
        "In turns out that this isn't easy to do within Seaborn alone. Instead, it's much simpler to pre-format your DataFrame.\n",
        "\n",
        "Let's create a new DataFrame called stats_df that only keeps the stats columns:"
      ]
    },
    {
      "cell_type": "code",
      "execution_count": null,
      "metadata": {
        "id": "W6hla2TIKdyw"
      },
      "outputs": [],
      "source": [
        "# Pre-format DataFrame\n",
        "stats_df = df.drop(['Total', 'Stage', 'Legendary'], axis=1)\n",
        " \n",
        "# New boxplot using stats_df\n",
        "sns.boxplot(data=stats_df)"
      ]
    },
    {
      "cell_type": "markdown",
      "metadata": {
        "id": "dyriqqqCLZBc"
      },
      "source": [
        "### Seaborn themes\n",
        "\n",
        "Another advantage of Seaborn is that it comes with decent style themes right out of the box. The default theme is called 'darkgrid'.\n",
        "\n",
        "Next, we'll change the theme to 'whitegrid' while making a violin plot.\n",
        "\n",
        "* Violin plots are useful alternatives to box plots.\n",
        "* They show the distribution (through the thickness of the violin) instead of only the summary statistics.\n",
        "\n",
        "For example, we can visualize the distribution of Attack by Pokémon's primary type:"
      ]
    },
    {
      "cell_type": "code",
      "execution_count": null,
      "metadata": {
        "id": "zNq_jCdbLhV_"
      },
      "outputs": [],
      "source": [
        "# Set theme\n",
        "sns.set_style('whitegrid')\n",
        " \n",
        "# Violin plot\n",
        "sns.violinplot(x='Type 1', y='Attack', data=df)"
      ]
    },
    {
      "cell_type": "markdown",
      "metadata": {
        "id": "edeDGDh2MKnk"
      },
      "source": [
        "As you can see, Dragon types tend to have higher Attack stats than Ghost types, but they also have greater variance.\n",
        "\n",
        "Now, Pokémon fans might find something quite jarring about that plot: The colors are nonsensical. Why is the Grass type colored pink or the Water type colored orange? We must fix this!"
      ]
    },
    {
      "cell_type": "markdown",
      "metadata": {
        "id": "deRxRen9MNlU"
      },
      "source": [
        "### Color palettes\n",
        "\n",
        "Fortunately, Seaborn allows us to set custom color palettes. We can simply create an ordered Python list of color hex values.\n",
        "\n",
        "Let's use Bulbapedia to help us create a new color palette:"
      ]
    },
    {
      "cell_type": "code",
      "execution_count": null,
      "metadata": {
        "id": "zCFV0swPMTdX"
      },
      "outputs": [],
      "source": [
        "pkmn_type_colors = ['#78C850',  # Grass\n",
        "                    '#F08030',  # Fire\n",
        "                    '#6890F0',  # Water\n",
        "                    '#A8B820',  # Bug\n",
        "                    '#A8A878',  # Normal\n",
        "                    '#A040A0',  # Poison\n",
        "                    '#F8D030',  # Electric\n",
        "                    '#E0C068',  # Ground\n",
        "                    '#EE99AC',  # Fairy\n",
        "                    '#C03028',  # Fighting\n",
        "                    '#F85888',  # Psychic\n",
        "                    '#B8A038',  # Rock\n",
        "                    '#705898',  # Ghost\n",
        "                    '#98D8D8',  # Ice\n",
        "                    '#7038F8',  # Dragon\n",
        "                   ]"
      ]
    },
    {
      "cell_type": "markdown",
      "metadata": {
        "id": "OYGw-Y8jMX5o"
      },
      "source": [
        "Wonderful. Now we can simply use the palette= argument to recolor our chart."
      ]
    },
    {
      "cell_type": "code",
      "execution_count": null,
      "metadata": {
        "id": "7_94VGQnMYTn"
      },
      "outputs": [],
      "source": [
        "# Violin plot with Pokemon color palette\n",
        "sns.violinplot(x='Type 1', y='Attack', data=df, \n",
        "               palette=pkmn_type_colors) # Set color palette"
      ]
    },
    {
      "cell_type": "markdown",
      "metadata": {
        "id": "KSWTs7d5M9Xd"
      },
      "source": [
        "Much better!\n",
        "\n",
        "Violin plots are great for visualizing distributions. However, since we only have 151 Pokémon in our dataset, we may want to simply display each point.\n",
        "\n",
        "That's where the swarm plot comes in. This visualization will show each point, while \"stacking\" those with similar values:"
      ]
    },
    {
      "cell_type": "code",
      "execution_count": null,
      "metadata": {
        "id": "Rgj3vLFSM_75"
      },
      "outputs": [],
      "source": [
        "# Swarm plot with Pokemon color palette\n",
        "sns.swarmplot(x='Type 1', y='Attack', data=df, \n",
        "              palette=pkmn_type_colors)"
      ]
    },
    {
      "cell_type": "markdown",
      "metadata": {
        "id": "2dDX_tTmNrIl"
      },
      "source": [
        "That's handy, but can't we combine our swarm plot and the violin plot? After all, they display similar information, right?"
      ]
    },
    {
      "cell_type": "markdown",
      "metadata": {
        "id": "0flH4U_8NzeJ"
      },
      "source": [
        "### Overlaying plots\n",
        "\n",
        "The answer is yes.\n",
        "\n",
        "It's pretty straightforward to overlay plots using Seaborn, and it works the same way as with Matplotlib. Here's what we'll do:\n",
        "\n",
        "1. First, we'll make our figure larger using Matplotlib.\n",
        "2. Then, we'll plot the violin plot. However, we'll set inner=None to remove the bars inside the violins.\n",
        "3. Next, we'll plot the swarm plot. This time, we'll make the points black so they pop out more.\n",
        "4. Finally, we'll set a title using Matplotlib."
      ]
    },
    {
      "cell_type": "code",
      "execution_count": null,
      "metadata": {
        "id": "HBt-SDzeN8i6"
      },
      "outputs": [],
      "source": [
        "# Set figure size with matplotlib\n",
        "plt.figure(figsize=(12,9))\n",
        " \n",
        "# Create plot\n",
        "sns.violinplot(x='Type 1',\n",
        "               y='Attack', \n",
        "               data=df, \n",
        "               inner=None, # Remove the bars inside the violins\n",
        "               palette=pkmn_type_colors)\n",
        " \n",
        "sns.swarmplot(x='Type 1', \n",
        "              y='Attack', \n",
        "              data=df, \n",
        "              color='k', # Make points black\n",
        "              alpha=0.7) # and slightly transparent\n",
        " \n",
        "# Set title with matplotlib\n",
        "plt.title('Attack by Type')"
      ]
    },
    {
      "cell_type": "markdown",
      "metadata": {
        "id": "ECdcPgU2Pcgb"
      },
      "source": [
        "Awesome, now we have a pretty chart that tells us how Attack values are distributed across different Pokémon types. But what it we want to see all of the other stats as well?"
      ]
    },
    {
      "cell_type": "markdown",
      "metadata": {
        "id": "ZMkJMiE1H-nQ"
      },
      "source": [
        "## Exercise 2\n",
        "\n",
        "When we explore the pattern of data, we often use pair plots. This is very useful for exploring correlations between multidimensional data, when you'd like to plot all pairs of values against each other.\n",
        "\n",
        "Create a pairplot using Pokémon dataset (Hint: you should drop columns that are not useful for plotting)."
      ]
    },
    {
      "cell_type": "code",
      "execution_count": null,
      "metadata": {
        "id": "uqCQ3_OcIU2o"
      },
      "outputs": [],
      "source": [
        "## your code here\n",
        "sns.pairplot(data = stats_df)"
      ]
    },
    {
      "cell_type": "markdown",
      "metadata": {
        "id": "UPWStb_yPewd"
      },
      "source": [
        "### Putting it all together\n",
        "\n",
        "Well, we could certainly repeat that chart for each stat. But we can also combine the information into one chart... we just have to do some data wrangling with Pandas beforehand.\n",
        "\n",
        "First, here's a reminder of our data format:"
      ]
    },
    {
      "cell_type": "code",
      "execution_count": null,
      "metadata": {
        "id": "bfKLeLIVPjB6"
      },
      "outputs": [],
      "source": [
        "stats_df.head()"
      ]
    },
    {
      "cell_type": "markdown",
      "metadata": {
        "id": "tI5FxULGPqGh"
      },
      "source": [
        "As you can see, all of our stats are in separate columns. Instead, we want to \"melt\" them into one column.\n",
        "\n",
        "To do so, we'll use Pandas's melt() function. It takes 3 arguments:\n",
        "\n",
        "* First, the DataFrame to melt.\n",
        "* Second, ID variables to keep (Pandas will melt all of the other ones).\n",
        "* Finally, a name for the new, melted variable.\n",
        "\n",
        "Here's the output:"
      ]
    },
    {
      "cell_type": "code",
      "execution_count": null,
      "metadata": {
        "id": "Qi-xkXDkPu60"
      },
      "outputs": [],
      "source": [
        "# Melt DataFrame\n",
        "melted_df = pd.melt(stats_df, \n",
        "                    id_vars=[\"Name\", \"Type 1\", \"Type 2\"], # Variables to keep\n",
        "                    var_name=\"Stat\") # Name of melted variable\n",
        "melted_df.head()"
      ]
    },
    {
      "cell_type": "markdown",
      "metadata": {
        "id": "oonOitJUQDpW"
      },
      "source": [
        "All 6 of the stat columns have been \"melted\" into one, and the new Stat column indicates the original stat (HP, Attack, Defense, Sp. Attack, Sp. Defense, or Speed). For example, it's hard to see here, but Bulbasaur now has 6 rows of data.\n",
        "\n",
        "In fact, if you print the shape of these two DataFrames..."
      ]
    },
    {
      "cell_type": "code",
      "execution_count": null,
      "metadata": {
        "id": "grAk0J3EQGvd"
      },
      "outputs": [],
      "source": [
        "print( stats_df.shape )\n",
        "print( melted_df.shape )"
      ]
    },
    {
      "cell_type": "markdown",
      "metadata": {
        "id": "TRRr3LreQNZF"
      },
      "source": [
        "...you'll find that melted_df has 6 times the number of rows as stats_df.\n",
        "\n",
        "Now we can make a swarm plot with melted_df.\n",
        "\n",
        "* But this time, we're going to set x='Stat' and y='value' so our swarms are separated by stat.\n",
        "* Then, we'll set hue='Type 1' to color our points by the Pokémon type."
      ]
    },
    {
      "cell_type": "code",
      "execution_count": null,
      "metadata": {
        "id": "X6zY3H-qQSZ1"
      },
      "outputs": [],
      "source": [
        "# Swarmplot with melted_df\n",
        "sns.swarmplot(x='Stat', y='value', data=melted_df, hue='Type 1')"
      ]
    },
    {
      "cell_type": "markdown",
      "metadata": {
        "id": "5KLhjcGzQf8H"
      },
      "source": [
        "Finally, let's make a few final tweaks for a more readable chart:\n",
        "\n",
        "1. Enlarge the plot.\n",
        "2. Separate points by hue using the argument split=True .\n",
        "3. Use our custom Pokemon color palette.\n",
        "4. Adjust the y-axis limits to end at 0.\n",
        "5. Place the legend to the right."
      ]
    },
    {
      "cell_type": "code",
      "execution_count": null,
      "metadata": {
        "id": "q0gOhrycQmkk"
      },
      "outputs": [],
      "source": [
        "# 1. Enlarge the plot\n",
        "plt.figure(figsize=(20,12))\n",
        " \n",
        "sns.swarmplot(x='Stat', \n",
        "              y='value', \n",
        "              data=melted_df, \n",
        "              hue='Type 1', \n",
        "              dodge=True, # 2. Separate points by hue\n",
        "              palette=pkmn_type_colors) # 3. Use Pokemon palette\n",
        " \n",
        "# 4. Adjust the y-axis\n",
        "plt.ylim(0, 260)\n",
        " \n",
        "# 5. Place legend to the right\n",
        "plt.legend(bbox_to_anchor=(1, 1), loc=2)"
      ]
    },
    {
      "cell_type": "markdown",
      "metadata": {
        "id": "3YINI-rdSwnS"
      },
      "source": [
        "### Heatmap\n",
        "\n",
        "Heatmaps help you visualize matrix-like data."
      ]
    },
    {
      "cell_type": "code",
      "execution_count": null,
      "metadata": {
        "id": "hB6pXmCGSz5i"
      },
      "outputs": [],
      "source": [
        "# Calculate correlations\n",
        "corr = stats_df.corr()\n",
        " \n",
        "# Heatmap\n",
        "sns.heatmap(corr)"
      ]
    },
    {
      "cell_type": "markdown",
      "metadata": {
        "id": "R6ag-hArS-xi"
      },
      "source": [
        "### Histogram\n",
        "\n",
        "Histograms allow you to plot the distributions of numeric variables."
      ]
    },
    {
      "cell_type": "code",
      "execution_count": null,
      "metadata": {
        "id": "CY1jJP4CTCBv"
      },
      "outputs": [],
      "source": [
        "sns.distplot(df.Attack)"
      ]
    },
    {
      "cell_type": "markdown",
      "metadata": {
        "id": "z4y3m0nTYk0_"
      },
      "source": [
        "### Bar Plot\n",
        "\n",
        "Bar plots help you visualize the distributions of categorical variables."
      ]
    },
    {
      "cell_type": "code",
      "execution_count": null,
      "metadata": {
        "id": "h2R3KF3aYvBN"
      },
      "outputs": [],
      "source": [
        "# Count Plot (a.k.a. Bar Plot)\n",
        "sns.countplot(x='Type 1', data=df, palette=pkmn_type_colors)\n",
        " \n",
        "# Rotate x-labels\n",
        "plt.xticks(rotation=-45)"
      ]
    },
    {
      "cell_type": "markdown",
      "metadata": {
        "id": "ChnQ3X-YZZsS"
      },
      "source": [
        "### Factor Plot\n",
        "\n",
        "Factor plots make it easy to separate plots by categorical classes."
      ]
    },
    {
      "cell_type": "code",
      "execution_count": null,
      "metadata": {
        "id": "j4voH0KQZdMl"
      },
      "outputs": [],
      "source": [
        "# Factor Plot\n",
        "g = sns.factorplot(x='Type 1', \n",
        "                   y='Attack', \n",
        "                   data=df, \n",
        "                   hue='Stage',  # Color by stage\n",
        "                   col='Stage',  # Separate by stage\n",
        "                   kind='swarm') # Swarmplot\n",
        " \n",
        "# Rotate x-axis labels\n",
        "g.set_xticklabels(rotation=-45)\n"
      ]
    },
    {
      "cell_type": "markdown",
      "metadata": {
        "id": "kexfpKXpbr74"
      },
      "source": [
        "### Density Plot\n",
        "\n",
        "Density plots display the distribution between two variables.\n",
        "\n",
        "Tip: Consider overlaying this with a scatter plot."
      ]
    },
    {
      "cell_type": "code",
      "execution_count": null,
      "metadata": {
        "id": "XLinqmVBbxei"
      },
      "outputs": [],
      "source": [
        "# Density Plot\n",
        "sns.kdeplot(df.Attack, df.Defense)"
      ]
    },
    {
      "cell_type": "code",
      "execution_count": null,
      "metadata": {
        "id": "HM-D8Wu7GyMG"
      },
      "outputs": [],
      "source": [
        "# your code here"
      ]
    },
    {
      "cell_type": "markdown",
      "source": [
        "## Plotly\n",
        "\n",
        "Another helpful module is plotly chart studio, a modern visualization toolbox."
      ],
      "metadata": {
        "id": "VsxoPH-6616e"
      }
    },
    {
      "cell_type": "code",
      "source": [
        "!pip install --upgrade chart-studio"
      ],
      "metadata": {
        "id": "3f0irDDm67xM"
      },
      "execution_count": null,
      "outputs": []
    },
    {
      "cell_type": "markdown",
      "source": [
        "Chart Studio provides a web-service for hosting graphs. However, it does require signup."
      ],
      "metadata": {
        "id": "U_vEDPMz7Gbo"
      }
    },
    {
      "cell_type": "code",
      "source": [
        "import chart_studio\n",
        "chart_studio.tools.set_credentials_file(username='datamama', api_key='Evu7CitKi6yNCYhdWF8A')\n",
        "chart_studio.tools.set_config_file(world_readable=True, sharing='public')"
      ],
      "metadata": {
        "id": "jPY2tx6C7JlI"
      },
      "execution_count": null,
      "outputs": []
    },
    {
      "cell_type": "markdown",
      "source": [
        "After setting up the credentials, you can start plotting. "
      ],
      "metadata": {
        "id": "WAkn2Bm07qGI"
      }
    },
    {
      "cell_type": "code",
      "source": [
        "import plotly.graph_objects as go\n",
        "fig = go.Figure(\n",
        "    data=[go.Bar(y=[2, 1, 3])],\n",
        "    layout_title_text=\"A Figure Displayed with the 'colab' Renderer\"\n",
        ")\n",
        "fig.show(renderer=\"colab\")"
      ],
      "metadata": {
        "id": "yf2G4LBe-XNm"
      },
      "execution_count": null,
      "outputs": []
    },
    {
      "cell_type": "code",
      "source": [
        "# x and y given as DataFrame columns\n",
        "import plotly.express as px\n",
        "df = px.data.iris() # iris is a pandas DataFrame\n",
        "fig = px.scatter(df, x=\"sepal_width\", y=\"sepal_length\")\n",
        "fig.show()"
      ],
      "metadata": {
        "id": "hYw1wwYf_jUS"
      },
      "execution_count": null,
      "outputs": []
    },
    {
      "cell_type": "markdown",
      "source": [
        "Scatter plots with variable-sized circular markers are often known as bubble charts. Note that color and size data are added to hover information. You can add other columns to hover data with the hover_data argument of px.scatter."
      ],
      "metadata": {
        "id": "vafKyNao_3Nm"
      }
    },
    {
      "cell_type": "code",
      "source": [
        "import plotly.express as px\n",
        "df = px.data.iris()\n",
        "fig = px.scatter(df, x=\"sepal_width\", y=\"sepal_length\", color=\"species\",\n",
        "                 size='petal_length', hover_data=['petal_width'])\n",
        "fig.show()"
      ],
      "metadata": {
        "id": "FZAicihI_nXY"
      },
      "execution_count": null,
      "outputs": []
    },
    {
      "cell_type": "markdown",
      "source": [
        "The symbol argument can be mapped to a column as well. A wide variety of symbols are available."
      ],
      "metadata": {
        "id": "W3aNwmOR_8Yn"
      }
    },
    {
      "cell_type": "code",
      "source": [
        "import plotly.express as px\n",
        "df = px.data.iris()\n",
        "fig = px.scatter(df, x=\"sepal_width\", y=\"sepal_length\", color=\"species\", symbol=\"species\")\n",
        "fig.show()"
      ],
      "metadata": {
        "id": "_wfiRZq6_vK3"
      },
      "execution_count": null,
      "outputs": []
    },
    {
      "cell_type": "markdown",
      "source": [
        "Scatter plots support faceting."
      ],
      "metadata": {
        "id": "On82-uUAAJrz"
      }
    },
    {
      "cell_type": "code",
      "source": [
        "import plotly.express as px\n",
        "df = px.data.tips()\n",
        "fig = px.scatter(df, x=\"total_bill\", y=\"tip\", color=\"smoker\", facet_col=\"sex\", facet_row=\"time\")\n",
        "fig.show()"
      ],
      "metadata": {
        "id": "s7VxReYdALSU"
      },
      "execution_count": null,
      "outputs": []
    },
    {
      "cell_type": "markdown",
      "source": [
        "Line graph"
      ],
      "metadata": {
        "id": "SxsyL1XNAS35"
      }
    },
    {
      "cell_type": "code",
      "source": [
        "import plotly.express as px\n",
        "df = px.data.gapminder().query(\"continent == 'Oceania'\")\n",
        "fig = px.line(df, x='year', y='lifeExp', color='country')\n",
        "fig.show()"
      ],
      "metadata": {
        "id": "M83lSdErAUBa"
      },
      "execution_count": null,
      "outputs": []
    },
    {
      "cell_type": "markdown",
      "source": [
        "The markers argument can be set to True to show markers on lines."
      ],
      "metadata": {
        "id": "Oca5C3b2AXUm"
      }
    },
    {
      "cell_type": "code",
      "source": [
        "import plotly.express as px\n",
        "df = px.data.gapminder().query(\"continent == 'Oceania'\")\n",
        "fig = px.line(df, x='year', y='lifeExp', color='country', markers=True)\n",
        "fig.show()"
      ],
      "metadata": {
        "id": "2ixYNNJTAY6v"
      },
      "execution_count": null,
      "outputs": []
    },
    {
      "cell_type": "markdown",
      "source": [
        "The symbol argument can be used to map a data field to the marker symbol. A wide variety of symbols are available."
      ],
      "metadata": {
        "id": "DmY7VvmPAcgs"
      }
    },
    {
      "cell_type": "code",
      "source": [
        "import plotly.express as px\n",
        "df = px.data.gapminder().query(\"continent == 'Oceania'\")\n",
        "fig = px.line(df, x='year', y='lifeExp', color='country', symbol=\"country\")\n",
        "fig.show()"
      ],
      "metadata": {
        "id": "snPjwgx1Ad6U"
      },
      "execution_count": null,
      "outputs": []
    },
    {
      "cell_type": "markdown",
      "source": [
        "Line and Scatter Plots"
      ],
      "metadata": {
        "id": "mMBCaDBJAlna"
      }
    },
    {
      "cell_type": "code",
      "source": [
        "import plotly.graph_objects as go\n",
        "\n",
        "# Create random data with numpy\n",
        "import numpy as np\n",
        "np.random.seed(1)\n",
        "\n",
        "N = 100\n",
        "random_x = np.linspace(0, 1, N)\n",
        "random_y0 = np.random.randn(N) + 5\n",
        "random_y1 = np.random.randn(N)\n",
        "random_y2 = np.random.randn(N) - 5\n",
        "\n",
        "fig = go.Figure()\n",
        "\n",
        "# Add traces\n",
        "fig.add_trace(go.Scatter(x=random_x, y=random_y0,\n",
        "                    mode='markers',\n",
        "                    name='markers'))\n",
        "fig.add_trace(go.Scatter(x=random_x, y=random_y1,\n",
        "                    mode='lines+markers',\n",
        "                    name='lines+markers'))\n",
        "fig.add_trace(go.Scatter(x=random_x, y=random_y2,\n",
        "                    mode='lines',\n",
        "                    name='lines'))\n",
        "\n",
        "fig.show()"
      ],
      "metadata": {
        "id": "Wxt7OYZDAn65"
      },
      "execution_count": null,
      "outputs": []
    },
    {
      "cell_type": "markdown",
      "source": [
        "Scatter with a Color Dimension"
      ],
      "metadata": {
        "id": "K4J9bihIAt7t"
      }
    },
    {
      "cell_type": "code",
      "source": [
        "import plotly.graph_objects as go\n",
        "import numpy as np\n",
        "\n",
        "fig = go.Figure(data=go.Scatter(\n",
        "    y = np.random.randn(500),\n",
        "    mode='markers',\n",
        "    marker=dict(\n",
        "        size=16,\n",
        "        color=np.random.randn(500), #set color equal to a variable\n",
        "        colorscale='Viridis', # one of plotly colorscales\n",
        "        showscale=True\n",
        "    )\n",
        "))\n",
        "\n",
        "fig.show()"
      ],
      "metadata": {
        "id": "a3wODvdSAveA"
      },
      "execution_count": null,
      "outputs": []
    }
  ],
  "metadata": {
    "colab": {
      "provenance": [],
      "toc_visible": true
    },
    "kernelspec": {
      "display_name": "Python 3",
      "language": "python",
      "name": "python3"
    },
    "language_info": {
      "codemirror_mode": {
        "name": "ipython",
        "version": 3
      },
      "file_extension": ".py",
      "mimetype": "text/x-python",
      "name": "python",
      "nbconvert_exporter": "python",
      "pygments_lexer": "ipython3",
      "version": "3.7.4"
    },
    "latex_envs": {
      "LaTeX_envs_menu_present": true,
      "autoclose": false,
      "autocomplete": true,
      "bibliofile": "biblio.bib",
      "cite_by": "apalike",
      "current_citInitial": 1,
      "eqLabelWithNumbers": true,
      "eqNumInitial": 1,
      "hotkeys": {
        "equation": "Ctrl-E",
        "itemize": "Ctrl-I"
      },
      "labels_anchors": false,
      "latex_user_defs": false,
      "report_style_numbering": false,
      "user_envs_cfg": false
    },
    "toc": {
      "base_numbering": 1,
      "nav_menu": {},
      "number_sections": true,
      "sideBar": true,
      "skip_h1_title": false,
      "title_cell": "Table of Contents",
      "title_sidebar": "Contents",
      "toc_cell": false,
      "toc_position": {},
      "toc_section_display": true,
      "toc_window_display": false
    },
    "varInspector": {
      "cols": {
        "lenName": 16,
        "lenType": 16,
        "lenVar": 40
      },
      "kernels_config": {
        "python": {
          "delete_cmd_postfix": "",
          "delete_cmd_prefix": "del ",
          "library": "var_list.py",
          "varRefreshCmd": "print(var_dic_list())"
        },
        "r": {
          "delete_cmd_postfix": ") ",
          "delete_cmd_prefix": "rm(",
          "library": "var_list.r",
          "varRefreshCmd": "cat(var_dic_list()) "
        }
      },
      "types_to_exclude": [
        "module",
        "function",
        "builtin_function_or_method",
        "instance",
        "_Feature"
      ],
      "window_display": false
    }
  },
  "nbformat": 4,
  "nbformat_minor": 0
}