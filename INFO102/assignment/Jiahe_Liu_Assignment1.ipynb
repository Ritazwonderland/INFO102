{
  "cells": [
    {
      "cell_type": "markdown",
      "metadata": {
        "id": "Gs-ko24p3vsU"
      },
      "source": [
        "## Question 1\n",
        "\n",
        "Write the function `distance(x1, y1, x2, y2)` that takes four int or float values `x1, y1, x2, y2` that represent the two points (x1, y1) and (x2, y2), and returns the `distance` between those points as a float."
      ]
    },
    {
      "cell_type": "code",
      "execution_count": 1,
      "metadata": {
        "id": "K9nWc_ddqIky"
      },
      "outputs": [],
      "source": [
        "import math\n",
        "\n",
        "def distance(x1:float, y1:float, x2:float, y2:float) -> float:\n",
        "    dis = math.sqrt((x1 - x2) ** 2 + (y1 - y2) ** 2)\n",
        "    return dis\n",
        "\n"
      ]
    },
    {
      "cell_type": "code",
      "execution_count": 2,
      "metadata": {
        "id": "9NQrwsBP3vsZ"
      },
      "outputs": [
        {
          "name": "stdout",
          "output_type": "stream",
          "text": [
            "Test function distance...Passed...\n"
          ]
        }
      ],
      "source": [
        "def almostEqual(d1, d2):\n",
        "    \"\"\"\n",
        "    This function returns true if two floats d1 and d2 are very close\n",
        "    \"\"\"\n",
        "    epsilon = 10**-10\n",
        "    return (abs(d2 - d1) < epsilon)\n",
        "\n",
        "def testDistance():\n",
        "    print(\"Test function distance...\", end=\"\")\n",
        "    assert(almostEqual(distance(0, 0, 3, 4), 5.0))\n",
        "    expected_distance = math.sqrt((4.0 - 1.5)**2 + (6.0 - 2.5)**2)\n",
        "    assert(almostEqual(distance(1.5, 2.5, 4.0, 6.0), expected_distance))\n",
        "    assert(almostEqual(distance(0, 0, 0, 0), 0.0))\n",
        "    print(\"Passed...\")\n",
        "\n",
        "testDistance()"
      ]
    },
    {
      "cell_type": "markdown",
      "metadata": {
        "id": "fNGvhzEE3vsa"
      },
      "source": [
        "## Question 2\n",
        "\n",
        "Write the function `circlesIntersect(x1, y1, r1, x2, y2, r2)` that takes 6 numbers (ints or floats) -- `x1, y1, r1, x2, y2, r2` -- that describe the circle centered at `(x1,y1)` with radius `r1`, and the circle centered at `(x2,y2)` with radius `r2`, and returns `True` if the two circles intersect and `False` otherwise.\n"
      ]
    },
    {
      "cell_type": "code",
      "execution_count": 6,
      "metadata": {
        "id": "E4dat3gL3vsa"
      },
      "outputs": [],
      "source": [
        "import math\n",
        "\n",
        "def circlesIntersect(x1, y1, r1, x2, y2, r2):\n",
        "    d = math.sqrt((x1 - x2) ** 2 + (y1 - y2) ** 2)\n",
        "    if r1 + r2 > d and d > abs(r1 - r2):\n",
        "        return True\n",
        "    else:\n",
        "        return False"
      ]
    },
    {
      "cell_type": "code",
      "execution_count": 7,
      "metadata": {
        "id": "Z3HuQ8C93vsb"
      },
      "outputs": [
        {
          "name": "stdout",
          "output_type": "stream",
          "text": [
            "Test function circlesIntersect...Passed...\n"
          ]
        }
      ],
      "source": [
        "def testCirclesIntersect():\n",
        "    print(\"Test function circlesIntersect...\", end=\"\")\n",
        "    assert(circlesIntersect(0, 0, 5, 10, 0, 5) == False)\n",
        "    assert(circlesIntersect(0, 0, 5, 8, 0, 5) == True)\n",
        "    print(\"Passed...\")\n",
        "\n",
        "testCirclesIntersect()"
      ]
    },
    {
      "cell_type": "markdown",
      "metadata": {
        "id": "BVf0Oj3j3vsb"
      },
      "source": [
        "## Question 3\n",
        "\n",
        "Write the function `getInRange(x, bound1, bound2)` which takes 3 int or float values -- `x`, `bound1`, and `bound2`, where `bound1` is not necessarily less than `bound2`. If `x` is between the two bounds, just return it unmodified. Otherwise, if x is less than the lower bound, return the lower bound, or if x is greater than the upper bound, return the upper bound. For example:\n",
        "* getInRange(1, 3, 5) returns 3 (the lower bound, since 1 lies to the left of the range [3,5])\n",
        "* getInRange(4, 3, 5) returns 4 (the original value, since 4 is in the range [3,5])\n",
        "* getInRange(6, 3, 5) returns 5 (the upper bound, since 6 lies to the right of the range [3,5])\n",
        "* getInRange(6, 5, 3) also returns 5 (the upper bound, since 6 lies to the right of the range [3,5])"
      ]
    },
    {
      "cell_type": "code",
      "execution_count": 11,
      "metadata": {
        "id": "l5N1hh0M3vsc"
      },
      "outputs": [],
      "source": [
        "def getInRange(x, bound1, bound2):\n",
        "    if x <= min(bound1, bound2):\n",
        "        return min(bound1, bound2)\n",
        "    elif x <= max(bound1, bound2):\n",
        "        return x\n",
        "    else:\n",
        "        return max(bound1, bound2)"
      ]
    },
    {
      "cell_type": "markdown",
      "metadata": {
        "id": "oHcyEyFL3vsd"
      },
      "source": [
        "## Question 4\n",
        "\n",
        "Fabric must be purchased in whole yards, so purchasing just 1 inch of fabric requires purchasing 1 entire yard. With this in mind, write the function `fabricYards(inches)` that takes the number of inches of fabric desired, and returns the smallest number of whole yards of fabric that must be purchased."
      ]
    },
    {
      "cell_type": "code",
      "execution_count": 1,
      "metadata": {
        "id": "ZIttdLuJ3vsd"
      },
      "outputs": [],
      "source": [
        "def fabricYards(inches):\n",
        "    yards = inches // 36 + 1 #对于可被整除的，不能+1\n",
        "    #if inches % 36 == 0: yards -= 1\n",
        "    return yards"
      ]
    },
    {
      "cell_type": "markdown",
      "metadata": {},
      "source": [
        "function fabricYards, \n",
        "input value: [0] your output: 1, answer output: 0; \n",
        "input value: [36] your output: 2, answer output: 1; \n",
        "input value: [432] your output: 13, answer output: 12; "
      ]
    },
    {
      "cell_type": "markdown",
      "metadata": {
        "id": "mE2oed193vsd"
      },
      "source": [
        "## Question 5\n",
        "\n",
        "Write the function `fabricExcess(inches)` that takes the number of inches of fabric desired and returns the number of inches of excess fabric that must be purchased (as purchases must be in whole yards). Hint: you may want to use `fabricYards`, which you just wrote!"
      ]
    },
    {
      "cell_type": "code",
      "execution_count": 2,
      "metadata": {
        "id": "ebXcyxuC3vse"
      },
      "outputs": [],
      "source": [
        "def fabricExcess(inches):\n",
        "    excess = fabricYards(inches) * 36 - inches\n",
        "    return excess"
      ]
    },
    {
      "cell_type": "markdown",
      "metadata": {},
      "source": [
        "function fabricExcess, \n",
        "input value: [0] your output: 36, answer output: 0; \n",
        "input value: [36] your output: 36, answer output: 0; \n",
        "input value: [432] your output: 36, answer output: 0;"
      ]
    },
    {
      "cell_type": "markdown",
      "metadata": {
        "id": "QiBPdkN83vse"
      },
      "source": [
        "## Question 6\n",
        "\n",
        "Write the function `isEvenPositiveInt(x)` that takes an arbitrary value `x`, return `True` if it is an integer, and it is positive, and it is even (all 3 must be `True`), or `False` otherwise. Do not crash if the value is not an integer. So, isEvenPositiveInt(\"yikes!\") returns False (rather than crashing), and isEvenPositiveInt(123456) returns True."
      ]
    },
    {
      "cell_type": "code",
      "execution_count": 18,
      "metadata": {
        "id": "E8Zf3ULj3vse"
      },
      "outputs": [],
      "source": [
        "def isEvenPositiveInt(x):\n",
        "    if type(x) == int:\n",
        "        if x > 0 and x % 2 ==0:\n",
        "            return True\n",
        "        else:\n",
        "            return False\n",
        "    else:\n",
        "        return False"
      ]
    },
    {
      "cell_type": "markdown",
      "metadata": {
        "id": "03wf4lAl3vse"
      },
      "source": [
        "## Question 7\n",
        "\n",
        "Write the function `isLegalTriangle(s1, s2, s3)` that takes three int or float values representing the lengths of the sides of a triangle, and returns True if such a triangle exists and False otherwise. Note from the triangle inequality that the sum of each two sides must be greater than the third side, and further note that all sides of a legal triangle must be positive. Please feel free to write your own test cases. Hint: how can you determine the longest side, and how might that help?"
      ]
    },
    {
      "cell_type": "code",
      "execution_count": 22,
      "metadata": {
        "id": "W9fRpiRE3vse"
      },
      "outputs": [
        {
          "name": "stdout",
          "output_type": "stream",
          "text": [
            "True\n",
            "False\n",
            "False\n"
          ]
        }
      ],
      "source": [
        "def isLegalTriangle(s1, s2, s3):\n",
        "    if s1 <= 0 or s2 <= 0 or s3 <= 0:\n",
        "        return False\n",
        "    else:\n",
        "        if s1 + s2 > s3 and s1 + s3 > s2 and s2 + s3 > s1:\n",
        "            return True\n",
        "        else:\n",
        "            return False"
      ]
    }
  ],
  "metadata": {
    "colab": {
      "provenance": []
    },
    "kernelspec": {
      "display_name": "Python 3",
      "language": "python",
      "name": "python3"
    },
    "language_info": {
      "codemirror_mode": {
        "name": "ipython",
        "version": 3
      },
      "file_extension": ".py",
      "mimetype": "text/x-python",
      "name": "python",
      "nbconvert_exporter": "python",
      "pygments_lexer": "ipython3",
      "version": "3.11.4"
    }
  },
  "nbformat": 4,
  "nbformat_minor": 0
}
