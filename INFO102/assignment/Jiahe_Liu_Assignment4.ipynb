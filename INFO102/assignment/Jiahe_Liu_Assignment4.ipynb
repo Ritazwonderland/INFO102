{
 "cells": [
  {
   "attachments": {},
   "cell_type": "markdown",
   "metadata": {
    "id": "D6zRFvITIpXH"
   },
   "source": [
    "## Openning Note\n",
    "Hi everyone, \n",
    "\n",
    "Welcome to assignment 4. In this assignment, you are going to do more paractice with python. This assignment will focus on basic operations with list and string. Have fun with it~\n",
    "\n"
   ]
  },
  {
   "attachments": {},
   "cell_type": "markdown",
   "metadata": {},
   "source": [
    "## Question 1\n",
    "\n",
    "Complete the body of total_occurences() which takes two strings s1, s2 and one characters ch. The function should return the total number of occurences of ch in s1 and s2. \n",
    "\n",
    "**Example 1**:\n",
    "\n",
    "    Input: (\"color\", \"yellow\", \"l\")\n",
    "    Output: 3\n",
    "    Explanation: 'l' present once in color and twice in yellow, the total occurences is 2 + 1 = 3.  \n",
    "\n",
    "**Example 2**:\n",
    "\n",
    "    Input: (\"apple\", \"pear\", \"z\")\n",
    "    Output: 0\n",
    "    \n",
    "\n",
    "**Constraints**: \n",
    "   \n",
    "    len(s1) >= 0, len(s2) >= 0, len(ch) =1\n"
   ]
  },
  {
   "cell_type": "code",
   "execution_count": 35,
   "metadata": {
    "id": "EJKockdnuvqQ"
   },
   "outputs": [],
   "source": [
    "def total_occurrences(s1, s2, ch):\n",
    "    ## your code  \n",
    "    return s1.count(ch) + s2.count(ch)"
   ]
  },
  {
   "attachments": {},
   "cell_type": "markdown",
   "metadata": {
    "id": "sdzxOZhhKC-M"
   },
   "source": [
    "## Question 2\n",
    "In this Question, you are going to be familiar with some commonly used operations on list.\n",
    "\n",
    "Variable ids refers to the list [4353, 2314, 2956, 3382, 9362, 3900]. Using list methods, do the following:\n",
    "\n",
    "1. Remove 3382 from the list.\n",
    "2. Get the index of 9362.\n",
    "3. Insert 4499 in the list after 9362.\n",
    "4. Extend the list by adding [5566, 1830] to it.\n",
    "5. Reverse the list.\n",
    "6. Sort the list."
   ]
  },
  {
   "cell_type": "code",
   "execution_count": 36,
   "metadata": {
    "id": "7a2-CwEdu07u"
   },
   "outputs": [],
   "source": [
    "ids =  [4353, 2314, 2956, 3382, 9362, 3900]\n",
    "\n",
    "## your code\n",
    "# 1\n",
    "ids.remove(3382)\n",
    "# 2\n",
    "idx=ids.index(9362)\n",
    "# 3\n",
    "ids.insert(idx + 1, 4499)\n",
    "# 4\n",
    "ids.extend([5566, 1830])\n",
    "# 5\n",
    "ids.reverse()\n",
    "# 6\n",
    "ids.sort()"
   ]
  },
  {
   "attachments": {},
   "cell_type": "markdown",
   "metadata": {
    "id": "cWhOA7-nL_vo"
   },
   "source": [
    "## Question 3\n",
    "\n",
    "Complete the body of same_first_last() which takes a list as an argument and return if the first and last element of the list are the same.  \n",
    "\n",
    "**Example 1**:\n",
    "\n",
    "    Input: [2, 3, 5, 7, 11, 2]\n",
    "    \n",
    "    Output: True\n",
    "\n",
    "**Example 2**:\n",
    "\n",
    "    Input: [\"apple\", \"pear\"]\n",
    "    \n",
    "    Output: False\n",
    "\n",
    "**Constraints**:\n",
    "L >= 2\n"
   ]
  },
  {
   "cell_type": "code",
   "execution_count": 37,
   "metadata": {
    "id": "o4H6N992vBPu"
   },
   "outputs": [],
   "source": [
    "def same_first_last(L):\n",
    "    ## your code\n",
    "    return L[0] == L[-1]"
   ]
  },
  {
   "attachments": {},
   "cell_type": "markdown",
   "metadata": {
    "id": "9VtQJMqOM08u"
   },
   "source": [
    "## Question 4\n",
    "\n",
    "Complete the body is_longer(L1: list, L2: list) -> bool. The function should return True if the first list is longer than the second list. \n",
    "\n",
    "**Example 1**:\n",
    "\n",
    "    Input: ([1, 2, 3], [4, 5])\n",
    "    \n",
    "    Output: True\n",
    "\n",
    "**Example 2**:\n",
    "\n",
    "    Input: ([1, 2, 3], [4, 5, 6])\n",
    "    \n",
    "    Output: False\n",
    "\n",
    "**Constraints**:\n",
    "len(l1) >= 0, len(l2) >= 0"
   ]
  },
  {
   "cell_type": "code",
   "execution_count": 38,
   "metadata": {
    "id": "REPhq6hnvHVG"
   },
   "outputs": [],
   "source": [
    "def is_longer(L1, L2):\n",
    "    ## your code\n",
    "    return len(L1) > len(L2)"
   ]
  },
  {
   "cell_type": "markdown",
   "metadata": {
    "id": "hS1_z5HwWkkZ"
   },
   "source": [
    "## Question 5\n",
    "\n",
    "The following function doesn’t have annotations or comments. Write them to make it easy for another programmer to understand what the function does and how."
   ]
  },
  {
   "cell_type": "code",
   "execution_count": 39,
   "metadata": {
    "id": "Spq5An5XvRV2"
   },
   "outputs": [],
   "source": [
    "def mystery_function(values):\n",
    "  '''\n",
    "  what does this function do? Add your descriptions.\n",
    "  '''\n",
    "  result = []  ## create a new list to store result\n",
    "  for sublist in values:\n",
    "    result.append([sublist[0]])  ## append the first object in sublist(the first list in values) as a new list to result\n",
    "    for i in sublist[1:]:\n",
    "      result[-1].insert(0, i)  ## insert the following objects in sublist as the first item of the last list in list result\n",
    "  \n",
    "  return result  ## the list with all items in its sublists reversed"
   ]
  },
  {
   "cell_type": "markdown",
   "metadata": {
    "id": "oN-7GaaxXOAy"
   },
   "source": [
    "## Question 6\n",
    "\n",
    "You are given two lists, rat_1 and rat_2, that contain the daily weights of two rats over a period of six days. Assume the rats never have exactly the same weight. Write statements to do the following:\n",
    "\n",
    "1. If rat 1 weighed more than rat 2 on day 1, then: (if rat 1 weighs more than rat 2 on the last day, print \"Rat 1 remained heavier than Rat 2.\"; otherwise, print \"Rat 2 became heavier than Rat 1.)\"\n",
    "\n",
    "\n",
    "**Example 1**:\n",
    "\n",
    "    Input: ([1, 2, 3, 4, 5, 6], [4, 5, 6, 7, 8, 9])\n",
    "    \n",
    "    Output: None\n",
    "\n",
    "**Example 2**:\n",
    "\n",
    "    Input: ([6, 2, 3, 4, 5, 10], [4, 5, 6, 7, 8, 9])\n",
    "    \n",
    "    Output: Rat 1 remained heavier than Rat 2.\n",
    "\n",
    "**Example 3**:\n",
    "\n",
    "    Input: ([6, 2, 3, 4, 5, 1], [4, 5, 6, 7, 8, 9])\n",
    "    \n",
    "    Output: Rat 2 became heavier than Rat 1.\n",
    "    \n",
    "**Constraints**:\n",
    "\n",
    "    rat_1[i] != rat_2[i] for i in (0, 5)\n"
   ]
  },
  {
   "cell_type": "code",
   "execution_count": 40,
   "metadata": {
    "id": "gJmKW9OavkFl"
   },
   "outputs": [],
   "source": [
    "def compare_rats1(rat_1, rat_2):\n",
    "    ## your code\n",
    "    if (rat_1[0] > rat_2[0]):\n",
    "        if rat_1[-1] > rat_2[-1]:\n",
    "            print('Rat 1 remained heavier than Rat 2.')\n",
    "        else:\n",
    "            print('Rat 2 became heavier than Rat 1.')\n",
    "    return"
   ]
  },
  {
   "cell_type": "markdown",
   "metadata": {
    "id": "s98QZ1PAXZBL"
   },
   "source": [
    "2. If rat 1 weighed more than rat 2 on day 1 and if rat 1 weighs more than rat 2 on the last day, print \"Rat 1 remained heavier than Rat 2.\"; otherwise, print \"Rat 2 became heavier than Rat 1.\"\n",
    "\n",
    "**Example 1**:\n",
    "\n",
    "    Input: ([6, 5, 6, 7, 8, 9], [1, 2, 3, 4, 5, 6])\n",
    "    \n",
    "    Output: Rat 1 remained heavier than Rat 2.\n",
    "\n",
    "**Example 2**:\n",
    "\n",
    "    Input: ([6, 5, 6, 7, 8, 9], [1, 6, 7, 8, 9, 10])\n",
    "    \n",
    "    Output: Rat 2 became heavier than Rat 1.\n",
    "\n",
    "**Example 3**:\n",
    "\n",
    "    Input: ([1, 2, 3, 4, 5, 1], [4, 5, 6, 7, 8, 9])\n",
    "    \n",
    "    Output: Rat 2 became heavier than Rat 1.\n",
    "    \n",
    "**Constraints**:\n",
    "\n",
    "    rat_1[i] != rat_2[i] for i in (0, 6)\n",
    "\n",
    "   "
   ]
  },
  {
   "cell_type": "code",
   "execution_count": 41,
   "metadata": {
    "id": "1V4RG1nyvmOu"
   },
   "outputs": [],
   "source": [
    "def compare_rats2(rat_1, rat_2):\n",
    "    ## your code\n",
    "    if rat_1[0] > rat_2[0] and rat_1[-1] > rat_2[-1]:\n",
    "        print('Rat 1 remained heavier than Rat 2.')\n",
    "    else:\n",
    "        print('Rat 2 became heavier than Rat 1.')\n",
    "    return"
   ]
  },
  {
   "cell_type": "markdown",
   "metadata": {
    "id": "w5XBTqIsXcgo"
   },
   "source": [
    "3. If your solution to the previous exercise used nested if statements, then do it without nesting, or vice versa."
   ]
  },
  {
   "cell_type": "code",
   "execution_count": 42,
   "metadata": {
    "id": "k78azr6Fvxf3"
   },
   "outputs": [],
   "source": [
    "def compare_rats3(rat_1, rat_2):\n",
    "    ## your code\n",
    "    if rat_1[0] > rat_2[0] and rat_1[-1] > rat_2[-1]:\n",
    "            print('Rat 1 remained heavier than Rat 2.')\n",
    "    elif rat_1[0] > rat_2[0] and rat_1[-1] <= rat_2[-1]:\n",
    "            print('Rat 2 became heavier than Rat 1.')\n",
    "    return\n",
    "\n",
    "def compare_rats4(rat_1, rat_2):\n",
    "    ## same logic in compare_rats2\n",
    "    if rat_1[0] > rat_2[0]:\n",
    "        if  rat_1[-1] > rat_2[-1]:\n",
    "            print('Rat 1 remained heavier than Rat 2.')\n",
    "        else:\n",
    "            print('Rat 2 became heavier than Rat 1.')\n",
    "    else:\n",
    "        print('Rat 2 became heavier than Rat 1.')\n",
    "    return"
   ]
  },
  {
   "attachments": {},
   "cell_type": "markdown",
   "metadata": {
    "id": "71gMM--ZZbMQ"
   },
   "source": [
    "## Question 7\n",
    "Consider this code:\n",
    "\n",
    "\n",
    "```\n",
    "from typing import List\n",
    " \t\n",
    "def remove_neg(num_list: List[float]) -> None:\n",
    " \t\"\"\"Remove the negative numbers from the list num_list inplace, return nothing.\n",
    " \t\n",
    " \t >>> numbers = [-5, 1, -3, 2]\n",
    " \t >>> remove_neg(numbers)\n",
    " \t >>> numbers\n",
    " \t    [1, 2]\n",
    " \t\"\"\"\n",
    " \t\n",
    " \tfor item in num_list:\n",
    " \t    if item < 0:\n",
    " \t        num_list.remove(item)\n",
    "```\n",
    "\n",
    "When remove_neg([1, 2, 3, -3, 6, -1, -3, 1]) is executed, it produces [1, 2, 3, 6, -3, 1]. The for loop traverses the elements of the list, and when a negative value (like -3 at position 3) is reached, it is removed, shifting the subsequent values one position earlier in the list (so 6 moves into position 3). The loop then continues on to process the next item, skipping over the value that moved into the removed item’s position. If there are two negative numbers in a row (like -1 and -3), then the second one won’t be removed.\n",
    "\n",
    "Rewrite the code to avoid this problem.\n",
    "\n",
    "**Example 1**:\n",
    "\n",
    "    Input: [-5, 1, -3, 2]\n",
    "    \n",
    "    Output: [1, 2]\n",
    "\n",
    "**Example 2**:\n",
    "\n",
    "    Input: [1, 2, 3, -3, 6, -1, -3, 1]\n",
    "    \n",
    "    Output: [1, 2, 3, 6, 1]\n",
    "\n",
    "Hints: You may find they keyword `del` useful. Use it with index to properly remove all negative elements. \n",
    "\n",
    "Here is an example of using `del`"
   ]
  },
  {
   "cell_type": "code",
   "execution_count": 43,
   "metadata": {},
   "outputs": [
    {
     "name": "stdout",
     "output_type": "stream",
     "text": [
      "[21, 56, 77, 22]\n",
      "[21, 56, 22]\n"
     ]
    }
   ],
   "source": [
    "tempLst = [21, 24, 56, 77, 22]\n",
    "del tempLst[1] # it will remove 24\n",
    "print(tempLst) # become [21, 56, 77, 22]\n",
    "del tempLst[2] # it will remove 77\n",
    "print(tempLst) # become [21, 56, 22]"
   ]
  },
  {
   "cell_type": "code",
   "execution_count": 44,
   "metadata": {
    "id": "Atg-qC7Nv4OV"
   },
   "outputs": [],
   "source": [
    "def remove_neg(num_list):\n",
    "\t# your code here\n",
    "\t# Remove the negative numbers from the list num_list inplace, return nothing.\n",
    "\tfor i in range(len(num_list)):\n",
    "\t\t#print(num_list[i],\" \", i)\n",
    "\t\tif i < len(num_list):\n",
    "\t\t\twhile num_list[i] < 0:\n",
    "\t\t\t\tdel num_list[i]"
   ]
  },
  {
   "cell_type": "markdown",
   "metadata": {
    "id": "0AgNhannadQ2"
   },
   "source": [
    "## Question 8\n",
    "\n",
    "1. Using nested for loops, print a right triangle of the character T on the screen where the triangle is one character wide at its narrowest point and seven characters wide at its widest point:\n",
    "\n",
    "\n",
    "```\n",
    "T\n",
    "TT\n",
    "TTT\n",
    "TTTT\n",
    "TTTTT\n",
    "TTTTTT\n",
    "TTTTTTT\n",
    "```\n",
    "\n"
   ]
  },
  {
   "cell_type": "code",
   "execution_count": 45,
   "metadata": {
    "id": "il4FVw9twSV-"
   },
   "outputs": [
    {
     "name": "stdout",
     "output_type": "stream",
     "text": [
      "\n",
      "T\n",
      "TT\n",
      "TTT\n",
      "TTTT\n",
      "TTTTT\n",
      "TTTTTT\n",
      "TTTTTTT\n"
     ]
    }
   ],
   "source": [
    "## your code that can print the T on the screen shaped as above\n",
    "def rtTri_1(w):\n",
    "    for i in range(w+1):\n",
    "        for j in range(i):\n",
    "            print('T', end='')\n",
    "        print('')\n",
    "\n",
    "rtTri_1(7)"
   ]
  },
  {
   "cell_type": "markdown",
   "metadata": {
    "id": "GPNblccPa5v2"
   },
   "source": [
    "2. How about printing the triangle described in the previous exercise with its hypotenuse on the left side:\n",
    "\n",
    "\n",
    "\n",
    "```\n",
    " \t      T\n",
    " \t     TT\n",
    " \t    TTT\n",
    " \t   TTTT\n",
    " \t  TTTTT\n",
    " \t TTTTTT\n",
    " \tTTTTTTT\n",
    "```\n",
    "\n"
   ]
  },
  {
   "cell_type": "code",
   "execution_count": 46,
   "metadata": {
    "id": "WzNqvwvmwasO"
   },
   "outputs": [
    {
     "name": "stdout",
     "output_type": "stream",
     "text": [
      "       \n",
      "      T\n",
      "     TT\n",
      "    TTT\n",
      "   TTTT\n",
      "  TTTTT\n",
      " TTTTTT\n",
      "TTTTTTT\n"
     ]
    }
   ],
   "source": [
    "## your code that can print the T on the screen shaped as above\n",
    "def rtTri_2(w):\n",
    "    for i in range(w+1):\n",
    "        for j in range(w-i):\n",
    "            print(' ', end='')\n",
    "        for k in range(i):\n",
    "            print('T', end='')\n",
    "        print('')\n",
    "\n",
    "rtTri_2(7)"
   ]
  },
  {
   "cell_type": "markdown",
   "metadata": {},
   "source": [
    "## Question 9\n",
    "\n",
    "Write the function patternedMessage(message, pattern) that takes two strings, a message and a pattern, and returns a string produced by replacing the non-whitespace characters in the pattern with the non-whitespace characters in the message. Whitespace characters in test cases include ' ', '\\n', and '\\t'. Non-whitespace characters in the pattern might not only contain '*'. For example, input might be ['abc def', 'abc def']. You can not use the built-in 'isspace()' method to check it.\n",
    "\n",
    "\n",
    "**Example 1**:\n",
    "\n",
    "    Input: \n",
    "```\n",
    "(\"Go Pirates!!!\", \"\"\"\n",
    "***************\n",
    "******   ******\n",
    "***************\"\"\")\n",
    "```\n",
    "    Output: \n",
    "```\n",
    "GoPirates!!!GoP\n",
    "irates   !!!GoP\n",
    "irates!!!GoPira\n",
    "```\n",
    "    Explanation:\n",
    "    \n",
    "        Here, the message is \"Go Pirates!!!\" and the pattern is a block of asterisks with a few missing in the middle. Notice how the whitespace in the pattern is preserved, but the whitespace in the message is removed. Also, note that any leading or trailing newlines in the pattern are removed.\n",
    "\n",
    "**Example 2**:\n",
    "\n",
    "    Input: \n",
    "\n",
    "```\n",
    "(\"Three Diamonds!\",\"\"\"\n",
    "    *     *     *\n",
    "   ***   ***   ***\n",
    "  ***** ***** *****\n",
    "   ***   ***   ***\n",
    "    *     *     *\n",
    "\"\"\")\n",
    "```\n",
    "    \n",
    "    Output: \n",
    "```\n",
    "    T     h     r\n",
    "   eeD   iam   ond\n",
    "  s!Thr eeDia monds\n",
    "   !Th   ree   Dia\n",
    "    m     o     n\n",
    "```"
   ]
  },
  {
   "cell_type": "markdown",
   "metadata": {},
   "source": [
    "Hint: While you may solve this how you wish, our sample solution did not use replace in any way. Instead, we started with the empy string, and built up the result character by character.\n",
    "\n",
    "Here are two more straightforward examples:\n",
    "\n",
    "In []:\n",
    "\n",
    "print(repr(patternedMessage(\"abc def\",   \"***** ***** ****\")))\n",
    "\n",
    "print(repr(patternedMessage(\"abc def\", \"\\n***** ***** ****\\n\")))\n",
    "\n",
    "Out []:\n",
    "\n",
    "'abcde fabcd efab'\n",
    "\n",
    "'\\nabcde fabcd efab\\n'"
   ]
  },
  {
   "cell_type": "markdown",
   "metadata": {},
   "source": [
    "Hint: You will almost surely want to print strings to help you debug here, but whitespace can be quite tricky in this problem. So... Instead of using print(s) in your debugging, use print(repr(s)). That way, you can easily see the whitespace."
   ]
  },
  {
   "cell_type": "code",
   "execution_count": 47,
   "metadata": {},
   "outputs": [],
   "source": [
    "def patternedMessage(msg, ptn):\n",
    "    result = ''\n",
    "    index = 0\n",
    "    msg = msg.strip(' \\n\\t')\n",
    "    ##print(repr(msg))\n",
    "    ##ptn = repr(ptn)\n",
    "    for i in ptn:\n",
    "        ##print(index)\n",
    "        if i == ' ' or i == '\\n' or i == '\\t':\n",
    "            result += i\n",
    "        else:\n",
    "            if index >= len(msg):\n",
    "                index %= len(msg)\n",
    "            while msg[index] in ' \\n\\t':\n",
    "                index += 1\n",
    "            result += msg[index]\n",
    "            index += 1\n",
    "    return result"
   ]
  }
 ],
 "metadata": {
  "colab": {
   "collapsed_sections": [],
   "name": "homework4_without_solutions.ipynb",
   "provenance": []
  },
  "kernelspec": {
   "display_name": "Python 3 (ipykernel)",
   "language": "python",
   "name": "python3"
  },
  "language_info": {
   "codemirror_mode": {
    "name": "ipython",
    "version": 3
   },
   "file_extension": ".py",
   "mimetype": "text/x-python",
   "name": "python",
   "nbconvert_exporter": "python",
   "pygments_lexer": "ipython3",
   "version": "3.11.4"
  }
 },
 "nbformat": 4,
 "nbformat_minor": 4
}
