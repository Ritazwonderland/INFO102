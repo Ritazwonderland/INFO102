{
 "cells": [
  {
   "attachments": {},
   "cell_type": "markdown",
   "metadata": {},
   "source": [
    "## Homework 5 Complex Problems\n",
    "Hello everyone,\n",
    "\n",
    "In this homework, we will show you how to use abstraction and decomposition to solve even more complex problems, including the challenging question from last homework. We'll also provide opportunities for you to apply these methods to handle other difficult problems. Instead of tackling a problem as a whole, we break it down into smaller, more manageable tasks, and then use these building blocks to construct our entire program.\n",
    "\n",
    "Let's begin our discussion with the familiar problem of the String Artist one more time. This time, let us walk through steps of this problem. "
   ]
  },
  {
   "attachments": {},
   "cell_type": "markdown",
   "metadata": {},
   "source": [
    "## Question 1 String Artist\n",
    "In this question, you are going to be a string artist, writing programs to create a fancy W(maybe not that fancy).\n",
    "\n",
    "Here is the string your function are going to print out. \n",
    "```{python}\n",
    "\"\"\"\n",
    ". . R . . . R . . . R . . \n",
    ". R 0 R . R 0 R . R 0 R . \n",
    "R 0 0 0 R 0 0 0 R 0 0 0 R \n",
    ". R 0 R 0 R 0 R 0 R 0 R . \n",
    ". . R 0 0 0 R 0 0 0 R . . \n",
    ". . . R 0 R . R 0 R . . . \n",
    ". . . . R . . . R . . . . \n",
    "\n",
    "\"\"\"\n",
    "```"
   ]
  },
  {
   "cell_type": "code",
   "execution_count": 4,
   "metadata": {},
   "outputs": [
    {
     "name": "stdout",
     "output_type": "stream",
     "text": [
      "\n",
      ". . .\n",
      ". . .\n",
      ". . .\n",
      "\n"
     ]
    }
   ],
   "source": [
    "def makeBoard(board):\n",
    "    # board is like the background, represented by dots\n",
    "    # make the 2D list style board into a whole string\n",
    "    s = \"\\n\"\n",
    "    for row in board:\n",
    "        s += \" \".join(row) + \"\\n\"\n",
    "    return s\n",
    "print(makeBoard([[\".\", \".\", \".\"], [\".\", \".\", \".\"], [\".\", \".\", \".\"]]))"
   ]
  },
  {
   "attachments": {},
   "cell_type": "markdown",
   "metadata": {},
   "source": [
    "Let's take a moment to explore how this 'black magic' of abstraction works.\n",
    "\n",
    "First, in the case of the String Artist, a simple task would be to draw a diamond shape.\n",
    "\n",
    "The entire image is actually just multiple diamonds arranged with some small overlaps. The only difference between them is their positions on the board. We can write a function that takes a position as input and draws a diamond at that position.\n",
    "\n",
    "Now, we get a new but eaiser question become\n",
    "\n",
    "Given a board (represented in a nested list) and a coordinate x and y, draw a diamond centered at board[x][y] \n",
    "\n",
    "Given a 7 x 7 empty board, out drawDiamond(board, 2, 2) will return \n",
    "```{python}\n",
    "\"\"\"\n",
    ". . R . . . .\n",
    ". R 0 R . . .\n",
    "R 0 0 0 R . .\n",
    ". R 0 R . . . \n",
    ". . R . . . .\n",
    ". . . . . . .\n",
    ". . . . . . .\n",
    "\"\"\"\n",
    "```\n",
    "\n",
    "To make this task easier, we can further break it down into an even more fundamental task: drawing horizontal lines. Each diamond is made up of multiple lines, all of which follow the same format: the first and last characters are 'R', and the character in the middle is '0'.\n",
    "\n",
    "Given a board (represented in a nested list), a coordinate x and y, a length l, draw a horizontal line with length l centered at board[x][y]\n",
    "\n",
    "Given a 7 x 7 empty board, our drawHorizontalLine(board, 2, 2, 5) will return \n",
    "\n",
    "```{python}\n",
    "\"\"\"\n",
    ". . . . . . .\n",
    ". . . . . . .\n",
    "R 0 0 0 R . .\n",
    ". . . . . . . \n",
    ". . . . . . .\n",
    ". . . . . . .\n",
    ". . . . . . .\n",
    "\"\"\"\n",
    "```\n",
    "\n",
    "rawHorizontalLine(board, 0, 1, 3) will return\n",
    "\n",
    "\n",
    "```{python}\n",
    "\"\"\"\n",
    "R 0 R . . . .\n",
    ". . . . . . .\n",
    ". . . . . . .\n",
    ". . . . . . . \n",
    ". . . . . . .\n",
    ". . . . . . .\n",
    ". . . . . . .\n",
    "\"\"\"\n",
    "```\n",
    "\n",
    "#### Task 1\n",
    "Filled in the drawHorizontalLine function to achieve the aforementioned functionalities"
   ]
  },
  {
   "cell_type": "code",
   "execution_count": 22,
   "metadata": {},
   "outputs": [],
   "source": [
    "def drawHorizontalLine(board, x, y, l):\n",
    "    # Actually you don't need to return anything, just update board inplace\n",
    "    # your code here\n",
    "    l = min(l, 2*min(y, len(board[0])-y-1)+1)\n",
    "    board[x][y-l//2] = 'R'\n",
    "    board[x][y+l//2] = 'R'\n",
    "    for i in range(y-l//2+1, y+l//2):\n",
    "        board[x][i] = '0'\n",
    "    return"
   ]
  },
  {
   "cell_type": "code",
   "execution_count": 24,
   "metadata": {},
   "outputs": [
    {
     "name": "stdout",
     "output_type": "stream",
     "text": [
      "\n",
      "* * * * * * * * * * * * *\n",
      "* * * * * * * * * * * * *\n",
      "R 0 0 0 R * * * * * * * *\n",
      "* * * * * * * * * * * * *\n",
      "* * * * * * * * * * * * *\n",
      "* * * * * * * * * * * * *\n",
      "* * * * * * * * * * * * *\n",
      "\n"
     ]
    }
   ],
   "source": [
    "# Use this code to convince yourself that your drawHorizontalLine is correct\n",
    "board = [[\"*\"] * 13 for _ in range(7)]\n",
    "drawHorizontalLine(board, 2, 2, 5)\n",
    "print(makeBoard(board))"
   ]
  },
  {
   "attachments": {},
   "cell_type": "markdown",
   "metadata": {},
   "source": [
    "#### Task 2\n",
    "After you feel confident about your drawHorizontalLine function. Filled in drawDiamond function to achieve the aforementioned functionality. You may want to invoke drawHorizontalLine inside drawDiamond directly."
   ]
  },
  {
   "cell_type": "code",
   "execution_count": 25,
   "metadata": {},
   "outputs": [],
   "source": [
    "def drawDiamond(board, x, y):\n",
    "    # function return None, update the board inplace\n",
    "    #here the size of board is still hardcoding\n",
    "    # Your code here\n",
    "    len = 2*min(x, y, 7-x-1, 13-y-1) + 1\n",
    "    ##print(len)\n",
    "    for xi in range(x-len//2,x):\n",
    "        ##print(xi, y, xi)\n",
    "        drawHorizontalLine(board, xi, y, len-2*(x-xi))\n",
    "    for xi in range(x, x+len//2+1):\n",
    "        ##print(xi, y, len-2*(xi-x))\n",
    "        drawHorizontalLine(board, xi, y, len-2*(xi-x))\n",
    "    return"
   ]
  },
  {
   "cell_type": "code",
   "execution_count": 26,
   "metadata": {},
   "outputs": [
    {
     "name": "stdout",
     "output_type": "stream",
     "text": [
      "\n",
      "* * R * * * * * * * * * *\n",
      "* R 0 R * * * * * * * * *\n",
      "R 0 0 0 R * * * * * * * *\n",
      "* R 0 R * * * * * * * * *\n",
      "* * R * * * * * * * * * *\n",
      "* * * * * * * * * * * * *\n",
      "* * * * * * * * * * * * *\n",
      "\n"
     ]
    }
   ],
   "source": [
    "# Use this code to convince yourself that your drawDiamond is correct\n",
    "board = [[\"*\"] * 13 for _ in range(7)]\n",
    "drawDiamond(board, 2, 2)\n",
    "print(makeBoard(board))"
   ]
  },
  {
   "attachments": {},
   "cell_type": "markdown",
   "metadata": {},
   "source": [
    "#### Task 3\n",
    "After you are confident that drawDiamond works as expected. Filled out ultimate function drawStringArt to ultimatly print out our fancy W. If you did the previous work correctly, You may find this function will be really short and easy to write. "
   ]
  },
  {
   "cell_type": "code",
   "execution_count": 27,
   "metadata": {},
   "outputs": [],
   "source": [
    "def drawStringArt(board):\n",
    "    # your code here\n",
    "    drawDiamond(board, 2, 2)\n",
    "    drawDiamond(board, 2, 6)\n",
    "    drawDiamond(board, 2, 10)\n",
    "    drawDiamond(board, 4, 4)\n",
    "    drawDiamond(board, 4, 8)\n",
    "    #print(makeBoard(board))\n",
    "    return makeBoard(board)"
   ]
  },
  {
   "cell_type": "code",
   "execution_count": 28,
   "metadata": {},
   "outputs": [],
   "source": [
    "# use this code to test your result\n",
    "board = [[\".\"] * 13 for _ in range(7)]\n",
    "assert(drawStringArt(board) == \n",
    "\"\"\"\n",
    ". . R . . . R . . . R . .\n",
    ". R 0 R . R 0 R . R 0 R .\n",
    "R 0 0 0 R 0 0 0 R 0 0 0 R\n",
    ". R 0 R 0 R 0 R 0 R 0 R .\n",
    ". . R 0 0 0 R 0 0 0 R . .\n",
    ". . . R 0 R . R 0 R . . .\n",
    ". . . . R . . . R . . . .\n",
    "\"\"\")"
   ]
  },
  {
   "attachments": {},
   "cell_type": "markdown",
   "metadata": {
    "id": "ub3WoY2AwkFL"
   },
   "source": [
    "## Question 2\n",
    "### Find nth left truncatable prime\n",
    "A left truncatable prime is a prime number that remains prime after removing digits from its left side. \n",
    "\n",
    "Take 3797 as an example. 3797 itself is a prime. Remove the left most digit 3, 797 is also a prime. Continuing removing digit from left, 97, 7 are all primes. Thus, 3797 is a left truncatable prime. \n",
    "\n",
    "Please note that all one digit primes like 2, 3, 5, 7 are left truncatable prime by our definition. \n",
    "\n",
    "In this question, you are going to write a function nthLeftTruncatablePrime(n) which returns the nth left truncatable primes. \n",
    "\n",
    "\n",
    "Here is a list of the first some left truncatable primes: \n",
    "\n",
    "2, 3, 5, 7, 13, 17 ... \n",
    "\n",
    "\n",
    "nthLeftTruncatablePrime(1) will return 2 as it's the 1st left truncatable primes. \n",
    "\n",
    "nthLeftTruncatablePrime(6) will return 17 as it's the 6th left truncatable primes. \n"
   ]
  },
  {
   "attachments": {},
   "cell_type": "markdown",
   "metadata": {},
   "source": [
    "### Hint\n",
    "Another complicated question! Please make sure that you understand the definition of a left-truncatable prime before proceeding.\n",
    "\n",
    "isLeftTruncatablePrime(num)\n",
    "\n",
    "isPrime(num)\n",
    "\n",
    "Fill in these three functions to complete the task!"
   ]
  },
  {
   "cell_type": "code",
   "execution_count": 29,
   "metadata": {},
   "outputs": [],
   "source": [
    "def isPrime(num):\n",
    "    # your code here\n",
    "    if num <= 1:\n",
    "        return False\n",
    "    for i in range(2, int(num ** 0.5) + 1 ):\n",
    "        if num % i == 0:\n",
    "            return False\n",
    "    return True"
   ]
  },
  {
   "attachments": {},
   "cell_type": "markdown",
   "metadata": {},
   "source": [
    "\"Before proceeding, it's important to write tests for your isPrime function so that you can have confidence in its correctness.\n",
    "\n",
    "Be sure to consider corner cases, such as 0 or 1. "
   ]
  },
  {
   "attachments": {},
   "cell_type": "markdown",
   "metadata": {},
   "source": [
    "### Hint\n",
    "Testing is another tool that programmers use to handle complexity. There's even a development style called Test-Driven Development, where software engineers write tests before implementing the functions.\n",
    "\n",
    "From now on, you're required to implement tests for each of the functions you write."
   ]
  },
  {
   "cell_type": "code",
   "execution_count": 30,
   "metadata": {},
   "outputs": [],
   "source": [
    "def testIsPrime():\n",
    "    # your code here\n",
    "    assert isPrime(0) == False\n",
    "    assert isPrime(1) == False\n",
    "    assert isPrime(2) == True\n",
    "    assert isPrime(31) == True\n",
    "    assert isPrime(33) == False\n",
    "    return\n",
    "testIsPrime()"
   ]
  },
  {
   "attachments": {},
   "cell_type": "markdown",
   "metadata": {},
   "source": [
    "Fill in is LeftTruncatePrime(num), test it, and proceed. "
   ]
  },
  {
   "cell_type": "code",
   "execution_count": 31,
   "metadata": {},
   "outputs": [],
   "source": [
    "def isLeftTruncatePrime(num):\n",
    "    # your code here\n",
    "    while isPrime(num) and num >= 10:\n",
    "        num = str(num)\n",
    "        num = int(num[1:])\n",
    "    return isPrime(num)"
   ]
  },
  {
   "cell_type": "code",
   "execution_count": 11,
   "metadata": {},
   "outputs": [],
   "source": [
    "def testLeftTruncatablePrime():\n",
    "    # your code here\n",
    "    assert isLeftTruncatePrime(0) == False\n",
    "    assert isLeftTruncatePrime(1) == False\n",
    "    assert isLeftTruncatePrime(2) == True\n",
    "    assert isLeftTruncatePrime(31) == False\n",
    "    assert isLeftTruncatePrime(33) == False\n",
    "    assert isLeftTruncatePrime(11) == False\n",
    "    assert isLeftTruncatePrime(3797) == True\n",
    "    return\n",
    "testLeftTruncatablePrime()"
   ]
  },
  {
   "cell_type": "code",
   "execution_count": 12,
   "metadata": {},
   "outputs": [],
   "source": [
    "def nthLeftTruncatablePrime(n):\n",
    "    # your code here\n",
    "    i = 1\n",
    "    while n > 0:\n",
    "        i += 1\n",
    "        if isLeftTruncatePrime(i):\n",
    "            n -= 1\n",
    "    return i"
   ]
  },
  {
   "cell_type": "code",
   "execution_count": 13,
   "metadata": {
    "id": "wrqSKtWYwu_U"
   },
   "outputs": [
    {
     "name": "stdout",
     "output_type": "stream",
     "text": [
      "Testing nthLeftTruncatablePrime()... Passed!\n"
     ]
    }
   ],
   "source": [
    "\n",
    "def testNthLeftTruncatablePrime():\n",
    "    print('Testing nthLeftTruncatablePrime()... ', end='')\n",
    "    assert(nthLeftTruncatablePrime(1) == 2)\n",
    "    assert(nthLeftTruncatablePrime(11) == 53)\n",
    "    assert(nthLeftTruncatablePrime(2) == 3)\n",
    "    assert(nthLeftTruncatablePrime(6) == 17)\n",
    "    print('Passed!')\n",
    "testNthLeftTruncatablePrime()"
   ]
  },
  {
   "attachments": {},
   "cell_type": "markdown",
   "metadata": {
    "id": "5ajO4xSuw5Bn"
   },
   "source": [
    "## Question 3\n",
    "\n",
    "\n",
    "\n",
    "\n",
    "A powerful number is the product of a square and a cube, that is, a number $m$ of the form $$m = a^2b^3$$\n",
    "\n",
    "For example, \n",
    "\n",
    "64 is a powerful number as $64 = 8^2 \\times 1^3$\n",
    "\n",
    "100 is a powerful number as $100 = 6^2 \\times 4^3$\n",
    "\n",
    "1 is a powerful number as $1 = 1^2 \\times 1^3$\n",
    "\n",
    "Write the function to return the nthPowerfulNumber(n). \n",
    "So nthPowerfulNumber(1) returns 1, and nthPowerfulNumber(11) returns 64.\n",
    "\n",
    "Hint: A way to check if an integer is a powerful number is to divide it by all square numbers smaller than it and see if the quotient is a cube number. \n",
    "\n",
    "Make sure you test each of your functions thoroughly before combining them up. "
   ]
  },
  {
   "cell_type": "code",
   "execution_count": 14,
   "metadata": {
    "id": "UITHAQXKxHoN"
   },
   "outputs": [
    {
     "name": "stdout",
     "output_type": "stream",
     "text": [
      "Testing nthPowerfulNumber()... Passed!\n"
     ]
    }
   ],
   "source": [
    "def nthPowerfulNumber(n):\n",
    "    ## your code\n",
    "    i = 0\n",
    "    while n > 0:\n",
    "        i += 1\n",
    "        if isPowerfulNumber(i):\n",
    "            n -= 1\n",
    "            #print(i)\n",
    "    return i\n",
    "\n",
    "def isCube(num):\n",
    "    #print('cube?',num)\n",
    "    if almostEqual(num, 1):\n",
    "        return True\n",
    "    for i in range(int(num)+1):\n",
    "        if almostEqual(i ** 3, num):\n",
    "            return True\n",
    "    return False\n",
    "\n",
    "def isSquare(num):\n",
    "    #print('square?',num)\n",
    "    if almostEqual(num, 1):\n",
    "        return True\n",
    "    for i in range(num):\n",
    "        if almostEqual(i ** 2, num):\n",
    "            return True\n",
    "    return False\n",
    "\n",
    "'''assert(isSquare(2))==False\n",
    "assert(isSquare(4))==True\n",
    "assert(isSquare(6))==False\n",
    "assert(isSquare(9))==True\n",
    "assert(isSquare(16))==True\n",
    "'''\n",
    "def isPowerfulNumber(n):\n",
    "    if n == 1:\n",
    "        return True\n",
    "    for i in range(1,n+1):\n",
    "        if isSquare(i):\n",
    "            if isCube(n/i):\n",
    "                return True\n",
    "    return False\n",
    "\n",
    "def almostEqual(x, y):\n",
    "    a = 10 ** (-10)\n",
    "    return abs(x-y) < a\n",
    "\n",
    "def testNthPowerfulNumber():\n",
    "    print('Testing nthPowerfulNumber()... ', end='')\n",
    "    #assert(nthPowerfulNumber(1) == 1)\n",
    "    assert(nthPowerfulNumber(2) == 4)\n",
    "    assert(nthPowerfulNumber(3) == 8)\n",
    "    assert(nthPowerfulNumber(4) == 9)\n",
    "    assert(nthPowerfulNumber(5) == 16)\n",
    "    assert(nthPowerfulNumber(6) == 25)\n",
    "    assert(nthPowerfulNumber(11) == 64)\n",
    "    assert(nthPowerfulNumber(16) == 121)\n",
    "    assert(nthPowerfulNumber(21) == 196)\n",
    "    print('Passed!')\n",
    "testNthPowerfulNumber()"
   ]
  },
  {
   "cell_type": "markdown",
   "metadata": {},
   "source": [
    "## Question 4\n",
    "\n",
    "Write the function lookAndSay(a) that takes a list of numbers and returns a list of numbers that results from \"reading off\" the initial list using the look-and-say method, using tuples for each (count, value) pair. You can read about look-and-say numbers [here](https://en.wikipedia.org/wiki/Look-and-say_sequence)."
   ]
  },
  {
   "cell_type": "markdown",
   "metadata": {},
   "source": [
    "For example, you should have"
   ]
  },
  {
   "cell_type": "code",
   "execution_count": 15,
   "metadata": {},
   "outputs": [],
   "source": [
    "def lookAndSay(lst):\n",
    "    result = []\n",
    "    lstNum = None\n",
    "    occur = 1\n",
    "    for num in lst:\n",
    "        curNum = num\n",
    "        if curNum == lstNum:\n",
    "            occur += 1\n",
    "        else:\n",
    "            if lstNum != None:\n",
    "                result.append((occur, lstNum))\n",
    "                occur = 1\n",
    "        lstNum = curNum\n",
    "    if lstNum != None:\n",
    "        result.append((occur, lstNum))\n",
    "    ##print(result)\n",
    "    return result"
   ]
  },
  {
   "cell_type": "code",
   "execution_count": 16,
   "metadata": {},
   "outputs": [],
   "source": [
    "assert(lookAndSay([]) == [])\n",
    "assert(lookAndSay([1,1,1]) == [(3,1)])\n",
    "assert(lookAndSay([-1,2,7]) == [(1,-1),(1,2),(1,7)])\n",
    "assert(lookAndSay([3,3,8,-10,-10,-10]) == [(2,3),(1,8),(3,-10)])\n",
    "assert(lookAndSay([3,3,8,3,3,3,3]) == [(2,3),(1,8),(4,3)])"
   ]
  }
 ],
 "metadata": {
  "colab": {
   "collapsed_sections": [],
   "name": "homework4_without_solutions.ipynb",
   "provenance": []
  },
  "kernelspec": {
   "display_name": "Python 3",
   "language": "python",
   "name": "python3"
  },
  "language_info": {
   "codemirror_mode": {
    "name": "ipython",
    "version": 3
   },
   "file_extension": ".py",
   "mimetype": "text/x-python",
   "name": "python",
   "nbconvert_exporter": "python",
   "pygments_lexer": "ipython3",
   "version": "3.11.4"
  }
 },
 "nbformat": 4,
 "nbformat_minor": 1
}
