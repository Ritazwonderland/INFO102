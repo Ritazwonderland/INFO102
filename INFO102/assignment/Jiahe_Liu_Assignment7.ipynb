{
 "cells": [
  {
   "attachments": {},
   "cell_type": "markdown",
   "metadata": {},
   "source": [
    "## Question 1 Bubble Sort\n",
    "\n",
    "Bubble Sort is the simplest sorting algorithm that works by repeatedly swapping the adjacent elements if they are in wrong order. Watch its visualization online (https://visualgo.net/en/sorting) to understand its algorithm. The website also provides a pseudo-code to help you implement the code. Please implement the Python code for Bubble Sort\n",
    "\n",
    "Do not forget writing unit tests for your code\n",
    "\n",
    "### Input Description\n",
    "0 <= len(lst) <= 1000"
   ]
  },
  {
   "cell_type": "code",
   "execution_count": 1,
   "metadata": {},
   "outputs": [],
   "source": [
    "# Python program for implementation of Bubble Sort\n",
    "\n",
    "def bubbleSort(lst:\"List[int]\"):\n",
    "    n = len(lst)\n",
    "    swapped = True\n",
    "\n",
    "    while swapped:\n",
    "        swapped = False\n",
    "\n",
    "        for i in range(1, n):\n",
    "            if lst[i - 1] > lst[i]:\n",
    "                lst[i - 1], lst[i] = lst[i], lst[i - 1]\n",
    "                swapped = True\n",
    "        n -= 1\n",
    "        # If no swaps were made, the list is already sorted, and we can terminate\n",
    "        if not swapped:\n",
    "            break\n",
    "\n",
    "# Driver code to test above\n",
    "test = [64, 34, 25, 12, 22, 11, 90, 1, 33, 53, 100, 22]\n",
    "bubbleSort(test)\n",
    "assert(test == sorted(test))"
   ]
  },
  {
   "cell_type": "markdown",
   "metadata": {},
   "source": [
    "What are the best and worse cases of Big-O notation for your Bubble Sort algorithm?"
   ]
  },
  {
   "cell_type": "code",
   "execution_count": null,
   "metadata": {},
   "outputs": [],
   "source": [
    "#**your answer** O(n), O(n**2)"
   ]
  },
  {
   "attachments": {},
   "cell_type": "markdown",
   "metadata": {},
   "source": [
    "## Question 2\n",
    "\n",
    "Like Merge Sort, QuickSort is a Divide and Conquer algorithm. It picks an element as pivot and partitions the given array around the picked pivot. There are many different versions of quickSort that pick pivot in different ways. \n",
    "\n",
    "* Always pick first element as pivot.\n",
    "* Always pick last element as pivot \n",
    "* Pick a random element as pivot.\n",
    "* Pick median as pivot.\n",
    "\n",
    "Watch its visualization online (https://visualgo.net/en/sorting) to understand its algorithm. The website also provides a pseudo-code to help you implement the code. Please implement the Python code for Quick Sort.\n",
    "\n",
    "### Input Description\n",
    "0 <= len(lst) <= 1000"
   ]
  },
  {
   "cell_type": "code",
   "execution_count": 1,
   "metadata": {},
   "outputs": [
    {
     "name": "stdout",
     "output_type": "stream",
     "text": [
      "Sorted array is:\n",
      " 1\n",
      " 11\n",
      " 12\n",
      " 22\n",
      " 22\n",
      " 25\n",
      " 33\n",
      " 34\n",
      " 53\n",
      " 64\n",
      " 90\n",
      " 100\n"
     ]
    }
   ],
   "source": [
    "# Python program for implementation of Quicksort Sort\n",
    "\n",
    "def quickSort(lst:\"List[int]\", start:int, end:int):\n",
    "    if end is None:\n",
    "        end = len(lst) - 1\n",
    "\n",
    "    if start < end:\n",
    "        # Partition the array and get the index of the pivot\n",
    "        pivot = lst[end]\n",
    "        i = start - 1\n",
    "        # i marks the pivoted part of list\n",
    "\n",
    "        # Traverse through the array\n",
    "        for j in range(start, end):\n",
    "            # if the item <= pivot, move it to the front (pivoted part)\n",
    "            if lst[j] <= pivot:\n",
    "                i += 1\n",
    "                lst[i], lst[j] = lst[j], lst[i]\n",
    "\n",
    "        # Swap the pivot with the element at the end of pivoted part\n",
    "        lst[i + 1], lst[end] = lst[end], lst[i + 1]\n",
    "\n",
    "        # Recursively sort the sub-arrays\n",
    "        quickSort(lst, start, i)\n",
    "        quickSort(lst, i + 1, end)\n",
    "\n",
    "# Driver code to test above\n",
    "test = [64, 34, 25, 12, 22, 11, 90, 1, 33, 53, 100, 22]\n",
    "n = len(test)\n",
    "quickSort(test, 0, n-1)\n",
    "print(\"Sorted array is:\")\n",
    "for i in range(n):\n",
    "    print(f\" {test[i]}\")\n"
   ]
  },
  {
   "cell_type": "markdown",
   "metadata": {},
   "source": [
    "3.2 What are the best and worse cases of Big-O notation for your quick sort algorithm?"
   ]
  },
  {
   "cell_type": "code",
   "execution_count": 10,
   "metadata": {},
   "outputs": [],
   "source": [
    "#**your answer** O(nlogn), O(n**2)"
   ]
  },
  {
   "cell_type": "markdown",
   "metadata": {},
   "source": [
    "3.3 Complete the following code to compare the time your two algorithms are using by sorting a random list. Which algorithm is faster?"
   ]
  },
  {
   "cell_type": "code",
   "execution_count": 14,
   "metadata": {},
   "outputs": [
    {
     "name": "stdout",
     "output_type": "stream",
     "text": [
      "Quick sort takes 0.0 seconds to sort the random list.\n",
      "Bubble sort takes 0.0 seconds to sort the random list.\n"
     ]
    }
   ],
   "source": [
    "## complete the code\n",
    "import random\n",
    "#Generate 5,000 random numbers between 1 and 100,000\n",
    "randomlist = random.sample(range(1, 100000), 5000)\n",
    "# print(randomlist)\n",
    "import time\n",
    "start = time.time()\n",
    "## your quick sort code\n",
    "def quickSort(lst:\"List[int]\", start:int, end:int):\n",
    "    if end is None:\n",
    "        end = len(lst) - 1\n",
    "\n",
    "    if start < end:\n",
    "        # Partition the array and get the index of the pivot\n",
    "        pivot = lst[end]\n",
    "        i = start - 1\n",
    "        # i marks the pivoted part of list\n",
    "\n",
    "        # Traverse through the array\n",
    "        for j in range(start, end):\n",
    "            # if the item <= pivot, move it to the front (pivoted part)\n",
    "            if lst[j] <= pivot:\n",
    "                i += 1\n",
    "                lst[i], lst[j] = lst[j], lst[i]\n",
    "\n",
    "        # Swap the pivot with the element at the end of pivoted part\n",
    "        lst[i + 1], lst[end] = lst[end], lst[i + 1]\n",
    "\n",
    "        # Recursively sort the sub-arrays\n",
    "        quickSort(lst, start, i)\n",
    "        quickSort(lst, i + 1, end)\n",
    "end = time.time()\n",
    "print(f\"Quick sort takes {end - start} seconds to sort the random list.\")\n",
    "\n",
    "start = time.time()\n",
    "## your bubble sort code\n",
    "def bubbleSort(lst:\"List[int]\"):\n",
    "    n = len(lst)\n",
    "    swapped = True\n",
    "\n",
    "    while swapped:\n",
    "        swapped = False\n",
    "\n",
    "        for i in range(1, n):\n",
    "            if lst[i - 1] > lst[i]:\n",
    "                lst[i - 1], lst[i] = lst[i], lst[i - 1]\n",
    "                swapped = True\n",
    "        n -= 1\n",
    "        # If no swaps were made, the list is already sorted, and we can terminate\n",
    "        if not swapped:\n",
    "            break\n",
    "end = time.time()\n",
    "print(f\"Bubble sort takes {end - start} seconds to sort the random list.\")\n",
    "# almost same!"
   ]
  },
  {
   "cell_type": "markdown",
   "metadata": {},
   "source": [
    "## Question 3 Simple text adventure"
   ]
  },
  {
   "attachments": {},
   "cell_type": "markdown",
   "metadata": {},
   "source": [
    "A text-based game is a completely text-based input-output simple game. In such type of game, users have options to handle various situations as they arrive with choices taken by the user in the form of inputs.\n",
    "\n",
    "Here is an example of a simple text adventure game. In this game, the storyline is fairly simple--by three steps, you can win the game. Following the example by adding at least three more steps to this game. You can modify the existing code or to add completely different code. \n",
    "\n",
    "For this question, you are not required to write tests. But it would be a good practice if can add some. "
   ]
  },
  {
   "cell_type": "code",
   "execution_count": 17,
   "metadata": {},
   "outputs": [
    {
     "name": "stdout",
     "output_type": "stream",
     "text": [
      "I am in a bright and airy kitchen\n",
      "I am carrying a whistle\n",
      "I can see a cup, an orange, and plates\n",
      "\n",
      "I am in a bright and airy kitchen\n",
      "I am carrying an orange and a whistle\n",
      "I can see a cup and plates\n",
      "\n",
      "I am in a huge covered porch with lots of chairs\n",
      "I am carrying an orange and a whistle\n",
      "I can see an apple, a banana, a cherry, and a statue\n",
      "\n",
      "I need to get more fruit...\n",
      "I am in a huge covered porch with lots of chairs\n",
      "I am carrying an orange and a whistle\n",
      "I can see an apple, a banana, a cherry, and a statue\n",
      "\n",
      "I am in a huge covered porch with lots of chairs\n",
      "I am carrying an apple, an orange, and a whistle\n",
      "I can see a banana, a cherry, and a statue\n",
      "\n",
      "I am in a huge covered porch with lots of chairs\n",
      "I am carrying an apple, a banana, an orange, and a whistle\n",
      "I can see a cherry and a statue\n",
      "\n",
      "I am in a huge covered porch with lots of chairs\n",
      "I am carrying an apple, a banana, a cherry, an orange, and a whistle\n",
      "I can see a statue\n",
      "\n",
      "I fed the statue, and it came alive, and said:\n",
      "YOU WIN!!!!!!!\n"
     ]
    }
   ],
   "source": [
    "# To win the (rather silly) game:\n",
    "#   get orange\n",
    "#   go east\n",
    "#   get apple\n",
    "#   get banana\n",
    "#   get cherry\n",
    "#   feed statue\n",
    "\n",
    "def simpleTextAdventure():\n",
    "    gameState = getInitialGameState()\n",
    "    while not gameState['gameOver']:\n",
    "        currentRoom = getCurrentRoom(gameState)\n",
    "        print(f'I am in {currentRoom[\"description\"]}')\n",
    "        print(f'I am carrying {thingsToString(gameState[\"inventory\"])}')\n",
    "        print(f'I can see {thingsToString(currentRoom[\"contents\"])}')\n",
    "        verb, noun = getCommand()\n",
    "        # do as command, go/get/feed/put\n",
    "        if (verb == 'go'): doGo(gameState, noun)\n",
    "        elif (verb == 'quit'): print('Goodbye!'); break\n",
    "        elif (verb == 'get'): doGet(gameState, noun)\n",
    "        elif (verb in ['put', 'drop']): doPut(gameState, noun)\n",
    "        elif (verb == 'feed'): doFeed(gameState, noun)\n",
    "\n",
    "def thingsToString(things):\n",
    "    things = sorted(things)\n",
    "    if (len(things) == 0):\n",
    "        return 'nothing'\n",
    "    elif (len(things) == 1):\n",
    "        return thingToString(things[0])\n",
    "    else:\n",
    "        result = ''\n",
    "        for i in range(len(things)):\n",
    "            if (i > 0):\n",
    "                if (i == len(things)-1):\n",
    "                    if (len(things) == 2):\n",
    "                        result += ' and '\n",
    "                    else:\n",
    "                        result += ', and '\n",
    "                else:\n",
    "                    result += ', '\n",
    "            result += thingToString(things[i])\n",
    "        return result\n",
    "\n",
    "def thingToString(thing):\n",
    "    if (thing[-1] == 's'):\n",
    "        return thing\n",
    "    elif (thing[0] in 'aeiou'):\n",
    "        return 'an ' + thing\n",
    "    else:\n",
    "        return 'a ' + thing\n",
    "\n",
    "def doGet(gameState, noun):\n",
    "    currentRoom = getCurrentRoom(gameState)\n",
    "    inventory = gameState['inventory']\n",
    "    contents = currentRoom['contents']\n",
    "    if (noun in contents):\n",
    "        contents.remove(noun)\n",
    "        inventory.add(noun)\n",
    "    else:\n",
    "        print('I cannot see that here.')\n",
    "\n",
    "def doFeed(gameState, noun):\n",
    "    currentRoom = getCurrentRoom(gameState)\n",
    "    inventory = gameState['inventory']\n",
    "    contents = currentRoom['contents']\n",
    "    if 'apple' in contents or 'banana' in contents or 'cherry' in contents:\n",
    "        print('I need to get more fruit...')\n",
    "    else:\n",
    "        if (noun != 'statue'):\n",
    "            print('I can only feed statues!')\n",
    "        elif ('statue' not in contents):\n",
    "            print('I do not see the statue here!')\n",
    "        elif ('orange' not in inventory):\n",
    "            print('I need to have food to feed it (like an orange)')\n",
    "        else:\n",
    "            inventory.remove('orange')\n",
    "            print('I fed the statue, and it came alive, and said:')\n",
    "            #######################\n",
    "            print('YOU WIN!!!!!!!')\n",
    "            gameState['gameOver'] = True\n",
    "\n",
    "def doPut(gameState, noun):\n",
    "    currentRoom = getCurrentRoom(gameState)\n",
    "    inventory = gameState['inventory']\n",
    "    contents = currentRoom['contents']\n",
    "    if (noun in inventory):\n",
    "        inventory.remove(noun)\n",
    "        contents.add(noun)\n",
    "    else:\n",
    "        print('I am not carrying that.')\n",
    "\n",
    "def doGo(gameState, direction):\n",
    "    currentRoom = getCurrentRoom(gameState)\n",
    "    exits = currentRoom['exits']\n",
    "    if (direction in exits):\n",
    "        gameState['currentRoomName'] = exits[direction]\n",
    "    else:\n",
    "        print(f\"I can't go {direction} from here!\")\n",
    "\n",
    "def getCurrentRoom(gameState):\n",
    "    name = gameState['currentRoomName']\n",
    "    return gameState[name]\n",
    "\n",
    "def getCommand():\n",
    "    while True:\n",
    "        response = input('Your command --> ')\n",
    "        print()\n",
    "        if (response == 'help'):\n",
    "            print('No help yet!')\n",
    "        elif (response in ['quit', 'exit', 'bye']):\n",
    "            return 'quit','now'\n",
    "        else:\n",
    "            words = response.split()\n",
    "            if (len(words) != 2):\n",
    "                print('Please enter commands in the form VERB NOUN')\n",
    "                print('Or just enter \"help\" for more help.')\n",
    "            else:\n",
    "                return words\n",
    "\n",
    "def getInitialGameState():\n",
    "    return {\n",
    "        'gameOver': False,\n",
    "        'currentRoomName' : 'kitchen',\n",
    "        'inventory': { 'whistle' },\n",
    "        'kitchen':\n",
    "            {\n",
    "                'description':'a bright and airy kitchen',\n",
    "                'exits': { 'north':'study', 'east':'porch' },\n",
    "                'contents': { 'plates', 'cup', 'orange' },\n",
    "            },\n",
    "        'study':\n",
    "            {\n",
    "                'description':'a study full of piles and piles of books',\n",
    "                'exits': { 'south':'kitchen' },\n",
    "                'contents': { 'thesaurus', 'dictionary', },\n",
    "            },\n",
    "        'porch':\n",
    "            {\n",
    "                'description':'a huge covered porch with lots of chairs',\n",
    "                'exits': { 'west':'kitchen' },\n",
    "                # apple and banana added\n",
    "                'contents': { 'statue' ,'apple', 'banana', 'cherry'},\n",
    "            },\n",
    "    }\n",
    "\n",
    "simpleTextAdventure()"
   ]
  },
  {
   "cell_type": "markdown",
   "metadata": {},
   "source": [
    "HINT: You are allowed to repeat what we have here by slightly modifying the code. "
   ]
  },
  {
   "attachments": {},
   "cell_type": "markdown",
   "metadata": {},
   "source": [
    "## Question 4\n",
    "\n",
    "\n",
    "Without using iteration, write the recursive function `oddCount(L)` which given a possibly-empty list L of integers, returns the number of odd integers in L.\n",
    "\n",
    "### Input Description\n",
    "\n",
    "L is guaranteed to be a list\n"
   ]
  },
  {
   "cell_type": "code",
   "execution_count": 13,
   "metadata": {},
   "outputs": [],
   "source": [
    "# your code\n",
    "def oddCount(L):\n",
    "    if L == []:\n",
    "        return 0\n",
    "    if L[0] % 2 == 0:\n",
    "        return oddCount(L[1:])\n",
    "    else:\n",
    "        return 1 + oddCount(L[1:])"
   ]
  },
  {
   "cell_type": "markdown",
   "metadata": {},
   "source": [
    "## Question 5\n",
    "\n",
    "Without using iteration, write the recursive function `oddSum(L)` which given a possibly-empty list L of integers, returns the sum of the odd integers in L. Do not create a new list. Return 0 if the list has no odd integers in it. \n",
    "\n",
    "### Input Description\n",
    "\n",
    "L is guaranteed to be a list"
   ]
  },
  {
   "cell_type": "code",
   "execution_count": 16,
   "metadata": {},
   "outputs": [
    {
     "name": "stdout",
     "output_type": "stream",
     "text": [
      "9\n"
     ]
    }
   ],
   "source": [
    "# your code\n",
    "def oddSum(L):\n",
    "    if len(L) == 0:\n",
    "        return 0\n",
    "    if L[0] % 2 == 0:\n",
    "        return oddSum(L[1:])\n",
    "    else:\n",
    "        return L[0]+oddSum(L[1:])"
   ]
  },
  {
   "cell_type": "markdown",
   "metadata": {},
   "source": [
    "## Question 6\n",
    "\n",
    "Without using iteration, write the recursive function `oddsOnly(L)` which given a possibly-empty list L of integers, returns a new list containing only the odd integers in L in the same order they appear in L.\n",
    "\n",
    "### Input Description\n",
    "\n",
    "L is guaranteed to be a list"
   ]
  },
  {
   "cell_type": "code",
   "execution_count": 18,
   "metadata": {},
   "outputs": [],
   "source": [
    "# your code\n",
    "def oddsOnly(L):\n",
    "    if len(L) == 0:\n",
    "        return []\n",
    "    if L[0] % 2 == 0:\n",
    "        return oddsOnly(L[1:])\n",
    "    else:\n",
    "        return [L[0]]+oddsOnly(L[1:])"
   ]
  },
  {
   "cell_type": "markdown",
   "metadata": {},
   "source": [
    "## Question 7\n",
    "\n",
    "Without using iteration, write the recursive function `maxOdd(L)` which given a possibly-empty list L of integers, returns the largest odd integer in L, or None if L does not contain any odd integers. \n",
    "\n",
    "### Input Description\n",
    "\n",
    "L is guaranteed to be a list"
   ]
  },
  {
   "cell_type": "code",
   "execution_count": 40,
   "metadata": {},
   "outputs": [],
   "source": [
    "# your code\n",
    "def maxOdd(L):\n",
    "    if L==[]:\n",
    "        return None\n",
    "    if len(L) == 1:\n",
    "        if L[0] % 2 == 0:\n",
    "            return None\n",
    "        else:\n",
    "            return L[0]\n",
    "        \n",
    "    restL=maxOdd(L[1:])\n",
    "\n",
    "    if L[0] % 2 == 0:\n",
    "        return restL\n",
    "    else:\n",
    "        if restL == None or L[0] >= restL:\n",
    "            return L[0]\n",
    "        else:\n",
    "            return restL\n"
   ]
  },
  {
   "cell_type": "markdown",
   "metadata": {},
   "source": [
    "## Question 8\n",
    "\n",
    "Write the function areaOfPolygon(L) that takes a list of (x,y) points that are guaranteed to be in either clockwise or counter-clockwise order around a polygon, and returns the area of that polygon, as described [here](https://www.mathopenref.com/coordpolygonarea.html). For example (taken from that text), areaOfPolygon([(4,10), (9,7), (11,2), (2,2)]) returns 45.5 (at least the result is almostEqual to 45.5). \n",
    "\n",
    "Here is a sample test function for you:"
   ]
  },
  {
   "cell_type": "code",
   "execution_count": 42,
   "metadata": {},
   "outputs": [
    {
     "name": "stdout",
     "output_type": "stream",
     "text": [
      "Testing areaOfPolygon()...Passed!\n"
     ]
    }
   ],
   "source": [
    "def almostEqual(d1, d2):\n",
    "    epsilon = 10**-10\n",
    "    return (abs(d2 - d1) < epsilon)\n",
    "\n",
    "def isRightTriangle(x1, y1, x2, y2, x3, y3):\n",
    "    s1 = distance(x1, y1, x2, y2)\n",
    "    s2 = distance(x1, y1, x3, y3)\n",
    "    s3 = distance(x2, y2, x3, y3)\n",
    "    if almostEqual(s1, s2+s3) or almostEqual(s1+s2, s3) or almostEqual(s3+s1, s2):\n",
    "        return False\n",
    "    else:\n",
    "        if almostEqual(s1 ** 2 + s2 ** 2, s3 ** 2) or almostEqual(s3 ** 2 + s2 ** 2, s1 ** 2) or almostEqual(s1 ** 2 + s3 ** 2, s2 ** 2):\n",
    "            return True\n",
    "        else:\n",
    "            return False \n",
    "\n",
    "def distance(x1, y1, x2, y2):\n",
    "    return ((x1 - x2) ** 2 + (y1 - y2) ** 2) ** 0.5\n",
    "\n",
    "def triangleArea(s1, s2, s3):\n",
    "    #legal\n",
    "    if s1 <= 0 or s2 <= 0 or s3 <= 0 or almostEqual(s1, s2+s3) or almostEqual(s1+s2, s3) or almostEqual(s3+s1, s2):\n",
    "        return 0\n",
    "    else:\n",
    "        if s1 + s2 > s3 and s1 + s3 > s2 and s2 + s3 > s1:\n",
    "            return (1/4) * (4*s1**2*s2**2 - (s1**2+s2**2-s3**2)**2) ** 0.5\n",
    "        #legal\n",
    "        else:\n",
    "            return 0\n",
    "\n",
    "def triangleAreaByCoordinates(x1, y1, x2, y2, x3, y3):\n",
    "    s1 = ((x1 - x2) ** 2 + (y1 - y2) ** 2) ** 0.5\n",
    "    s2 = ((x1 - x3) ** 2 + (y1 - y3) ** 2) ** 0.5\n",
    "    s3 = ((x3 - x2) ** 2 + (y3 - y2) ** 2) ** 0.5\n",
    "    return triangleArea(s1, s2, s3)\n",
    "\n",
    "def areaOfPolygon(pos):\n",
    "    area = 0\n",
    "    for i in range(1, len(pos)-1):\n",
    "        area += triangleAreaByCoordinates(pos[0][0], pos[0][1], pos[i][0], pos[i][1], pos[i+1][0], pos[i+1][1])\n",
    "    return area\n",
    "\n",
    "def testAreaOfPolygon():\n",
    "    print(\"Testing areaOfPolygon()...\", end=\"\")\n",
    "    assert(almostEqual(areaOfPolygon([(4,10), (9,7), (11,2), (2,2)]), 45.5))\n",
    "    assert(almostEqual(areaOfPolygon([(9,7), (11,2), (2,2), (4, 10)]), 45.5))\n",
    "    assert(almostEqual(areaOfPolygon([(0, 0), (0.5,1), (1,0)]), 0.5))\n",
    "    assert(almostEqual(areaOfPolygon([(0, 10), (0.5,11), (1,10)]), 0.5))\n",
    "    assert(almostEqual(areaOfPolygon([(-0.5, 10), (0,-11), (0.5,10)]), 10.5))\n",
    "    print(\"Passed!\")\n",
    "\n",
    "testAreaOfPolygon()"
   ]
  }
 ],
 "metadata": {
  "kernelspec": {
   "display_name": "Python 3",
   "language": "python",
   "name": "python3"
  },
  "language_info": {
   "codemirror_mode": {
    "name": "ipython",
    "version": 3
   },
   "file_extension": ".py",
   "mimetype": "text/x-python",
   "name": "python",
   "nbconvert_exporter": "python",
   "pygments_lexer": "ipython3",
   "version": "3.11.4"
  }
 },
 "nbformat": 4,
 "nbformat_minor": 4
}
