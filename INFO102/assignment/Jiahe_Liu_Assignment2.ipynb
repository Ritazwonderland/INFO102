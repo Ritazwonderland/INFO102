{
  "cells": [
    {
      "cell_type": "markdown",
      "metadata": {},
      "source": [
        "# Assignment 2\n",
        "\n",
        "Complete the following questions before the deadline. You are not allowed to import modules unless being told so explicitly. "
      ]
    },
    {
      "cell_type": "markdown",
      "metadata": {
        "id": "uGuW-1AiPkd4"
      },
      "source": [
        "## Question 1\n",
        "\n",
        "Write the function `isRightTriangle(x1, y1, x2, y2, x3, y3)` that takes 6 int or float values that represent the vertices (x1,y1), (x2,y2), and (x3,y3) of a triangle, and returns `True` if that is a right triangle and `False` otherwise. You may wish to write a helper function, `distance(x1, y1, x2, y2)`, which you might call several times. Also, remember to use `almostEqual` (instead of ==) when comparing floats."
      ]
    },
    {
      "cell_type": "code",
      "execution_count": 2,
      "metadata": {
        "id": "Zi6U1yLmZZL4"
      },
      "outputs": [
        {
          "name": "stdout",
          "output_type": "stream",
          "text": [
            "False\n",
            "True\n"
          ]
        }
      ],
      "source": [
        "import math\n",
        "\n",
        "def isRightTriangle(x1, y1, x2, y2, x3, y3):\n",
        "    s1 = distance(x1, y1, x2, y2)\n",
        "    s2 = distance(x1, y1, x3, y3)\n",
        "    s3 = distance(x2, y2, x3, y3)\n",
        "    if almostEqual(s1, s2+s3) or almostEqual(s1+s2, s3) or almostEqual(s3+s1, s2):\n",
        "        return False\n",
        "    else:\n",
        "        if almostEqual(s1 ** 2 + s2 ** 2, s3 ** 2) or almostEqual(s3 ** 2 + s2 ** 2, s1 ** 2) or almostEqual(s1 ** 2 + s3 ** 2, s2 ** 2):\n",
        "            return True\n",
        "        else:\n",
        "            return False \n",
        "\n",
        "def distance(x1, y1, x2, y2):\n",
        "    return math.sqrt((x1 - x2) ** 2 + (y1 - y2) ** 2)\n",
        "\n",
        "def almostEqual(d1, d2):\n",
        "    epsilon = 10**-10\n",
        "    return (abs(d2 - d1) < epsilon)\n",
        "\n",
        "print(isRightTriangle(0, 0, 3, 4, 5, 0))\n",
        "print(isRightTriangle(2,3, 6, 3, 2, 6))"
      ]
    },
    {
      "cell_type": "markdown",
      "metadata": {
        "id": "k5pMWXmVPkd5"
      },
      "source": [
        "## Quesiton 2\n",
        "\n",
        "Write the function `triangleArea(s1, s2, s3)` that takes 3 floats and returns the area of the triangle that has those lengths of its side. If no such triangle exists, return 0. Hint: you will probably wish to use [Heron's Formula](https://en.wikipedia.org/wiki/Heron%27s_formula)."
      ]
    },
    {
      "cell_type": "code",
      "execution_count": 4,
      "metadata": {
        "id": "xwlusNCjZn2G"
      },
      "outputs": [],
      "source": [
        "## your code\n",
        "import math\n",
        "\n",
        "def triangleArea(s1, s2, s3):\n",
        "    #legal\n",
        "    if s1 <= 0 or s2 <= 0 or s3 <= 0 or almostEqual(s1, s2+s3) or almostEqual(s1+s2, s3) or almostEqual(s3+s1, s2):\n",
        "        return 0\n",
        "    else:\n",
        "        if s1 + s2 > s3 and s1 + s3 > s2 and s2 + s3 > s1:\n",
        "            return (1/4) * math.sqrt(4*s1**2*s2**2 - (s1**2+s2**2-s3**2)**2)\n",
        "        #legal\n",
        "        else:\n",
        "            return 0\n",
        "\n",
        "def almostEqual(d1, d2):\n",
        "    epsilon = 10**-10\n",
        "    return (abs(d2 - d1) < epsilon)"
      ]
    },
    {
      "cell_type": "markdown",
      "metadata": {
        "id": "JBCXD0FTPkd5"
      },
      "source": [
        "## Question 3\n",
        "\n",
        "Write the function `triangleAreaByCoordinates(x1, y1, x2, y2, x3, y3)` that takes 6 int or float values that represent the three points (x1,y1), (x2,y2), and (x3,y3), and returns as a float the area of the triangle formed by those three points. Hint: you should make constructive use of the triangleArea function you just wrote above."
      ]
    },
    {
      "cell_type": "code",
      "execution_count": 7,
      "metadata": {
        "id": "TtLlLQ-raTBj"
      },
      "outputs": [],
      "source": [
        "## your code\n",
        "import math\n",
        "\n",
        "def triangleAreaByCoordinates(x1, y1, x2, y2, x3, y3):\n",
        "    s1 = math.sqrt((x1 - x2) ** 2 + (y1 - y2) ** 2)\n",
        "    s2 = math.sqrt((x1 - x3) ** 2 + (y1 - y3) ** 2)\n",
        "    s3 = math.sqrt((x3 - x2) ** 2 + (y3 - y2) ** 2)\n",
        "    return triangleArea(s1, s2, s3)"
      ]
    },
    {
      "cell_type": "markdown",
      "metadata": {
        "id": "2Fj6nuXAPkd6"
      },
      "source": [
        "## Question 4\n",
        "\n",
        "Write the function `lineIntersection(m1, b1, m2, b2)` that takes four int or float values representing the 2 lines:\n",
        "```\n",
        "    y = m1*x + b1\n",
        "    y = m2*x + b2\n",
        "```\n",
        "This function returns the x value of the point of intersection of the two lines. If the lines are parallel, or identical, the function should return None."
      ]
    },
    {
      "cell_type": "code",
      "execution_count": 9,
      "metadata": {
        "id": "u1dAmEHtaiOZ"
      },
      "outputs": [],
      "source": [
        "## your code\n",
        "\n",
        "def lineIntersection(m1, b1, m2, b2):\n",
        "    if almostEqual(m1, m2):\n",
        "        return None\n",
        "    else:\n",
        "        return (b2-b1)/(m1-m2)\n",
        "\n",
        "def almostEqual(d1, d2):\n",
        "    epsilon = 10**-10\n",
        "    return (abs(d2 - d1) < epsilon)\n"
      ]
    },
    {
      "cell_type": "markdown",
      "metadata": {},
      "source": [
        "## Quesion 5\n",
        "\n",
        "Write the function `threeLinesArea(m1, b1, m2, b2, m3, b3)` that takes six int or float values representing the 3 lines:\n",
        "```\n",
        "    y = m1*x + b1\n",
        "    y = m2*x + b2\n",
        "    y = m3*x + b3\n",
        "```\n",
        "First find where each pair of lines intersects, then return the area of the triangle formed by connecting these three points of intersection. If no such triangle exists (if any two of the lines are parallel), return 0. To do this, use three helper functions: one to find where two lines intersect (which you will call three times), a second to find the distance between two points, and a third to find the area of a triangle given its side lengths."
      ]
    },
    {
      "cell_type": "code",
      "execution_count": 14,
      "metadata": {},
      "outputs": [],
      "source": [
        "import math\n",
        "\n",
        "def threeLinesArea(m1, b1, m2, b2, m3, b3):\n",
        "    if almostEqual(m1, m2) or almostEqual(m2, m3) or almostEqual(m3, m1):\n",
        "        return 0\n",
        "    if almostEqual(pointX(m1, b1, m2, b2), pointX(m2, b2, m3, b3)) and almostEqual(pointX(m1, b1, m2, b2), pointX(m1, b1, m3, b3)):\n",
        "        return 0\n",
        "    return triangleAreaByCoordinates(pointX(m1, b1, m2, b2), pointY(m1, b1, m2, b2), pointX(m1, b1, m3, b3), pointY(m1, b1, m3, b3), pointX(m3, b3, m2, b2), pointY(m3, b3, m2, b2))\n",
        "    \n",
        "def pointX(m1, b1, m2, b2):\n",
        "    return (b2-b1)/(m1-m2)\n",
        "\n",
        "def pointY(m1, b1, m2, b2):\n",
        "    return (b1 * m2 - b2 * m1)/(m2 - m1)\n",
        "\n",
        "def distance(x1, x2, y1, y2):\n",
        "    return math.sqrt((x1-x2)**2+(y1-y2)**2)\n",
        "\n",
        "def triangleAreaByCoordinates(x1, y1, x2, y2, x3, y3):\n",
        "    s1 = distance(x1, x2, y1, y2)\n",
        "    s2 = distance(x1, x3, y1, y3)\n",
        "    s3 = distance(x2, x3, y2, y3)\n",
        "    return (1/4) * math.sqrt(4*s1**2*s2**2 - (s1**2+s2**2-s3**2)**2)\n",
        "\n",
        "def almostEqual(d1, d2):\n",
        "    epsilon = 10**-10\n",
        "    return (abs(d2 - d1) < epsilon)"
      ]
    },
    {
      "cell_type": "markdown",
      "metadata": {
        "id": "iLcLLTUTdBSo"
      },
      "source": [
        "## Question 6\n",
        "\n",
        "Write a function nearestOdd(n) that takes an int or float n, and returns as an int value the nearest odd number to n. In the case of a tie, return the smaller odd value."
      ]
    },
    {
      "cell_type": "code",
      "execution_count": 17,
      "metadata": {
        "id": "rtR1Cz09dEFB"
      },
      "outputs": [
        {
          "name": "stdout",
          "output_type": "stream",
          "text": [
            "Testing nearestOdd()... Passed...\n"
          ]
        }
      ],
      "source": [
        "def nearestOdd(n):\n",
        "    if type(n) == int:\n",
        "        if n % 2 == 0:\n",
        "            return n - 1\n",
        "        else:\n",
        "            return n\n",
        "    lower = int(n)\n",
        "    if lower % 2 == 0:\n",
        "        if n > 0:\n",
        "            return lower + 1\n",
        "        else:\n",
        "            return lower - 1\n",
        "    else:\n",
        "        return lower\n",
        "\n",
        "def testNearestOdd():\n",
        "    print('Testing nearestOdd()... ', end='')\n",
        "    assert(nearestOdd(13) == 13)\n",
        "    assert(nearestOdd(12.001) == 13)\n",
        "    assert(nearestOdd(12) == 11)\n",
        "    assert(nearestOdd(11.999) == 11)\n",
        "    assert(nearestOdd(-13) == -13)\n",
        "    assert(nearestOdd(-12.001) == -13)\n",
        "    assert(nearestOdd(-12) == -13)\n",
        "    assert(nearestOdd(-11.999) == -11)\n",
        "    print('Passed...')\n",
        "\n",
        "testNearestOdd()"
      ]
    },
    {
      "cell_type": "markdown",
      "metadata": {
        "id": "xTIqp7CeS8Mq"
      },
      "source": [
        "## Question 7\n",
        "\n",
        "Write the function eggCartons(eggs) that takes a non-negative integer number of eggs, and returns the smallest integer number of cartons required to hold that many eggs, where a carton may hold up to 12 eggs."
      ]
    },
    {
      "cell_type": "code",
      "execution_count": 2,
      "metadata": {
        "id": "xUK-SR4iTJp1"
      },
      "outputs": [
        {
          "name": "stdout",
          "output_type": "stream",
          "text": [
            "testEggCartons()... Passed...\n"
          ]
        }
      ],
      "source": [
        "def eggCartons(eggs):\n",
        "## your code\n",
        "    if eggs < 0:\n",
        "        return -1\n",
        "    if eggs % 12 == 0:\n",
        "        return eggs//12\n",
        "    else:\n",
        "        return eggs//12 + 1\n",
        "\n",
        "\n",
        "def testEggCartons():\n",
        "    print('testEggCartons()... ', end='')\n",
        "    assert(eggCartons(0) == 0)\n",
        "    assert(eggCartons(12) == 1)\n",
        "    assert(eggCartons(13) == 2)\n",
        "    assert(eggCartons(24) == 2)\n",
        "    assert(eggCartons(25) == 3)\n",
        "    assert(eggCartons(-25) == -1)\n",
        "    print('Passed...')\n",
        "\n",
        "# Test the function\n",
        "testEggCartons()"
      ]
    }
  ],
  "metadata": {
    "colab": {
      "provenance": []
    },
    "kernelspec": {
      "display_name": "Python 3",
      "language": "python",
      "name": "python3"
    },
    "language_info": {
      "codemirror_mode": {
        "name": "ipython",
        "version": 3
      },
      "file_extension": ".py",
      "mimetype": "text/x-python",
      "name": "python",
      "nbconvert_exporter": "python",
      "pygments_lexer": "ipython3",
      "version": "3.11.4"
    }
  },
  "nbformat": 4,
  "nbformat_minor": 0
}
