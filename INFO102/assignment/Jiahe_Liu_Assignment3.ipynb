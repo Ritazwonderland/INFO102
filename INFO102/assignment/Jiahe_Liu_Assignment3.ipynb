{
  "cells": [
    {
      "cell_type": "markdown",
      "metadata": {
        "id": "wjCaSjZotuup"
      },
      "source": [
        "# Assignment 3\n",
        "\n",
        "Complete the following 10 questions before the deadline. You should not import any Python modules unless explicitly being told to do so. However, you can write as many helper functions as you wish.\n",
        "\n",
        "Again, you are allowed to use math module or to re-use your code in previous assignments. You can also re-use the code in the demo."
      ]
    },
    {
      "cell_type": "markdown",
      "metadata": {
        "id": "kC8x4A4Sbe15"
      },
      "source": [
        "## Question 1\n",
        "\n",
        "Write the function` digitCount(n)` that takes a possibly-negative int and returns the number of digits in it. So, `digitCount(12323)` returns 5, `digitCount(0)` returns 1, and `digitCount(-111)` returns 3. One way you could do this would be to return len(str(abs(n))), but you cannot do that, since you may not use strings here! This can be solved with logarithms, but seeing as this is \"loops week\", you should instead simply repeatedly remove the ones digit until you cannot."
      ]
    },
    {
      "cell_type": "code",
      "execution_count": 16,
      "metadata": {
        "id": "OdTVzM8Nlxfh"
      },
      "outputs": [],
      "source": [
        "# your answer\n",
        "def digitCount(n):\n",
        "    i = 1\n",
        "    n = abs(n)\n",
        "    while n >= 10:\n",
        "        n = n // 10\n",
        "        i += 1\n",
        "    return i"
      ]
    },
    {
      "cell_type": "code",
      "execution_count": 17,
      "metadata": {
        "id": "7xj3W1APtuut"
      },
      "outputs": [
        {
          "name": "stdout",
          "output_type": "stream",
          "text": [
            "Testing digitalCount...Passed...\n"
          ]
        }
      ],
      "source": [
        "# Test cases\n",
        "def testDigitCount():\n",
        "    print(\"Testing digitalCount...\", end=\"\")\n",
        "    assert(digitCount(12323) == 5)\n",
        "    assert(digitCount(0) == 1)\n",
        "    assert(digitCount(-111) == 3)\n",
        "    print(\"Passed...\")\n",
        "\n",
        "testDigitCount()"
      ]
    },
    {
      "cell_type": "markdown",
      "metadata": {
        "id": "r_1jZFtebiTP"
      },
      "source": [
        "## Question 2\n",
        "\n",
        "[Note: to receive any credit, you must solve this problem using Euclid's algorithm, and by no other means. In particular, do not just loop through all integers less than min(m,n) and find the common factors that way -- it is much too slow!]\n",
        "\n",
        "According to Euclid, the greatest common divisor, or gcd, can be found like so:\n",
        "```\n",
        "gcd(x,y) == gcd(y, x%y)\n",
        "```\n",
        "We can use that to quickly find gcd's. For example:\n",
        "```\n",
        "gcd(270,250) == gcd(250, 20) # 270 % 250 == 20\n",
        "             == gcd(20, 10) # 250 % 20 == 10\n",
        "             == gcd(10, 0) # 20 % 10 == 0\n",
        "```\n",
        "When we get to `gcd(x,0)`, the answer is `x`. So `gcd(270, 250)` is 10. With this in mind, write the function `gcd(x,y)` that takes two positive integers `x` and `y` and returns their gcd using Euclid's gcd algorithm.\n",
        "\n"
      ]
    },
    {
      "cell_type": "code",
      "execution_count": 22,
      "metadata": {
        "id": "XmtZs5Kelxfi"
      },
      "outputs": [],
      "source": [
        "## your answer\n",
        "def gcd(x, y):\n",
        "    if y == 0:\n",
        "        return x\n",
        "    return gcd(min(x, y), max(x, y) % min(x, y))\n",
        "    "
      ]
    },
    {
      "cell_type": "code",
      "execution_count": 23,
      "metadata": {
        "id": "UI74PO7Xtuuu"
      },
      "outputs": [
        {
          "name": "stdout",
          "output_type": "stream",
          "text": [
            "Testing gcd...Passed...\n"
          ]
        }
      ],
      "source": [
        "def testGcd():\n",
        "    print(\"Testing gcd...\", end=\"\")\n",
        "    assert(gcd(270, 250)== 10)\n",
        "    assert(gcd(48, 18) == 6)\n",
        "    assert(gcd(7, 0) == 7)\n",
        "    assert(gcd(17, 13) == 1)\n",
        "    assert(gcd(123456, 7890) == 6)\n",
        "    print(\"Passed...\")\n",
        "\n",
        "testGcd()"
      ]
    },
    {
      "cell_type": "markdown",
      "metadata": {
        "id": "zFN9zHAhTydv"
      },
      "source": [
        "## Question 3\n",
        "\n",
        "Write the function `nthAdditivePrime(n)` that takes a non-negative int `n` and returns the nth Additive Prime, which is a prime number such that the sum of its digits is also prime. For example, 113 is prime and 1+1+3==5 and 5 is also prime, so 113 is an Additive Prime.\n"
      ]
    },
    {
      "cell_type": "code",
      "execution_count": 33,
      "metadata": {
        "id": "o-VJSv2Clxfj"
      },
      "outputs": [],
      "source": [
        "## your answer\n",
        "def nthAdditivePrime(n):\n",
        "    num = 1\n",
        "    while n > 0:\n",
        "        num += 1\n",
        "        if isPrime(digitSum(num)):\n",
        "            if isPrime(num):\n",
        "                n -= 1\n",
        "    return num\n",
        "\n",
        "def isPrime(n):\n",
        "    for i in range(2, int(n**0.5 + 1)):\n",
        "        if n % i == 0:\n",
        "            return False\n",
        "    return True\n",
        "\n",
        "def digitSum(n):\n",
        "    sum = 0\n",
        "    while n >= 10:\n",
        "        sum += n % 10\n",
        "        n = n // 10\n",
        "    sum += n\n",
        "    return sum"
      ]
    },
    {
      "cell_type": "code",
      "execution_count": 34,
      "metadata": {
        "id": "JIjGaxHetuuv"
      },
      "outputs": [
        {
          "name": "stdout",
          "output_type": "stream",
          "text": [
            "Testing nthAdditivePrime...Passed...\n"
          ]
        }
      ],
      "source": [
        "def testNthAdditivePrime():\n",
        "    print(\"Testing nthAdditivePrime...\", end=\"\")\n",
        "    assert(nthAdditivePrime(1) == 2)\n",
        "    assert(nthAdditivePrime(2) == 3)\n",
        "    assert(nthAdditivePrime(3) == 5)\n",
        "    assert(nthAdditivePrime(4) == 7)\n",
        "    assert(nthAdditivePrime(5) == 11)\n",
        "    print(\"Passed...\")\n",
        "\n",
        "testNthAdditivePrime()"
      ]
    },
    {
      "cell_type": "markdown",
      "metadata": {
        "id": "0NYQBIW7Vj0d"
      },
      "source": [
        "## Question 4\n",
        "\n",
        "Write the function `mostFrequentDigit(n)`, that takes a possibly-negative integer `n` and returns the digit from 0 to 9 that occurs most frequently in it, with ties going to the smaller digit.\n"
      ]
    },
    {
      "cell_type": "code",
      "execution_count": 6,
      "metadata": {
        "id": "HTpgtoRDlxfk"
      },
      "outputs": [],
      "source": [
        "## your answer\n",
        "def mostFrequentDigit(n):\n",
        "    list = [0, 0, 0, 0, 0, 0, 0, 0, 0, 0]\n",
        "    n = abs(n)\n",
        "    while n >= 10:\n",
        "        list[n % 10] += 1\n",
        "        n = n // 10\n",
        "    list[n]+=1\n",
        "    maxdigit = 0\n",
        "    for i in list:\n",
        "        #print(i)\n",
        "        if i > list[maxdigit]:\n",
        "            maxdigit = list.index(i)\n",
        "    return maxdigit"
      ]
    },
    {
      "cell_type": "markdown",
      "metadata": {
        "id": "odLoahm8K7Tf"
      },
      "source": [
        "## Question 5\n",
        "\n",
        "Background: in calculus, we use the integral of a function f from x=a to x=b to compute the area under the curve between those points (or the negative area if the function is below the x-axis). One way to approximate this area (that is, to find it without doing any actual calculus!) is by replacing the smooth function with a collection of N trapezoids, similar to this image:\n",
        "\n",
        "\n",
        "![image.png](https://upload.wikimedia.org/wikipedia/commons/d/d1/Integration_num_trapezes_notation.svg)\n",
        "\n",
        "Here we will only use uniform widths, so each of the trapezoids has a width of (b - a)/N, so that all N of them together span the width of (b - a).\n",
        "\n",
        "In any case, the larger N is, the more trapezoids you use, the more accurate your approximation becomes. You can read more here about this so-called trapezoidal rule.\n",
        "\n",
        "With this in mind, write the function `integral(f, a, b, N)` that takes a Python function f (that itself takes one value x, a float, and returns a float), and two floats a and b, where a<=b, and a positive int N, and uses the trapezoidal rule with N trapezoids to return the approximate area under the curve of f(x) where a <= x <= b. To be clear, in the case where N=1, this uses just one trapezoid, where the left edge is at (a, f(a)) and the right edge is at (b, f(b)), so the result is (b - a) * (f(a) + f(b))/2 (the width times the average height of the trapezoid).\n",
        "\n",
        "Hint: you should use almostEqual if you have your own tests or add any to our test function. Also, you'll probably want to use some very simple curves for testing, as we did in the test function, such as f(x)=x, f(x)=2*x+3, and f(x)=2*x**2, and then in ranges (a,b) with values of N such that you can fairly easily compute the expected answer by hand.\n",
        "\n",
        "Another hint: here is a basic example showing how functions work as parameters to other functions:\n"
      ]
    },
    {
      "cell_type": "code",
      "execution_count": 44,
      "metadata": {
        "id": "TRGVkvJclxfl"
      },
      "outputs": [
        {
          "name": "stdout",
          "output_type": "stream",
          "text": [
            "11\n",
            "12\n"
          ]
        }
      ],
      "source": [
        "def f1(x): return x+1\n",
        "def f2(x): return x+2\n",
        "def h(f): return f(10)\n",
        "print(h(f1)) # calls f1(10), prints 11\n",
        "print(h(f2)) # calls f2(10), prints 12"
      ]
    },
    {
      "cell_type": "code",
      "execution_count": 61,
      "metadata": {
        "id": "CY005iM9tuuw"
      },
      "outputs": [],
      "source": [
        "def integral(f, a, b, N):\n",
        "    right = f(a)\n",
        "    result = 0\n",
        "    for i in range(0, N):\n",
        "        left = right\n",
        "        right = f(a + (i+1) * abs(b-a)/N)\n",
        "        #print(left,\" \", right)\n",
        "        result += abs((b-a)/N) * (left+right)/2\n",
        "    print(result)\n",
        "    return result\n",
        "\n",
        "# Helper function for floating-point comparison\n",
        "def almostEqual(a, b, epsilon=10**(-10)):\n",
        "    return abs(a - b) < epsilon"
      ]
    },
    {
      "cell_type": "markdown",
      "metadata": {
        "id": "QhvvOlPqK_od"
      },
      "source": [
        "## Question 6\n",
        "By printing out different characters at different locations, it is possible to create images. This is sometimes called ASCII art, and works best in a terminal that uses a fixedwidth font. Regular shapes, such as the square shown below, are easy to create—even at different sizes—algorithmically.\n",
        "\n",
        "\n",
        "\n",
        "```\n",
        "XXXXX\n",
        "XX‐XX\n",
        "XX‐XX\n",
        "XX‐XX\n",
        "XXXXX\n",
        "```\n",
        "\n",
        "This square can be created as follows: For the first and last line, print 5 copies of the character \"X\" on the first line and the last line, and for the remaining 3 lines print 2 copies of the character \"X\", followed by 1 hypen, followed by two copies of the character \"X\".\n",
        "\n",
        "Define a Python function make_square(size) that draws a square as the one above for a given size and returns None. That is, your function will print size copies of the character \"X\" on the first and last lines, and two copies of \"X\" followed by size ‐ 4 hypens, followed by two copies of the character \"X\" for the other lines. You can assume that your function will always be called with a size that is at least 5. You are required to use a nested loop (loop inside of a loop for part of your solution). Choose a different variable for each loop (e.g., if the outer loop uses \"i\", the inner loop can use \"j\"). Your function should return None. Note: You could define a function that has the same behavior without using a nested loop. Think how. But, we do want you to use a nested loop for practice.\n",
        "\n",
        "Example usage:\n",
        "\n",
        "\n",
        "```\n",
        ">>> make_square(5)\n",
        "XXXXX\n",
        "XX‐XX\n",
        "XX‐XX\n",
        "XX‐XX\n",
        "XXXXX\n",
        "\n",
        ">>> make_square(9)\n",
        "XXXXXXXXX\n",
        "XX‐‐‐‐‐XX\n",
        "XX‐‐‐‐‐XX\n",
        "XX‐‐‐‐‐XX\n",
        "XX‐‐‐‐‐XX\n",
        "XX‐‐‐‐‐XX\n",
        "XX‐‐‐‐‐XX\n",
        "XX‐‐‐‐‐XX\n",
        "XXXXXXXXX\n",
        "```\n",
        "\n",
        "\n"
      ]
    },
    {
      "cell_type": "code",
      "execution_count": 69,
      "metadata": {
        "id": "zrgYsjERlxfl"
      },
      "outputs": [],
      "source": [
        "## your answer\n",
        "def make_square(n):\n",
        "    for i in range(0, n):\n",
        "        if i > 0 and i < n-1:\n",
        "            for j in range(n):\n",
        "                if j <= 1 or j >= n-2:\n",
        "                    print(\"X\", end='')\n",
        "                else:\n",
        "                    print(\"-\", end='')\n",
        "        else:\n",
        "            for j in range(n):\n",
        "                print(\"X\", end='')\n",
        "        print(\"\\n\")"
      ]
    },
    {
      "cell_type": "markdown",
      "metadata": {
        "id": "mtiZOLZUlxfm"
      },
      "source": [
        "## Question 7\n",
        "\n",
        "Write the function isPerfectSquare(n) that takes a possibly-non-int value, and returns True if it is an int that is a perfect square (that is, if there exists an integer m such that m**2 == n), and False otherwise. Do not crash on non-ints nor on negative ints."
      ]
    },
    {
      "cell_type": "code",
      "execution_count": 75,
      "metadata": {
        "id": "obg5fJv1lxfm"
      },
      "outputs": [],
      "source": [
        "def isPerfectSquare(n):\n",
        "    ## your code\n",
        "    if n < 0 or type(n) != int:\n",
        "        return False\n",
        "    ptlsqrt = int(n**0.5)\n",
        "    #print(ptlsqrt)\n",
        "    if n == ptlsqrt**2:\n",
        "        return True\n",
        "    else:\n",
        "        return False"
      ]
    },
    {
      "cell_type": "code",
      "execution_count": 76,
      "metadata": {
        "id": "7soy6Nwulxfm"
      },
      "outputs": [
        {
          "name": "stdout",
          "output_type": "stream",
          "text": [
            "Testing isPerfectSquare()... 0\n",
            "4\n",
            "24\n",
            "2\n",
            "4\n",
            "Passed...\n"
          ]
        }
      ],
      "source": [
        "def testIsPerfectSquare():\n",
        "    print('Testing isPerfectSquare()... ', end='')\n",
        "    assert(isPerfectSquare(0) == True)\n",
        "    assert(isPerfectSquare(16) == True)\n",
        "    assert(isPerfectSquare(24**2) == True)\n",
        "    assert(isPerfectSquare(5) == False)\n",
        "    assert(isPerfectSquare(17) == False)\n",
        "    assert(isPerfectSquare(-16) == False)\n",
        "    assert(isPerfectSquare(4.51) == False)\n",
        "    # you can add more test cases yourself\n",
        "    print('Passed...')\n",
        "\n",
        "testIsPerfectSquare()"
      ]
    },
    {
      "cell_type": "markdown",
      "metadata": {
        "id": "q6_sLT5dlxfm"
      },
      "source": [
        "## Question 8\n",
        "\n",
        "Write the function setKthDigit(n, k, d) that takes three integers -- n, k, and d -- where n is a possibly-negative int, k is a non-negative int, and d is a non-negative single digit (between 0 and 9 inclusive), and returns the number n but with the kth digit replaced with d. Counting starts at 0 and goes right-to-left, so the 0th digit is the rightmost digit. For example:\n",
        "\n",
        " *  setKthDigit(468, 0, 1) returns 461\n",
        " *  setKthDigit(468, 1, 1) returns 418\n",
        " *  setKthDigit(468, 2, 1) returns 168\n",
        " *  setKthDigit(468, 3, 1) returns 1468"
      ]
    },
    {
      "cell_type": "code",
      "execution_count": 89,
      "metadata": {
        "id": "wZ5CBEATlxfm"
      },
      "outputs": [],
      "source": [
        "def setKthDigit(n, k, d):\n",
        "    # your code\n",
        "    # if no kth digit\n",
        "    if 10 ** k > abs(n) and n != 0:\n",
        "        return n\n",
        "    neg = n < 0\n",
        "    n = abs(n) // 10 ** (k+1) * 10 ** (k+1) + d * 10 ** k + abs(n) % (10 ** k)\n",
        "    if neg:\n",
        "        return -n\n",
        "    else:\n",
        "        return n\n"
      ]
    },
    {
      "cell_type": "code",
      "execution_count": 90,
      "metadata": {
        "id": "qvMxY_-zlxfm"
      },
      "outputs": [
        {
          "name": "stdout",
          "output_type": "stream",
          "text": [
            "Testing getKthDigit()... Passed...\n"
          ]
        }
      ],
      "source": [
        "def testGetKthDigit():\n",
        "    print('Testing getKthDigit()... ', end='')\n",
        "    assert(setKthDigit(468, 0, 1) == 461)\n",
        "    assert(setKthDigit(468, 1, 1) == 418)\n",
        "    # you can add more test cases yourself\n",
        "    print('Passed...')\n",
        "\n",
        "testGetKthDigit()"
      ]
    },
    {
      "cell_type": "markdown",
      "metadata": {
        "id": "wapgnhAEnAOX"
      },
      "source": [
        "## Question 9\n",
        "\n",
        "Write the function `longestDigitRun(n)` that takes a possibly-negative int value `n` and returns the digit that has the longest consecutive run,\n",
        "or the smallest such digit if there is a tie. So, `longestDigitRun(117773732)` returns `7` (because there is a run of 3 consecutive 7's), as does longestDigitRun(-677886). To solve this problem, you cannot convert int value to string."
      ]
    },
    {
      "cell_type": "code",
      "execution_count": 24,
      "metadata": {
        "id": "wb4soT7VnBrF"
      },
      "outputs": [],
      "source": [
        "def longestDigitRun(n):\n",
        "    ## your code\n",
        "    digit = 0\n",
        "    maxdigit = 0\n",
        "    i = 0\n",
        "    maxlen = 1\n",
        "    num = abs(n)\n",
        "    while num > 0:\n",
        "        if num == abs(n):\n",
        "            digit = num % 10\n",
        "            maxdigit = digit\n",
        "            i += 1\n",
        "            num //= 10\n",
        "            continue\n",
        "        if (num % 10 != digit):\n",
        "            #last maxdigit and the former one of last maxdigit\n",
        "            if (i > maxlen) or (maxlen == i and digit < maxdigit):\n",
        "                maxlen = i\n",
        "                maxdigit = digit\n",
        "            digit = num % 10\n",
        "            i = 0\n",
        "        i += 1\n",
        "        num //= 10\n",
        "    if (i > maxlen) or (maxlen == i and digit < maxdigit):\n",
        "        maxdigit = digit\n",
        "    return maxdigit\n",
        "\n",
        "\n",
        "\n",
        "def testLongestDigitRun():\n",
        "    assert(longestDigitRun(117773732) == 7)\n",
        "    assert(longestDigitRun(-677886) == 7)\n",
        "    # other test cases here"
      ]
    },
    {
      "cell_type": "markdown",
      "metadata": {
        "id": "InoFs0MPncAa"
      },
      "source": [
        "## Question 10\n",
        "\n",
        "Given a specific height (where height is a non-negative int), the function prints out (not returns!) an isosceles triangle with the specified height. There should be no spaces between the zeroes that make up the triangle, nor should there be any \"extra\" spaces on any row (so no extra spaces to the right).\n",
        "\n",
        "```\n",
        "zeroTriangle(3)\n",
        "  0\n",
        " 000\n",
        "00000\n",
        "\n",
        "zeroTriangle(5)\n",
        "    0\n",
        "   000\n",
        "  00000\n",
        " 0000000\n",
        "000000000\n",
        "```\n",
        "\n"
      ]
    },
    {
      "cell_type": "code",
      "execution_count": 119,
      "metadata": {
        "id": "G4gulL_end-5"
      },
      "outputs": [],
      "source": [
        "def zeroTriangle(height):\n",
        "    ## your code\n",
        "    for i in range(height):\n",
        "        print(' ' * (height-i-1) + \"0\" * (2*i + 1))\n",
        "    return"
      ]
    }
  ],
  "metadata": {
    "colab": {
      "provenance": []
    },
    "kernelspec": {
      "display_name": "Python 3",
      "language": "python",
      "name": "python3"
    },
    "language_info": {
      "codemirror_mode": {
        "name": "ipython",
        "version": 3
      },
      "file_extension": ".py",
      "mimetype": "text/x-python",
      "name": "python",
      "nbconvert_exporter": "python",
      "pygments_lexer": "ipython3",
      "version": "3.11.4"
    }
  },
  "nbformat": 4,
  "nbformat_minor": 0
}
