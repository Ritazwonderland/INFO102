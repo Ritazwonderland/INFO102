{
 "cells": [
  {
   "cell_type": "markdown",
   "metadata": {},
   "source": [
    "## Question 1\n",
    "\n",
    "Without using iteration, write the recursive function hasConsecutiveDigits(n) that takes a possibly-negative int value n and returns True if that number contains two consecutive digits that are the same, and False otherwise."
   ]
  },
  {
   "cell_type": "code",
   "execution_count": 7,
   "metadata": {},
   "outputs": [],
   "source": [
    "def hasConsecutiveDigits(n):\n",
    "    if abs(n) <= 10:\n",
    "        return False\n",
    "    if str(abs(n))[-1] == str(abs(n))[-2]:\n",
    "        return True\n",
    "    else:\n",
    "        return hasConsecutiveDigits(abs(n)//10)"
   ]
  },
  {
   "cell_type": "code",
   "execution_count": 8,
   "metadata": {},
   "outputs": [
    {
     "name": "stdout",
     "output_type": "stream",
     "text": [
      "Beginning hasConsecutiveDigits test cases...Passed!\n"
     ]
    }
   ],
   "source": [
    "def testHasConsecutiveDigits():\n",
    "  print(\"Beginning hasConsecutiveDigits test cases...\", end=\"\")\n",
    "  assert(hasConsecutiveDigits(1123) == True)\n",
    "  assert(hasConsecutiveDigits(-1123) == True)\n",
    "  assert(hasConsecutiveDigits(1234) == False)\n",
    "  assert(hasConsecutiveDigits(0) == False)\n",
    "  assert(hasConsecutiveDigits(1233) == True)\n",
    "  print(\"Passed!\")\n",
    "\n",
    "testHasConsecutiveDigits()"
   ]
  },
  {
   "cell_type": "markdown",
   "metadata": {},
   "source": [
    "## Question 2 \n",
    "\n",
    "Without using iteration, write the function `alternatingSum(L)` that takes a possibly-empty list of numbers, and returns the alternating sum of the list, where every other value is subtracted rather than added. For example: `alternatingSum([1,2,3,4,5])` returns 1-2+3-4+5 (that is, 3). If L is empty, return 0. "
   ]
  },
  {
   "cell_type": "code",
   "execution_count": 9,
   "metadata": {},
   "outputs": [],
   "source": [
    "def alternatingSum(L):\n",
    "    if len(L) == 0:\n",
    "        return 0\n",
    "    if len(L) == 1:\n",
    "        return L[0]\n",
    "    return L[0] - alternatingSum(L[1:])"
   ]
  },
  {
   "cell_type": "code",
   "execution_count": 10,
   "metadata": {},
   "outputs": [
    {
     "name": "stdout",
     "output_type": "stream",
     "text": [
      "Beginning alternatingSum test cases...Passed...\n"
     ]
    }
   ],
   "source": [
    "def testAlternatingSum():\n",
    "    print(\"Beginning alternatingSum test cases...\", end=\"\")\n",
    "    assert(alternatingSum([1, 2, 3, 4, 5]) == 3)\n",
    "    assert(alternatingSum([]) == 0)\n",
    "    assert(alternatingSum([-1, -2, -3, -4, -5]) == -3)\n",
    "    assert(alternatingSum([10]) == 10)\n",
    "    print(\"Passed...\")\n",
    "\n",
    "testAlternatingSum()   "
   ]
  },
  {
   "cell_type": "markdown",
   "metadata": {},
   "source": [
    "## Question 3\n",
    "\n",
    "Background: A number n is a right-truncatable prime, or RTP, if every prefix of n (including n itself) are all prime. So, 593 is an RTP because 5, 59, and 593 are all prime. With this in mind, write the function `findRTP(digits)` that takes a positive int, digits, and returns the smallest RTP with that many digits, or None if no such number exists. To do this, you must use backtracking even if you could do it in some other way. At each step, try to add one more digit to the right of the number. Also, make sure you are only creating RTP's as you go. Note: even though findRTP(8) returns 23399339, it runs almost instantly because backtracking rules out most numbers without trying them, so it actually calls isPrime very few times.\n",
    "Hint: you may need to use callWithLargeStack so your isPrime does not stack overflow. "
   ]
  },
  {
   "cell_type": "code",
   "execution_count": 26,
   "metadata": {},
   "outputs": [
    {
     "name": "stdout",
     "output_type": "stream",
     "text": [
      "23\n",
      "233\n",
      "23399339\n"
     ]
    }
   ],
   "source": [
    "def findRTP(digits):\n",
    "    # create a number with 1 digit (2, 3, 5, 7)\n",
    "    # if the number is prime, keep adding one more digit to the right\n",
    "    # else go back and choose another digit to add\n",
    "    # repeat until digit reaches n\n",
    "    result = []\n",
    "    def RTPbacktrack(digits, n):\n",
    "        if digits == 1 and isPrime(n):\n",
    "            result.append(n)\n",
    "        if isPrime(n):\n",
    "            RTPbacktrack(digits - 1, n * 10 + 1)\n",
    "            RTPbacktrack(digits - 1, n * 10 + 3)\n",
    "            RTPbacktrack(digits - 1, n * 10 + 7)\n",
    "            RTPbacktrack(digits - 1, n * 10 + 9)\n",
    "        else:\n",
    "            return\n",
    "    for i in [2,3,5,7]:\n",
    "        RTPbacktrack(digits, i)\n",
    "        if result != []:\n",
    "            break\n",
    "    return result[0]\n",
    "\n",
    "'''def findRTP(digits):  \n",
    "    def backtrack(num, length):  \n",
    "        if length == digits:  \n",
    "            return isPrime(num)  \n",
    "        for i in range(10):  \n",
    "            new_num = num * 10 + i\n",
    "            if isPrime(new_num) and backtrack(new_num, length + 1):  \n",
    "                return True   \n",
    "        return False\n",
    "    num = 0  \n",
    "    for i in range(2, 10):  # Start with 2-digit primes  \n",
    "        if backtrack(i, 1):  \n",
    "            num = i  \n",
    "            break  \n",
    "    return num if num != 0 else None'''\n",
    "\n",
    "def isPrime(n):\n",
    "    for i in range(2, int(n**0.5 + 1)):\n",
    "        if n % i == 0:\n",
    "            return False\n",
    "    if n == 1:\n",
    "        return False\n",
    "    return True\n",
    "\n",
    "print(findRTP(2))\n",
    "print(findRTP(3))\n",
    "print(findRTP(8))"
   ]
  },
  {
   "cell_type": "code",
   "execution_count": 27,
   "metadata": {},
   "outputs": [
    {
     "name": "stdout",
     "output_type": "stream",
     "text": [
      "Beginning findRTP test cases...Passed...\n"
     ]
    }
   ],
   "source": [
    "def testFindRTP():\n",
    "    print(\"Beginning findRTP test cases...\", end=\"\")\n",
    "    assert(findRTP(2) == 23)\n",
    "    assert(findRTP(3) == 233)\n",
    "    assert(findRTP(8) == 23399339)\n",
    "    print(\"Passed...\")\n",
    "\n",
    "testFindRTP()"
   ]
  },
  {
   "cell_type": "markdown",
   "metadata": {},
   "source": [
    "## Question 4 （2 Bonus Points)\n",
    "\n",
    "First, read up on peg solitaire [here](https://en.wikipedia.org/wiki/Peg_solitaire), and then read this entire writeup carefully. Then, write a peg solitaire solver using backtracking. The boards will be given to the function as a string of periods, O's, and spaces, which represent holes, pegs, and invalid spaces respectively (see examples below). The result should be returned as a list of moves to be made in the form (fromRow, fromCol, toRow, toCol), which indicates which piece to pick up (the from piece) and where it goes (the to piece). Your function must give the answer in a reasonable amount of time, which is defined as 10 seconds.\n",
    "\n",
    "Note that this problem is actually pretty difficult to do. This is because there are a lot of possible moves one can make at some stages in the puzzle. As such, we would grade on a rolling scale as such (examples of each case below).\n",
    "\n",
    "1pt boards with 10 pegs,\n",
    "1pt boards with 14 pegs,\n",
    "1pt boards with 16 pegs,\n",
    "2pts boards with 32 pegs\n",
    "\n",
    "Your basic backtracking will eventually get the correct answer for all situations, but it'd probably take many many years to get the solution to the 32 peg board. As such, you will have to be a bit smarter to solve the higher peg boards, and maybe even need more advanced techniques to get the 32 peg board.\n",
    "\n",
    "Here are some boards to play with. "
   ]
  },
  {
   "cell_type": "code",
   "execution_count": null,
   "metadata": {},
   "outputs": [],
   "source": [
    "board10 = \"\"\"\\\n",
    "  ...  \n",
    "  .O.  \n",
    "..OO.O.\n",
    ".O...O.\n",
    "..O.O..\n",
    "  O.O  \n",
    "  ...  \n",
    "\"\"\"\n",
    "board14 = \"\"\"\\\n",
    "  ...  \n",
    "  OO.  \n",
    "..O.OO.\n",
    "OO..OO.\n",
    ".OOO..O\n",
    "  .O.  \n",
    "  ...  \n",
    "\"\"\"\n",
    "board16 = \"\"\"\\\n",
    "  ...  \n",
    "  OO.  \n",
    "..OO...\n",
    "..OO.OO\n",
    "OOO..OO\n",
    "  OO.  \n",
    "  .O.  \n",
    "\"\"\"\n",
    "board32 = \"\"\"\\\n",
    "  OOO  \n",
    "  OOO  \n",
    "OOOOOOO\n",
    "OOO.OOO\n",
    "OOOOOOO\n",
    "  OOO  \n",
    "  OOO  \n",
    "\"\"\""
   ]
  }
 ],
 "metadata": {
  "kernelspec": {
   "display_name": "py39",
   "language": "python",
   "name": "python3"
  },
  "language_info": {
   "codemirror_mode": {
    "name": "ipython",
    "version": 3
   },
   "file_extension": ".py",
   "mimetype": "text/x-python",
   "name": "python",
   "nbconvert_exporter": "python",
   "pygments_lexer": "ipython3",
   "version": "3.11.4"
  }
 },
 "nbformat": 4,
 "nbformat_minor": 2
}
